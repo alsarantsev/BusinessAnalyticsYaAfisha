{
 "cells": [
  {
   "cell_type": "code",
   "execution_count": 1,
   "metadata": {},
   "outputs": [],
   "source": [
    "!pip install plotly -Uq\n",
    "!pip install sidetable -Uq"
   ]
  },
  {
   "cell_type": "code",
   "execution_count": 2,
   "metadata": {},
   "outputs": [
    {
     "name": "stdout",
     "output_type": "stream",
     "text": [
      "Requirement already satisfied: kaleido in c:\\users\\dell\\miniconda3\\lib\\site-packages (0.2.1)\n"
     ]
    }
   ],
   "source": [
    "!pip install -U kaleido"
   ]
  },
  {
   "cell_type": "code",
   "execution_count": 3,
   "metadata": {},
   "outputs": [],
   "source": [
    "import pandas as pd\n",
    "import matplotlib.pyplot as plt\n",
    "import seaborn as sns\n",
    "from scipy import stats as st\n",
    "import numpy as np\n",
    "import plotly.express as px\n",
    "import plotly.graph_objects as go\n",
    "import sidetable"
   ]
  },
  {
   "cell_type": "markdown",
   "metadata": {},
   "source": [
    "# Project description\n",
    "So our task is to help optimize marketing expenses.   \n",
    "\n",
    "**We have:**    \n",
    "* Server logs with data on Yandex.Afisha visits from June 2017 through May 2018   \n",
    "* Dump file with all orders for the period   \n",
    "* Marketing expenses statistics   \n",
    "\n",
    "**You are going to study:**    \n",
    "* How people use the product    \n",
    "* When they start to buy\n",
    "* How much money each customer brings    \n",
    "* When they pay off   \n",
    "\n",
    "\n",
    "Let's divide our work on next steps:\n",
    "\n",
    "*1. Step 1 - Let's study our data in general, what we should work with and optimize little bit*   \n",
    "*2. Step 2 - Let's make reports and calculate metrics in terms of sales, marketing and product*   \n",
    "*3. Step 3 - Let's formulate advice for marketing experts how much money to invest and where in conclusion.*   "
   ]
  },
  {
   "cell_type": "markdown",
   "metadata": {},
   "source": [
    "### Step 1. Take a look at general information\n",
    "Ok, we going to proceed to first step and at once from beginning I'll optimize columns in \"read_csv\" method: "
   ]
  },
  {
   "cell_type": "code",
   "execution_count": 4,
   "metadata": {},
   "outputs": [],
   "source": [
    "try:\n",
    "    visits = pd.read_csv(r\"C:\\Users\\Dell\\Documents\\tempPy\\myProjects\\ForGit\\Business_Analytics_YaAfisha\\visits_log_us.csv\", dtype={'Device': 'category'}, parse_dates=['Start Ts', 'End Ts'])\n",
    "except:\n",
    "    print('Try another database')"
   ]
  },
  {
   "cell_type": "code",
   "execution_count": 5,
   "metadata": {},
   "outputs": [
    {
     "name": "stdout",
     "output_type": "stream",
     "text": [
      "<class 'pandas.core.frame.DataFrame'>\n",
      "RangeIndex: 359400 entries, 0 to 359399\n",
      "Data columns (total 5 columns):\n",
      " #   Column     Non-Null Count   Dtype         \n",
      "---  ------     --------------   -----         \n",
      " 0   Device     359400 non-null  category      \n",
      " 1   End Ts     359400 non-null  datetime64[ns]\n",
      " 2   Source Id  359400 non-null  int64         \n",
      " 3   Start Ts   359400 non-null  datetime64[ns]\n",
      " 4   Uid        359400 non-null  uint64        \n",
      "dtypes: category(1), datetime64[ns](2), int64(1), uint64(1)\n",
      "memory usage: 11.3 MB\n"
     ]
    }
   ],
   "source": [
    "visits.info(memory_usage='deep')"
   ]
  },
  {
   "cell_type": "code",
   "execution_count": 6,
   "metadata": {},
   "outputs": [
    {
     "data": {
      "text/html": [
       "<div>\n",
       "<style scoped>\n",
       "    .dataframe tbody tr th:only-of-type {\n",
       "        vertical-align: middle;\n",
       "    }\n",
       "\n",
       "    .dataframe tbody tr th {\n",
       "        vertical-align: top;\n",
       "    }\n",
       "\n",
       "    .dataframe thead th {\n",
       "        text-align: right;\n",
       "    }\n",
       "</style>\n",
       "<table border=\"1\" class=\"dataframe\">\n",
       "  <thead>\n",
       "    <tr style=\"text-align: right;\">\n",
       "      <th></th>\n",
       "      <th>Device</th>\n",
       "      <th>End Ts</th>\n",
       "      <th>Source Id</th>\n",
       "      <th>Start Ts</th>\n",
       "      <th>Uid</th>\n",
       "    </tr>\n",
       "  </thead>\n",
       "  <tbody>\n",
       "    <tr>\n",
       "      <th>61970</th>\n",
       "      <td>desktop</td>\n",
       "      <td>2017-11-24 11:13:00</td>\n",
       "      <td>5</td>\n",
       "      <td>2017-11-24 11:10:00</td>\n",
       "      <td>11355450520447249861</td>\n",
       "    </tr>\n",
       "    <tr>\n",
       "      <th>13985</th>\n",
       "      <td>desktop</td>\n",
       "      <td>2018-03-15 10:37:00</td>\n",
       "      <td>2</td>\n",
       "      <td>2018-03-15 10:20:00</td>\n",
       "      <td>11954787923182424340</td>\n",
       "    </tr>\n",
       "    <tr>\n",
       "      <th>150990</th>\n",
       "      <td>desktop</td>\n",
       "      <td>2017-11-05 20:11:00</td>\n",
       "      <td>3</td>\n",
       "      <td>2017-11-05 20:05:00</td>\n",
       "      <td>858903323047696840</td>\n",
       "    </tr>\n",
       "    <tr>\n",
       "      <th>297872</th>\n",
       "      <td>desktop</td>\n",
       "      <td>2018-01-15 15:43:00</td>\n",
       "      <td>3</td>\n",
       "      <td>2018-01-15 15:30:00</td>\n",
       "      <td>17116608284240381495</td>\n",
       "    </tr>\n",
       "    <tr>\n",
       "      <th>295996</th>\n",
       "      <td>touch</td>\n",
       "      <td>2017-11-23 00:09:00</td>\n",
       "      <td>10</td>\n",
       "      <td>2017-11-23 00:07:00</td>\n",
       "      <td>9594380529549392723</td>\n",
       "    </tr>\n",
       "    <tr>\n",
       "      <th>37706</th>\n",
       "      <td>desktop</td>\n",
       "      <td>2018-05-18 13:28:00</td>\n",
       "      <td>5</td>\n",
       "      <td>2018-05-18 12:59:00</td>\n",
       "      <td>1811520111156483535</td>\n",
       "    </tr>\n",
       "    <tr>\n",
       "      <th>8623</th>\n",
       "      <td>touch</td>\n",
       "      <td>2018-02-23 22:43:00</td>\n",
       "      <td>5</td>\n",
       "      <td>2018-02-23 22:39:00</td>\n",
       "      <td>1729554168878394241</td>\n",
       "    </tr>\n",
       "    <tr>\n",
       "      <th>99529</th>\n",
       "      <td>desktop</td>\n",
       "      <td>2018-03-12 17:03:00</td>\n",
       "      <td>1</td>\n",
       "      <td>2018-03-12 16:43:00</td>\n",
       "      <td>2106978036791228019</td>\n",
       "    </tr>\n",
       "    <tr>\n",
       "      <th>64510</th>\n",
       "      <td>desktop</td>\n",
       "      <td>2018-04-12 15:49:00</td>\n",
       "      <td>3</td>\n",
       "      <td>2018-04-12 15:49:00</td>\n",
       "      <td>14165857631819840468</td>\n",
       "    </tr>\n",
       "    <tr>\n",
       "      <th>2870</th>\n",
       "      <td>desktop</td>\n",
       "      <td>2018-01-19 10:11:00</td>\n",
       "      <td>2</td>\n",
       "      <td>2018-01-19 09:51:00</td>\n",
       "      <td>10414006987771092616</td>\n",
       "    </tr>\n",
       "  </tbody>\n",
       "</table>\n",
       "</div>"
      ],
      "text/plain": [
       "         Device              End Ts  Source Id            Start Ts  \\\n",
       "61970   desktop 2017-11-24 11:13:00          5 2017-11-24 11:10:00   \n",
       "13985   desktop 2018-03-15 10:37:00          2 2018-03-15 10:20:00   \n",
       "150990  desktop 2017-11-05 20:11:00          3 2017-11-05 20:05:00   \n",
       "297872  desktop 2018-01-15 15:43:00          3 2018-01-15 15:30:00   \n",
       "295996    touch 2017-11-23 00:09:00         10 2017-11-23 00:07:00   \n",
       "37706   desktop 2018-05-18 13:28:00          5 2018-05-18 12:59:00   \n",
       "8623      touch 2018-02-23 22:43:00          5 2018-02-23 22:39:00   \n",
       "99529   desktop 2018-03-12 17:03:00          1 2018-03-12 16:43:00   \n",
       "64510   desktop 2018-04-12 15:49:00          3 2018-04-12 15:49:00   \n",
       "2870    desktop 2018-01-19 10:11:00          2 2018-01-19 09:51:00   \n",
       "\n",
       "                         Uid  \n",
       "61970   11355450520447249861  \n",
       "13985   11954787923182424340  \n",
       "150990    858903323047696840  \n",
       "297872  17116608284240381495  \n",
       "295996   9594380529549392723  \n",
       "37706    1811520111156483535  \n",
       "8623     1729554168878394241  \n",
       "99529    2106978036791228019  \n",
       "64510   14165857631819840468  \n",
       "2870    10414006987771092616  "
      ]
     },
     "execution_count": 6,
     "metadata": {},
     "output_type": "execute_result"
    }
   ],
   "source": [
    "visits.sample(10) "
   ]
  },
  {
   "cell_type": "code",
   "execution_count": 7,
   "metadata": {},
   "outputs": [
    {
     "data": {
      "text/html": [
       "<style type=\"text/css\">\n",
       "</style>\n",
       "<table id=\"T_dd451_\">\n",
       "  <thead>\n",
       "    <tr>\n",
       "      <th class=\"blank level0\" >&nbsp;</th>\n",
       "      <th class=\"col_heading level0 col0\" >missing</th>\n",
       "      <th class=\"col_heading level0 col1\" >total</th>\n",
       "      <th class=\"col_heading level0 col2\" >percent</th>\n",
       "    </tr>\n",
       "  </thead>\n",
       "  <tbody>\n",
       "    <tr>\n",
       "      <th id=\"T_dd451_level0_row0\" class=\"row_heading level0 row0\" >Device</th>\n",
       "      <td id=\"T_dd451_row0_col0\" class=\"data row0 col0\" >0</td>\n",
       "      <td id=\"T_dd451_row0_col1\" class=\"data row0 col1\" >359,400</td>\n",
       "      <td id=\"T_dd451_row0_col2\" class=\"data row0 col2\" >0.00%</td>\n",
       "    </tr>\n",
       "    <tr>\n",
       "      <th id=\"T_dd451_level0_row1\" class=\"row_heading level0 row1\" >End Ts</th>\n",
       "      <td id=\"T_dd451_row1_col0\" class=\"data row1 col0\" >0</td>\n",
       "      <td id=\"T_dd451_row1_col1\" class=\"data row1 col1\" >359,400</td>\n",
       "      <td id=\"T_dd451_row1_col2\" class=\"data row1 col2\" >0.00%</td>\n",
       "    </tr>\n",
       "    <tr>\n",
       "      <th id=\"T_dd451_level0_row2\" class=\"row_heading level0 row2\" >Source Id</th>\n",
       "      <td id=\"T_dd451_row2_col0\" class=\"data row2 col0\" >0</td>\n",
       "      <td id=\"T_dd451_row2_col1\" class=\"data row2 col1\" >359,400</td>\n",
       "      <td id=\"T_dd451_row2_col2\" class=\"data row2 col2\" >0.00%</td>\n",
       "    </tr>\n",
       "    <tr>\n",
       "      <th id=\"T_dd451_level0_row3\" class=\"row_heading level0 row3\" >Start Ts</th>\n",
       "      <td id=\"T_dd451_row3_col0\" class=\"data row3 col0\" >0</td>\n",
       "      <td id=\"T_dd451_row3_col1\" class=\"data row3 col1\" >359,400</td>\n",
       "      <td id=\"T_dd451_row3_col2\" class=\"data row3 col2\" >0.00%</td>\n",
       "    </tr>\n",
       "    <tr>\n",
       "      <th id=\"T_dd451_level0_row4\" class=\"row_heading level0 row4\" >Uid</th>\n",
       "      <td id=\"T_dd451_row4_col0\" class=\"data row4 col0\" >0</td>\n",
       "      <td id=\"T_dd451_row4_col1\" class=\"data row4 col1\" >359,400</td>\n",
       "      <td id=\"T_dd451_row4_col2\" class=\"data row4 col2\" >0.00%</td>\n",
       "    </tr>\n",
       "  </tbody>\n",
       "</table>\n"
      ],
      "text/plain": [
       "<pandas.io.formats.style.Styler at 0x22ae3b615c8>"
      ]
     },
     "execution_count": 7,
     "metadata": {},
     "output_type": "execute_result"
    }
   ],
   "source": [
    "visits.stb.missing(style = True)"
   ]
  },
  {
   "cell_type": "code",
   "execution_count": 8,
   "metadata": {},
   "outputs": [],
   "source": [
    "try:\n",
    "    orders = pd.read_csv(r\"C:\\Users\\Dell\\Documents\\tempPy\\myProjects\\ForGit\\Business_Analytics_YaAfisha\\orders_log_us.csv\", parse_dates=['Buy Ts'])\n",
    "except:\n",
    "    print('Try another database')"
   ]
  },
  {
   "cell_type": "code",
   "execution_count": 9,
   "metadata": {},
   "outputs": [
    {
     "name": "stdout",
     "output_type": "stream",
     "text": [
      "<class 'pandas.core.frame.DataFrame'>\n",
      "RangeIndex: 50415 entries, 0 to 50414\n",
      "Data columns (total 3 columns):\n",
      " #   Column   Non-Null Count  Dtype         \n",
      "---  ------   --------------  -----         \n",
      " 0   Buy Ts   50415 non-null  datetime64[ns]\n",
      " 1   Revenue  50415 non-null  float64       \n",
      " 2   Uid      50415 non-null  uint64        \n",
      "dtypes: datetime64[ns](1), float64(1), uint64(1)\n",
      "memory usage: 1.2 MB\n"
     ]
    }
   ],
   "source": [
    "orders.info(memory_usage='deep')"
   ]
  },
  {
   "cell_type": "code",
   "execution_count": 10,
   "metadata": {},
   "outputs": [
    {
     "data": {
      "text/html": [
       "<div>\n",
       "<style scoped>\n",
       "    .dataframe tbody tr th:only-of-type {\n",
       "        vertical-align: middle;\n",
       "    }\n",
       "\n",
       "    .dataframe tbody tr th {\n",
       "        vertical-align: top;\n",
       "    }\n",
       "\n",
       "    .dataframe thead th {\n",
       "        text-align: right;\n",
       "    }\n",
       "</style>\n",
       "<table border=\"1\" class=\"dataframe\">\n",
       "  <thead>\n",
       "    <tr style=\"text-align: right;\">\n",
       "      <th></th>\n",
       "      <th>Buy Ts</th>\n",
       "      <th>Revenue</th>\n",
       "      <th>Uid</th>\n",
       "    </tr>\n",
       "  </thead>\n",
       "  <tbody>\n",
       "    <tr>\n",
       "      <th>28155</th>\n",
       "      <td>2018-01-05 10:46:00</td>\n",
       "      <td>7.33</td>\n",
       "      <td>18152812235092508682</td>\n",
       "    </tr>\n",
       "    <tr>\n",
       "      <th>23485</th>\n",
       "      <td>2017-12-12 00:11:00</td>\n",
       "      <td>0.37</td>\n",
       "      <td>5635518054814837152</td>\n",
       "    </tr>\n",
       "    <tr>\n",
       "      <th>48211</th>\n",
       "      <td>2018-05-21 09:12:00</td>\n",
       "      <td>3.15</td>\n",
       "      <td>2569181675832811876</td>\n",
       "    </tr>\n",
       "    <tr>\n",
       "      <th>782</th>\n",
       "      <td>2017-06-07 14:10:00</td>\n",
       "      <td>1.16</td>\n",
       "      <td>15676146341724082798</td>\n",
       "    </tr>\n",
       "    <tr>\n",
       "      <th>3071</th>\n",
       "      <td>2017-07-11 17:29:00</td>\n",
       "      <td>1.59</td>\n",
       "      <td>14866064475123948213</td>\n",
       "    </tr>\n",
       "    <tr>\n",
       "      <th>9115</th>\n",
       "      <td>2017-09-26 10:01:00</td>\n",
       "      <td>1.47</td>\n",
       "      <td>17480680853900709080</td>\n",
       "    </tr>\n",
       "    <tr>\n",
       "      <th>50272</th>\n",
       "      <td>2018-05-31 17:33:00</td>\n",
       "      <td>3.67</td>\n",
       "      <td>13814313981386948792</td>\n",
       "    </tr>\n",
       "    <tr>\n",
       "      <th>47816</th>\n",
       "      <td>2018-05-18 10:18:00</td>\n",
       "      <td>0.24</td>\n",
       "      <td>16140053016144144346</td>\n",
       "    </tr>\n",
       "    <tr>\n",
       "      <th>8674</th>\n",
       "      <td>2017-09-22 18:35:00</td>\n",
       "      <td>5.25</td>\n",
       "      <td>7086726538305961385</td>\n",
       "    </tr>\n",
       "    <tr>\n",
       "      <th>28848</th>\n",
       "      <td>2018-01-10 19:40:00</td>\n",
       "      <td>4.58</td>\n",
       "      <td>4999592510846009875</td>\n",
       "    </tr>\n",
       "  </tbody>\n",
       "</table>\n",
       "</div>"
      ],
      "text/plain": [
       "                   Buy Ts  Revenue                   Uid\n",
       "28155 2018-01-05 10:46:00     7.33  18152812235092508682\n",
       "23485 2017-12-12 00:11:00     0.37   5635518054814837152\n",
       "48211 2018-05-21 09:12:00     3.15   2569181675832811876\n",
       "782   2017-06-07 14:10:00     1.16  15676146341724082798\n",
       "3071  2017-07-11 17:29:00     1.59  14866064475123948213\n",
       "9115  2017-09-26 10:01:00     1.47  17480680853900709080\n",
       "50272 2018-05-31 17:33:00     3.67  13814313981386948792\n",
       "47816 2018-05-18 10:18:00     0.24  16140053016144144346\n",
       "8674  2017-09-22 18:35:00     5.25   7086726538305961385\n",
       "28848 2018-01-10 19:40:00     4.58   4999592510846009875"
      ]
     },
     "execution_count": 10,
     "metadata": {},
     "output_type": "execute_result"
    }
   ],
   "source": [
    "orders.sample(10)"
   ]
  },
  {
   "cell_type": "code",
   "execution_count": 11,
   "metadata": {},
   "outputs": [
    {
     "data": {
      "text/html": [
       "<style type=\"text/css\">\n",
       "</style>\n",
       "<table id=\"T_2a7ee_\">\n",
       "  <thead>\n",
       "    <tr>\n",
       "      <th class=\"blank level0\" >&nbsp;</th>\n",
       "      <th class=\"col_heading level0 col0\" >missing</th>\n",
       "      <th class=\"col_heading level0 col1\" >total</th>\n",
       "      <th class=\"col_heading level0 col2\" >percent</th>\n",
       "    </tr>\n",
       "  </thead>\n",
       "  <tbody>\n",
       "    <tr>\n",
       "      <th id=\"T_2a7ee_level0_row0\" class=\"row_heading level0 row0\" >Buy Ts</th>\n",
       "      <td id=\"T_2a7ee_row0_col0\" class=\"data row0 col0\" >0</td>\n",
       "      <td id=\"T_2a7ee_row0_col1\" class=\"data row0 col1\" >50,415</td>\n",
       "      <td id=\"T_2a7ee_row0_col2\" class=\"data row0 col2\" >0.00%</td>\n",
       "    </tr>\n",
       "    <tr>\n",
       "      <th id=\"T_2a7ee_level0_row1\" class=\"row_heading level0 row1\" >Revenue</th>\n",
       "      <td id=\"T_2a7ee_row1_col0\" class=\"data row1 col0\" >0</td>\n",
       "      <td id=\"T_2a7ee_row1_col1\" class=\"data row1 col1\" >50,415</td>\n",
       "      <td id=\"T_2a7ee_row1_col2\" class=\"data row1 col2\" >0.00%</td>\n",
       "    </tr>\n",
       "    <tr>\n",
       "      <th id=\"T_2a7ee_level0_row2\" class=\"row_heading level0 row2\" >Uid</th>\n",
       "      <td id=\"T_2a7ee_row2_col0\" class=\"data row2 col0\" >0</td>\n",
       "      <td id=\"T_2a7ee_row2_col1\" class=\"data row2 col1\" >50,415</td>\n",
       "      <td id=\"T_2a7ee_row2_col2\" class=\"data row2 col2\" >0.00%</td>\n",
       "    </tr>\n",
       "  </tbody>\n",
       "</table>\n"
      ],
      "text/plain": [
       "<pandas.io.formats.style.Styler at 0x22ae42c84c8>"
      ]
     },
     "execution_count": 11,
     "metadata": {},
     "output_type": "execute_result"
    }
   ],
   "source": [
    "orders.stb.missing(style = True)"
   ]
  },
  {
   "cell_type": "code",
   "execution_count": 12,
   "metadata": {},
   "outputs": [],
   "source": [
    "try:\n",
    "    costs = pd.read_csv(r\"C:\\Users\\Dell\\Documents\\tempPy\\myProjects\\ForGit\\Business_Analytics_YaAfisha\\costs_us.csv\", parse_dates=['dt'])\n",
    "except:\n",
    "    print('Try another database')"
   ]
  },
  {
   "cell_type": "code",
   "execution_count": 13,
   "metadata": {},
   "outputs": [
    {
     "name": "stdout",
     "output_type": "stream",
     "text": [
      "<class 'pandas.core.frame.DataFrame'>\n",
      "RangeIndex: 2542 entries, 0 to 2541\n",
      "Data columns (total 3 columns):\n",
      " #   Column     Non-Null Count  Dtype         \n",
      "---  ------     --------------  -----         \n",
      " 0   source_id  2542 non-null   int64         \n",
      " 1   dt         2542 non-null   datetime64[ns]\n",
      " 2   costs      2542 non-null   float64       \n",
      "dtypes: datetime64[ns](1), float64(1), int64(1)\n",
      "memory usage: 59.7 KB\n"
     ]
    }
   ],
   "source": [
    "costs.info(memory_usage = 'deep')"
   ]
  },
  {
   "cell_type": "code",
   "execution_count": 14,
   "metadata": {},
   "outputs": [
    {
     "data": {
      "text/html": [
       "<div>\n",
       "<style scoped>\n",
       "    .dataframe tbody tr th:only-of-type {\n",
       "        vertical-align: middle;\n",
       "    }\n",
       "\n",
       "    .dataframe tbody tr th {\n",
       "        vertical-align: top;\n",
       "    }\n",
       "\n",
       "    .dataframe thead th {\n",
       "        text-align: right;\n",
       "    }\n",
       "</style>\n",
       "<table border=\"1\" class=\"dataframe\">\n",
       "  <thead>\n",
       "    <tr style=\"text-align: right;\">\n",
       "      <th></th>\n",
       "      <th>source_id</th>\n",
       "      <th>dt</th>\n",
       "      <th>costs</th>\n",
       "    </tr>\n",
       "  </thead>\n",
       "  <tbody>\n",
       "    <tr>\n",
       "      <th>453</th>\n",
       "      <td>2</td>\n",
       "      <td>2017-08-30</td>\n",
       "      <td>77.47</td>\n",
       "    </tr>\n",
       "    <tr>\n",
       "      <th>1540</th>\n",
       "      <td>5</td>\n",
       "      <td>2017-08-28</td>\n",
       "      <td>88.96</td>\n",
       "    </tr>\n",
       "    <tr>\n",
       "      <th>103</th>\n",
       "      <td>1</td>\n",
       "      <td>2017-09-12</td>\n",
       "      <td>31.75</td>\n",
       "    </tr>\n",
       "    <tr>\n",
       "      <th>2371</th>\n",
       "      <td>10</td>\n",
       "      <td>2017-12-10</td>\n",
       "      <td>17.58</td>\n",
       "    </tr>\n",
       "    <tr>\n",
       "      <th>235</th>\n",
       "      <td>1</td>\n",
       "      <td>2018-01-22</td>\n",
       "      <td>87.81</td>\n",
       "    </tr>\n",
       "    <tr>\n",
       "      <th>2176</th>\n",
       "      <td>9</td>\n",
       "      <td>2018-05-29</td>\n",
       "      <td>16.83</td>\n",
       "    </tr>\n",
       "    <tr>\n",
       "      <th>969</th>\n",
       "      <td>3</td>\n",
       "      <td>2018-01-30</td>\n",
       "      <td>565.06</td>\n",
       "    </tr>\n",
       "    <tr>\n",
       "      <th>1170</th>\n",
       "      <td>4</td>\n",
       "      <td>2017-08-21</td>\n",
       "      <td>4.00</td>\n",
       "    </tr>\n",
       "    <tr>\n",
       "      <th>2342</th>\n",
       "      <td>10</td>\n",
       "      <td>2017-11-11</td>\n",
       "      <td>21.41</td>\n",
       "    </tr>\n",
       "    <tr>\n",
       "      <th>1061</th>\n",
       "      <td>3</td>\n",
       "      <td>2018-05-04</td>\n",
       "      <td>359.21</td>\n",
       "    </tr>\n",
       "  </tbody>\n",
       "</table>\n",
       "</div>"
      ],
      "text/plain": [
       "      source_id         dt   costs\n",
       "453           2 2017-08-30   77.47\n",
       "1540          5 2017-08-28   88.96\n",
       "103           1 2017-09-12   31.75\n",
       "2371         10 2017-12-10   17.58\n",
       "235           1 2018-01-22   87.81\n",
       "2176          9 2018-05-29   16.83\n",
       "969           3 2018-01-30  565.06\n",
       "1170          4 2017-08-21    4.00\n",
       "2342         10 2017-11-11   21.41\n",
       "1061          3 2018-05-04  359.21"
      ]
     },
     "execution_count": 14,
     "metadata": {},
     "output_type": "execute_result"
    }
   ],
   "source": [
    "costs.sample(10)"
   ]
  },
  {
   "cell_type": "code",
   "execution_count": 15,
   "metadata": {},
   "outputs": [
    {
     "data": {
      "text/html": [
       "<style type=\"text/css\">\n",
       "</style>\n",
       "<table id=\"T_664bb_\">\n",
       "  <thead>\n",
       "    <tr>\n",
       "      <th class=\"blank level0\" >&nbsp;</th>\n",
       "      <th class=\"col_heading level0 col0\" >missing</th>\n",
       "      <th class=\"col_heading level0 col1\" >total</th>\n",
       "      <th class=\"col_heading level0 col2\" >percent</th>\n",
       "    </tr>\n",
       "  </thead>\n",
       "  <tbody>\n",
       "    <tr>\n",
       "      <th id=\"T_664bb_level0_row0\" class=\"row_heading level0 row0\" >source_id</th>\n",
       "      <td id=\"T_664bb_row0_col0\" class=\"data row0 col0\" >0</td>\n",
       "      <td id=\"T_664bb_row0_col1\" class=\"data row0 col1\" >2,542</td>\n",
       "      <td id=\"T_664bb_row0_col2\" class=\"data row0 col2\" >0.00%</td>\n",
       "    </tr>\n",
       "    <tr>\n",
       "      <th id=\"T_664bb_level0_row1\" class=\"row_heading level0 row1\" >dt</th>\n",
       "      <td id=\"T_664bb_row1_col0\" class=\"data row1 col0\" >0</td>\n",
       "      <td id=\"T_664bb_row1_col1\" class=\"data row1 col1\" >2,542</td>\n",
       "      <td id=\"T_664bb_row1_col2\" class=\"data row1 col2\" >0.00%</td>\n",
       "    </tr>\n",
       "    <tr>\n",
       "      <th id=\"T_664bb_level0_row2\" class=\"row_heading level0 row2\" >costs</th>\n",
       "      <td id=\"T_664bb_row2_col0\" class=\"data row2 col0\" >0</td>\n",
       "      <td id=\"T_664bb_row2_col1\" class=\"data row2 col1\" >2,542</td>\n",
       "      <td id=\"T_664bb_row2_col2\" class=\"data row2 col2\" >0.00%</td>\n",
       "    </tr>\n",
       "  </tbody>\n",
       "</table>\n"
      ],
      "text/plain": [
       "<pandas.io.formats.style.Styler at 0x22ae42c85c8>"
      ]
     },
     "execution_count": 15,
     "metadata": {},
     "output_type": "execute_result"
    }
   ],
   "source": [
    "costs.stb.missing(style = True)"
   ]
  },
  {
   "cell_type": "markdown",
   "metadata": {},
   "source": [
    "As we see we don't have any missing values, just let's change names of columns (convert to lower case and replace spaces for convenience) and we can proceed to next step"
   ]
  },
  {
   "cell_type": "code",
   "execution_count": 16,
   "metadata": {},
   "outputs": [
    {
     "data": {
      "text/html": [
       "<div>\n",
       "<style scoped>\n",
       "    .dataframe tbody tr th:only-of-type {\n",
       "        vertical-align: middle;\n",
       "    }\n",
       "\n",
       "    .dataframe tbody tr th {\n",
       "        vertical-align: top;\n",
       "    }\n",
       "\n",
       "    .dataframe thead th {\n",
       "        text-align: right;\n",
       "    }\n",
       "</style>\n",
       "<table border=\"1\" class=\"dataframe\">\n",
       "  <thead>\n",
       "    <tr style=\"text-align: right;\">\n",
       "      <th></th>\n",
       "      <th>device</th>\n",
       "      <th>end_ts</th>\n",
       "      <th>source_id</th>\n",
       "      <th>start_ts</th>\n",
       "      <th>uid</th>\n",
       "    </tr>\n",
       "  </thead>\n",
       "  <tbody>\n",
       "    <tr>\n",
       "      <th>0</th>\n",
       "      <td>touch</td>\n",
       "      <td>2017-12-20 17:38:00</td>\n",
       "      <td>4</td>\n",
       "      <td>2017-12-20 17:20:00</td>\n",
       "      <td>16879256277535980062</td>\n",
       "    </tr>\n",
       "    <tr>\n",
       "      <th>1</th>\n",
       "      <td>desktop</td>\n",
       "      <td>2018-02-19 17:21:00</td>\n",
       "      <td>2</td>\n",
       "      <td>2018-02-19 16:53:00</td>\n",
       "      <td>104060357244891740</td>\n",
       "    </tr>\n",
       "    <tr>\n",
       "      <th>2</th>\n",
       "      <td>touch</td>\n",
       "      <td>2017-07-01 01:54:00</td>\n",
       "      <td>5</td>\n",
       "      <td>2017-07-01 01:54:00</td>\n",
       "      <td>7459035603376831527</td>\n",
       "    </tr>\n",
       "    <tr>\n",
       "      <th>3</th>\n",
       "      <td>desktop</td>\n",
       "      <td>2018-05-20 11:23:00</td>\n",
       "      <td>9</td>\n",
       "      <td>2018-05-20 10:59:00</td>\n",
       "      <td>16174680259334210214</td>\n",
       "    </tr>\n",
       "    <tr>\n",
       "      <th>4</th>\n",
       "      <td>desktop</td>\n",
       "      <td>2017-12-27 14:06:00</td>\n",
       "      <td>3</td>\n",
       "      <td>2017-12-27 14:06:00</td>\n",
       "      <td>9969694820036681168</td>\n",
       "    </tr>\n",
       "    <tr>\n",
       "      <th>...</th>\n",
       "      <td>...</td>\n",
       "      <td>...</td>\n",
       "      <td>...</td>\n",
       "      <td>...</td>\n",
       "      <td>...</td>\n",
       "    </tr>\n",
       "    <tr>\n",
       "      <th>359395</th>\n",
       "      <td>desktop</td>\n",
       "      <td>2017-07-29 19:07:19</td>\n",
       "      <td>2</td>\n",
       "      <td>2017-07-29 19:07:00</td>\n",
       "      <td>18363291481961487539</td>\n",
       "    </tr>\n",
       "    <tr>\n",
       "      <th>359396</th>\n",
       "      <td>touch</td>\n",
       "      <td>2018-01-25 17:38:19</td>\n",
       "      <td>1</td>\n",
       "      <td>2018-01-25 17:38:00</td>\n",
       "      <td>18370831553019119586</td>\n",
       "    </tr>\n",
       "    <tr>\n",
       "      <th>359397</th>\n",
       "      <td>desktop</td>\n",
       "      <td>2018-03-03 10:12:19</td>\n",
       "      <td>4</td>\n",
       "      <td>2018-03-03 10:12:00</td>\n",
       "      <td>18387297585500748294</td>\n",
       "    </tr>\n",
       "    <tr>\n",
       "      <th>359398</th>\n",
       "      <td>desktop</td>\n",
       "      <td>2017-11-02 10:12:19</td>\n",
       "      <td>5</td>\n",
       "      <td>2017-11-02 10:12:00</td>\n",
       "      <td>18388616944624776485</td>\n",
       "    </tr>\n",
       "    <tr>\n",
       "      <th>359399</th>\n",
       "      <td>touch</td>\n",
       "      <td>2017-09-10 13:13:19</td>\n",
       "      <td>2</td>\n",
       "      <td>2017-09-10 13:13:00</td>\n",
       "      <td>18396128934054549559</td>\n",
       "    </tr>\n",
       "  </tbody>\n",
       "</table>\n",
       "<p>359400 rows × 5 columns</p>\n",
       "</div>"
      ],
      "text/plain": [
       "         device              end_ts  source_id            start_ts  \\\n",
       "0         touch 2017-12-20 17:38:00          4 2017-12-20 17:20:00   \n",
       "1       desktop 2018-02-19 17:21:00          2 2018-02-19 16:53:00   \n",
       "2         touch 2017-07-01 01:54:00          5 2017-07-01 01:54:00   \n",
       "3       desktop 2018-05-20 11:23:00          9 2018-05-20 10:59:00   \n",
       "4       desktop 2017-12-27 14:06:00          3 2017-12-27 14:06:00   \n",
       "...         ...                 ...        ...                 ...   \n",
       "359395  desktop 2017-07-29 19:07:19          2 2017-07-29 19:07:00   \n",
       "359396    touch 2018-01-25 17:38:19          1 2018-01-25 17:38:00   \n",
       "359397  desktop 2018-03-03 10:12:19          4 2018-03-03 10:12:00   \n",
       "359398  desktop 2017-11-02 10:12:19          5 2017-11-02 10:12:00   \n",
       "359399    touch 2017-09-10 13:13:19          2 2017-09-10 13:13:00   \n",
       "\n",
       "                         uid  \n",
       "0       16879256277535980062  \n",
       "1         104060357244891740  \n",
       "2        7459035603376831527  \n",
       "3       16174680259334210214  \n",
       "4        9969694820036681168  \n",
       "...                      ...  \n",
       "359395  18363291481961487539  \n",
       "359396  18370831553019119586  \n",
       "359397  18387297585500748294  \n",
       "359398  18388616944624776485  \n",
       "359399  18396128934054549559  \n",
       "\n",
       "[359400 rows x 5 columns]"
      ]
     },
     "execution_count": 16,
     "metadata": {},
     "output_type": "execute_result"
    }
   ],
   "source": [
    "visits.columns = visits.columns.str.lower()\n",
    "visits.columns = visits.columns.str.replace(' ', '_')\n",
    "visits"
   ]
  },
  {
   "cell_type": "code",
   "execution_count": 17,
   "metadata": {},
   "outputs": [
    {
     "data": {
      "text/html": [
       "<div>\n",
       "<style scoped>\n",
       "    .dataframe tbody tr th:only-of-type {\n",
       "        vertical-align: middle;\n",
       "    }\n",
       "\n",
       "    .dataframe tbody tr th {\n",
       "        vertical-align: top;\n",
       "    }\n",
       "\n",
       "    .dataframe thead th {\n",
       "        text-align: right;\n",
       "    }\n",
       "</style>\n",
       "<table border=\"1\" class=\"dataframe\">\n",
       "  <thead>\n",
       "    <tr style=\"text-align: right;\">\n",
       "      <th></th>\n",
       "      <th>buy_ts</th>\n",
       "      <th>revenue</th>\n",
       "      <th>uid</th>\n",
       "    </tr>\n",
       "  </thead>\n",
       "  <tbody>\n",
       "    <tr>\n",
       "      <th>0</th>\n",
       "      <td>2017-06-01 00:10:00</td>\n",
       "      <td>17.00</td>\n",
       "      <td>10329302124590727494</td>\n",
       "    </tr>\n",
       "    <tr>\n",
       "      <th>1</th>\n",
       "      <td>2017-06-01 00:25:00</td>\n",
       "      <td>0.55</td>\n",
       "      <td>11627257723692907447</td>\n",
       "    </tr>\n",
       "    <tr>\n",
       "      <th>2</th>\n",
       "      <td>2017-06-01 00:27:00</td>\n",
       "      <td>0.37</td>\n",
       "      <td>17903680561304213844</td>\n",
       "    </tr>\n",
       "    <tr>\n",
       "      <th>3</th>\n",
       "      <td>2017-06-01 00:29:00</td>\n",
       "      <td>0.55</td>\n",
       "      <td>16109239769442553005</td>\n",
       "    </tr>\n",
       "    <tr>\n",
       "      <th>4</th>\n",
       "      <td>2017-06-01 07:58:00</td>\n",
       "      <td>0.37</td>\n",
       "      <td>14200605875248379450</td>\n",
       "    </tr>\n",
       "    <tr>\n",
       "      <th>...</th>\n",
       "      <td>...</td>\n",
       "      <td>...</td>\n",
       "      <td>...</td>\n",
       "    </tr>\n",
       "    <tr>\n",
       "      <th>50410</th>\n",
       "      <td>2018-05-31 23:50:00</td>\n",
       "      <td>4.64</td>\n",
       "      <td>12296626599487328624</td>\n",
       "    </tr>\n",
       "    <tr>\n",
       "      <th>50411</th>\n",
       "      <td>2018-05-31 23:50:00</td>\n",
       "      <td>5.80</td>\n",
       "      <td>11369640365507475976</td>\n",
       "    </tr>\n",
       "    <tr>\n",
       "      <th>50412</th>\n",
       "      <td>2018-05-31 23:54:00</td>\n",
       "      <td>0.30</td>\n",
       "      <td>1786462140797698849</td>\n",
       "    </tr>\n",
       "    <tr>\n",
       "      <th>50413</th>\n",
       "      <td>2018-05-31 23:56:00</td>\n",
       "      <td>3.67</td>\n",
       "      <td>3993697860786194247</td>\n",
       "    </tr>\n",
       "    <tr>\n",
       "      <th>50414</th>\n",
       "      <td>2018-06-01 00:02:00</td>\n",
       "      <td>3.42</td>\n",
       "      <td>83872787173869366</td>\n",
       "    </tr>\n",
       "  </tbody>\n",
       "</table>\n",
       "<p>50415 rows × 3 columns</p>\n",
       "</div>"
      ],
      "text/plain": [
       "                   buy_ts  revenue                   uid\n",
       "0     2017-06-01 00:10:00    17.00  10329302124590727494\n",
       "1     2017-06-01 00:25:00     0.55  11627257723692907447\n",
       "2     2017-06-01 00:27:00     0.37  17903680561304213844\n",
       "3     2017-06-01 00:29:00     0.55  16109239769442553005\n",
       "4     2017-06-01 07:58:00     0.37  14200605875248379450\n",
       "...                   ...      ...                   ...\n",
       "50410 2018-05-31 23:50:00     4.64  12296626599487328624\n",
       "50411 2018-05-31 23:50:00     5.80  11369640365507475976\n",
       "50412 2018-05-31 23:54:00     0.30   1786462140797698849\n",
       "50413 2018-05-31 23:56:00     3.67   3993697860786194247\n",
       "50414 2018-06-01 00:02:00     3.42     83872787173869366\n",
       "\n",
       "[50415 rows x 3 columns]"
      ]
     },
     "execution_count": 17,
     "metadata": {},
     "output_type": "execute_result"
    }
   ],
   "source": [
    "orders.columns = orders.columns.str.lower() \n",
    "orders.columns = orders.columns.str.replace(' ', '_')\n",
    "orders"
   ]
  },
  {
   "cell_type": "code",
   "execution_count": 18,
   "metadata": {},
   "outputs": [
    {
     "data": {
      "text/html": [
       "<div>\n",
       "<style scoped>\n",
       "    .dataframe tbody tr th:only-of-type {\n",
       "        vertical-align: middle;\n",
       "    }\n",
       "\n",
       "    .dataframe tbody tr th {\n",
       "        vertical-align: top;\n",
       "    }\n",
       "\n",
       "    .dataframe thead th {\n",
       "        text-align: right;\n",
       "    }\n",
       "</style>\n",
       "<table border=\"1\" class=\"dataframe\">\n",
       "  <thead>\n",
       "    <tr style=\"text-align: right;\">\n",
       "      <th></th>\n",
       "      <th>source_id</th>\n",
       "      <th>dt</th>\n",
       "      <th>costs</th>\n",
       "    </tr>\n",
       "  </thead>\n",
       "  <tbody>\n",
       "    <tr>\n",
       "      <th>0</th>\n",
       "      <td>1</td>\n",
       "      <td>2017-06-01</td>\n",
       "      <td>75.20</td>\n",
       "    </tr>\n",
       "    <tr>\n",
       "      <th>1</th>\n",
       "      <td>1</td>\n",
       "      <td>2017-06-02</td>\n",
       "      <td>62.25</td>\n",
       "    </tr>\n",
       "    <tr>\n",
       "      <th>2</th>\n",
       "      <td>1</td>\n",
       "      <td>2017-06-03</td>\n",
       "      <td>36.53</td>\n",
       "    </tr>\n",
       "    <tr>\n",
       "      <th>3</th>\n",
       "      <td>1</td>\n",
       "      <td>2017-06-04</td>\n",
       "      <td>55.00</td>\n",
       "    </tr>\n",
       "    <tr>\n",
       "      <th>4</th>\n",
       "      <td>1</td>\n",
       "      <td>2017-06-05</td>\n",
       "      <td>57.08</td>\n",
       "    </tr>\n",
       "    <tr>\n",
       "      <th>...</th>\n",
       "      <td>...</td>\n",
       "      <td>...</td>\n",
       "      <td>...</td>\n",
       "    </tr>\n",
       "    <tr>\n",
       "      <th>2537</th>\n",
       "      <td>10</td>\n",
       "      <td>2018-05-27</td>\n",
       "      <td>9.92</td>\n",
       "    </tr>\n",
       "    <tr>\n",
       "      <th>2538</th>\n",
       "      <td>10</td>\n",
       "      <td>2018-05-28</td>\n",
       "      <td>21.26</td>\n",
       "    </tr>\n",
       "    <tr>\n",
       "      <th>2539</th>\n",
       "      <td>10</td>\n",
       "      <td>2018-05-29</td>\n",
       "      <td>11.32</td>\n",
       "    </tr>\n",
       "    <tr>\n",
       "      <th>2540</th>\n",
       "      <td>10</td>\n",
       "      <td>2018-05-30</td>\n",
       "      <td>33.15</td>\n",
       "    </tr>\n",
       "    <tr>\n",
       "      <th>2541</th>\n",
       "      <td>10</td>\n",
       "      <td>2018-05-31</td>\n",
       "      <td>17.60</td>\n",
       "    </tr>\n",
       "  </tbody>\n",
       "</table>\n",
       "<p>2542 rows × 3 columns</p>\n",
       "</div>"
      ],
      "text/plain": [
       "      source_id         dt  costs\n",
       "0             1 2017-06-01  75.20\n",
       "1             1 2017-06-02  62.25\n",
       "2             1 2017-06-03  36.53\n",
       "3             1 2017-06-04  55.00\n",
       "4             1 2017-06-05  57.08\n",
       "...         ...        ...    ...\n",
       "2537         10 2018-05-27   9.92\n",
       "2538         10 2018-05-28  21.26\n",
       "2539         10 2018-05-29  11.32\n",
       "2540         10 2018-05-30  33.15\n",
       "2541         10 2018-05-31  17.60\n",
       "\n",
       "[2542 rows x 3 columns]"
      ]
     },
     "execution_count": 18,
     "metadata": {},
     "output_type": "execute_result"
    }
   ],
   "source": [
    "costs.columns = costs.columns.str.lower()\n",
    "costs.columns = costs.columns.str.replace(' ', '_')\n",
    "costs"
   ]
  },
  {
   "cell_type": "markdown",
   "metadata": {},
   "source": [
    "### Step 2. Reports and calculations   \n",
    "Ok, let's describe what kind of questions we have to discuss"
   ]
  },
  {
   "cell_type": "markdown",
   "metadata": {},
   "source": [
    "#### Product   \n",
    " - How many people use it every day, week, and month?   \n",
    " - How many sessions are there per day? (One user might have more than one session.)    \n",
    " - What is the length of each session?   \n",
    " - How often do users come back?   "
   ]
  },
  {
   "cell_type": "markdown",
   "metadata": {},
   "source": [
    "##### How many people use it every day, week, and month?   \n",
    "Ok, let's plot graphs for daily/weekly/monthly users activity"
   ]
  },
  {
   "cell_type": "code",
   "execution_count": 19,
   "metadata": {},
   "outputs": [],
   "source": [
    "visits['month'] = visits['start_ts'].astype('datetime64[M]')\n",
    "visits['week'] = visits['start_ts'].astype('datetime64[W]')\n",
    "visits['date'] = visits['start_ts'].dt.date"
   ]
  },
  {
   "cell_type": "code",
   "execution_count": 20,
   "metadata": {},
   "outputs": [
    {
     "data": {
      "text/html": [
       "<div>\n",
       "<style scoped>\n",
       "    .dataframe tbody tr th:only-of-type {\n",
       "        vertical-align: middle;\n",
       "    }\n",
       "\n",
       "    .dataframe tbody tr th {\n",
       "        vertical-align: top;\n",
       "    }\n",
       "\n",
       "    .dataframe thead th {\n",
       "        text-align: right;\n",
       "    }\n",
       "</style>\n",
       "<table border=\"1\" class=\"dataframe\">\n",
       "  <thead>\n",
       "    <tr style=\"text-align: right;\">\n",
       "      <th></th>\n",
       "      <th>date</th>\n",
       "      <th>uid</th>\n",
       "    </tr>\n",
       "  </thead>\n",
       "  <tbody>\n",
       "    <tr>\n",
       "      <th>0</th>\n",
       "      <td>2017-06-01</td>\n",
       "      <td>605</td>\n",
       "    </tr>\n",
       "    <tr>\n",
       "      <th>1</th>\n",
       "      <td>2017-06-02</td>\n",
       "      <td>608</td>\n",
       "    </tr>\n",
       "    <tr>\n",
       "      <th>2</th>\n",
       "      <td>2017-06-03</td>\n",
       "      <td>445</td>\n",
       "    </tr>\n",
       "    <tr>\n",
       "      <th>3</th>\n",
       "      <td>2017-06-04</td>\n",
       "      <td>476</td>\n",
       "    </tr>\n",
       "    <tr>\n",
       "      <th>4</th>\n",
       "      <td>2017-06-05</td>\n",
       "      <td>820</td>\n",
       "    </tr>\n",
       "  </tbody>\n",
       "</table>\n",
       "</div>"
      ],
      "text/plain": [
       "         date  uid\n",
       "0  2017-06-01  605\n",
       "1  2017-06-02  608\n",
       "2  2017-06-03  445\n",
       "3  2017-06-04  476\n",
       "4  2017-06-05  820"
      ]
     },
     "execution_count": 20,
     "metadata": {},
     "output_type": "execute_result"
    }
   ],
   "source": [
    "dau = visits.groupby('date').agg({'uid':'nunique'}).reset_index()\n",
    "dau.head()"
   ]
  },
  {
   "cell_type": "code",
   "execution_count": 21,
   "metadata": {},
   "outputs": [
    {
     "name": "stdout",
     "output_type": "stream",
     "text": [
      "Average DAU: 907.9917582417582\n"
     ]
    }
   ],
   "source": [
    "print('Average DAU:', dau['uid'].mean())"
   ]
  },
  {
   "cell_type": "code",
   "execution_count": 22,
   "metadata": {},
   "outputs": [
    {
     "data": {
      "image/svg+xml": [
       "<svg class=\"main-svg\" xmlns=\"http://www.w3.org/2000/svg\" xmlns:xlink=\"http://www.w3.org/1999/xlink\" width=\"700\" height=\"500\" style=\"\" viewBox=\"0 0 700 500\"><rect x=\"0\" y=\"0\" width=\"700\" height=\"500\" style=\"fill: rgb(255, 255, 255); fill-opacity: 1;\"/><defs id=\"defs-a8e808\"><g class=\"clips\"><clipPath id=\"clipa8e808xyplot\" class=\"plotclip\"><rect width=\"540\" height=\"320\"/></clipPath><clipPath class=\"axesclip\" id=\"clipa8e808x\"><rect x=\"80\" y=\"0\" width=\"540\" height=\"500\"/></clipPath><clipPath class=\"axesclip\" id=\"clipa8e808y\"><rect x=\"0\" y=\"100\" width=\"700\" height=\"320\"/></clipPath><clipPath class=\"axesclip\" id=\"clipa8e808xy\"><rect x=\"80\" y=\"100\" width=\"540\" height=\"320\"/></clipPath></g><g class=\"gradients\"/><g class=\"patterns\"/></defs><g class=\"bglayer\"><rect class=\"bg\" x=\"80\" y=\"100\" width=\"540\" height=\"320\" style=\"fill: rgb(229, 236, 246); fill-opacity: 1; stroke-width: 0;\"/></g><g class=\"layer-below\"><g class=\"imagelayer\"/><g class=\"shapelayer\"/></g><g class=\"cartesianlayer\"><g class=\"subplot xy\"><g class=\"layer-subplot\"><g class=\"shapelayer\"/><g class=\"imagelayer\"/></g><g class=\"minor-gridlayer\"><g class=\"x\"/><g class=\"y\"/></g><g class=\"gridlayer\"><g class=\"x\"><path class=\"xgrid crisp\" transform=\"translate(124.50999999999999,0)\" d=\"M0,100v320\" style=\"stroke: rgb(255, 255, 255); stroke-opacity: 1; stroke-width: 1px;\"/><path class=\"xgrid crisp\" transform=\"translate(216.48,0)\" d=\"M0,100v320\" style=\"stroke: rgb(255, 255, 255); stroke-opacity: 1; stroke-width: 1px;\"/><path class=\"xgrid crisp\" transform=\"translate(306.98,0)\" d=\"M0,100v320\" style=\"stroke: rgb(255, 255, 255); stroke-opacity: 1; stroke-width: 1px;\"/><path class=\"xgrid crisp\" transform=\"translate(397.47,0)\" d=\"M0,100v320\" style=\"stroke: rgb(255, 255, 255); stroke-opacity: 1; stroke-width: 1px;\"/><path class=\"xgrid crisp\" transform=\"translate(485,0)\" d=\"M0,100v320\" style=\"stroke: rgb(255, 255, 255); stroke-opacity: 1; stroke-width: 1px;\"/><path class=\"xgrid crisp\" transform=\"translate(575.49,0)\" d=\"M0,100v320\" style=\"stroke: rgb(255, 255, 255); stroke-opacity: 1; stroke-width: 1px;\"/></g><g class=\"y\"><path class=\"ygrid crisp\" transform=\"translate(0,360.69)\" d=\"M80,0h540\" style=\"stroke: rgb(255, 255, 255); stroke-opacity: 1; stroke-width: 1px;\"/><path class=\"ygrid crisp\" transform=\"translate(0,317.28999999999996)\" d=\"M80,0h540\" style=\"stroke: rgb(255, 255, 255); stroke-opacity: 1; stroke-width: 1px;\"/><path class=\"ygrid crisp\" transform=\"translate(0,273.89)\" d=\"M80,0h540\" style=\"stroke: rgb(255, 255, 255); stroke-opacity: 1; stroke-width: 1px;\"/><path class=\"ygrid crisp\" transform=\"translate(0,230.49)\" d=\"M80,0h540\" style=\"stroke: rgb(255, 255, 255); stroke-opacity: 1; stroke-width: 1px;\"/><path class=\"ygrid crisp\" transform=\"translate(0,187.09)\" d=\"M80,0h540\" style=\"stroke: rgb(255, 255, 255); stroke-opacity: 1; stroke-width: 1px;\"/><path class=\"ygrid crisp\" transform=\"translate(0,143.69)\" d=\"M80,0h540\" style=\"stroke: rgb(255, 255, 255); stroke-opacity: 1; stroke-width: 1px;\"/></g></g><g class=\"zerolinelayer\"><path class=\"yzl zl crisp\" transform=\"translate(0,404.09)\" d=\"M80,0h540\" style=\"stroke: rgb(255, 255, 255); stroke-opacity: 1; stroke-width: 2px;\"/></g><path class=\"xlines-below\"/><path class=\"ylines-below\"/><g class=\"overlines-below\"/><g class=\"xaxislayer-below\"/><g class=\"yaxislayer-below\"/><g class=\"overaxes-below\"/><g class=\"plot\" transform=\"translate(80,100)\" clip-path=\"url(#clipa8e808xyplot)\"><g class=\"scatterlayer mlayer\"><g class=\"trace scatter tracea846fb\" style=\"stroke-miterlimit: 2; opacity: 1;\"><g class=\"fills\"/><g class=\"errorbars\"/><g class=\"lines\"><path class=\"js-line\" d=\"M0,251.57L1.48,251.31L2.97,265.46L4.45,262.77L5.93,232.91L7.42,234.91L8.9,243.41L10.38,228.75L11.87,243.76L13.35,273.71L14.84,278.74L16.32,275.01L17.8,260.51L19.29,260.77L20.77,254.18L22.25,262.34L23.74,275.62L25.22,279.35L26.7,262.25L29.67,266.24L31.15,257.48L34.12,275.62L35.6,270.84L37.09,255.13L38.57,261.64L40.05,256.17L41.54,256.69L44.51,272.75L45.99,275.44L47.47,252.53L48.96,259.73L50.44,259.04L51.92,253.92L53.41,257.04L54.89,270.32L56.37,265.55L57.86,244.63L59.34,255.13L60.82,246.02L63.79,231.26L65.27,243.85L66.76,259.47L68.24,205.31L69.73,242.81L71.21,256.61L72.69,252.53L74.18,259.21L75.66,273.1L77.14,276.14L78.63,256L80.11,265.98L81.59,267.2L83.08,263.73L86.04,277.44L87.53,277.09L89.01,262.77L90.49,268.5L91.98,272.84L93.46,269.63L96.43,279.78L97.91,279.61L99.4,268.15L100.88,270.41L102.36,269.89L103.85,265.37L105.33,268.15L106.81,280.56L108.3,279.7L109.78,261.38L111.26,262.34L112.75,265.11L114.23,263.29L115.71,266.16L117.2,278.74L118.68,276.05L120.16,258.86L121.65,260.51L123.13,258.17L124.62,261.99L126.1,260.51L127.58,268.59L129.07,267.46L130.55,251.83L132.03,253.83L133.52,252.01L135,247.49L136.48,254.44L137.97,263.12L139.45,260.77L140.93,247.32L142.42,240.9L143.9,236.64L145.38,236.21L146.87,231.87L148.35,259.73L149.84,260.17L151.32,237.86L152.8,248.71L154.29,248.62L155.77,235.08L157.25,242.2L158.74,255.39L160.22,255.91L161.7,234.99L163.19,234.73L164.67,237.34L166.15,234.56L167.64,234.82L169.12,248.97L170.6,246.63L172.09,218.68L173.57,219.02L175.05,221.54L176.54,210.43L178.02,210.86L179.51,230.57L180.99,230.48L182.47,204.61L183.96,200.8L185.44,197.15L186.92,197.67L188.41,181.01L189.89,207.13L191.37,225.88L192.86,194.98L194.34,204.88L195.82,206.96L197.31,202.27L198.79,200.19L200.27,226.23L201.76,224.84L203.24,202.71L204.73,210.86L207.69,205.74L209.18,194.11L210.66,217.29L212.14,217.2L213.63,194.98L215.11,199.58L216.59,207.39L218.08,206.09L219.56,201.06L221.04,215.55L222.53,206.26L224.01,190.55L225.49,194.81L226.98,196.72L228.46,202.71L229.95,204.79L231.43,222.24L232.91,216.51L234.4,213.21L235.88,196.46L238.85,204.35L240.33,200.19L241.81,220.85L243.3,220.5L244.78,181.44L246.26,193.85L247.75,204.44L249.23,164.86L250.71,181.61L252.2,216.59L253.68,213.73L255.16,181.27L256.65,185.78L258.13,195.15L259.62,179.7L261.1,16L262.58,146.37L264.07,187.25L265.55,167.73L267.03,174.5L268.52,191.59L270,181.79L271.48,193.59L272.97,213.82L274.45,201.23L275.93,179.79L277.42,177.53L278.9,184.56L280.38,171.8L281.87,181.61L283.35,210.6L284.84,206L286.32,173.45L287.8,178.14L289.29,173.11L290.77,183.78L292.25,191.25L293.74,213.82L295.22,213.38L296.7,191.42L298.19,203.05L299.67,202.27L301.15,198.63L302.64,204.44L304.12,228.22L305.6,219.72L307.09,185L308.57,185.17L310.05,188.3L311.54,184.56L313.02,200.62L314.51,208.09L315.99,240.55L317.47,217.98L318.96,194.29L320.44,198.28L321.92,194.72L323.41,216.77L326.37,231.96L327.86,225.71L329.34,206.18L330.82,204.96L332.31,196.63L333.79,203.83L335.27,231.7L336.76,227.1L338.24,198.02L339.73,208L341.21,213.38L342.69,201.84L344.18,202.27L345.66,219.02L347.14,223.97L348.63,194.2L350.11,204.01L351.59,207.05L353.08,197.84L354.56,206.87L356.04,220.85L357.53,224.41L359.01,189.6L360.49,192.81L361.98,196.46L363.46,161.74L366.43,213.38L367.91,216.68L369.4,195.07L370.88,199.93L372.36,195.59L373.85,181.09L378.3,214.68L379.78,185L381.26,190.03L382.75,188.38L384.23,183.44L385.71,204.01L387.2,226.05L388.68,216.68L390.16,185.35L391.65,191.25L393.13,192.55L394.62,199.93L396.1,218.94L397.58,211.91L399.07,214.6L400.55,181.61L403.52,210.95L405,202.88L406.48,195.33L407.97,220.59L409.45,214.77L410.93,199.15L412.42,198.8L413.9,190.29L415.38,215.12L416.87,218.68L419.84,232.82L421.32,202.62L422.8,206.52L424.29,216.42L425.77,215.81L427.25,217.98L428.74,234.91L430.22,242.55L431.7,201.66L433.19,202.44L434.67,206.87L436.15,185.26L437.64,204.61L439.12,209.22L440.6,169.98L442.09,164.43L443.57,169.46L445.05,218.94L446.54,214.08L448.02,292.72L449.51,304L452.47,248.45L453.96,222.32L455.44,222.67L456.92,224.93L458.41,225.01L459.89,240.72L461.37,240.81L462.86,220.93L464.34,225.88L465.82,227.44L467.31,224.32L468.79,221.97L470.27,247.84L471.76,243.15L473.24,228.48L474.73,231.18L476.21,223.1L477.69,213.56L479.18,217.55L480.66,236.3L482.14,236.56L483.63,216.77L485.11,225.53L486.59,227.1L488.08,222.15L489.56,232.04L491.04,234.73L494.01,259.39L495.49,261.64L496.98,261.03L498.46,234.39L499.95,239.42L501.43,255.05L502.91,253.74L504.4,242.37L505.88,251.23L507.36,265.81L508.85,234.13L510.33,234.21L511.81,255.91L513.3,259.73L514.78,235.95L516.26,238.55L519.23,225.79L520.71,226.58L522.2,245.41L523.68,245.24L525.16,227.62L526.65,227.18L528.13,233.69L529.62,231.78L531.1,232.82L532.58,251.83L534.07,250.27L535.55,213.9L537.03,221.8L538.52,192.2L540,130.75\" style=\"vector-effect: none; fill: none; stroke: rgb(99, 110, 250); stroke-opacity: 1; stroke-width: 2px; opacity: 1;\"/></g><g class=\"points\"/><g class=\"text\"/></g></g></g><g class=\"overplot\"/><path class=\"xlines-above crisp\" d=\"M0,0\" style=\"fill: none;\"/><path class=\"ylines-above crisp\" d=\"M0,0\" style=\"fill: none;\"/><g class=\"overlines-above\"/><g class=\"xaxislayer-above\"><g class=\"xtick\"><text text-anchor=\"middle\" x=\"0\" y=\"433\" transform=\"translate(124.50999999999999,0)\" style=\"font-family: 'Open Sans', verdana, arial, sans-serif; font-size: 12px; fill: rgb(42, 63, 95); fill-opacity: 1; white-space: pre; opacity: 1;\">Jul 2017</text></g><g class=\"xtick\"><text text-anchor=\"middle\" x=\"0\" y=\"433\" style=\"font-family: 'Open Sans', verdana, arial, sans-serif; font-size: 12px; fill: rgb(42, 63, 95); fill-opacity: 1; white-space: pre; opacity: 1;\" transform=\"translate(216.48,0)\">Sep 2017</text></g><g class=\"xtick\"><text text-anchor=\"middle\" x=\"0\" y=\"433\" style=\"font-family: 'Open Sans', verdana, arial, sans-serif; font-size: 12px; fill: rgb(42, 63, 95); fill-opacity: 1; white-space: pre; opacity: 1;\" transform=\"translate(306.98,0)\">Nov 2017</text></g><g class=\"xtick\"><text text-anchor=\"middle\" x=\"0\" y=\"433\" style=\"font-family: 'Open Sans', verdana, arial, sans-serif; font-size: 12px; fill: rgb(42, 63, 95); fill-opacity: 1; white-space: pre; opacity: 1;\" transform=\"translate(397.47,0)\">Jan 2018</text></g><g class=\"xtick\"><text text-anchor=\"middle\" x=\"0\" y=\"433\" style=\"font-family: 'Open Sans', verdana, arial, sans-serif; font-size: 12px; fill: rgb(42, 63, 95); fill-opacity: 1; white-space: pre; opacity: 1;\" transform=\"translate(485,0)\">Mar 2018</text></g><g class=\"xtick\"><text text-anchor=\"middle\" x=\"0\" y=\"433\" style=\"font-family: 'Open Sans', verdana, arial, sans-serif; font-size: 12px; fill: rgb(42, 63, 95); fill-opacity: 1; white-space: pre; opacity: 1;\" transform=\"translate(575.49,0)\">May 2018</text></g></g><g class=\"yaxislayer-above\"><g class=\"ytick\"><text text-anchor=\"end\" x=\"79\" y=\"4.199999999999999\" transform=\"translate(0,404.09)\" style=\"font-family: 'Open Sans', verdana, arial, sans-serif; font-size: 12px; fill: rgb(42, 63, 95); fill-opacity: 1; white-space: pre; opacity: 1;\">0</text></g><g class=\"ytick\"><text text-anchor=\"end\" x=\"79\" y=\"4.199999999999999\" style=\"font-family: 'Open Sans', verdana, arial, sans-serif; font-size: 12px; fill: rgb(42, 63, 95); fill-opacity: 1; white-space: pre; opacity: 1;\" transform=\"translate(0,360.69)\">500</text></g><g class=\"ytick\"><text text-anchor=\"end\" x=\"79\" y=\"4.199999999999999\" style=\"font-family: 'Open Sans', verdana, arial, sans-serif; font-size: 12px; fill: rgb(42, 63, 95); fill-opacity: 1; white-space: pre; opacity: 1;\" transform=\"translate(0,317.28999999999996)\">1000</text></g><g class=\"ytick\"><text text-anchor=\"end\" x=\"79\" y=\"4.199999999999999\" style=\"font-family: 'Open Sans', verdana, arial, sans-serif; font-size: 12px; fill: rgb(42, 63, 95); fill-opacity: 1; white-space: pre; opacity: 1;\" transform=\"translate(0,273.89)\">1500</text></g><g class=\"ytick\"><text text-anchor=\"end\" x=\"79\" y=\"4.199999999999999\" style=\"font-family: 'Open Sans', verdana, arial, sans-serif; font-size: 12px; fill: rgb(42, 63, 95); fill-opacity: 1; white-space: pre; opacity: 1;\" transform=\"translate(0,230.49)\">2000</text></g><g class=\"ytick\"><text text-anchor=\"end\" x=\"79\" y=\"4.199999999999999\" style=\"font-family: 'Open Sans', verdana, arial, sans-serif; font-size: 12px; fill: rgb(42, 63, 95); fill-opacity: 1; white-space: pre; opacity: 1;\" transform=\"translate(0,187.09)\">2500</text></g><g class=\"ytick\"><text text-anchor=\"end\" x=\"79\" y=\"4.199999999999999\" style=\"font-family: 'Open Sans', verdana, arial, sans-serif; font-size: 12px; fill: rgb(42, 63, 95); fill-opacity: 1; white-space: pre; opacity: 1;\" transform=\"translate(0,143.69)\">3000</text></g><g class=\"ytick\"><text text-anchor=\"end\" x=\"79\" y=\"4.199999999999999\" style=\"font-family: 'Open Sans', verdana, arial, sans-serif; font-size: 12px; fill: rgb(42, 63, 95); fill-opacity: 1; white-space: pre; opacity: 1;\" transform=\"translate(0,100.29)\">3500</text></g></g><g class=\"overaxes-above\"/></g></g><g class=\"polarlayer\"/><g class=\"smithlayer\"/><g class=\"ternarylayer\"/><g class=\"geolayer\"/><g class=\"funnelarealayer\"/><g class=\"pielayer\"/><g class=\"iciclelayer\"/><g class=\"treemaplayer\"/><g class=\"sunburstlayer\"/><g class=\"glimages\"/><defs id=\"topdefs-a8e808\"><g class=\"clips\"/></defs><g class=\"layer-above\"><g class=\"imagelayer\"/><g class=\"shapelayer\"><g class=\"shape-group\" data-index=\"0\" clip-path=\"url(#clipa8e808y)\"><path data-index=\"0\" fill-rule=\"evenodd\" d=\"M80,325.27L620,325.27\" style=\"opacity: 1; stroke: rgb(255, 0, 0); stroke-opacity: 1; fill: rgb(0, 0, 0); fill-opacity: 0; stroke-dasharray: 9px, 9px; stroke-width: 2px;\"/></g></g></g><g class=\"infolayer\"><g class=\"g-gtitle\"><text class=\"gtitle\" x=\"35\" y=\"50\" text-anchor=\"start\" dy=\"0em\" style=\"font-family: 'Open Sans', verdana, arial, sans-serif; font-size: 17px; fill: rgb(42, 63, 95); opacity: 1; font-weight: normal; white-space: pre;\">DAU</text></g><g class=\"g-xtitle\"><text class=\"xtitle\" x=\"350\" y=\"460.3\" text-anchor=\"middle\" style=\"font-family: 'Open Sans', verdana, arial, sans-serif; font-size: 14px; fill: rgb(42, 63, 95); opacity: 1; font-weight: normal; white-space: pre;\">Date</text></g><g class=\"g-ytitle\"><text class=\"ytitle\" transform=\"rotate(-90,24.184375000000003,260)\" x=\"24.184375000000003\" y=\"260\" text-anchor=\"middle\" style=\"font-family: 'Open Sans', verdana, arial, sans-serif; font-size: 14px; fill: rgb(42, 63, 95); opacity: 1; font-weight: normal; white-space: pre;\">Number of uid</text></g><g class=\"annotation\" data-index=\"0\" style=\"opacity: 1;\"><g class=\"annotation-text-g\" transform=\"rotate(0,121.5,315.77)\"><g class=\"cursor-pointer\" transform=\"translate(80,306)\"><rect class=\"bg\" x=\"0.5\" y=\"0.5\" width=\"82\" height=\"18\" style=\"stroke-width: 1px; stroke: rgb(0, 0, 0); stroke-opacity: 0; fill: rgb(0, 0, 0); fill-opacity: 0;\"/><text class=\"annotation-text\" text-anchor=\"middle\" x=\"41.203125\" y=\"14\" style=\"font-family: 'Open Sans', verdana, arial, sans-serif; font-size: 12px; fill: rgb(42, 63, 95); fill-opacity: 1; white-space: pre;\">average DAU</text></g></g></g></g></svg>"
      ]
     },
     "metadata": {},
     "output_type": "display_data"
    }
   ],
   "source": [
    "fig = px.line(dau, x = 'date', y = 'uid', title = 'DAU', labels ={'date': 'Date', 'uid': 'Number of uid'})\n",
    "fig.add_hline(y = dau['uid'].mean(), line_dash = 'dash', line_color = 'red', annotation_text = 'average DAU', \n",
    "              annotation_position = 'top left')\n",
    "fig.show('svg')\n",
    "fig.write_image(\"C:/Users/Dell/Documents/tempPy/myProjects/ForGit/Business_Analytics_YaAfisha/DAU1.png\")"
   ]
  },
  {
   "cell_type": "code",
   "execution_count": 23,
   "metadata": {},
   "outputs": [
    {
     "data": {
      "text/html": [
       "<div>\n",
       "<style scoped>\n",
       "    .dataframe tbody tr th:only-of-type {\n",
       "        vertical-align: middle;\n",
       "    }\n",
       "\n",
       "    .dataframe tbody tr th {\n",
       "        vertical-align: top;\n",
       "    }\n",
       "\n",
       "    .dataframe thead th {\n",
       "        text-align: right;\n",
       "    }\n",
       "</style>\n",
       "<table border=\"1\" class=\"dataframe\">\n",
       "  <thead>\n",
       "    <tr style=\"text-align: right;\">\n",
       "      <th></th>\n",
       "      <th>week</th>\n",
       "      <th>uid</th>\n",
       "    </tr>\n",
       "  </thead>\n",
       "  <tbody>\n",
       "    <tr>\n",
       "      <th>0</th>\n",
       "      <td>2017-06-01</td>\n",
       "      <td>4082</td>\n",
       "    </tr>\n",
       "    <tr>\n",
       "      <th>1</th>\n",
       "      <td>2017-06-08</td>\n",
       "      <td>3311</td>\n",
       "    </tr>\n",
       "    <tr>\n",
       "      <th>2</th>\n",
       "      <td>2017-06-15</td>\n",
       "      <td>2844</td>\n",
       "    </tr>\n",
       "    <tr>\n",
       "      <th>3</th>\n",
       "      <td>2017-06-22</td>\n",
       "      <td>3079</td>\n",
       "    </tr>\n",
       "    <tr>\n",
       "      <th>4</th>\n",
       "      <td>2017-06-29</td>\n",
       "      <td>3055</td>\n",
       "    </tr>\n",
       "  </tbody>\n",
       "</table>\n",
       "</div>"
      ],
      "text/plain": [
       "        week   uid\n",
       "0 2017-06-01  4082\n",
       "1 2017-06-08  3311\n",
       "2 2017-06-15  2844\n",
       "3 2017-06-22  3079\n",
       "4 2017-06-29  3055"
      ]
     },
     "execution_count": 23,
     "metadata": {},
     "output_type": "execute_result"
    }
   ],
   "source": [
    "wau = visits.groupby('week').agg({'uid':'nunique'}).reset_index()\n",
    "wau.head()"
   ]
  },
  {
   "cell_type": "code",
   "execution_count": 24,
   "metadata": {},
   "outputs": [
    {
     "name": "stdout",
     "output_type": "stream",
     "text": [
      "Average WAU: 5724.415094339623\n"
     ]
    }
   ],
   "source": [
    "print('Average WAU:', wau['uid'].mean())"
   ]
  },
  {
   "cell_type": "code",
   "execution_count": 25,
   "metadata": {},
   "outputs": [
    {
     "data": {
      "image/svg+xml": [
       "<svg class=\"main-svg\" xmlns=\"http://www.w3.org/2000/svg\" xmlns:xlink=\"http://www.w3.org/1999/xlink\" width=\"700\" height=\"500\" style=\"\" viewBox=\"0 0 700 500\"><rect x=\"0\" y=\"0\" width=\"700\" height=\"500\" style=\"fill: rgb(255, 255, 255); fill-opacity: 1;\"/><defs id=\"defs-df5842\"><g class=\"clips\"><clipPath id=\"clipdf5842xyplot\" class=\"plotclip\"><rect width=\"540\" height=\"320\"/></clipPath><clipPath class=\"axesclip\" id=\"clipdf5842x\"><rect x=\"80\" y=\"0\" width=\"540\" height=\"500\"/></clipPath><clipPath class=\"axesclip\" id=\"clipdf5842y\"><rect x=\"0\" y=\"100\" width=\"700\" height=\"320\"/></clipPath><clipPath class=\"axesclip\" id=\"clipdf5842xy\"><rect x=\"80\" y=\"100\" width=\"540\" height=\"320\"/></clipPath></g><g class=\"gradients\"/><g class=\"patterns\"/></defs><g class=\"bglayer\"><rect class=\"bg\" x=\"80\" y=\"100\" width=\"540\" height=\"320\" style=\"fill: rgb(229, 236, 246); fill-opacity: 1; stroke-width: 0;\"/></g><g class=\"layer-below\"><g class=\"imagelayer\"/><g class=\"shapelayer\"/></g><g class=\"cartesianlayer\"><g class=\"subplot xy\"><g class=\"layer-subplot\"><g class=\"shapelayer\"/><g class=\"imagelayer\"/></g><g class=\"minor-gridlayer\"><g class=\"x\"/><g class=\"y\"/></g><g class=\"gridlayer\"><g class=\"x\"><path class=\"xgrid crisp\" transform=\"translate(124.50999999999999,0)\" d=\"M0,100v320\" style=\"stroke: rgb(255, 255, 255); stroke-opacity: 1; stroke-width: 1px;\"/><path class=\"xgrid crisp\" transform=\"translate(216.48,0)\" d=\"M0,100v320\" style=\"stroke: rgb(255, 255, 255); stroke-opacity: 1; stroke-width: 1px;\"/><path class=\"xgrid crisp\" transform=\"translate(306.98,0)\" d=\"M0,100v320\" style=\"stroke: rgb(255, 255, 255); stroke-opacity: 1; stroke-width: 1px;\"/><path class=\"xgrid crisp\" transform=\"translate(397.47,0)\" d=\"M0,100v320\" style=\"stroke: rgb(255, 255, 255); stroke-opacity: 1; stroke-width: 1px;\"/><path class=\"xgrid crisp\" transform=\"translate(485,0)\" d=\"M0,100v320\" style=\"stroke: rgb(255, 255, 255); stroke-opacity: 1; stroke-width: 1px;\"/><path class=\"xgrid crisp\" transform=\"translate(575.49,0)\" d=\"M0,100v320\" style=\"stroke: rgb(255, 255, 255); stroke-opacity: 1; stroke-width: 1px;\"/></g><g class=\"y\"><path class=\"ygrid crisp\" transform=\"translate(0,403.9)\" d=\"M80,0h540\" style=\"stroke: rgb(255, 255, 255); stroke-opacity: 1; stroke-width: 1px;\"/><path class=\"ygrid crisp\" transform=\"translate(0,337.84000000000003)\" d=\"M80,0h540\" style=\"stroke: rgb(255, 255, 255); stroke-opacity: 1; stroke-width: 1px;\"/><path class=\"ygrid crisp\" transform=\"translate(0,271.78)\" d=\"M80,0h540\" style=\"stroke: rgb(255, 255, 255); stroke-opacity: 1; stroke-width: 1px;\"/><path class=\"ygrid crisp\" transform=\"translate(0,205.70999999999998)\" d=\"M80,0h540\" style=\"stroke: rgb(255, 255, 255); stroke-opacity: 1; stroke-width: 1px;\"/><path class=\"ygrid crisp\" transform=\"translate(0,139.65)\" d=\"M80,0h540\" style=\"stroke: rgb(255, 255, 255); stroke-opacity: 1; stroke-width: 1px;\"/></g></g><g class=\"zerolinelayer\"/><path class=\"xlines-below\"/><path class=\"ylines-below\"/><g class=\"overlines-below\"/><g class=\"xaxislayer-below\"/><g class=\"yaxislayer-below\"/><g class=\"overaxes-below\"/><g class=\"plot\" transform=\"translate(80,100)\" clip-path=\"url(#clipdf5842xyplot)\"><g class=\"scatterlayer mlayer\"><g class=\"trace scatter trace7cd0c0\" style=\"stroke-miterlimit: 2; opacity: 1;\"><g class=\"fills\"/><g class=\"errorbars\"/><g class=\"lines\"><path class=\"js-line\" d=\"M0,235.13L10.38,260.6L20.77,276.02L31.15,268.26L41.54,269.05L51.92,252.27L62.31,211.74L72.69,271.6L83.08,287.22L93.46,292.57L103.85,282.17L114.23,275.63L124.62,259.74L135,235.99L145.38,227.57L155.77,217.19L166.15,192.35L176.54,142.44L186.92,121.07L197.31,142.18L207.69,126.36L218.08,117.67L228.46,131.28L238.85,124.18L249.23,96L259.62,16L270,101.68L280.38,86.72L290.77,118.56L301.15,119.02L311.54,127.71L321.92,149.58L332.31,144.39L342.69,134.68L353.08,127.48L363.46,105.18L373.85,98.51L384.23,117.64L394.62,128.21L405,123.22L415.38,157.27L425.77,158.99L436.15,89.66L446.54,253.99L456.92,185.32L467.31,192.19L477.69,175.28L488.08,225.02L498.46,233.21L519.23,197.08L529.62,184.69L540,304\" style=\"vector-effect: none; fill: none; stroke: rgb(99, 110, 250); stroke-opacity: 1; stroke-width: 2px; opacity: 1;\"/></g><g class=\"points\"/><g class=\"text\"/></g></g></g><g class=\"overplot\"/><path class=\"xlines-above crisp\" d=\"M0,0\" style=\"fill: none;\"/><path class=\"ylines-above crisp\" d=\"M0,0\" style=\"fill: none;\"/><g class=\"overlines-above\"/><g class=\"xaxislayer-above\"><g class=\"xtick\"><text text-anchor=\"middle\" x=\"0\" y=\"433\" transform=\"translate(124.50999999999999,0)\" style=\"font-family: 'Open Sans', verdana, arial, sans-serif; font-size: 12px; fill: rgb(42, 63, 95); fill-opacity: 1; white-space: pre; opacity: 1;\">Jul 2017</text></g><g class=\"xtick\"><text text-anchor=\"middle\" x=\"0\" y=\"433\" style=\"font-family: 'Open Sans', verdana, arial, sans-serif; font-size: 12px; fill: rgb(42, 63, 95); fill-opacity: 1; white-space: pre; opacity: 1;\" transform=\"translate(216.48,0)\">Sep 2017</text></g><g class=\"xtick\"><text text-anchor=\"middle\" x=\"0\" y=\"433\" style=\"font-family: 'Open Sans', verdana, arial, sans-serif; font-size: 12px; fill: rgb(42, 63, 95); fill-opacity: 1; white-space: pre; opacity: 1;\" transform=\"translate(306.98,0)\">Nov 2017</text></g><g class=\"xtick\"><text text-anchor=\"middle\" x=\"0\" y=\"433\" style=\"font-family: 'Open Sans', verdana, arial, sans-serif; font-size: 12px; fill: rgb(42, 63, 95); fill-opacity: 1; white-space: pre; opacity: 1;\" transform=\"translate(397.47,0)\">Jan 2018</text></g><g class=\"xtick\"><text text-anchor=\"middle\" x=\"0\" y=\"433\" style=\"font-family: 'Open Sans', verdana, arial, sans-serif; font-size: 12px; fill: rgb(42, 63, 95); fill-opacity: 1; white-space: pre; opacity: 1;\" transform=\"translate(485,0)\">Mar 2018</text></g><g class=\"xtick\"><text text-anchor=\"middle\" x=\"0\" y=\"433\" style=\"font-family: 'Open Sans', verdana, arial, sans-serif; font-size: 12px; fill: rgb(42, 63, 95); fill-opacity: 1; white-space: pre; opacity: 1;\" transform=\"translate(575.49,0)\">May 2018</text></g></g><g class=\"yaxislayer-above\"><g class=\"ytick\"><text text-anchor=\"end\" x=\"79\" y=\"4.199999999999999\" transform=\"translate(0,403.9)\" style=\"font-family: 'Open Sans', verdana, arial, sans-serif; font-size: 12px; fill: rgb(42, 63, 95); fill-opacity: 1; white-space: pre; opacity: 1;\">2k</text></g><g class=\"ytick\"><text text-anchor=\"end\" x=\"79\" y=\"4.199999999999999\" style=\"font-family: 'Open Sans', verdana, arial, sans-serif; font-size: 12px; fill: rgb(42, 63, 95); fill-opacity: 1; white-space: pre; opacity: 1;\" transform=\"translate(0,337.84000000000003)\">4k</text></g><g class=\"ytick\"><text text-anchor=\"end\" x=\"79\" y=\"4.199999999999999\" style=\"font-family: 'Open Sans', verdana, arial, sans-serif; font-size: 12px; fill: rgb(42, 63, 95); fill-opacity: 1; white-space: pre; opacity: 1;\" transform=\"translate(0,271.78)\">6k</text></g><g class=\"ytick\"><text text-anchor=\"end\" x=\"79\" y=\"4.199999999999999\" style=\"font-family: 'Open Sans', verdana, arial, sans-serif; font-size: 12px; fill: rgb(42, 63, 95); fill-opacity: 1; white-space: pre; opacity: 1;\" transform=\"translate(0,205.70999999999998)\">8k</text></g><g class=\"ytick\"><text text-anchor=\"end\" x=\"79\" y=\"4.199999999999999\" style=\"font-family: 'Open Sans', verdana, arial, sans-serif; font-size: 12px; fill: rgb(42, 63, 95); fill-opacity: 1; white-space: pre; opacity: 1;\" transform=\"translate(0,139.65)\">10k</text></g></g><g class=\"overaxes-above\"/></g></g><g class=\"polarlayer\"/><g class=\"smithlayer\"/><g class=\"ternarylayer\"/><g class=\"geolayer\"/><g class=\"funnelarealayer\"/><g class=\"pielayer\"/><g class=\"iciclelayer\"/><g class=\"treemaplayer\"/><g class=\"sunburstlayer\"/><g class=\"glimages\"/><defs id=\"topdefs-df5842\"><g class=\"clips\"/></defs><g class=\"layer-above\"><g class=\"imagelayer\"/><g class=\"shapelayer\"><g class=\"shape-group\" data-index=\"0\" clip-path=\"url(#clipdf5842y)\"><path data-index=\"0\" fill-rule=\"evenodd\" d=\"M80,280.88L620,280.88\" style=\"opacity: 1; stroke: rgb(255, 0, 0); stroke-opacity: 1; fill: rgb(0, 0, 0); fill-opacity: 0; stroke-dasharray: 9px, 9px; stroke-width: 2px;\"/></g></g></g><g class=\"infolayer\"><g class=\"g-gtitle\"><text class=\"gtitle\" x=\"35\" y=\"50\" text-anchor=\"start\" dy=\"0em\" style=\"font-family: 'Open Sans', verdana, arial, sans-serif; font-size: 17px; fill: rgb(42, 63, 95); opacity: 1; font-weight: normal; white-space: pre;\">WAU</text></g><g class=\"g-xtitle\"><text class=\"xtitle\" x=\"350\" y=\"460.3\" text-anchor=\"middle\" style=\"font-family: 'Open Sans', verdana, arial, sans-serif; font-size: 14px; fill: rgb(42, 63, 95); opacity: 1; font-weight: normal; white-space: pre;\">Week</text></g><g class=\"g-ytitle\"><text class=\"ytitle\" transform=\"rotate(-90,32.340625,260)\" x=\"32.340625\" y=\"260\" text-anchor=\"middle\" style=\"font-family: 'Open Sans', verdana, arial, sans-serif; font-size: 14px; fill: rgb(42, 63, 95); opacity: 1; font-weight: normal; white-space: pre;\">Number of uid</text></g><g class=\"annotation\" data-index=\"0\" style=\"opacity: 1;\"><g class=\"annotation-text-g\" transform=\"rotate(0,122.5,271.38)\"><g class=\"cursor-pointer\" transform=\"translate(80,262)\"><rect class=\"bg\" x=\"0.5\" y=\"0.5\" width=\"84\" height=\"18\" style=\"stroke-width: 1px; stroke: rgb(0, 0, 0); stroke-opacity: 0; fill: rgb(0, 0, 0); fill-opacity: 0;\"/><text class=\"annotation-text\" text-anchor=\"middle\" x=\"42.359375\" y=\"14\" style=\"font-family: 'Open Sans', verdana, arial, sans-serif; font-size: 12px; fill: rgb(42, 63, 95); fill-opacity: 1; white-space: pre;\">average WAU</text></g></g></g></g></svg>"
      ]
     },
     "metadata": {},
     "output_type": "display_data"
    }
   ],
   "source": [
    "fig = px.line(wau, x = 'week', y = 'uid', title = 'WAU', labels ={'week': 'Week', 'uid': 'Number of uid'})\n",
    "fig.add_hline(y = wau['uid'].mean(), line_dash = 'dash', line_color = 'red', annotation_text = 'average WAU', \n",
    "              annotation_position = 'top left')\n",
    "fig.show(\"svg\")"
   ]
  },
  {
   "cell_type": "code",
   "execution_count": 26,
   "metadata": {},
   "outputs": [
    {
     "data": {
      "text/html": [
       "<div>\n",
       "<style scoped>\n",
       "    .dataframe tbody tr th:only-of-type {\n",
       "        vertical-align: middle;\n",
       "    }\n",
       "\n",
       "    .dataframe tbody tr th {\n",
       "        vertical-align: top;\n",
       "    }\n",
       "\n",
       "    .dataframe thead th {\n",
       "        text-align: right;\n",
       "    }\n",
       "</style>\n",
       "<table border=\"1\" class=\"dataframe\">\n",
       "  <thead>\n",
       "    <tr style=\"text-align: right;\">\n",
       "      <th></th>\n",
       "      <th>month</th>\n",
       "      <th>uid</th>\n",
       "    </tr>\n",
       "  </thead>\n",
       "  <tbody>\n",
       "    <tr>\n",
       "      <th>0</th>\n",
       "      <td>2017-06-01</td>\n",
       "      <td>13259</td>\n",
       "    </tr>\n",
       "    <tr>\n",
       "      <th>1</th>\n",
       "      <td>2017-07-01</td>\n",
       "      <td>14183</td>\n",
       "    </tr>\n",
       "    <tr>\n",
       "      <th>2</th>\n",
       "      <td>2017-08-01</td>\n",
       "      <td>11631</td>\n",
       "    </tr>\n",
       "    <tr>\n",
       "      <th>3</th>\n",
       "      <td>2017-09-01</td>\n",
       "      <td>18975</td>\n",
       "    </tr>\n",
       "    <tr>\n",
       "      <th>4</th>\n",
       "      <td>2017-10-01</td>\n",
       "      <td>29692</td>\n",
       "    </tr>\n",
       "  </tbody>\n",
       "</table>\n",
       "</div>"
      ],
      "text/plain": [
       "       month    uid\n",
       "0 2017-06-01  13259\n",
       "1 2017-07-01  14183\n",
       "2 2017-08-01  11631\n",
       "3 2017-09-01  18975\n",
       "4 2017-10-01  29692"
      ]
     },
     "execution_count": 26,
     "metadata": {},
     "output_type": "execute_result"
    }
   ],
   "source": [
    "mau = visits.groupby('month').agg({'uid':'nunique'}).reset_index()\n",
    "mau.head()"
   ]
  },
  {
   "cell_type": "code",
   "execution_count": 27,
   "metadata": {},
   "outputs": [
    {
     "name": "stdout",
     "output_type": "stream",
     "text": [
      "Average MAU: 23228.416666666668\n"
     ]
    }
   ],
   "source": [
    "print('Average MAU:', mau['uid'].mean())"
   ]
  },
  {
   "cell_type": "code",
   "execution_count": 28,
   "metadata": {},
   "outputs": [
    {
     "data": {
      "image/svg+xml": [
       "<svg class=\"main-svg\" xmlns=\"http://www.w3.org/2000/svg\" xmlns:xlink=\"http://www.w3.org/1999/xlink\" width=\"700\" height=\"500\" style=\"\" viewBox=\"0 0 700 500\"><rect x=\"0\" y=\"0\" width=\"700\" height=\"500\" style=\"fill: rgb(255, 255, 255); fill-opacity: 1;\"/><defs id=\"defs-e798f2\"><g class=\"clips\"><clipPath id=\"clipe798f2xyplot\" class=\"plotclip\"><rect width=\"540\" height=\"320\"/></clipPath><clipPath class=\"axesclip\" id=\"clipe798f2x\"><rect x=\"80\" y=\"0\" width=\"540\" height=\"500\"/></clipPath><clipPath class=\"axesclip\" id=\"clipe798f2y\"><rect x=\"0\" y=\"100\" width=\"700\" height=\"320\"/></clipPath><clipPath class=\"axesclip\" id=\"clipe798f2xy\"><rect x=\"80\" y=\"100\" width=\"540\" height=\"320\"/></clipPath></g><g class=\"gradients\"/><g class=\"patterns\"/></defs><g class=\"bglayer\"><rect class=\"bg\" x=\"80\" y=\"100\" width=\"540\" height=\"320\" style=\"fill: rgb(229, 236, 246); fill-opacity: 1; stroke-width: 0;\"/></g><g class=\"layer-below\"><g class=\"imagelayer\"/><g class=\"shapelayer\"/></g><g class=\"cartesianlayer\"><g class=\"subplot xy\"><g class=\"layer-subplot\"><g class=\"shapelayer\"/><g class=\"imagelayer\"/></g><g class=\"minor-gridlayer\"><g class=\"x\"/><g class=\"y\"/></g><g class=\"gridlayer\"><g class=\"x\"><path class=\"xgrid crisp\" transform=\"translate(128.5,0)\" d=\"M0,100v320\" style=\"stroke: rgb(255, 255, 255); stroke-opacity: 1; stroke-width: 1px;\"/><path class=\"xgrid crisp\" transform=\"translate(228.74,0)\" d=\"M0,100v320\" style=\"stroke: rgb(255, 255, 255); stroke-opacity: 1; stroke-width: 1px;\"/><path class=\"xgrid crisp\" transform=\"translate(327.37,0)\" d=\"M0,100v320\" style=\"stroke: rgb(255, 255, 255); stroke-opacity: 1; stroke-width: 1px;\"/><path class=\"xgrid crisp\" transform=\"translate(425.99,0)\" d=\"M0,100v320\" style=\"stroke: rgb(255, 255, 255); stroke-opacity: 1; stroke-width: 1px;\"/><path class=\"xgrid crisp\" transform=\"translate(521.38,0)\" d=\"M0,100v320\" style=\"stroke: rgb(255, 255, 255); stroke-opacity: 1; stroke-width: 1px;\"/></g><g class=\"y\"><path class=\"ygrid crisp\" transform=\"translate(0,358.16)\" d=\"M80,0h540\" style=\"stroke: rgb(255, 255, 255); stroke-opacity: 1; stroke-width: 1px;\"/><path class=\"ygrid crisp\" transform=\"translate(0,290.13)\" d=\"M80,0h540\" style=\"stroke: rgb(255, 255, 255); stroke-opacity: 1; stroke-width: 1px;\"/><path class=\"ygrid crisp\" transform=\"translate(0,222.09)\" d=\"M80,0h540\" style=\"stroke: rgb(255, 255, 255); stroke-opacity: 1; stroke-width: 1px;\"/><path class=\"ygrid crisp\" transform=\"translate(0,154.06)\" d=\"M80,0h540\" style=\"stroke: rgb(255, 255, 255); stroke-opacity: 1; stroke-width: 1px;\"/></g></g><g class=\"zerolinelayer\"/><path class=\"xlines-below\"/><path class=\"ylines-below\"/><g class=\"overlines-below\"/><g class=\"xaxislayer-below\"/><g class=\"yaxislayer-below\"/><g class=\"overaxes-below\"/><g class=\"plot\" transform=\"translate(80,100)\" clip-path=\"url(#clipe798f2xyplot)\"><g class=\"scatterlayer mlayer\"><g class=\"trace scatter trace5df6c5\" style=\"stroke-miterlimit: 2; opacity: 1;\"><g class=\"fills\"/><g class=\"errorbars\"/><g class=\"lines\"><path class=\"js-line\" d=\"M0,281.85L48.5,269.28L98.62,304L148.74,204.07L197.25,58.25L247.37,16L295.87,32.87L345.99,71.53L396.11,71.08L441.38,88.44L491.5,176.41L540,180.59\" style=\"vector-effect: none; fill: none; stroke: rgb(99, 110, 250); stroke-opacity: 1; stroke-width: 2px; opacity: 1;\"/></g><g class=\"points\"/><g class=\"text\"/></g></g></g><g class=\"overplot\"/><path class=\"xlines-above crisp\" d=\"M0,0\" style=\"fill: none;\"/><path class=\"ylines-above crisp\" d=\"M0,0\" style=\"fill: none;\"/><g class=\"overlines-above\"/><g class=\"xaxislayer-above\"><g class=\"xtick\"><text text-anchor=\"middle\" x=\"0\" y=\"433\" transform=\"translate(128.5,0)\" style=\"font-family: 'Open Sans', verdana, arial, sans-serif; font-size: 12px; fill: rgb(42, 63, 95); fill-opacity: 1; white-space: pre; opacity: 1;\">Jul 2017</text></g><g class=\"xtick\"><text text-anchor=\"middle\" x=\"0\" y=\"433\" style=\"font-family: 'Open Sans', verdana, arial, sans-serif; font-size: 12px; fill: rgb(42, 63, 95); fill-opacity: 1; white-space: pre; opacity: 1;\" transform=\"translate(228.74,0)\">Sep 2017</text></g><g class=\"xtick\"><text text-anchor=\"middle\" x=\"0\" y=\"433\" style=\"font-family: 'Open Sans', verdana, arial, sans-serif; font-size: 12px; fill: rgb(42, 63, 95); fill-opacity: 1; white-space: pre; opacity: 1;\" transform=\"translate(327.37,0)\">Nov 2017</text></g><g class=\"xtick\"><text text-anchor=\"middle\" x=\"0\" y=\"433\" style=\"font-family: 'Open Sans', verdana, arial, sans-serif; font-size: 12px; fill: rgb(42, 63, 95); fill-opacity: 1; white-space: pre; opacity: 1;\" transform=\"translate(425.99,0)\">Jan 2018</text></g><g class=\"xtick\"><text text-anchor=\"middle\" x=\"0\" y=\"433\" style=\"font-family: 'Open Sans', verdana, arial, sans-serif; font-size: 12px; fill: rgb(42, 63, 95); fill-opacity: 1; white-space: pre; opacity: 1;\" transform=\"translate(521.38,0)\">Mar 2018</text></g><g class=\"xtick\"><text text-anchor=\"middle\" x=\"0\" y=\"433\" style=\"font-family: 'Open Sans', verdana, arial, sans-serif; font-size: 12px; fill: rgb(42, 63, 95); fill-opacity: 1; white-space: pre; opacity: 1;\" transform=\"translate(620,0)\">May 2018</text></g></g><g class=\"yaxislayer-above\"><g class=\"ytick\"><text text-anchor=\"end\" x=\"79\" y=\"4.199999999999999\" transform=\"translate(0,358.16)\" style=\"font-family: 'Open Sans', verdana, arial, sans-serif; font-size: 12px; fill: rgb(42, 63, 95); fill-opacity: 1; white-space: pre; opacity: 1;\">15k</text></g><g class=\"ytick\"><text text-anchor=\"end\" x=\"79\" y=\"4.199999999999999\" style=\"font-family: 'Open Sans', verdana, arial, sans-serif; font-size: 12px; fill: rgb(42, 63, 95); fill-opacity: 1; white-space: pre; opacity: 1;\" transform=\"translate(0,290.13)\">20k</text></g><g class=\"ytick\"><text text-anchor=\"end\" x=\"79\" y=\"4.199999999999999\" style=\"font-family: 'Open Sans', verdana, arial, sans-serif; font-size: 12px; fill: rgb(42, 63, 95); fill-opacity: 1; white-space: pre; opacity: 1;\" transform=\"translate(0,222.09)\">25k</text></g><g class=\"ytick\"><text text-anchor=\"end\" x=\"79\" y=\"4.199999999999999\" style=\"font-family: 'Open Sans', verdana, arial, sans-serif; font-size: 12px; fill: rgb(42, 63, 95); fill-opacity: 1; white-space: pre; opacity: 1;\" transform=\"translate(0,154.06)\">30k</text></g></g><g class=\"overaxes-above\"/></g></g><g class=\"polarlayer\"/><g class=\"smithlayer\"/><g class=\"ternarylayer\"/><g class=\"geolayer\"/><g class=\"funnelarealayer\"/><g class=\"pielayer\"/><g class=\"iciclelayer\"/><g class=\"treemaplayer\"/><g class=\"sunburstlayer\"/><g class=\"glimages\"/><defs id=\"topdefs-e798f2\"><g class=\"clips\"/></defs><g class=\"layer-above\"><g class=\"imagelayer\"/><g class=\"shapelayer\"><g class=\"shape-group\" data-index=\"0\" clip-path=\"url(#clipe798f2y)\"><path data-index=\"0\" fill-rule=\"evenodd\" d=\"M80,246.2L620,246.2\" style=\"opacity: 1; stroke: rgb(255, 0, 0); stroke-opacity: 1; fill: rgb(0, 0, 0); fill-opacity: 0; stroke-dasharray: 9px, 9px; stroke-width: 2px;\"/></g></g></g><g class=\"infolayer\"><g class=\"g-gtitle\"><text class=\"gtitle\" x=\"35\" y=\"50\" text-anchor=\"start\" dy=\"0em\" style=\"font-family: 'Open Sans', verdana, arial, sans-serif; font-size: 17px; fill: rgb(42, 63, 95); opacity: 1; font-weight: normal; white-space: pre;\">MAU</text></g><g class=\"g-xtitle\"><text class=\"xtitle\" x=\"350\" y=\"460.3\" text-anchor=\"middle\" style=\"font-family: 'Open Sans', verdana, arial, sans-serif; font-size: 14px; fill: rgb(42, 63, 95); opacity: 1; font-weight: normal; white-space: pre;\">Month</text></g><g class=\"g-ytitle\"><text class=\"ytitle\" transform=\"rotate(-90,32.340625,260)\" x=\"32.340625\" y=\"260\" text-anchor=\"middle\" style=\"font-family: 'Open Sans', verdana, arial, sans-serif; font-size: 14px; fill: rgb(42, 63, 95); opacity: 1; font-weight: normal; white-space: pre;\">Number of uid</text></g><g class=\"annotation\" data-index=\"0\" style=\"opacity: 1;\"><g class=\"annotation-text-g\" transform=\"rotate(0,122,236.7)\"><g class=\"cursor-pointer\" transform=\"translate(80,227)\"><rect class=\"bg\" x=\"0.5\" y=\"0.5\" width=\"83\" height=\"18\" style=\"stroke-width: 1px; stroke: rgb(0, 0, 0); stroke-opacity: 0; fill: rgb(0, 0, 0); fill-opacity: 0;\"/><text class=\"annotation-text\" text-anchor=\"middle\" x=\"41.640625\" y=\"14\" style=\"font-family: 'Open Sans', verdana, arial, sans-serif; font-size: 12px; fill: rgb(42, 63, 95); fill-opacity: 1; white-space: pre;\">average MAU</text></g></g></g></g></svg>"
      ]
     },
     "metadata": {},
     "output_type": "display_data"
    }
   ],
   "source": [
    "fig = px.line(mau, x = 'month', y = 'uid', title = 'MAU', labels ={'month': 'Month', 'uid': 'Number of uid'})\n",
    "fig.add_hline(y = mau['uid'].mean(), line_dash = 'dash', line_color = 'red', annotation_text = 'average MAU', \n",
    "              annotation_position = 'top left')\n",
    "fig.show(\"svg\")"
   ]
  },
  {
   "cell_type": "markdown",
   "metadata": {},
   "source": [
    "**Conclusion**    \n",
    "\n",
    "So, the DAU (daily) graph looks like the cardiogram of healthy person, that tended to increase from August 2017 to January 2018 with an obvious peak on 24th November where 3319 unique users were attracted.  After January 2018 it tended to decrease to the first decade of May with a huge fall on 31st of March, where just 1 new user was attracted and following increasing during May.   \n",
    "\n",
    "Almost the same picture we can observe on WAU (weekly) and MAU (monthly) graph, where we see increasing from August to November, and following decreasing from end of November to end of May.   "
   ]
  },
  {
   "cell_type": "markdown",
   "metadata": {},
   "source": [
    "##### How many sessions are there per day? (One user might have more than one session.)"
   ]
  },
  {
   "cell_type": "markdown",
   "metadata": {},
   "source": [
    "Let's plot two graphs: the first one for number of users per day only and the second one for both tables - sessions per day and daily active users "
   ]
  },
  {
   "cell_type": "code",
   "execution_count": 29,
   "metadata": {},
   "outputs": [
    {
     "data": {
      "text/html": [
       "<div>\n",
       "<style scoped>\n",
       "    .dataframe tbody tr th:only-of-type {\n",
       "        vertical-align: middle;\n",
       "    }\n",
       "\n",
       "    .dataframe tbody tr th {\n",
       "        vertical-align: top;\n",
       "    }\n",
       "\n",
       "    .dataframe thead th {\n",
       "        text-align: right;\n",
       "    }\n",
       "</style>\n",
       "<table border=\"1\" class=\"dataframe\">\n",
       "  <thead>\n",
       "    <tr style=\"text-align: right;\">\n",
       "      <th></th>\n",
       "      <th>date</th>\n",
       "      <th>uid</th>\n",
       "    </tr>\n",
       "  </thead>\n",
       "  <tbody>\n",
       "    <tr>\n",
       "      <th>0</th>\n",
       "      <td>2017-06-01</td>\n",
       "      <td>664</td>\n",
       "    </tr>\n",
       "    <tr>\n",
       "      <th>1</th>\n",
       "      <td>2017-06-02</td>\n",
       "      <td>658</td>\n",
       "    </tr>\n",
       "    <tr>\n",
       "      <th>2</th>\n",
       "      <td>2017-06-03</td>\n",
       "      <td>477</td>\n",
       "    </tr>\n",
       "    <tr>\n",
       "      <th>3</th>\n",
       "      <td>2017-06-04</td>\n",
       "      <td>510</td>\n",
       "    </tr>\n",
       "    <tr>\n",
       "      <th>4</th>\n",
       "      <td>2017-06-05</td>\n",
       "      <td>893</td>\n",
       "    </tr>\n",
       "  </tbody>\n",
       "</table>\n",
       "</div>"
      ],
      "text/plain": [
       "         date  uid\n",
       "0  2017-06-01  664\n",
       "1  2017-06-02  658\n",
       "2  2017-06-03  477\n",
       "3  2017-06-04  510\n",
       "4  2017-06-05  893"
      ]
     },
     "execution_count": 29,
     "metadata": {},
     "output_type": "execute_result"
    }
   ],
   "source": [
    "session_per_day = visits.groupby('date').agg({'uid': 'count'}).reset_index()\n",
    "session_per_day.head() "
   ]
  },
  {
   "cell_type": "code",
   "execution_count": 30,
   "metadata": {},
   "outputs": [
    {
     "name": "stdout",
     "output_type": "stream",
     "text": [
      "Average sessions per day: 987.3626373626373\n"
     ]
    }
   ],
   "source": [
    "print('Average sessions per day:', session_per_day['uid'].mean())"
   ]
  },
  {
   "cell_type": "code",
   "execution_count": 31,
   "metadata": {},
   "outputs": [
    {
     "data": {
      "image/svg+xml": [
       "<svg class=\"main-svg\" xmlns=\"http://www.w3.org/2000/svg\" xmlns:xlink=\"http://www.w3.org/1999/xlink\" width=\"700\" height=\"500\" style=\"\" viewBox=\"0 0 700 500\"><rect x=\"0\" y=\"0\" width=\"700\" height=\"500\" style=\"fill: rgb(255, 255, 255); fill-opacity: 1;\"/><defs id=\"defs-7c1d54\"><g class=\"clips\"><clipPath id=\"clip7c1d54xyplot\" class=\"plotclip\"><rect width=\"540\" height=\"320\"/></clipPath><clipPath class=\"axesclip\" id=\"clip7c1d54x\"><rect x=\"80\" y=\"0\" width=\"540\" height=\"500\"/></clipPath><clipPath class=\"axesclip\" id=\"clip7c1d54y\"><rect x=\"0\" y=\"100\" width=\"700\" height=\"320\"/></clipPath><clipPath class=\"axesclip\" id=\"clip7c1d54xy\"><rect x=\"80\" y=\"100\" width=\"540\" height=\"320\"/></clipPath></g><g class=\"gradients\"/><g class=\"patterns\"/></defs><g class=\"bglayer\"><rect class=\"bg\" x=\"80\" y=\"100\" width=\"540\" height=\"320\" style=\"fill: rgb(229, 236, 246); fill-opacity: 1; stroke-width: 0;\"/></g><g class=\"layer-below\"><g class=\"imagelayer\"/><g class=\"shapelayer\"/></g><g class=\"cartesianlayer\"><g class=\"subplot xy\"><g class=\"layer-subplot\"><g class=\"shapelayer\"/><g class=\"imagelayer\"/></g><g class=\"minor-gridlayer\"><g class=\"x\"/><g class=\"y\"/></g><g class=\"gridlayer\"><g class=\"x\"><path class=\"xgrid crisp\" transform=\"translate(124.50999999999999,0)\" d=\"M0,100v320\" style=\"stroke: rgb(255, 255, 255); stroke-opacity: 1; stroke-width: 1px;\"/><path class=\"xgrid crisp\" transform=\"translate(216.48,0)\" d=\"M0,100v320\" style=\"stroke: rgb(255, 255, 255); stroke-opacity: 1; stroke-width: 1px;\"/><path class=\"xgrid crisp\" transform=\"translate(306.98,0)\" d=\"M0,100v320\" style=\"stroke: rgb(255, 255, 255); stroke-opacity: 1; stroke-width: 1px;\"/><path class=\"xgrid crisp\" transform=\"translate(397.47,0)\" d=\"M0,100v320\" style=\"stroke: rgb(255, 255, 255); stroke-opacity: 1; stroke-width: 1px;\"/><path class=\"xgrid crisp\" transform=\"translate(485,0)\" d=\"M0,100v320\" style=\"stroke: rgb(255, 255, 255); stroke-opacity: 1; stroke-width: 1px;\"/><path class=\"xgrid crisp\" transform=\"translate(575.49,0)\" d=\"M0,100v320\" style=\"stroke: rgb(255, 255, 255); stroke-opacity: 1; stroke-width: 1px;\"/></g><g class=\"y\"><path class=\"ygrid crisp\" transform=\"translate(0,368.44)\" d=\"M80,0h540\" style=\"stroke: rgb(255, 255, 255); stroke-opacity: 1; stroke-width: 1px;\"/><path class=\"ygrid crisp\" transform=\"translate(0,332.8)\" d=\"M80,0h540\" style=\"stroke: rgb(255, 255, 255); stroke-opacity: 1; stroke-width: 1px;\"/><path class=\"ygrid crisp\" transform=\"translate(0,297.16999999999996)\" d=\"M80,0h540\" style=\"stroke: rgb(255, 255, 255); stroke-opacity: 1; stroke-width: 1px;\"/><path class=\"ygrid crisp\" transform=\"translate(0,261.53)\" d=\"M80,0h540\" style=\"stroke: rgb(255, 255, 255); stroke-opacity: 1; stroke-width: 1px;\"/><path class=\"ygrid crisp\" transform=\"translate(0,225.9)\" d=\"M80,0h540\" style=\"stroke: rgb(255, 255, 255); stroke-opacity: 1; stroke-width: 1px;\"/><path class=\"ygrid crisp\" transform=\"translate(0,190.26)\" d=\"M80,0h540\" style=\"stroke: rgb(255, 255, 255); stroke-opacity: 1; stroke-width: 1px;\"/><path class=\"ygrid crisp\" transform=\"translate(0,154.63)\" d=\"M80,0h540\" style=\"stroke: rgb(255, 255, 255); stroke-opacity: 1; stroke-width: 1px;\"/><path class=\"ygrid crisp\" transform=\"translate(0,118.99)\" d=\"M80,0h540\" style=\"stroke: rgb(255, 255, 255); stroke-opacity: 1; stroke-width: 1px;\"/></g></g><g class=\"zerolinelayer\"><path class=\"yzl zl crisp\" transform=\"translate(0,404.07)\" d=\"M80,0h540\" style=\"stroke: rgb(255, 255, 255); stroke-opacity: 1; stroke-width: 2px;\"/></g><path class=\"xlines-below\"/><path class=\"ylines-below\"/><g class=\"overlines-below\"/><g class=\"xaxislayer-below\"/><g class=\"yaxislayer-below\"/><g class=\"overaxes-below\"/><g class=\"plot\" transform=\"translate(80,100)\" clip-path=\"url(#clip7c1d54xyplot)\"><g class=\"scatterlayer mlayer\"><g class=\"trace scatter trace0de0f8\" style=\"stroke-miterlimit: 2; opacity: 1;\"><g class=\"fills\"/><g class=\"errorbars\"/><g class=\"lines\"><path class=\"js-line\" d=\"M0,256.75L1.48,257.18L2.97,270.08L4.45,267.72L5.93,240.43L7.42,241.71L8.9,247.91L10.38,237.15L11.87,250.26L13.35,277.35L14.84,282.26L16.32,278.77L17.8,265.87L19.29,265.09L20.77,260.67L22.25,266.73L23.74,280.05L25.22,282.26L26.7,267.15L28.19,268.58L29.67,271.07L31.15,263.59L32.64,270.36L34.12,279.84L35.6,274.64L37.09,260.88L38.57,267.01L40.05,262.09L41.54,262.02L44.51,276.2L45.99,279.48L47.47,259.1L48.96,265.44L50.44,263.73L51.92,259.88L53.41,263.23L54.89,274.49L56.37,270.22L57.86,250.69L59.34,260.03L60.82,252.26L62.31,246.77L63.79,238.43L66.76,265.09L68.24,212.99L69.73,248.84L71.21,260.6L72.69,258.89L74.18,264.59L75.66,277.13L77.14,279.48L78.63,261.88L80.11,270.57L81.59,271.57L83.08,268.72L86.04,280.48L87.53,280.41L89.01,267.08L90.49,272.86L91.98,277.06L93.46,273.85L96.43,282.41L97.91,282.98L99.4,272.43L100.88,274.64L102.36,274L103.85,270.57L105.33,272.43L106.81,282.98L108.3,283.19L109.78,267.01L111.26,267.22L112.75,269.65L114.23,267.87L115.71,271.36L117.2,282.69L118.68,279.77L120.16,264.3L121.65,265.51L123.13,263.66L124.62,266.3L126.1,266.65L127.58,273.78L129.07,272.78L130.55,257.25L132.03,258.74L133.52,257.82L135,253.61L136.48,259.67L137.97,268.86L139.45,266.37L140.93,254.18L142.42,248.27L143.9,244.78L145.38,243.85L146.87,241.28L148.35,265.66L149.84,265.94L151.32,246.06L152.8,254.18L154.29,254.68L155.77,243.21L157.25,248.91L158.74,261.88L160.22,262.45L161.7,243.06L163.19,241.14L164.67,244.42L166.15,241.21L167.64,241.07L169.12,256.39L170.6,253.9L172.09,228.1L173.57,227.81L175.05,229.74L176.54,219.69L178.02,220.9L179.51,240.64L180.99,240.29L182.47,216.55L183.96,212.2L185.44,209.21L186.92,210.07L188.41,193.18L189.89,218.41L191.37,236.15L192.86,207L194.34,215.41L195.82,217.19L197.31,212.78L198.79,211.35L200.27,236.22L201.76,235.8L203.24,213.63L204.73,221.26L207.69,217.05L209.18,206.79L210.66,227.81L212.14,228.31L213.63,206.29L215.11,209.57L216.59,218.69L218.08,216.05L219.56,212.42L221.04,226.46L222.53,218.12L224.01,204.37L226.98,208.64L228.46,213.56L229.95,216.98L231.43,233.73L234.4,224.11L235.88,209.57L238.85,216.34L240.33,211.49L241.81,231.38L243.3,231.8L244.78,194.74L246.26,206.22L247.75,214.56L249.23,178.85L250.71,194.46L252.2,226.74L253.68,224.75L255.16,193.67L258.13,206.15L259.62,191.96L261.1,16L262.58,155.19L264.07,198.45L265.55,177.64L267.03,179.63L268.52,198.59L270,191.89L271.48,203.22L272.97,222.4L274.45,213.27L275.93,192.75L277.42,189.9L278.9,195.1L280.38,186.05L281.87,194.24L283.35,218.98L284.84,217.55L286.32,186.41L287.8,189.47L289.29,185.05L292.25,202.08L293.74,225.1L295.22,224.18L296.7,204.29L298.19,212.85L299.67,213.13L301.15,210.35L302.64,215.91L304.12,236.72L305.6,229.45L307.09,196.95L308.57,197.45L310.05,201.16L311.54,197.45L314.51,219.12L315.99,248.2L318.96,207.5L320.44,210.21L321.92,206.43L323.41,226.24L326.37,241.07L327.86,234.23L329.34,217.55L330.82,215.84L332.31,209.64L333.79,215.13L335.27,239.79L336.76,235.37L338.24,210.49L339.73,217.27L341.21,222.9L342.69,211.99L344.18,213.06L345.66,228.45L347.14,231.59L348.63,204.37L350.11,214.06L351.59,215.77L353.08,209.64L354.56,216.48L356.04,229.67L357.53,233.59L359.01,202.01L360.49,202.87L361.98,207.57L363.46,170.23L366.43,224.68L367.91,227.74L369.4,207.43L370.88,210.78L372.36,207.57L373.85,194.32L378.3,223.96L379.78,198.09L381.26,200.52L382.75,199.59L384.23,196.53L385.71,213.92L387.2,233.8L388.68,225.25L390.16,197.88L391.65,202.16L393.13,203.01L394.62,211.56L396.1,228.45L397.58,222.9L399.07,226.1L400.55,196.88L403.52,220.19L405,212.85L406.48,206.15L407.97,229.88L409.45,226.17L410.93,209.43L412.42,208.29L413.9,202.65L415.38,224.82L416.87,227.67L419.84,241.07L421.32,211.92L422.8,215.41L424.29,225.1L425.77,223.25L427.25,227.03L428.74,243.06L430.22,248.98L431.7,211.21L433.19,213.2L434.67,216.91L436.15,199.52L437.64,216.2L439.12,219.33L440.6,182.7L442.09,176.07L443.57,180.49L445.05,227.88L446.54,223.68L448.02,294.52L449.51,304L452.47,255.39L453.96,232.09L455.44,231.95L456.92,234.08L458.41,233.3L459.89,248.41L461.37,248.41L462.86,230.73L464.34,235.3L465.82,236.22L467.31,233.16L468.79,231.38L470.27,254.9L471.76,251.97L473.24,236.86L474.73,239.22L476.21,231.09L477.69,223.18L479.18,226.39L480.66,244.35L482.14,245.06L483.63,225.32L485.11,233.09L486.59,234.37L488.08,229.24L489.56,238.86L491.04,242.78L494.01,264.94L495.49,267.22L496.98,266.58L498.46,241.92L499.95,247.13L501.43,260.45L502.91,259.81L504.4,248.91L505.88,257.53L507.36,271L508.85,242.21L510.33,241.43L511.81,260.17L513.3,264.94L514.78,242.92L516.26,244.78L519.23,231.95L520.71,233.44L522.2,251.69L523.68,252.54L525.16,234.44L526.65,236.86L528.13,240.36L529.62,239.43L531.1,240.93L532.58,257.39L534.07,256.18L535.55,221.68L537.03,230.31L538.52,203.58L540,143.29\" style=\"vector-effect: none; fill: none; stroke: rgb(99, 110, 250); stroke-opacity: 1; stroke-width: 2px; opacity: 1;\"/></g><g class=\"points\"/><g class=\"text\"/></g></g></g><g class=\"overplot\"/><path class=\"xlines-above crisp\" d=\"M0,0\" style=\"fill: none;\"/><path class=\"ylines-above crisp\" d=\"M0,0\" style=\"fill: none;\"/><g class=\"overlines-above\"/><g class=\"xaxislayer-above\"><g class=\"xtick\"><text text-anchor=\"middle\" x=\"0\" y=\"433\" transform=\"translate(124.50999999999999,0)\" style=\"font-family: 'Open Sans', verdana, arial, sans-serif; font-size: 12px; fill: rgb(42, 63, 95); fill-opacity: 1; white-space: pre; opacity: 1;\">Jul 2017</text></g><g class=\"xtick\"><text text-anchor=\"middle\" x=\"0\" y=\"433\" style=\"font-family: 'Open Sans', verdana, arial, sans-serif; font-size: 12px; fill: rgb(42, 63, 95); fill-opacity: 1; white-space: pre; opacity: 1;\" transform=\"translate(216.48,0)\">Sep 2017</text></g><g class=\"xtick\"><text text-anchor=\"middle\" x=\"0\" y=\"433\" style=\"font-family: 'Open Sans', verdana, arial, sans-serif; font-size: 12px; fill: rgb(42, 63, 95); fill-opacity: 1; white-space: pre; opacity: 1;\" transform=\"translate(306.98,0)\">Nov 2017</text></g><g class=\"xtick\"><text text-anchor=\"middle\" x=\"0\" y=\"433\" style=\"font-family: 'Open Sans', verdana, arial, sans-serif; font-size: 12px; fill: rgb(42, 63, 95); fill-opacity: 1; white-space: pre; opacity: 1;\" transform=\"translate(397.47,0)\">Jan 2018</text></g><g class=\"xtick\"><text text-anchor=\"middle\" x=\"0\" y=\"433\" style=\"font-family: 'Open Sans', verdana, arial, sans-serif; font-size: 12px; fill: rgb(42, 63, 95); fill-opacity: 1; white-space: pre; opacity: 1;\" transform=\"translate(485,0)\">Mar 2018</text></g><g class=\"xtick\"><text text-anchor=\"middle\" x=\"0\" y=\"433\" style=\"font-family: 'Open Sans', verdana, arial, sans-serif; font-size: 12px; fill: rgb(42, 63, 95); fill-opacity: 1; white-space: pre; opacity: 1;\" transform=\"translate(575.49,0)\">May 2018</text></g></g><g class=\"yaxislayer-above\"><g class=\"ytick\"><text text-anchor=\"end\" x=\"79\" y=\"4.199999999999999\" transform=\"translate(0,404.07)\" style=\"font-family: 'Open Sans', verdana, arial, sans-serif; font-size: 12px; fill: rgb(42, 63, 95); fill-opacity: 1; white-space: pre; opacity: 1;\">0</text></g><g class=\"ytick\"><text text-anchor=\"end\" x=\"79\" y=\"4.199999999999999\" style=\"font-family: 'Open Sans', verdana, arial, sans-serif; font-size: 12px; fill: rgb(42, 63, 95); fill-opacity: 1; white-space: pre; opacity: 1;\" transform=\"translate(0,368.44)\">500</text></g><g class=\"ytick\"><text text-anchor=\"end\" x=\"79\" y=\"4.199999999999999\" style=\"font-family: 'Open Sans', verdana, arial, sans-serif; font-size: 12px; fill: rgb(42, 63, 95); fill-opacity: 1; white-space: pre; opacity: 1;\" transform=\"translate(0,332.8)\">1000</text></g><g class=\"ytick\"><text text-anchor=\"end\" x=\"79\" y=\"4.199999999999999\" style=\"font-family: 'Open Sans', verdana, arial, sans-serif; font-size: 12px; fill: rgb(42, 63, 95); fill-opacity: 1; white-space: pre; opacity: 1;\" transform=\"translate(0,297.16999999999996)\">1500</text></g><g class=\"ytick\"><text text-anchor=\"end\" x=\"79\" y=\"4.199999999999999\" style=\"font-family: 'Open Sans', verdana, arial, sans-serif; font-size: 12px; fill: rgb(42, 63, 95); fill-opacity: 1; white-space: pre; opacity: 1;\" transform=\"translate(0,261.53)\">2000</text></g><g class=\"ytick\"><text text-anchor=\"end\" x=\"79\" y=\"4.199999999999999\" style=\"font-family: 'Open Sans', verdana, arial, sans-serif; font-size: 12px; fill: rgb(42, 63, 95); fill-opacity: 1; white-space: pre; opacity: 1;\" transform=\"translate(0,225.9)\">2500</text></g><g class=\"ytick\"><text text-anchor=\"end\" x=\"79\" y=\"4.199999999999999\" style=\"font-family: 'Open Sans', verdana, arial, sans-serif; font-size: 12px; fill: rgb(42, 63, 95); fill-opacity: 1; white-space: pre; opacity: 1;\" transform=\"translate(0,190.26)\">3000</text></g><g class=\"ytick\"><text text-anchor=\"end\" x=\"79\" y=\"4.199999999999999\" style=\"font-family: 'Open Sans', verdana, arial, sans-serif; font-size: 12px; fill: rgb(42, 63, 95); fill-opacity: 1; white-space: pre; opacity: 1;\" transform=\"translate(0,154.63)\">3500</text></g><g class=\"ytick\"><text text-anchor=\"end\" x=\"79\" y=\"4.199999999999999\" style=\"font-family: 'Open Sans', verdana, arial, sans-serif; font-size: 12px; fill: rgb(42, 63, 95); fill-opacity: 1; white-space: pre; opacity: 1;\" transform=\"translate(0,118.99)\">4000</text></g></g><g class=\"overaxes-above\"/></g></g><g class=\"polarlayer\"/><g class=\"smithlayer\"/><g class=\"ternarylayer\"/><g class=\"geolayer\"/><g class=\"funnelarealayer\"/><g class=\"pielayer\"/><g class=\"iciclelayer\"/><g class=\"treemaplayer\"/><g class=\"sunburstlayer\"/><g class=\"glimages\"/><defs id=\"topdefs-7c1d54\"><g class=\"clips\"/></defs><g class=\"layer-above\"><g class=\"imagelayer\"/><g class=\"shapelayer\"><g class=\"shape-group\" data-index=\"0\" clip-path=\"url(#clip7c1d54y)\"><path data-index=\"0\" fill-rule=\"evenodd\" d=\"M80,333.7L620,333.7\" style=\"opacity: 1; stroke: rgb(255, 0, 0); stroke-opacity: 1; fill: rgb(0, 0, 0); fill-opacity: 0; stroke-dasharray: 9px, 9px; stroke-width: 2px;\"/></g></g></g><g class=\"infolayer\"><g class=\"g-gtitle\"><text class=\"gtitle\" x=\"35\" y=\"50\" text-anchor=\"start\" dy=\"0em\" style=\"font-family: 'Open Sans', verdana, arial, sans-serif; font-size: 17px; fill: rgb(42, 63, 95); opacity: 1; font-weight: normal; white-space: pre;\">Sessions per day</text></g><g class=\"g-xtitle\"><text class=\"xtitle\" x=\"350\" y=\"460.3\" text-anchor=\"middle\" style=\"font-family: 'Open Sans', verdana, arial, sans-serif; font-size: 14px; fill: rgb(42, 63, 95); opacity: 1; font-weight: normal; white-space: pre;\">Date</text></g><g class=\"g-ytitle\"><text class=\"ytitle\" transform=\"rotate(-90,24.184375000000003,260)\" x=\"24.184375000000003\" y=\"260\" text-anchor=\"middle\" style=\"font-family: 'Open Sans', verdana, arial, sans-serif; font-size: 14px; fill: rgb(42, 63, 95); opacity: 1; font-weight: normal; white-space: pre;\">Number of uid</text></g><g class=\"annotation\" data-index=\"0\" style=\"opacity: 1;\"><g class=\"annotation-text-g\" transform=\"rotate(0,159.5,324.2)\"><g class=\"cursor-pointer\" transform=\"translate(80,315)\"><rect class=\"bg\" x=\"0.5\" y=\"0.5\" width=\"158\" height=\"18\" style=\"stroke-width: 1px; stroke: rgb(0, 0, 0); stroke-opacity: 0; fill: rgb(0, 0, 0); fill-opacity: 0;\"/><text class=\"annotation-text\" text-anchor=\"middle\" x=\"79.609375\" y=\"14\" style=\"font-family: 'Open Sans', verdana, arial, sans-serif; font-size: 12px; fill: rgb(42, 63, 95); fill-opacity: 1; white-space: pre;\">Average sessions per day</text></g></g></g></g></svg>"
      ]
     },
     "metadata": {},
     "output_type": "display_data"
    }
   ],
   "source": [
    "fig = px.line(session_per_day, x = 'date', y = 'uid', \n",
    "              title = 'Sessions per day', labels ={'date': 'Date', 'uid': 'Number of uid'})\n",
    "fig.add_hline(y = session_per_day['uid'].mean(), line_dash = 'dash', \n",
    "              line_color = 'red', annotation_text = 'Average sessions per day', annotation_position = 'top left')\n",
    "fig.show(\"svg\")"
   ]
  },
  {
   "cell_type": "code",
   "execution_count": 32,
   "metadata": {},
   "outputs": [
    {
     "data": {
      "image/svg+xml": [
       "<svg class=\"main-svg\" xmlns=\"http://www.w3.org/2000/svg\" xmlns:xlink=\"http://www.w3.org/1999/xlink\" width=\"700\" height=\"500\" style=\"\" viewBox=\"0 0 700 500\"><rect x=\"0\" y=\"0\" width=\"700\" height=\"500\" style=\"fill: rgb(255, 255, 255); fill-opacity: 1;\"/><defs id=\"defs-48c31d\"><g class=\"clips\"><clipPath id=\"clip48c31dxyplot\" class=\"plotclip\"><rect width=\"501\" height=\"320\"/></clipPath><clipPath class=\"axesclip\" id=\"clip48c31dx\"><rect x=\"80\" y=\"0\" width=\"501\" height=\"500\"/></clipPath><clipPath class=\"axesclip\" id=\"clip48c31dy\"><rect x=\"0\" y=\"100\" width=\"700\" height=\"320\"/></clipPath><clipPath class=\"axesclip\" id=\"clip48c31dxy\"><rect x=\"80\" y=\"100\" width=\"501\" height=\"320\"/></clipPath></g><g class=\"gradients\"/><g class=\"patterns\"/></defs><g class=\"bglayer\"><rect class=\"bg\" x=\"80\" y=\"100\" width=\"501\" height=\"320\" style=\"fill: rgb(128, 128, 128); fill-opacity: 1; stroke-width: 0;\"/></g><g class=\"layer-below\"><g class=\"imagelayer\"/><g class=\"shapelayer\"/></g><g class=\"cartesianlayer\"><g class=\"subplot xy\"><g class=\"layer-subplot\"><g class=\"shapelayer\"/><g class=\"imagelayer\"/></g><g class=\"minor-gridlayer\"><g class=\"x\"/><g class=\"y\"/></g><g class=\"gridlayer\"><g class=\"x\"><path class=\"xgrid crisp\" transform=\"translate(121.28999999999999,0)\" d=\"M0,100v320\" style=\"stroke: rgb(255, 255, 255); stroke-opacity: 1; stroke-width: 1px;\"/><path class=\"xgrid crisp\" transform=\"translate(206.63,0)\" d=\"M0,100v320\" style=\"stroke: rgb(255, 255, 255); stroke-opacity: 1; stroke-width: 1px;\"/><path class=\"xgrid crisp\" transform=\"translate(290.59000000000003,0)\" d=\"M0,100v320\" style=\"stroke: rgb(255, 255, 255); stroke-opacity: 1; stroke-width: 1px;\"/><path class=\"xgrid crisp\" transform=\"translate(374.54,0)\" d=\"M0,100v320\" style=\"stroke: rgb(255, 255, 255); stroke-opacity: 1; stroke-width: 1px;\"/><path class=\"xgrid crisp\" transform=\"translate(455.75,0)\" d=\"M0,100v320\" style=\"stroke: rgb(255, 255, 255); stroke-opacity: 1; stroke-width: 1px;\"/><path class=\"xgrid crisp\" transform=\"translate(539.71,0)\" d=\"M0,100v320\" style=\"stroke: rgb(255, 255, 255); stroke-opacity: 1; stroke-width: 1px;\"/></g><g class=\"y\"><path class=\"ygrid crisp\" transform=\"translate(0,368.44)\" d=\"M80,0h501\" style=\"stroke: rgb(255, 255, 255); stroke-opacity: 1; stroke-width: 1px;\"/><path class=\"ygrid crisp\" transform=\"translate(0,332.8)\" d=\"M80,0h501\" style=\"stroke: rgb(255, 255, 255); stroke-opacity: 1; stroke-width: 1px;\"/><path class=\"ygrid crisp\" transform=\"translate(0,297.16999999999996)\" d=\"M80,0h501\" style=\"stroke: rgb(255, 255, 255); stroke-opacity: 1; stroke-width: 1px;\"/><path class=\"ygrid crisp\" transform=\"translate(0,261.53)\" d=\"M80,0h501\" style=\"stroke: rgb(255, 255, 255); stroke-opacity: 1; stroke-width: 1px;\"/><path class=\"ygrid crisp\" transform=\"translate(0,225.9)\" d=\"M80,0h501\" style=\"stroke: rgb(255, 255, 255); stroke-opacity: 1; stroke-width: 1px;\"/><path class=\"ygrid crisp\" transform=\"translate(0,190.26)\" d=\"M80,0h501\" style=\"stroke: rgb(255, 255, 255); stroke-opacity: 1; stroke-width: 1px;\"/><path class=\"ygrid crisp\" transform=\"translate(0,154.63)\" d=\"M80,0h501\" style=\"stroke: rgb(255, 255, 255); stroke-opacity: 1; stroke-width: 1px;\"/><path class=\"ygrid crisp\" transform=\"translate(0,118.99)\" d=\"M80,0h501\" style=\"stroke: rgb(255, 255, 255); stroke-opacity: 1; stroke-width: 1px;\"/></g></g><g class=\"zerolinelayer\"><path class=\"yzl zl crisp\" transform=\"translate(0,404.07)\" d=\"M80,0h501\" style=\"stroke: rgb(255, 255, 255); stroke-opacity: 1; stroke-width: 2px;\"/></g><path class=\"xlines-below\"/><path class=\"ylines-below\"/><g class=\"overlines-below\"/><g class=\"xaxislayer-below\"/><g class=\"yaxislayer-below\"/><g class=\"overaxes-below\"/><g class=\"plot\" transform=\"translate(80,100)\" clip-path=\"url(#clip48c31dxyplot)\"><g class=\"scatterlayer mlayer\"><g class=\"trace scatter trace0adf79\" style=\"stroke-miterlimit: 2; opacity: 1;\"><g class=\"fills\"/><g class=\"errorbars\"/><g class=\"lines\"><path class=\"js-line\" d=\"M0,260.95L1.38,260.74L2.75,272.36L4.13,270.15L5.51,245.63L6.88,247.27L8.26,254.25L9.63,242.21L11.01,254.54L12.39,279.13L13.76,283.26L15.14,280.2L16.52,268.29L17.89,268.51L19.27,263.09L20.65,269.79L22.02,280.69L23.4,283.76L24.77,269.72L27.53,273L28.9,265.8L31.66,280.69L33.03,276.78L34.41,263.88L35.79,269.22L37.16,264.73L38.54,265.16L41.29,278.34L42.67,280.55L44.04,261.74L45.42,267.65L46.8,267.08L48.17,262.88L49.55,265.44L50.93,276.35L52.3,272.43L53.68,255.25L55.05,263.88L56.43,256.39L59.18,244.28L60.56,254.61L61.94,267.44L63.31,222.97L64.69,253.76L66.07,265.09L67.44,261.74L68.82,267.22L70.2,278.63L71.57,281.12L72.95,264.59L74.32,272.78L75.7,273.78L77.08,270.93L79.83,282.19L81.21,281.91L82.58,270.15L83.96,274.85L85.34,278.41L86.71,275.78L89.46,284.12L90.84,283.97L92.22,274.57L93.59,276.42L94.97,275.99L96.35,272.29L97.72,274.57L99.1,284.76L100.48,284.04L101.85,269.01L103.23,269.79L104.6,272.07L105.98,270.57L107.36,272.93L108.73,283.26L110.11,281.05L111.49,266.94L112.86,268.29L114.24,266.37L115.62,269.51L116.99,268.29L118.37,274.92L119.74,274L121.12,261.17L122.5,262.81L123.87,261.31L125.25,257.6L126.63,263.31L128,270.43L129.38,268.51L132.13,252.19L133.51,248.69L134.88,248.34L136.26,244.78L137.64,267.65L139.01,268.01L140.39,249.69L141.77,258.6L143.14,258.53L144.52,247.41L145.9,253.26L147.27,264.09L148.65,264.52L150.02,247.34L151.4,247.13L152.78,249.27L154.15,246.98L155.53,247.2L156.91,258.82L158.28,256.89L159.66,233.94L161.04,234.23L162.41,236.29L163.79,227.17L165.16,227.53L166.54,243.71L167.92,243.63L169.29,222.4L172.05,216.27L173.42,216.69L174.8,203.01L176.18,224.46L177.55,239.86L178.93,214.49L180.3,222.61L181.68,224.32L184.43,218.76L185.81,240.14L187.19,239L188.56,220.83L189.94,227.53L191.32,225.03L192.69,223.32L194.07,213.77L195.45,232.8L196.82,232.73L198.2,214.49L199.57,218.26L200.95,224.68L202.33,223.61L203.7,219.47L205.08,231.38L206.46,223.75L207.83,210.85L211.96,220.83L213.34,222.54L214.71,236.86L216.09,232.16L217.47,229.45L218.84,215.7L221.6,222.18L222.97,218.76L224.35,235.72L225.73,235.44L227.1,203.37L228.48,213.56L229.85,222.25L231.23,189.76L232.61,203.51L233.98,232.23L235.36,229.88L236.74,203.22L238.11,206.93L239.49,214.63L240.87,201.94L242.24,67.53L243.62,174.57L244.99,208.14L246.37,192.11L247.75,197.67L249.12,211.71L250.5,203.65L251.88,213.35L253.25,229.95L254.63,219.62L256.01,202.01L257.38,200.16L258.76,205.93L260.13,195.46L261.51,203.51L262.89,227.31L264.26,223.54L265.64,196.81L267.02,200.66L268.39,196.53L269.77,205.29L271.15,211.42L272.52,229.95L273.9,229.59L275.27,211.56L276.65,221.11L278.03,220.47L279.4,217.48L280.78,222.25L282.16,241.78L283.53,234.8L284.91,206.29L286.29,206.43L287.66,209L289.04,205.93L291.79,225.25L293.17,251.9L295.92,213.92L297.3,217.19L298.67,214.27L300.05,232.37L302.8,244.85L304.18,239.71L305.55,223.68L306.93,222.68L308.31,215.84L309.68,221.76L311.06,244.63L312.44,240.86L313.81,216.98L315.19,225.18L316.57,229.59L317.94,220.12L319.32,220.47L320.7,234.23L322.07,238.29L323.45,213.84L324.82,221.9L326.2,224.39L327.58,216.84L328.95,224.25L330.33,235.72L331.71,238.65L333.08,210.07L334.46,212.7L335.84,215.7L337.21,187.19L339.96,229.59L341.34,232.3L342.72,214.56L344.09,218.55L345.47,214.98L346.85,203.08L350.98,230.66L352.35,206.29L353.73,210.42L355.1,209.07L356.48,205.01L357.86,221.9L359.23,240L360.61,232.3L361.99,206.57L363.36,211.42L364.74,212.49L366.12,218.55L367.49,234.16L368.87,228.38L370.24,230.59L371.62,203.51L374.37,227.6L375.75,220.97L377.13,214.77L378.5,235.51L379.88,230.73L381.26,217.91L382.63,217.62L384.01,210.64L385.38,231.02L386.76,233.94L389.51,245.56L390.89,220.76L392.27,223.96L393.64,232.09L395.02,231.59L396.4,233.37L397.77,247.27L399.15,253.54L400.52,219.97L401.9,220.61L403.28,224.25L404.65,206.5L406.03,222.4L407.41,226.17L408.78,193.96L410.16,189.4L411.54,193.53L412.91,234.16L414.29,230.16L415.66,294.73L417.04,304L419.79,258.39L421.17,236.94L422.55,237.22L423.92,239.07L425.3,239.14L426.68,252.04L428.05,252.12L429.43,235.8L430.8,239.86L432.18,241.14L433.56,238.57L434.93,236.65L436.31,257.89L437.69,254.04L439.06,242L440.44,244.2L441.82,237.58L443.19,229.74L444.57,233.02L445.95,248.41L447.32,248.62L448.7,232.37L450.07,239.57L451.45,240.86L452.83,236.79L454.2,244.92L455.58,247.13L458.33,267.37L459.71,269.22L461.09,268.72L462.46,246.84L463.84,250.98L465.21,263.8L466.59,262.73L467.97,253.4L469.34,260.67L470.72,272.64L472.1,246.63L473.47,246.7L474.85,264.52L476.23,267.65L477.6,248.12L478.98,250.26L481.73,239.79L483.11,240.43L484.48,255.89L485.86,255.75L487.24,241.28L488.61,240.93L489.99,246.27L491.37,244.7L492.74,245.56L494.12,261.17L495.49,259.88L496.87,230.02L498.25,236.51L499.62,212.2L501,161.75\" style=\"vector-effect: none; fill: none; stroke: rgb(255, 255, 0); stroke-opacity: 1; stroke-width: 2px; opacity: 1;\"/></g><g class=\"points\"/><g class=\"text\"/></g><g class=\"trace scatter trace196013\" style=\"stroke-miterlimit: 2; opacity: 1;\"><g class=\"fills\"/><g class=\"errorbars\"/><g class=\"lines\"><path class=\"js-line\" d=\"M0,256.75L1.38,257.18L2.75,270.08L4.13,267.72L5.51,240.43L6.88,241.71L8.26,247.91L9.63,237.15L11.01,250.26L12.39,277.35L13.76,282.26L15.14,278.77L16.52,265.87L17.89,265.09L19.27,260.67L20.65,266.73L22.02,280.05L23.4,282.26L24.77,267.15L27.53,271.07L28.9,263.59L31.66,279.84L33.03,274.64L34.41,260.88L35.79,267.01L37.16,262.09L38.54,262.02L41.29,276.2L42.67,279.48L44.04,259.1L45.42,265.44L46.8,263.73L48.17,259.88L49.55,263.23L50.93,274.49L52.3,270.22L53.68,250.69L55.05,260.03L56.43,252.26L59.18,238.43L60.56,251.4L61.94,265.09L63.31,212.99L64.69,248.84L66.07,260.6L67.44,258.89L68.82,264.59L70.2,277.13L71.57,279.48L72.95,261.88L74.32,270.57L75.7,271.57L77.08,268.72L79.83,280.48L81.21,280.41L82.58,267.08L83.96,272.86L85.34,277.06L86.71,273.85L89.46,282.41L90.84,282.98L92.22,272.43L93.59,274.64L94.97,274L96.35,270.57L97.72,272.43L99.1,282.98L100.48,283.19L101.85,267.01L103.23,267.22L104.6,269.65L105.98,267.87L107.36,271.36L108.73,282.69L110.11,279.77L111.49,264.3L112.86,265.51L114.24,263.66L115.62,266.3L116.99,266.65L118.37,273.78L119.74,272.78L121.12,257.25L122.5,258.74L123.87,257.82L125.25,253.61L126.63,259.67L128,268.86L129.38,266.37L132.13,248.27L133.51,244.78L134.88,243.85L136.26,241.28L137.64,265.66L139.01,265.94L140.39,246.06L141.77,254.18L143.14,254.68L144.52,243.21L145.9,248.91L147.27,261.88L148.65,262.45L150.02,243.06L151.4,241.14L152.78,244.42L154.15,241.21L155.53,241.07L156.91,256.39L158.28,253.9L159.66,228.1L161.04,227.81L162.41,229.74L163.79,219.69L165.16,220.9L166.54,240.64L167.92,240.29L169.29,216.55L172.05,209.21L173.42,210.07L174.8,193.18L176.18,218.41L177.55,236.15L178.93,207L180.3,215.41L181.68,217.19L183.06,212.78L184.43,211.35L185.81,236.22L187.19,235.8L188.56,213.63L189.94,221.26L192.69,217.05L194.07,206.79L195.45,227.81L196.82,228.31L198.2,206.29L199.57,209.57L200.95,218.69L202.33,216.05L203.7,212.42L205.08,226.46L206.46,218.12L207.83,204.37L210.59,208.64L211.96,213.56L213.34,216.98L214.71,233.73L217.47,224.11L218.84,209.57L221.6,216.34L222.97,211.49L224.35,231.38L225.73,231.8L227.1,194.74L228.48,206.22L229.85,214.56L231.23,178.85L232.61,194.46L233.98,226.74L235.36,224.75L236.74,193.67L239.49,206.15L240.87,191.96L242.24,16L243.62,155.19L244.99,198.45L246.37,177.64L247.75,179.63L249.12,198.59L250.5,191.89L251.88,203.22L253.25,222.4L254.63,213.27L256.01,192.75L257.38,189.9L258.76,195.1L260.13,186.05L261.51,194.24L262.89,218.98L264.26,217.55L265.64,186.41L267.02,189.47L268.39,185.05L271.15,202.08L272.52,225.1L273.9,224.18L275.27,204.29L276.65,212.85L278.03,213.13L279.4,210.35L280.78,215.91L282.16,236.72L283.53,229.45L284.91,196.95L286.29,197.45L287.66,201.16L289.04,197.45L291.79,219.12L293.17,248.2L295.92,207.5L297.3,210.21L298.67,206.43L300.05,226.24L302.8,241.07L304.18,234.23L305.55,217.55L306.93,215.84L308.31,209.64L309.68,215.13L311.06,239.79L312.44,235.37L313.81,210.49L315.19,217.27L316.57,222.9L317.94,211.99L319.32,213.06L320.7,228.45L322.07,231.59L323.45,204.37L324.82,214.06L326.2,215.77L327.58,209.64L328.95,216.48L330.33,229.67L331.71,233.59L333.08,202.01L334.46,202.87L335.84,207.57L337.21,170.23L339.96,224.68L341.34,227.74L342.72,207.43L344.09,210.78L345.47,207.57L346.85,194.32L350.98,223.96L352.35,198.09L353.73,200.52L355.1,199.59L356.48,196.53L357.86,213.92L359.23,233.8L360.61,225.25L361.99,197.88L363.36,202.16L364.74,203.01L366.12,211.56L367.49,228.45L368.87,222.9L370.24,226.1L371.62,196.88L374.37,220.19L375.75,212.85L377.13,206.15L378.5,229.88L379.88,226.17L381.26,209.43L382.63,208.29L384.01,202.65L385.38,224.82L386.76,227.67L389.51,241.07L390.89,211.92L392.27,215.41L393.64,225.1L395.02,223.25L396.4,227.03L397.77,243.06L399.15,248.98L400.52,211.21L401.9,213.2L403.28,216.91L404.65,199.52L406.03,216.2L407.41,219.33L408.78,182.7L410.16,176.07L411.54,180.49L412.91,227.88L414.29,223.68L415.66,294.52L417.04,304L419.79,255.39L421.17,232.09L422.55,231.95L423.92,234.08L425.3,233.3L426.68,248.41L428.05,248.41L429.43,230.73L430.8,235.3L432.18,236.22L433.56,233.16L434.93,231.38L436.31,254.9L437.69,251.97L439.06,236.86L440.44,239.22L441.82,231.09L443.19,223.18L444.57,226.39L445.95,244.35L447.32,245.06L448.7,225.32L450.07,233.09L451.45,234.37L452.83,229.24L454.2,238.86L455.58,242.78L458.33,264.94L459.71,267.22L461.09,266.58L462.46,241.92L463.84,247.13L465.21,260.45L466.59,259.81L467.97,248.91L469.34,257.53L470.72,271L472.1,242.21L473.47,241.43L474.85,260.17L476.23,264.94L477.6,242.92L478.98,244.78L481.73,231.95L483.11,233.44L484.48,251.69L485.86,252.54L487.24,234.44L488.61,236.86L489.99,240.36L491.37,239.43L492.74,240.93L494.12,257.39L495.49,256.18L496.87,221.68L498.25,230.31L499.62,203.58L501,143.29\" style=\"vector-effect: none; fill: none; stroke: rgb(0, 0, 0); stroke-opacity: 1; stroke-width: 2px; opacity: 1;\"/></g><g class=\"points\"/><g class=\"text\"/></g></g></g><g class=\"overplot\"/><path class=\"xlines-above crisp\" d=\"M0,0\" style=\"fill: none;\"/><path class=\"ylines-above crisp\" d=\"M0,0\" style=\"fill: none;\"/><g class=\"overlines-above\"/><g class=\"xaxislayer-above\"><g class=\"xtick\"><text text-anchor=\"middle\" x=\"0\" y=\"433\" transform=\"translate(121.28999999999999,0)\" style=\"font-family: 'Open Sans', verdana, arial, sans-serif; font-size: 12px; fill: rgb(42, 63, 95); fill-opacity: 1; white-space: pre; opacity: 1;\">Jul 2017</text></g><g class=\"xtick\"><text text-anchor=\"middle\" x=\"0\" y=\"433\" style=\"font-family: 'Open Sans', verdana, arial, sans-serif; font-size: 12px; fill: rgb(42, 63, 95); fill-opacity: 1; white-space: pre; opacity: 1;\" transform=\"translate(206.63,0)\">Sep 2017</text></g><g class=\"xtick\"><text text-anchor=\"middle\" x=\"0\" y=\"433\" style=\"font-family: 'Open Sans', verdana, arial, sans-serif; font-size: 12px; fill: rgb(42, 63, 95); fill-opacity: 1; white-space: pre; opacity: 1;\" transform=\"translate(290.59000000000003,0)\">Nov 2017</text></g><g class=\"xtick\"><text text-anchor=\"middle\" x=\"0\" y=\"433\" style=\"font-family: 'Open Sans', verdana, arial, sans-serif; font-size: 12px; fill: rgb(42, 63, 95); fill-opacity: 1; white-space: pre; opacity: 1;\" transform=\"translate(374.54,0)\">Jan 2018</text></g><g class=\"xtick\"><text text-anchor=\"middle\" x=\"0\" y=\"433\" style=\"font-family: 'Open Sans', verdana, arial, sans-serif; font-size: 12px; fill: rgb(42, 63, 95); fill-opacity: 1; white-space: pre; opacity: 1;\" transform=\"translate(455.75,0)\">Mar 2018</text></g><g class=\"xtick\"><text text-anchor=\"middle\" x=\"0\" y=\"433\" style=\"font-family: 'Open Sans', verdana, arial, sans-serif; font-size: 12px; fill: rgb(42, 63, 95); fill-opacity: 1; white-space: pre; opacity: 1;\" transform=\"translate(539.71,0)\">May 2018</text></g></g><g class=\"yaxislayer-above\"><g class=\"ytick\"><text text-anchor=\"end\" x=\"79\" y=\"4.199999999999999\" transform=\"translate(0,404.07)\" style=\"font-family: 'Open Sans', verdana, arial, sans-serif; font-size: 12px; fill: rgb(42, 63, 95); fill-opacity: 1; white-space: pre; opacity: 1;\">0</text></g><g class=\"ytick\"><text text-anchor=\"end\" x=\"79\" y=\"4.199999999999999\" style=\"font-family: 'Open Sans', verdana, arial, sans-serif; font-size: 12px; fill: rgb(42, 63, 95); fill-opacity: 1; white-space: pre; opacity: 1;\" transform=\"translate(0,368.44)\">500</text></g><g class=\"ytick\"><text text-anchor=\"end\" x=\"79\" y=\"4.199999999999999\" style=\"font-family: 'Open Sans', verdana, arial, sans-serif; font-size: 12px; fill: rgb(42, 63, 95); fill-opacity: 1; white-space: pre; opacity: 1;\" transform=\"translate(0,332.8)\">1000</text></g><g class=\"ytick\"><text text-anchor=\"end\" x=\"79\" y=\"4.199999999999999\" style=\"font-family: 'Open Sans', verdana, arial, sans-serif; font-size: 12px; fill: rgb(42, 63, 95); fill-opacity: 1; white-space: pre; opacity: 1;\" transform=\"translate(0,297.16999999999996)\">1500</text></g><g class=\"ytick\"><text text-anchor=\"end\" x=\"79\" y=\"4.199999999999999\" style=\"font-family: 'Open Sans', verdana, arial, sans-serif; font-size: 12px; fill: rgb(42, 63, 95); fill-opacity: 1; white-space: pre; opacity: 1;\" transform=\"translate(0,261.53)\">2000</text></g><g class=\"ytick\"><text text-anchor=\"end\" x=\"79\" y=\"4.199999999999999\" style=\"font-family: 'Open Sans', verdana, arial, sans-serif; font-size: 12px; fill: rgb(42, 63, 95); fill-opacity: 1; white-space: pre; opacity: 1;\" transform=\"translate(0,225.9)\">2500</text></g><g class=\"ytick\"><text text-anchor=\"end\" x=\"79\" y=\"4.199999999999999\" style=\"font-family: 'Open Sans', verdana, arial, sans-serif; font-size: 12px; fill: rgb(42, 63, 95); fill-opacity: 1; white-space: pre; opacity: 1;\" transform=\"translate(0,190.26)\">3000</text></g><g class=\"ytick\"><text text-anchor=\"end\" x=\"79\" y=\"4.199999999999999\" style=\"font-family: 'Open Sans', verdana, arial, sans-serif; font-size: 12px; fill: rgb(42, 63, 95); fill-opacity: 1; white-space: pre; opacity: 1;\" transform=\"translate(0,154.63)\">3500</text></g><g class=\"ytick\"><text text-anchor=\"end\" x=\"79\" y=\"4.199999999999999\" style=\"font-family: 'Open Sans', verdana, arial, sans-serif; font-size: 12px; fill: rgb(42, 63, 95); fill-opacity: 1; white-space: pre; opacity: 1;\" transform=\"translate(0,118.99)\">4000</text></g></g><g class=\"overaxes-above\"/></g></g><g class=\"polarlayer\"/><g class=\"smithlayer\"/><g class=\"ternarylayer\"/><g class=\"geolayer\"/><g class=\"funnelarealayer\"/><g class=\"pielayer\"/><g class=\"iciclelayer\"/><g class=\"treemaplayer\"/><g class=\"sunburstlayer\"/><g class=\"glimages\"/><defs id=\"topdefs-48c31d\"><g class=\"clips\"/><clipPath id=\"legend48c31d\"><rect width=\"97\" height=\"48\" x=\"0\" y=\"0\"/></clipPath></defs><g class=\"layer-above\"><g class=\"imagelayer\"/><g class=\"shapelayer\"/></g><g class=\"infolayer\"><g class=\"legend\" pointer-events=\"all\" transform=\"translate(591.02,100)\"><rect class=\"bg\" shape-rendering=\"crispEdges\" style=\"stroke: rgb(68, 68, 68); stroke-opacity: 1; fill: rgb(255, 255, 255); fill-opacity: 1; stroke-width: 0px;\" width=\"97\" height=\"48\" x=\"0\" y=\"0\"/><g class=\"scrollbox\" transform=\"\" clip-path=\"url(#legend48c31d)\"><g class=\"groups\"><g class=\"traces\" transform=\"translate(0,14.5)\" style=\"opacity: 1;\"><text class=\"legendtext\" text-anchor=\"start\" x=\"40\" y=\"4.680000000000001\" style=\"font-family: 'Open Sans', verdana, arial, sans-serif; font-size: 12px; fill: rgb(42, 63, 95); fill-opacity: 1; white-space: pre;\">DAU</text><g class=\"layers\" style=\"opacity: 1;\"><g class=\"legendfill\"/><g class=\"legendlines\"><path class=\"js-line\" d=\"M5,0h30\" style=\"fill: none; stroke: rgb(255, 255, 0); stroke-opacity: 1; stroke-width: 2px;\"/></g><g class=\"legendsymbols\"><g class=\"legendpoints\"/></g></g><rect class=\"legendtoggle\" x=\"0\" y=\"-9.5\" width=\"91.078125\" height=\"19\" style=\"fill: rgb(0, 0, 0); fill-opacity: 0;\"/></g><g class=\"traces\" transform=\"translate(0,33.5)\" style=\"opacity: 1;\"><text class=\"legendtext\" text-anchor=\"start\" x=\"40\" y=\"4.680000000000001\" style=\"font-family: 'Open Sans', verdana, arial, sans-serif; font-size: 12px; fill: rgb(42, 63, 95); fill-opacity: 1; white-space: pre;\">sessions</text><g class=\"layers\" style=\"opacity: 1;\"><g class=\"legendfill\"/><g class=\"legendlines\"><path class=\"js-line\" d=\"M5,0h30\" style=\"fill: none; stroke: rgb(0, 0, 0); stroke-opacity: 1; stroke-width: 2px;\"/></g><g class=\"legendsymbols\"><g class=\"legendpoints\"/></g></g><rect class=\"legendtoggle\" x=\"0\" y=\"-9.5\" width=\"91.078125\" height=\"19\" style=\"fill: rgb(0, 0, 0); fill-opacity: 0;\"/></g></g></g><rect class=\"scrollbar\" rx=\"20\" ry=\"3\" width=\"0\" height=\"0\" style=\"fill: rgb(128, 139, 164); fill-opacity: 1;\" x=\"0\" y=\"0\"/></g><g class=\"g-gtitle\"><text class=\"gtitle\" x=\"35\" y=\"50\" text-anchor=\"start\" dy=\"0em\" style=\"font-family: 'Open Sans', verdana, arial, sans-serif; font-size: 17px; fill: rgb(42, 63, 95); opacity: 1; font-weight: normal; white-space: pre;\">Sessions per day compared DAU</text></g><g class=\"g-xtitle\"><text class=\"xtitle\" x=\"330.5\" y=\"460.3\" text-anchor=\"middle\" style=\"font-family: 'Open Sans', verdana, arial, sans-serif; font-size: 14px; fill: rgb(42, 63, 95); opacity: 1; font-weight: normal; white-space: pre;\">Date</text></g><g class=\"g-ytitle\"><text class=\"ytitle\" transform=\"rotate(-90,24.184375000000003,260)\" x=\"24.184375000000003\" y=\"260\" text-anchor=\"middle\" style=\"font-family: 'Open Sans', verdana, arial, sans-serif; font-size: 14px; fill: rgb(42, 63, 95); opacity: 1; font-weight: normal; white-space: pre;\">Number of uid</text></g></g></svg>"
      ]
     },
     "metadata": {},
     "output_type": "display_data"
    }
   ],
   "source": [
    "fig = go.Figure()\n",
    "fig.add_trace(go.Scatter(x=dau['date'], y=dau['uid'], mode='lines', name='DAU', line = dict(color='yellow', width=2)))\n",
    "\n",
    "fig.add_trace(go.Scatter(x=session_per_day['date'], y=session_per_day['uid'], mode='lines', \n",
    "                         name='sessions',line = dict(color='black', width=2 )))\n",
    "\n",
    "fig.update_layout(title='Sessions per day compared DAU', xaxis_title='Date', \n",
    "                  yaxis_title='Number of uid', showlegend=True, plot_bgcolor=\"grey\")\n",
    "fig.show(\"svg\")"
   ]
  },
  {
   "cell_type": "markdown",
   "metadata": {},
   "source": [
    "**Conclusion**   \n",
    "\n",
    "As we see on both graphs (DAU and sessions per day) it's a pretty same picture: the graphs has the same trend, the number of sessions per day little bit bigger (almost the same) that the number of daily active users, that looks logical, because people are going to buy tickets on the same day then they start session, they don't need to have several sessions to accomplish purchase.   "
   ]
  },
  {
   "cell_type": "markdown",
   "metadata": {},
   "source": [
    "##### What is the length of each session?   "
   ]
  },
  {
   "cell_type": "markdown",
   "metadata": {},
   "source": [
    "Here we'll count average session lentgh (ASL)"
   ]
  },
  {
   "cell_type": "code",
   "execution_count": 33,
   "metadata": {},
   "outputs": [
    {
     "data": {
      "text/html": [
       "<div>\n",
       "<style scoped>\n",
       "    .dataframe tbody tr th:only-of-type {\n",
       "        vertical-align: middle;\n",
       "    }\n",
       "\n",
       "    .dataframe tbody tr th {\n",
       "        vertical-align: top;\n",
       "    }\n",
       "\n",
       "    .dataframe thead th {\n",
       "        text-align: right;\n",
       "    }\n",
       "</style>\n",
       "<table border=\"1\" class=\"dataframe\">\n",
       "  <thead>\n",
       "    <tr style=\"text-align: right;\">\n",
       "      <th></th>\n",
       "      <th>device</th>\n",
       "      <th>end_ts</th>\n",
       "      <th>source_id</th>\n",
       "      <th>start_ts</th>\n",
       "      <th>uid</th>\n",
       "      <th>month</th>\n",
       "      <th>week</th>\n",
       "      <th>date</th>\n",
       "      <th>session_duration</th>\n",
       "    </tr>\n",
       "  </thead>\n",
       "  <tbody>\n",
       "    <tr>\n",
       "      <th>0</th>\n",
       "      <td>touch</td>\n",
       "      <td>2017-12-20 17:38:00</td>\n",
       "      <td>4</td>\n",
       "      <td>2017-12-20 17:20:00</td>\n",
       "      <td>16879256277535980062</td>\n",
       "      <td>2017-12-01</td>\n",
       "      <td>2017-12-14</td>\n",
       "      <td>2017-12-20</td>\n",
       "      <td>1080</td>\n",
       "    </tr>\n",
       "    <tr>\n",
       "      <th>1</th>\n",
       "      <td>desktop</td>\n",
       "      <td>2018-02-19 17:21:00</td>\n",
       "      <td>2</td>\n",
       "      <td>2018-02-19 16:53:00</td>\n",
       "      <td>104060357244891740</td>\n",
       "      <td>2018-02-01</td>\n",
       "      <td>2018-02-15</td>\n",
       "      <td>2018-02-19</td>\n",
       "      <td>1680</td>\n",
       "    </tr>\n",
       "    <tr>\n",
       "      <th>2</th>\n",
       "      <td>touch</td>\n",
       "      <td>2017-07-01 01:54:00</td>\n",
       "      <td>5</td>\n",
       "      <td>2017-07-01 01:54:00</td>\n",
       "      <td>7459035603376831527</td>\n",
       "      <td>2017-07-01</td>\n",
       "      <td>2017-06-29</td>\n",
       "      <td>2017-07-01</td>\n",
       "      <td>0</td>\n",
       "    </tr>\n",
       "    <tr>\n",
       "      <th>3</th>\n",
       "      <td>desktop</td>\n",
       "      <td>2018-05-20 11:23:00</td>\n",
       "      <td>9</td>\n",
       "      <td>2018-05-20 10:59:00</td>\n",
       "      <td>16174680259334210214</td>\n",
       "      <td>2018-05-01</td>\n",
       "      <td>2018-05-17</td>\n",
       "      <td>2018-05-20</td>\n",
       "      <td>1440</td>\n",
       "    </tr>\n",
       "    <tr>\n",
       "      <th>4</th>\n",
       "      <td>desktop</td>\n",
       "      <td>2017-12-27 14:06:00</td>\n",
       "      <td>3</td>\n",
       "      <td>2017-12-27 14:06:00</td>\n",
       "      <td>9969694820036681168</td>\n",
       "      <td>2017-12-01</td>\n",
       "      <td>2017-12-21</td>\n",
       "      <td>2017-12-27</td>\n",
       "      <td>0</td>\n",
       "    </tr>\n",
       "  </tbody>\n",
       "</table>\n",
       "</div>"
      ],
      "text/plain": [
       "    device              end_ts  source_id            start_ts  \\\n",
       "0    touch 2017-12-20 17:38:00          4 2017-12-20 17:20:00   \n",
       "1  desktop 2018-02-19 17:21:00          2 2018-02-19 16:53:00   \n",
       "2    touch 2017-07-01 01:54:00          5 2017-07-01 01:54:00   \n",
       "3  desktop 2018-05-20 11:23:00          9 2018-05-20 10:59:00   \n",
       "4  desktop 2017-12-27 14:06:00          3 2017-12-27 14:06:00   \n",
       "\n",
       "                    uid      month       week        date  session_duration  \n",
       "0  16879256277535980062 2017-12-01 2017-12-14  2017-12-20              1080  \n",
       "1    104060357244891740 2018-02-01 2018-02-15  2018-02-19              1680  \n",
       "2   7459035603376831527 2017-07-01 2017-06-29  2017-07-01                 0  \n",
       "3  16174680259334210214 2018-05-01 2018-05-17  2018-05-20              1440  \n",
       "4   9969694820036681168 2017-12-01 2017-12-21  2017-12-27                 0  "
      ]
     },
     "execution_count": 33,
     "metadata": {},
     "output_type": "execute_result"
    }
   ],
   "source": [
    "visits['session_duration'] = (visits['end_ts'] - visits['start_ts']).dt.seconds\n",
    "visits.head()"
   ]
  },
  {
   "cell_type": "code",
   "execution_count": 34,
   "metadata": {},
   "outputs": [
    {
     "name": "stdout",
     "output_type": "stream",
     "text": [
      "643.506488592098\n"
     ]
    },
    {
     "data": {
      "image/png": "[encoded data removed]",
      "text/plain": [
       "<Figure size 432x288 with 1 Axes>"
      ]
     },
     "metadata": {
      "needs_background": "light"
     },
     "output_type": "display_data"
    }
   ],
   "source": [
    "print(visits['session_duration'].mean())\n",
    "visits['session_duration'].hist(bins = 50);"
   ]
  },
  {
   "cell_type": "markdown",
   "metadata": {},
   "source": [
    "We see how distribution is skewed, so let's use mode() function"
   ]
  },
  {
   "cell_type": "code",
   "execution_count": 35,
   "metadata": {},
   "outputs": [
    {
     "data": {
      "text/plain": [
       "0    60\n",
       "dtype: int64"
      ]
     },
     "execution_count": 35,
     "metadata": {},
     "output_type": "execute_result"
    }
   ],
   "source": [
    "asl = visits['session_duration'].mode()\n",
    "asl"
   ]
  },
  {
   "cell_type": "markdown",
   "metadata": {},
   "source": [
    "**Conclusion**   \n",
    "\n",
    "The average session take near 60 second to make purchase"
   ]
  },
  {
   "cell_type": "markdown",
   "metadata": {},
   "source": [
    "##### How often do users come back?"
   ]
  },
  {
   "cell_type": "markdown",
   "metadata": {},
   "source": [
    "So, first, let's define users first day of visit"
   ]
  },
  {
   "cell_type": "code",
   "execution_count": 36,
   "metadata": {},
   "outputs": [
    {
     "data": {
      "text/html": [
       "<div>\n",
       "<style scoped>\n",
       "    .dataframe tbody tr th:only-of-type {\n",
       "        vertical-align: middle;\n",
       "    }\n",
       "\n",
       "    .dataframe tbody tr th {\n",
       "        vertical-align: top;\n",
       "    }\n",
       "\n",
       "    .dataframe thead th {\n",
       "        text-align: right;\n",
       "    }\n",
       "</style>\n",
       "<table border=\"1\" class=\"dataframe\">\n",
       "  <thead>\n",
       "    <tr style=\"text-align: right;\">\n",
       "      <th></th>\n",
       "      <th>uid</th>\n",
       "      <th>first_visit</th>\n",
       "    </tr>\n",
       "  </thead>\n",
       "  <tbody>\n",
       "    <tr>\n",
       "      <th>0</th>\n",
       "      <td>11863502262781</td>\n",
       "      <td>2018-03-01 17:27:00</td>\n",
       "    </tr>\n",
       "    <tr>\n",
       "      <th>1</th>\n",
       "      <td>49537067089222</td>\n",
       "      <td>2018-02-06 15:55:00</td>\n",
       "    </tr>\n",
       "    <tr>\n",
       "      <th>2</th>\n",
       "      <td>297729379853735</td>\n",
       "      <td>2017-06-07 18:47:00</td>\n",
       "    </tr>\n",
       "    <tr>\n",
       "      <th>3</th>\n",
       "      <td>313578113262317</td>\n",
       "      <td>2017-09-18 22:49:00</td>\n",
       "    </tr>\n",
       "    <tr>\n",
       "      <th>4</th>\n",
       "      <td>325320750514679</td>\n",
       "      <td>2017-09-30 14:29:00</td>\n",
       "    </tr>\n",
       "  </tbody>\n",
       "</table>\n",
       "</div>"
      ],
      "text/plain": [
       "               uid         first_visit\n",
       "0   11863502262781 2018-03-01 17:27:00\n",
       "1   49537067089222 2018-02-06 15:55:00\n",
       "2  297729379853735 2017-06-07 18:47:00\n",
       "3  313578113262317 2017-09-18 22:49:00\n",
       "4  325320750514679 2017-09-30 14:29:00"
      ]
     },
     "execution_count": 36,
     "metadata": {},
     "output_type": "execute_result"
    }
   ],
   "source": [
    "first_visit = visits.groupby(['uid'])['start_ts'].min().reset_index()\n",
    "first_visit.columns = ['uid','first_visit']\n",
    "first_visit.head()"
   ]
  },
  {
   "cell_type": "markdown",
   "metadata": {},
   "source": [
    "And after that let's merge back to visits table"
   ]
  },
  {
   "cell_type": "code",
   "execution_count": 37,
   "metadata": {},
   "outputs": [
    {
     "data": {
      "text/html": [
       "<div>\n",
       "<style scoped>\n",
       "    .dataframe tbody tr th:only-of-type {\n",
       "        vertical-align: middle;\n",
       "    }\n",
       "\n",
       "    .dataframe tbody tr th {\n",
       "        vertical-align: top;\n",
       "    }\n",
       "\n",
       "    .dataframe thead th {\n",
       "        text-align: right;\n",
       "    }\n",
       "</style>\n",
       "<table border=\"1\" class=\"dataframe\">\n",
       "  <thead>\n",
       "    <tr style=\"text-align: right;\">\n",
       "      <th></th>\n",
       "      <th>device</th>\n",
       "      <th>end_ts</th>\n",
       "      <th>source_id</th>\n",
       "      <th>start_ts</th>\n",
       "      <th>uid</th>\n",
       "      <th>month</th>\n",
       "      <th>week</th>\n",
       "      <th>date</th>\n",
       "      <th>session_duration</th>\n",
       "      <th>first_visit</th>\n",
       "    </tr>\n",
       "  </thead>\n",
       "  <tbody>\n",
       "    <tr>\n",
       "      <th>0</th>\n",
       "      <td>touch</td>\n",
       "      <td>2017-12-20 17:38:00</td>\n",
       "      <td>4</td>\n",
       "      <td>2017-12-20 17:20:00</td>\n",
       "      <td>16879256277535980062</td>\n",
       "      <td>2017-12-01</td>\n",
       "      <td>2017-12-14</td>\n",
       "      <td>2017-12-20</td>\n",
       "      <td>1080</td>\n",
       "      <td>2017-12-20 17:20:00</td>\n",
       "    </tr>\n",
       "    <tr>\n",
       "      <th>1</th>\n",
       "      <td>desktop</td>\n",
       "      <td>2018-02-19 17:21:00</td>\n",
       "      <td>2</td>\n",
       "      <td>2018-02-19 16:53:00</td>\n",
       "      <td>104060357244891740</td>\n",
       "      <td>2018-02-01</td>\n",
       "      <td>2018-02-15</td>\n",
       "      <td>2018-02-19</td>\n",
       "      <td>1680</td>\n",
       "      <td>2018-02-19 16:53:00</td>\n",
       "    </tr>\n",
       "    <tr>\n",
       "      <th>2</th>\n",
       "      <td>touch</td>\n",
       "      <td>2017-07-01 01:54:00</td>\n",
       "      <td>5</td>\n",
       "      <td>2017-07-01 01:54:00</td>\n",
       "      <td>7459035603376831527</td>\n",
       "      <td>2017-07-01</td>\n",
       "      <td>2017-06-29</td>\n",
       "      <td>2017-07-01</td>\n",
       "      <td>0</td>\n",
       "      <td>2017-07-01 01:54:00</td>\n",
       "    </tr>\n",
       "    <tr>\n",
       "      <th>3</th>\n",
       "      <td>desktop</td>\n",
       "      <td>2018-05-20 11:23:00</td>\n",
       "      <td>9</td>\n",
       "      <td>2018-05-20 10:59:00</td>\n",
       "      <td>16174680259334210214</td>\n",
       "      <td>2018-05-01</td>\n",
       "      <td>2018-05-17</td>\n",
       "      <td>2018-05-20</td>\n",
       "      <td>1440</td>\n",
       "      <td>2018-03-09 20:05:00</td>\n",
       "    </tr>\n",
       "    <tr>\n",
       "      <th>4</th>\n",
       "      <td>desktop</td>\n",
       "      <td>2018-03-09 20:33:00</td>\n",
       "      <td>4</td>\n",
       "      <td>2018-03-09 20:05:00</td>\n",
       "      <td>16174680259334210214</td>\n",
       "      <td>2018-03-01</td>\n",
       "      <td>2018-03-08</td>\n",
       "      <td>2018-03-09</td>\n",
       "      <td>1680</td>\n",
       "      <td>2018-03-09 20:05:00</td>\n",
       "    </tr>\n",
       "  </tbody>\n",
       "</table>\n",
       "</div>"
      ],
      "text/plain": [
       "    device              end_ts  source_id            start_ts  \\\n",
       "0    touch 2017-12-20 17:38:00          4 2017-12-20 17:20:00   \n",
       "1  desktop 2018-02-19 17:21:00          2 2018-02-19 16:53:00   \n",
       "2    touch 2017-07-01 01:54:00          5 2017-07-01 01:54:00   \n",
       "3  desktop 2018-05-20 11:23:00          9 2018-05-20 10:59:00   \n",
       "4  desktop 2018-03-09 20:33:00          4 2018-03-09 20:05:00   \n",
       "\n",
       "                    uid      month       week        date  session_duration  \\\n",
       "0  16879256277535980062 2017-12-01 2017-12-14  2017-12-20              1080   \n",
       "1    104060357244891740 2018-02-01 2018-02-15  2018-02-19              1680   \n",
       "2   7459035603376831527 2017-07-01 2017-06-29  2017-07-01                 0   \n",
       "3  16174680259334210214 2018-05-01 2018-05-17  2018-05-20              1440   \n",
       "4  16174680259334210214 2018-03-01 2018-03-08  2018-03-09              1680   \n",
       "\n",
       "          first_visit  \n",
       "0 2017-12-20 17:20:00  \n",
       "1 2018-02-19 16:53:00  \n",
       "2 2017-07-01 01:54:00  \n",
       "3 2018-03-09 20:05:00  \n",
       "4 2018-03-09 20:05:00  "
      ]
     },
     "execution_count": 37,
     "metadata": {},
     "output_type": "execute_result"
    }
   ],
   "source": [
    "visits = visits.merge(first_visit, how = 'inner', on = ['uid'])\n",
    "visits.head()"
   ]
  },
  {
   "cell_type": "markdown",
   "metadata": {},
   "source": [
    "Now we'll define cohorts and interval between current visit and first visit:  "
   ]
  },
  {
   "cell_type": "code",
   "execution_count": 38,
   "metadata": {},
   "outputs": [
    {
     "data": {
      "text/html": [
       "<div>\n",
       "<style scoped>\n",
       "    .dataframe tbody tr th:only-of-type {\n",
       "        vertical-align: middle;\n",
       "    }\n",
       "\n",
       "    .dataframe tbody tr th {\n",
       "        vertical-align: top;\n",
       "    }\n",
       "\n",
       "    .dataframe thead th {\n",
       "        text-align: right;\n",
       "    }\n",
       "</style>\n",
       "<table border=\"1\" class=\"dataframe\">\n",
       "  <thead>\n",
       "    <tr style=\"text-align: right;\">\n",
       "      <th></th>\n",
       "      <th>device</th>\n",
       "      <th>end_ts</th>\n",
       "      <th>source_id</th>\n",
       "      <th>start_ts</th>\n",
       "      <th>uid</th>\n",
       "      <th>month</th>\n",
       "      <th>week</th>\n",
       "      <th>date</th>\n",
       "      <th>session_duration</th>\n",
       "      <th>first_visit</th>\n",
       "      <th>cohort</th>\n",
       "      <th>age</th>\n",
       "    </tr>\n",
       "  </thead>\n",
       "  <tbody>\n",
       "    <tr>\n",
       "      <th>0</th>\n",
       "      <td>touch</td>\n",
       "      <td>2017-12-20 17:38:00</td>\n",
       "      <td>4</td>\n",
       "      <td>2017-12-20 17:20:00</td>\n",
       "      <td>16879256277535980062</td>\n",
       "      <td>2017-12-01</td>\n",
       "      <td>2017-12-14</td>\n",
       "      <td>2017-12-20</td>\n",
       "      <td>1080</td>\n",
       "      <td>2017-12-20 17:20:00</td>\n",
       "      <td>2017-12-01</td>\n",
       "      <td>0</td>\n",
       "    </tr>\n",
       "    <tr>\n",
       "      <th>1</th>\n",
       "      <td>desktop</td>\n",
       "      <td>2018-02-19 17:21:00</td>\n",
       "      <td>2</td>\n",
       "      <td>2018-02-19 16:53:00</td>\n",
       "      <td>104060357244891740</td>\n",
       "      <td>2018-02-01</td>\n",
       "      <td>2018-02-15</td>\n",
       "      <td>2018-02-19</td>\n",
       "      <td>1680</td>\n",
       "      <td>2018-02-19 16:53:00</td>\n",
       "      <td>2018-02-01</td>\n",
       "      <td>0</td>\n",
       "    </tr>\n",
       "    <tr>\n",
       "      <th>2</th>\n",
       "      <td>touch</td>\n",
       "      <td>2017-07-01 01:54:00</td>\n",
       "      <td>5</td>\n",
       "      <td>2017-07-01 01:54:00</td>\n",
       "      <td>7459035603376831527</td>\n",
       "      <td>2017-07-01</td>\n",
       "      <td>2017-06-29</td>\n",
       "      <td>2017-07-01</td>\n",
       "      <td>0</td>\n",
       "      <td>2017-07-01 01:54:00</td>\n",
       "      <td>2017-07-01</td>\n",
       "      <td>0</td>\n",
       "    </tr>\n",
       "    <tr>\n",
       "      <th>3</th>\n",
       "      <td>desktop</td>\n",
       "      <td>2018-05-20 11:23:00</td>\n",
       "      <td>9</td>\n",
       "      <td>2018-05-20 10:59:00</td>\n",
       "      <td>16174680259334210214</td>\n",
       "      <td>2018-05-01</td>\n",
       "      <td>2018-05-17</td>\n",
       "      <td>2018-05-20</td>\n",
       "      <td>1440</td>\n",
       "      <td>2018-03-09 20:05:00</td>\n",
       "      <td>2018-03-01</td>\n",
       "      <td>2</td>\n",
       "    </tr>\n",
       "    <tr>\n",
       "      <th>4</th>\n",
       "      <td>desktop</td>\n",
       "      <td>2018-03-09 20:33:00</td>\n",
       "      <td>4</td>\n",
       "      <td>2018-03-09 20:05:00</td>\n",
       "      <td>16174680259334210214</td>\n",
       "      <td>2018-03-01</td>\n",
       "      <td>2018-03-08</td>\n",
       "      <td>2018-03-09</td>\n",
       "      <td>1680</td>\n",
       "      <td>2018-03-09 20:05:00</td>\n",
       "      <td>2018-03-01</td>\n",
       "      <td>0</td>\n",
       "    </tr>\n",
       "  </tbody>\n",
       "</table>\n",
       "</div>"
      ],
      "text/plain": [
       "    device              end_ts  source_id            start_ts  \\\n",
       "0    touch 2017-12-20 17:38:00          4 2017-12-20 17:20:00   \n",
       "1  desktop 2018-02-19 17:21:00          2 2018-02-19 16:53:00   \n",
       "2    touch 2017-07-01 01:54:00          5 2017-07-01 01:54:00   \n",
       "3  desktop 2018-05-20 11:23:00          9 2018-05-20 10:59:00   \n",
       "4  desktop 2018-03-09 20:33:00          4 2018-03-09 20:05:00   \n",
       "\n",
       "                    uid      month       week        date  session_duration  \\\n",
       "0  16879256277535980062 2017-12-01 2017-12-14  2017-12-20              1080   \n",
       "1    104060357244891740 2018-02-01 2018-02-15  2018-02-19              1680   \n",
       "2   7459035603376831527 2017-07-01 2017-06-29  2017-07-01                 0   \n",
       "3  16174680259334210214 2018-05-01 2018-05-17  2018-05-20              1440   \n",
       "4  16174680259334210214 2018-03-01 2018-03-08  2018-03-09              1680   \n",
       "\n",
       "          first_visit     cohort  age  \n",
       "0 2017-12-20 17:20:00 2017-12-01    0  \n",
       "1 2018-02-19 16:53:00 2018-02-01    0  \n",
       "2 2017-07-01 01:54:00 2017-07-01    0  \n",
       "3 2018-03-09 20:05:00 2018-03-01    2  \n",
       "4 2018-03-09 20:05:00 2018-03-01    0  "
      ]
     },
     "execution_count": 38,
     "metadata": {},
     "output_type": "execute_result"
    }
   ],
   "source": [
    "visits['cohort'] = visits['first_visit'].astype('datetime64[M]')\n",
    "visits['age'] = ((pd.to_datetime(visits['date']) - pd.to_datetime(visits['first_visit'])) / \n",
    "                 np.timedelta64(1, 'M')).round().astype('int')\n",
    "visits.head()"
   ]
  },
  {
   "cell_type": "markdown",
   "metadata": {},
   "source": [
    "Now let's define number of unique visitors for each cohort during whole period:"
   ]
  },
  {
   "cell_type": "code",
   "execution_count": 39,
   "metadata": {},
   "outputs": [
    {
     "data": {
      "text/html": [
       "<div>\n",
       "<style scoped>\n",
       "    .dataframe tbody tr th:only-of-type {\n",
       "        vertical-align: middle;\n",
       "    }\n",
       "\n",
       "    .dataframe tbody tr th {\n",
       "        vertical-align: top;\n",
       "    }\n",
       "\n",
       "    .dataframe thead th {\n",
       "        text-align: right;\n",
       "    }\n",
       "</style>\n",
       "<table border=\"1\" class=\"dataframe\">\n",
       "  <thead>\n",
       "    <tr style=\"text-align: right;\">\n",
       "      <th>age</th>\n",
       "      <th>0</th>\n",
       "      <th>1</th>\n",
       "      <th>2</th>\n",
       "      <th>3</th>\n",
       "      <th>4</th>\n",
       "      <th>5</th>\n",
       "      <th>6</th>\n",
       "      <th>7</th>\n",
       "      <th>8</th>\n",
       "      <th>9</th>\n",
       "      <th>10</th>\n",
       "      <th>11</th>\n",
       "      <th>12</th>\n",
       "    </tr>\n",
       "    <tr>\n",
       "      <th>cohort</th>\n",
       "      <th></th>\n",
       "      <th></th>\n",
       "      <th></th>\n",
       "      <th></th>\n",
       "      <th></th>\n",
       "      <th></th>\n",
       "      <th></th>\n",
       "      <th></th>\n",
       "      <th></th>\n",
       "      <th></th>\n",
       "      <th></th>\n",
       "      <th></th>\n",
       "      <th></th>\n",
       "    </tr>\n",
       "  </thead>\n",
       "  <tbody>\n",
       "    <tr>\n",
       "      <th>2017-06-01</th>\n",
       "      <td>13259.0</td>\n",
       "      <td>976.0</td>\n",
       "      <td>704.0</td>\n",
       "      <td>814.0</td>\n",
       "      <td>915.0</td>\n",
       "      <td>886.0</td>\n",
       "      <td>850.0</td>\n",
       "      <td>732.0</td>\n",
       "      <td>749.0</td>\n",
       "      <td>658.0</td>\n",
       "      <td>561.0</td>\n",
       "      <td>521.0</td>\n",
       "      <td>167.0</td>\n",
       "    </tr>\n",
       "    <tr>\n",
       "      <th>2017-07-01</th>\n",
       "      <td>13140.0</td>\n",
       "      <td>743.0</td>\n",
       "      <td>677.0</td>\n",
       "      <td>712.0</td>\n",
       "      <td>741.0</td>\n",
       "      <td>641.0</td>\n",
       "      <td>589.0</td>\n",
       "      <td>638.0</td>\n",
       "      <td>492.0</td>\n",
       "      <td>376.0</td>\n",
       "      <td>320.0</td>\n",
       "      <td>65.0</td>\n",
       "      <td>0.0</td>\n",
       "    </tr>\n",
       "    <tr>\n",
       "      <th>2017-08-01</th>\n",
       "      <td>10181.0</td>\n",
       "      <td>710.0</td>\n",
       "      <td>621.0</td>\n",
       "      <td>604.0</td>\n",
       "      <td>515.0</td>\n",
       "      <td>430.0</td>\n",
       "      <td>416.0</td>\n",
       "      <td>343.0</td>\n",
       "      <td>296.0</td>\n",
       "      <td>233.0</td>\n",
       "      <td>29.0</td>\n",
       "      <td>0.0</td>\n",
       "      <td>0.0</td>\n",
       "    </tr>\n",
       "    <tr>\n",
       "      <th>2017-09-01</th>\n",
       "      <td>16704.0</td>\n",
       "      <td>1289.0</td>\n",
       "      <td>1096.0</td>\n",
       "      <td>827.0</td>\n",
       "      <td>668.0</td>\n",
       "      <td>660.0</td>\n",
       "      <td>556.0</td>\n",
       "      <td>424.0</td>\n",
       "      <td>333.0</td>\n",
       "      <td>39.0</td>\n",
       "      <td>0.0</td>\n",
       "      <td>0.0</td>\n",
       "      <td>0.0</td>\n",
       "    </tr>\n",
       "    <tr>\n",
       "      <th>2017-10-01</th>\n",
       "      <td>25977.0</td>\n",
       "      <td>1912.0</td>\n",
       "      <td>1346.0</td>\n",
       "      <td>1001.0</td>\n",
       "      <td>948.0</td>\n",
       "      <td>805.0</td>\n",
       "      <td>546.0</td>\n",
       "      <td>460.0</td>\n",
       "      <td>81.0</td>\n",
       "      <td>0.0</td>\n",
       "      <td>0.0</td>\n",
       "      <td>0.0</td>\n",
       "      <td>0.0</td>\n",
       "    </tr>\n",
       "    <tr>\n",
       "      <th>2017-11-01</th>\n",
       "      <td>27248.0</td>\n",
       "      <td>1888.0</td>\n",
       "      <td>1246.0</td>\n",
       "      <td>1060.0</td>\n",
       "      <td>860.0</td>\n",
       "      <td>646.0</td>\n",
       "      <td>502.0</td>\n",
       "      <td>66.0</td>\n",
       "      <td>0.0</td>\n",
       "      <td>0.0</td>\n",
       "      <td>0.0</td>\n",
       "      <td>0.0</td>\n",
       "      <td>0.0</td>\n",
       "    </tr>\n",
       "    <tr>\n",
       "      <th>2017-12-01</th>\n",
       "      <td>25268.0</td>\n",
       "      <td>1301.0</td>\n",
       "      <td>1010.0</td>\n",
       "      <td>737.0</td>\n",
       "      <td>546.0</td>\n",
       "      <td>402.0</td>\n",
       "      <td>67.0</td>\n",
       "      <td>0.0</td>\n",
       "      <td>0.0</td>\n",
       "      <td>0.0</td>\n",
       "      <td>0.0</td>\n",
       "      <td>0.0</td>\n",
       "      <td>0.0</td>\n",
       "    </tr>\n",
       "    <tr>\n",
       "      <th>2018-01-01</th>\n",
       "      <td>22624.0</td>\n",
       "      <td>1212.0</td>\n",
       "      <td>809.0</td>\n",
       "      <td>580.0</td>\n",
       "      <td>387.0</td>\n",
       "      <td>37.0</td>\n",
       "      <td>0.0</td>\n",
       "      <td>0.0</td>\n",
       "      <td>0.0</td>\n",
       "      <td>0.0</td>\n",
       "      <td>0.0</td>\n",
       "      <td>0.0</td>\n",
       "      <td>0.0</td>\n",
       "    </tr>\n",
       "    <tr>\n",
       "      <th>2018-02-01</th>\n",
       "      <td>22197.0</td>\n",
       "      <td>1061.0</td>\n",
       "      <td>581.0</td>\n",
       "      <td>402.0</td>\n",
       "      <td>42.0</td>\n",
       "      <td>0.0</td>\n",
       "      <td>0.0</td>\n",
       "      <td>0.0</td>\n",
       "      <td>0.0</td>\n",
       "      <td>0.0</td>\n",
       "      <td>0.0</td>\n",
       "      <td>0.0</td>\n",
       "      <td>0.0</td>\n",
       "    </tr>\n",
       "    <tr>\n",
       "      <th>2018-03-01</th>\n",
       "      <td>20589.0</td>\n",
       "      <td>854.0</td>\n",
       "      <td>503.0</td>\n",
       "      <td>75.0</td>\n",
       "      <td>0.0</td>\n",
       "      <td>0.0</td>\n",
       "      <td>0.0</td>\n",
       "      <td>0.0</td>\n",
       "      <td>0.0</td>\n",
       "      <td>0.0</td>\n",
       "      <td>0.0</td>\n",
       "      <td>0.0</td>\n",
       "      <td>0.0</td>\n",
       "    </tr>\n",
       "    <tr>\n",
       "      <th>2018-04-01</th>\n",
       "      <td>15709.0</td>\n",
       "      <td>624.0</td>\n",
       "      <td>62.0</td>\n",
       "      <td>0.0</td>\n",
       "      <td>0.0</td>\n",
       "      <td>0.0</td>\n",
       "      <td>0.0</td>\n",
       "      <td>0.0</td>\n",
       "      <td>0.0</td>\n",
       "      <td>0.0</td>\n",
       "      <td>0.0</td>\n",
       "      <td>0.0</td>\n",
       "      <td>0.0</td>\n",
       "    </tr>\n",
       "    <tr>\n",
       "      <th>2018-05-01</th>\n",
       "      <td>15273.0</td>\n",
       "      <td>95.0</td>\n",
       "      <td>0.0</td>\n",
       "      <td>0.0</td>\n",
       "      <td>0.0</td>\n",
       "      <td>0.0</td>\n",
       "      <td>0.0</td>\n",
       "      <td>0.0</td>\n",
       "      <td>0.0</td>\n",
       "      <td>0.0</td>\n",
       "      <td>0.0</td>\n",
       "      <td>0.0</td>\n",
       "      <td>0.0</td>\n",
       "    </tr>\n",
       "  </tbody>\n",
       "</table>\n",
       "</div>"
      ],
      "text/plain": [
       "age              0       1       2       3      4      5      6      7   \\\n",
       "cohort                                                                    \n",
       "2017-06-01  13259.0   976.0   704.0   814.0  915.0  886.0  850.0  732.0   \n",
       "2017-07-01  13140.0   743.0   677.0   712.0  741.0  641.0  589.0  638.0   \n",
       "2017-08-01  10181.0   710.0   621.0   604.0  515.0  430.0  416.0  343.0   \n",
       "2017-09-01  16704.0  1289.0  1096.0   827.0  668.0  660.0  556.0  424.0   \n",
       "2017-10-01  25977.0  1912.0  1346.0  1001.0  948.0  805.0  546.0  460.0   \n",
       "2017-11-01  27248.0  1888.0  1246.0  1060.0  860.0  646.0  502.0   66.0   \n",
       "2017-12-01  25268.0  1301.0  1010.0   737.0  546.0  402.0   67.0    0.0   \n",
       "2018-01-01  22624.0  1212.0   809.0   580.0  387.0   37.0    0.0    0.0   \n",
       "2018-02-01  22197.0  1061.0   581.0   402.0   42.0    0.0    0.0    0.0   \n",
       "2018-03-01  20589.0   854.0   503.0    75.0    0.0    0.0    0.0    0.0   \n",
       "2018-04-01  15709.0   624.0    62.0     0.0    0.0    0.0    0.0    0.0   \n",
       "2018-05-01  15273.0    95.0     0.0     0.0    0.0    0.0    0.0    0.0   \n",
       "\n",
       "age            8      9      10     11     12  \n",
       "cohort                                         \n",
       "2017-06-01  749.0  658.0  561.0  521.0  167.0  \n",
       "2017-07-01  492.0  376.0  320.0   65.0    0.0  \n",
       "2017-08-01  296.0  233.0   29.0    0.0    0.0  \n",
       "2017-09-01  333.0   39.0    0.0    0.0    0.0  \n",
       "2017-10-01   81.0    0.0    0.0    0.0    0.0  \n",
       "2017-11-01    0.0    0.0    0.0    0.0    0.0  \n",
       "2017-12-01    0.0    0.0    0.0    0.0    0.0  \n",
       "2018-01-01    0.0    0.0    0.0    0.0    0.0  \n",
       "2018-02-01    0.0    0.0    0.0    0.0    0.0  \n",
       "2018-03-01    0.0    0.0    0.0    0.0    0.0  \n",
       "2018-04-01    0.0    0.0    0.0    0.0    0.0  \n",
       "2018-05-01    0.0    0.0    0.0    0.0    0.0  "
      ]
     },
     "execution_count": 39,
     "metadata": {},
     "output_type": "execute_result"
    }
   ],
   "source": [
    "visit_cohorts = visits.pivot_table(index = 'cohort', columns = 'age', values = 'uid', aggfunc = 'nunique').fillna(0)\n",
    "visit_cohorts "
   ]
  },
  {
   "cell_type": "markdown",
   "metadata": {},
   "source": [
    "After that we'll define retention rate and plot heatmap"
   ]
  },
  {
   "cell_type": "code",
   "execution_count": 40,
   "metadata": {},
   "outputs": [
    {
     "data": {
      "text/html": [
       "<div>\n",
       "<style scoped>\n",
       "    .dataframe tbody tr th:only-of-type {\n",
       "        vertical-align: middle;\n",
       "    }\n",
       "\n",
       "    .dataframe tbody tr th {\n",
       "        vertical-align: top;\n",
       "    }\n",
       "\n",
       "    .dataframe thead th {\n",
       "        text-align: right;\n",
       "    }\n",
       "</style>\n",
       "<table border=\"1\" class=\"dataframe\">\n",
       "  <thead>\n",
       "    <tr style=\"text-align: right;\">\n",
       "      <th>age</th>\n",
       "      <th>0</th>\n",
       "      <th>1</th>\n",
       "      <th>2</th>\n",
       "      <th>3</th>\n",
       "      <th>4</th>\n",
       "      <th>5</th>\n",
       "      <th>6</th>\n",
       "      <th>7</th>\n",
       "      <th>8</th>\n",
       "      <th>9</th>\n",
       "      <th>10</th>\n",
       "      <th>11</th>\n",
       "      <th>12</th>\n",
       "    </tr>\n",
       "    <tr>\n",
       "      <th>cohort</th>\n",
       "      <th></th>\n",
       "      <th></th>\n",
       "      <th></th>\n",
       "      <th></th>\n",
       "      <th></th>\n",
       "      <th></th>\n",
       "      <th></th>\n",
       "      <th></th>\n",
       "      <th></th>\n",
       "      <th></th>\n",
       "      <th></th>\n",
       "      <th></th>\n",
       "      <th></th>\n",
       "    </tr>\n",
       "  </thead>\n",
       "  <tbody>\n",
       "    <tr>\n",
       "      <th>2017-06-01</th>\n",
       "      <td>1.0</td>\n",
       "      <td>0.073610</td>\n",
       "      <td>0.053096</td>\n",
       "      <td>0.061392</td>\n",
       "      <td>0.069010</td>\n",
       "      <td>0.066823</td>\n",
       "      <td>0.064107</td>\n",
       "      <td>0.055208</td>\n",
       "      <td>0.056490</td>\n",
       "      <td>0.049627</td>\n",
       "      <td>0.042311</td>\n",
       "      <td>0.039294</td>\n",
       "      <td>0.012595</td>\n",
       "    </tr>\n",
       "    <tr>\n",
       "      <th>2017-07-01</th>\n",
       "      <td>1.0</td>\n",
       "      <td>0.056545</td>\n",
       "      <td>0.051522</td>\n",
       "      <td>0.054186</td>\n",
       "      <td>0.056393</td>\n",
       "      <td>0.048782</td>\n",
       "      <td>0.044825</td>\n",
       "      <td>0.048554</td>\n",
       "      <td>0.037443</td>\n",
       "      <td>0.028615</td>\n",
       "      <td>0.024353</td>\n",
       "      <td>0.004947</td>\n",
       "      <td>0.000000</td>\n",
       "    </tr>\n",
       "    <tr>\n",
       "      <th>2017-08-01</th>\n",
       "      <td>1.0</td>\n",
       "      <td>0.069738</td>\n",
       "      <td>0.060996</td>\n",
       "      <td>0.059326</td>\n",
       "      <td>0.050584</td>\n",
       "      <td>0.042236</td>\n",
       "      <td>0.040860</td>\n",
       "      <td>0.033690</td>\n",
       "      <td>0.029074</td>\n",
       "      <td>0.022886</td>\n",
       "      <td>0.002848</td>\n",
       "      <td>0.000000</td>\n",
       "      <td>0.000000</td>\n",
       "    </tr>\n",
       "    <tr>\n",
       "      <th>2017-09-01</th>\n",
       "      <td>1.0</td>\n",
       "      <td>0.077167</td>\n",
       "      <td>0.065613</td>\n",
       "      <td>0.049509</td>\n",
       "      <td>0.039990</td>\n",
       "      <td>0.039511</td>\n",
       "      <td>0.033285</td>\n",
       "      <td>0.025383</td>\n",
       "      <td>0.019935</td>\n",
       "      <td>0.002335</td>\n",
       "      <td>0.000000</td>\n",
       "      <td>0.000000</td>\n",
       "      <td>0.000000</td>\n",
       "    </tr>\n",
       "    <tr>\n",
       "      <th>2017-10-01</th>\n",
       "      <td>1.0</td>\n",
       "      <td>0.073604</td>\n",
       "      <td>0.051815</td>\n",
       "      <td>0.038534</td>\n",
       "      <td>0.036494</td>\n",
       "      <td>0.030989</td>\n",
       "      <td>0.021019</td>\n",
       "      <td>0.017708</td>\n",
       "      <td>0.003118</td>\n",
       "      <td>0.000000</td>\n",
       "      <td>0.000000</td>\n",
       "      <td>0.000000</td>\n",
       "      <td>0.000000</td>\n",
       "    </tr>\n",
       "    <tr>\n",
       "      <th>2017-11-01</th>\n",
       "      <td>1.0</td>\n",
       "      <td>0.069289</td>\n",
       "      <td>0.045728</td>\n",
       "      <td>0.038902</td>\n",
       "      <td>0.031562</td>\n",
       "      <td>0.023708</td>\n",
       "      <td>0.018423</td>\n",
       "      <td>0.002422</td>\n",
       "      <td>0.000000</td>\n",
       "      <td>0.000000</td>\n",
       "      <td>0.000000</td>\n",
       "      <td>0.000000</td>\n",
       "      <td>0.000000</td>\n",
       "    </tr>\n",
       "    <tr>\n",
       "      <th>2017-12-01</th>\n",
       "      <td>1.0</td>\n",
       "      <td>0.051488</td>\n",
       "      <td>0.039972</td>\n",
       "      <td>0.029167</td>\n",
       "      <td>0.021608</td>\n",
       "      <td>0.015909</td>\n",
       "      <td>0.002652</td>\n",
       "      <td>0.000000</td>\n",
       "      <td>0.000000</td>\n",
       "      <td>0.000000</td>\n",
       "      <td>0.000000</td>\n",
       "      <td>0.000000</td>\n",
       "      <td>0.000000</td>\n",
       "    </tr>\n",
       "    <tr>\n",
       "      <th>2018-01-01</th>\n",
       "      <td>1.0</td>\n",
       "      <td>0.053571</td>\n",
       "      <td>0.035758</td>\n",
       "      <td>0.025636</td>\n",
       "      <td>0.017106</td>\n",
       "      <td>0.001635</td>\n",
       "      <td>0.000000</td>\n",
       "      <td>0.000000</td>\n",
       "      <td>0.000000</td>\n",
       "      <td>0.000000</td>\n",
       "      <td>0.000000</td>\n",
       "      <td>0.000000</td>\n",
       "      <td>0.000000</td>\n",
       "    </tr>\n",
       "    <tr>\n",
       "      <th>2018-02-01</th>\n",
       "      <td>1.0</td>\n",
       "      <td>0.047799</td>\n",
       "      <td>0.026175</td>\n",
       "      <td>0.018111</td>\n",
       "      <td>0.001892</td>\n",
       "      <td>0.000000</td>\n",
       "      <td>0.000000</td>\n",
       "      <td>0.000000</td>\n",
       "      <td>0.000000</td>\n",
       "      <td>0.000000</td>\n",
       "      <td>0.000000</td>\n",
       "      <td>0.000000</td>\n",
       "      <td>0.000000</td>\n",
       "    </tr>\n",
       "    <tr>\n",
       "      <th>2018-03-01</th>\n",
       "      <td>1.0</td>\n",
       "      <td>0.041478</td>\n",
       "      <td>0.024431</td>\n",
       "      <td>0.003643</td>\n",
       "      <td>0.000000</td>\n",
       "      <td>0.000000</td>\n",
       "      <td>0.000000</td>\n",
       "      <td>0.000000</td>\n",
       "      <td>0.000000</td>\n",
       "      <td>0.000000</td>\n",
       "      <td>0.000000</td>\n",
       "      <td>0.000000</td>\n",
       "      <td>0.000000</td>\n",
       "    </tr>\n",
       "    <tr>\n",
       "      <th>2018-04-01</th>\n",
       "      <td>1.0</td>\n",
       "      <td>0.039722</td>\n",
       "      <td>0.003947</td>\n",
       "      <td>0.000000</td>\n",
       "      <td>0.000000</td>\n",
       "      <td>0.000000</td>\n",
       "      <td>0.000000</td>\n",
       "      <td>0.000000</td>\n",
       "      <td>0.000000</td>\n",
       "      <td>0.000000</td>\n",
       "      <td>0.000000</td>\n",
       "      <td>0.000000</td>\n",
       "      <td>0.000000</td>\n",
       "    </tr>\n",
       "    <tr>\n",
       "      <th>2018-05-01</th>\n",
       "      <td>1.0</td>\n",
       "      <td>0.006220</td>\n",
       "      <td>0.000000</td>\n",
       "      <td>0.000000</td>\n",
       "      <td>0.000000</td>\n",
       "      <td>0.000000</td>\n",
       "      <td>0.000000</td>\n",
       "      <td>0.000000</td>\n",
       "      <td>0.000000</td>\n",
       "      <td>0.000000</td>\n",
       "      <td>0.000000</td>\n",
       "      <td>0.000000</td>\n",
       "      <td>0.000000</td>\n",
       "    </tr>\n",
       "  </tbody>\n",
       "</table>\n",
       "</div>"
      ],
      "text/plain": [
       "age          0         1         2         3         4         5         6   \\\n",
       "cohort                                                                        \n",
       "2017-06-01  1.0  0.073610  0.053096  0.061392  0.069010  0.066823  0.064107   \n",
       "2017-07-01  1.0  0.056545  0.051522  0.054186  0.056393  0.048782  0.044825   \n",
       "2017-08-01  1.0  0.069738  0.060996  0.059326  0.050584  0.042236  0.040860   \n",
       "2017-09-01  1.0  0.077167  0.065613  0.049509  0.039990  0.039511  0.033285   \n",
       "2017-10-01  1.0  0.073604  0.051815  0.038534  0.036494  0.030989  0.021019   \n",
       "2017-11-01  1.0  0.069289  0.045728  0.038902  0.031562  0.023708  0.018423   \n",
       "2017-12-01  1.0  0.051488  0.039972  0.029167  0.021608  0.015909  0.002652   \n",
       "2018-01-01  1.0  0.053571  0.035758  0.025636  0.017106  0.001635  0.000000   \n",
       "2018-02-01  1.0  0.047799  0.026175  0.018111  0.001892  0.000000  0.000000   \n",
       "2018-03-01  1.0  0.041478  0.024431  0.003643  0.000000  0.000000  0.000000   \n",
       "2018-04-01  1.0  0.039722  0.003947  0.000000  0.000000  0.000000  0.000000   \n",
       "2018-05-01  1.0  0.006220  0.000000  0.000000  0.000000  0.000000  0.000000   \n",
       "\n",
       "age               7         8         9         10        11        12  \n",
       "cohort                                                                  \n",
       "2017-06-01  0.055208  0.056490  0.049627  0.042311  0.039294  0.012595  \n",
       "2017-07-01  0.048554  0.037443  0.028615  0.024353  0.004947  0.000000  \n",
       "2017-08-01  0.033690  0.029074  0.022886  0.002848  0.000000  0.000000  \n",
       "2017-09-01  0.025383  0.019935  0.002335  0.000000  0.000000  0.000000  \n",
       "2017-10-01  0.017708  0.003118  0.000000  0.000000  0.000000  0.000000  \n",
       "2017-11-01  0.002422  0.000000  0.000000  0.000000  0.000000  0.000000  \n",
       "2017-12-01  0.000000  0.000000  0.000000  0.000000  0.000000  0.000000  \n",
       "2018-01-01  0.000000  0.000000  0.000000  0.000000  0.000000  0.000000  \n",
       "2018-02-01  0.000000  0.000000  0.000000  0.000000  0.000000  0.000000  \n",
       "2018-03-01  0.000000  0.000000  0.000000  0.000000  0.000000  0.000000  \n",
       "2018-04-01  0.000000  0.000000  0.000000  0.000000  0.000000  0.000000  \n",
       "2018-05-01  0.000000  0.000000  0.000000  0.000000  0.000000  0.000000  "
      ]
     },
     "execution_count": 40,
     "metadata": {},
     "output_type": "execute_result"
    }
   ],
   "source": [
    "retention=visit_cohorts.iloc[:,0:].div(visit_cohorts[0], axis=0)\n",
    "retention"
   ]
  },
  {
   "cell_type": "code",
   "execution_count": 41,
   "metadata": {},
   "outputs": [
    {
     "data": {
      "image/png": "[encoded data removed]",
      "text/plain": [
       "<Figure size 1080x648 with 2 Axes>"
      ]
     },
     "metadata": {
      "needs_background": "light"
     },
     "output_type": "display_data"
    }
   ],
   "source": [
    "retention.index=retention.index.astype(str)\n",
    "plt.figure(figsize=(15, 9))\n",
    "sns.heatmap(retention, annot=True, fmt='.1%', linewidths=1, linecolor='gray', vmax = 0.1)\n",
    "plt.title('Cohorts: User Retention')\n",
    "plt.show()"
   ]
  },
  {
   "cell_type": "markdown",
   "metadata": {},
   "source": [
    "_____     \n",
    "#### Conclusion    \n",
    " \n",
    "So, in general, our graphs show us that our customers spend a pretty small amount of time using our product, they have quite a low percentage of returning from the first session and we can mention the peak of user activity from October to March. Everything sounds logical: you don't need a lot of time to view events, you just check info in general. Also, in general, tickets don't have high check, it's situation of \"low decision margin\" and users don't looking where is lowest price, so they do not need return to our product several times. And the highest level of activity fall in most cold period, where are a lot of events take place. "
   ]
  },
  {
   "cell_type": "markdown",
   "metadata": {},
   "source": [
    "#### **Sales**   \n",
    " - When do people start buying? (In KPI analysis, we're usually interested in knowing the time that elapses between registration and conversion — when the user becomes a customer. For example, if registration and the first purchase occur on the same day, the user might fall into category Conversion 0d. If the first purchase happens the next day, it will be Conversion 1d. You can use any approach that lets you compare the conversions of different cohorts, so that you can determine which cohort, or marketing channel, is most effective.)   \n",
    " - How many orders do they make during a given period of time?   \n",
    " - What is the average purchase size?   \n",
    " - How much money do they bring? (LTV)   "
   ]
  },
  {
   "cell_type": "markdown",
   "metadata": {},
   "source": [
    "#####  When do people start buying?"
   ]
  },
  {
   "cell_type": "markdown",
   "metadata": {},
   "source": [
    "At first, let's define date of first purchase:"
   ]
  },
  {
   "cell_type": "code",
   "execution_count": 42,
   "metadata": {},
   "outputs": [
    {
     "data": {
      "text/html": [
       "<div>\n",
       "<style scoped>\n",
       "    .dataframe tbody tr th:only-of-type {\n",
       "        vertical-align: middle;\n",
       "    }\n",
       "\n",
       "    .dataframe tbody tr th {\n",
       "        vertical-align: top;\n",
       "    }\n",
       "\n",
       "    .dataframe thead th {\n",
       "        text-align: right;\n",
       "    }\n",
       "</style>\n",
       "<table border=\"1\" class=\"dataframe\">\n",
       "  <thead>\n",
       "    <tr style=\"text-align: right;\">\n",
       "      <th></th>\n",
       "      <th>uid</th>\n",
       "      <th>first_order</th>\n",
       "    </tr>\n",
       "  </thead>\n",
       "  <tbody>\n",
       "    <tr>\n",
       "      <th>0</th>\n",
       "      <td>313578113262317</td>\n",
       "      <td>2018-01-03 21:51:00</td>\n",
       "    </tr>\n",
       "    <tr>\n",
       "      <th>1</th>\n",
       "      <td>1575281904278712</td>\n",
       "      <td>2017-06-03 10:13:00</td>\n",
       "    </tr>\n",
       "    <tr>\n",
       "      <th>2</th>\n",
       "      <td>2429014661409475</td>\n",
       "      <td>2017-10-11 18:33:00</td>\n",
       "    </tr>\n",
       "    <tr>\n",
       "      <th>3</th>\n",
       "      <td>2464366381792757</td>\n",
       "      <td>2018-01-28 15:54:00</td>\n",
       "    </tr>\n",
       "    <tr>\n",
       "      <th>4</th>\n",
       "      <td>2551852515556206</td>\n",
       "      <td>2017-11-24 10:14:00</td>\n",
       "    </tr>\n",
       "  </tbody>\n",
       "</table>\n",
       "</div>"
      ],
      "text/plain": [
       "                uid         first_order\n",
       "0   313578113262317 2018-01-03 21:51:00\n",
       "1  1575281904278712 2017-06-03 10:13:00\n",
       "2  2429014661409475 2017-10-11 18:33:00\n",
       "3  2464366381792757 2018-01-28 15:54:00\n",
       "4  2551852515556206 2017-11-24 10:14:00"
      ]
     },
     "execution_count": 42,
     "metadata": {},
     "output_type": "execute_result"
    }
   ],
   "source": [
    "first_order = orders.groupby(['uid'])['buy_ts'].min().reset_index()\n",
    "first_order.columns = ['uid', 'first_order']\n",
    "first_order.head() "
   ]
  },
  {
   "cell_type": "markdown",
   "metadata": {},
   "source": [
    "Let's join to this table those visitors with the same ID, after we'll calculate the number of days between first purchase and first visit and plot histogram:  "
   ]
  },
  {
   "cell_type": "code",
   "execution_count": 43,
   "metadata": {},
   "outputs": [
    {
     "data": {
      "text/html": [
       "<div>\n",
       "<style scoped>\n",
       "    .dataframe tbody tr th:only-of-type {\n",
       "        vertical-align: middle;\n",
       "    }\n",
       "\n",
       "    .dataframe tbody tr th {\n",
       "        vertical-align: top;\n",
       "    }\n",
       "\n",
       "    .dataframe thead th {\n",
       "        text-align: right;\n",
       "    }\n",
       "</style>\n",
       "<table border=\"1\" class=\"dataframe\">\n",
       "  <thead>\n",
       "    <tr style=\"text-align: right;\">\n",
       "      <th></th>\n",
       "      <th>uid</th>\n",
       "      <th>first_order</th>\n",
       "      <th>device</th>\n",
       "      <th>end_ts</th>\n",
       "      <th>source_id</th>\n",
       "      <th>start_ts</th>\n",
       "      <th>month</th>\n",
       "      <th>week</th>\n",
       "      <th>date</th>\n",
       "      <th>session_duration</th>\n",
       "      <th>first_visit</th>\n",
       "      <th>cohort</th>\n",
       "      <th>age</th>\n",
       "    </tr>\n",
       "  </thead>\n",
       "  <tbody>\n",
       "    <tr>\n",
       "      <th>0</th>\n",
       "      <td>313578113262317</td>\n",
       "      <td>2018-01-03 21:51:00</td>\n",
       "      <td>desktop</td>\n",
       "      <td>2018-03-11 17:29:00</td>\n",
       "      <td>2</td>\n",
       "      <td>2018-03-11 17:23:00</td>\n",
       "      <td>2018-03-01</td>\n",
       "      <td>2018-03-08</td>\n",
       "      <td>2018-03-11</td>\n",
       "      <td>360</td>\n",
       "      <td>2017-09-18 22:49:00</td>\n",
       "      <td>2017-09-01</td>\n",
       "      <td>6</td>\n",
       "    </tr>\n",
       "    <tr>\n",
       "      <th>1</th>\n",
       "      <td>313578113262317</td>\n",
       "      <td>2018-01-03 21:51:00</td>\n",
       "      <td>desktop</td>\n",
       "      <td>2017-09-18 23:07:00</td>\n",
       "      <td>2</td>\n",
       "      <td>2017-09-18 22:49:00</td>\n",
       "      <td>2017-09-01</td>\n",
       "      <td>2017-09-14</td>\n",
       "      <td>2017-09-18</td>\n",
       "      <td>1080</td>\n",
       "      <td>2017-09-18 22:49:00</td>\n",
       "      <td>2017-09-01</td>\n",
       "      <td>0</td>\n",
       "    </tr>\n",
       "    <tr>\n",
       "      <th>2</th>\n",
       "      <td>313578113262317</td>\n",
       "      <td>2018-01-03 21:51:00</td>\n",
       "      <td>desktop</td>\n",
       "      <td>2018-02-18 15:26:00</td>\n",
       "      <td>2</td>\n",
       "      <td>2018-02-18 15:17:00</td>\n",
       "      <td>2018-02-01</td>\n",
       "      <td>2018-02-15</td>\n",
       "      <td>2018-02-18</td>\n",
       "      <td>540</td>\n",
       "      <td>2017-09-18 22:49:00</td>\n",
       "      <td>2017-09-01</td>\n",
       "      <td>5</td>\n",
       "    </tr>\n",
       "    <tr>\n",
       "      <th>3</th>\n",
       "      <td>1575281904278712</td>\n",
       "      <td>2017-06-03 10:13:00</td>\n",
       "      <td>touch</td>\n",
       "      <td>2017-06-03 10:17:00</td>\n",
       "      <td>10</td>\n",
       "      <td>2017-06-03 10:13:00</td>\n",
       "      <td>2017-06-01</td>\n",
       "      <td>2017-06-01</td>\n",
       "      <td>2017-06-03</td>\n",
       "      <td>240</td>\n",
       "      <td>2017-06-03 10:13:00</td>\n",
       "      <td>2017-06-01</td>\n",
       "      <td>0</td>\n",
       "    </tr>\n",
       "    <tr>\n",
       "      <th>4</th>\n",
       "      <td>1575281904278712</td>\n",
       "      <td>2017-06-03 10:13:00</td>\n",
       "      <td>touch</td>\n",
       "      <td>2017-06-03 17:48:00</td>\n",
       "      <td>10</td>\n",
       "      <td>2017-06-03 17:36:00</td>\n",
       "      <td>2017-06-01</td>\n",
       "      <td>2017-06-01</td>\n",
       "      <td>2017-06-03</td>\n",
       "      <td>720</td>\n",
       "      <td>2017-06-03 10:13:00</td>\n",
       "      <td>2017-06-01</td>\n",
       "      <td>0</td>\n",
       "    </tr>\n",
       "  </tbody>\n",
       "</table>\n",
       "</div>"
      ],
      "text/plain": [
       "                uid         first_order   device              end_ts  \\\n",
       "0   313578113262317 2018-01-03 21:51:00  desktop 2018-03-11 17:29:00   \n",
       "1   313578113262317 2018-01-03 21:51:00  desktop 2017-09-18 23:07:00   \n",
       "2   313578113262317 2018-01-03 21:51:00  desktop 2018-02-18 15:26:00   \n",
       "3  1575281904278712 2017-06-03 10:13:00    touch 2017-06-03 10:17:00   \n",
       "4  1575281904278712 2017-06-03 10:13:00    touch 2017-06-03 17:48:00   \n",
       "\n",
       "   source_id            start_ts      month       week        date  \\\n",
       "0          2 2018-03-11 17:23:00 2018-03-01 2018-03-08  2018-03-11   \n",
       "1          2 2017-09-18 22:49:00 2017-09-01 2017-09-14  2017-09-18   \n",
       "2          2 2018-02-18 15:17:00 2018-02-01 2018-02-15  2018-02-18   \n",
       "3         10 2017-06-03 10:13:00 2017-06-01 2017-06-01  2017-06-03   \n",
       "4         10 2017-06-03 17:36:00 2017-06-01 2017-06-01  2017-06-03   \n",
       "\n",
       "   session_duration         first_visit     cohort  age  \n",
       "0               360 2017-09-18 22:49:00 2017-09-01    6  \n",
       "1              1080 2017-09-18 22:49:00 2017-09-01    0  \n",
       "2               540 2017-09-18 22:49:00 2017-09-01    5  \n",
       "3               240 2017-06-03 10:13:00 2017-06-01    0  \n",
       "4               720 2017-06-03 10:13:00 2017-06-01    0  "
      ]
     },
     "execution_count": 43,
     "metadata": {},
     "output_type": "execute_result"
    }
   ],
   "source": [
    "start_purchase = first_order.merge(visits, how = 'left', on = ['uid'])\n",
    "start_purchase.head()"
   ]
  },
  {
   "cell_type": "markdown",
   "metadata": {},
   "source": [
    "**Conclusion**   \n",
    "\n",
    "Sorry, could you explain what is particularly wrong on that point? If we're talking about calculations, we have to define the number of days between the date of first session and date of first purchase, right? Other words we have to subtract values in the *'first visit'* column from the *'first order'* column... In that case, the *'first visit'* column I've already joined in previous task, when defined the cohorts. I mean that there are no points to duplicates, it's the same values either in **'first_visit'** table or **'visit'** table"
   ]
  },
  {
   "cell_type": "code",
   "execution_count": 44,
   "metadata": {},
   "outputs": [],
   "source": [
    "start_purchase['conversion'] = ((pd.to_datetime(start_purchase['first_order'])-pd.to_datetime(start_purchase['first_visit']))\n",
    "                                / np.timedelta64(1,'D')).astype('int')"
   ]
  },
  {
   "cell_type": "code",
   "execution_count": 45,
   "metadata": {},
   "outputs": [
    {
     "data": {
      "image/svg+xml": [
       "<svg class=\"main-svg\" xmlns=\"http://www.w3.org/2000/svg\" xmlns:xlink=\"http://www.w3.org/1999/xlink\" width=\"700\" height=\"500\" style=\"\" viewBox=\"0 0 700 500\"><rect x=\"0\" y=\"0\" width=\"700\" height=\"500\" style=\"fill: rgb(255, 255, 255); fill-opacity: 1;\"/><defs id=\"defs-982172\"><g class=\"clips\"><clipPath id=\"clip982172xyplot\" class=\"plotclip\"><rect width=\"540\" height=\"320\"/></clipPath><clipPath class=\"axesclip\" id=\"clip982172x\"><rect x=\"80\" y=\"0\" width=\"540\" height=\"500\"/></clipPath><clipPath class=\"axesclip\" id=\"clip982172y\"><rect x=\"0\" y=\"100\" width=\"700\" height=\"320\"/></clipPath><clipPath class=\"axesclip\" id=\"clip982172xy\"><rect x=\"80\" y=\"100\" width=\"540\" height=\"320\"/></clipPath></g><g class=\"gradients\"/><g class=\"patterns\"/></defs><g class=\"bglayer\"><rect class=\"bg\" x=\"80\" y=\"100\" width=\"540\" height=\"320\" style=\"fill: rgb(229, 236, 246); fill-opacity: 1; stroke-width: 0;\"/></g><g class=\"layer-below\"><g class=\"imagelayer\"/><g class=\"shapelayer\"/></g><g class=\"cartesianlayer\"><g class=\"subplot xy\"><g class=\"layer-subplot\"><g class=\"shapelayer\"/><g class=\"imagelayer\"/></g><g class=\"minor-gridlayer\"><g class=\"x\"/><g class=\"y\"/></g><g class=\"gridlayer\"><g class=\"x\"/><g class=\"y\"><path class=\"ygrid crisp\" transform=\"translate(0,367.54)\" d=\"M80,0h540\" style=\"stroke: rgb(255, 255, 255); stroke-opacity: 1; stroke-width: 1px;\"/><path class=\"ygrid crisp\" transform=\"translate(0,315.08000000000004)\" d=\"M80,0h540\" style=\"stroke: rgb(255, 255, 255); stroke-opacity: 1; stroke-width: 1px;\"/><path class=\"ygrid crisp\" transform=\"translate(0,262.63)\" d=\"M80,0h540\" style=\"stroke: rgb(255, 255, 255); stroke-opacity: 1; stroke-width: 1px;\"/><path class=\"ygrid crisp\" transform=\"translate(0,210.17000000000002)\" d=\"M80,0h540\" style=\"stroke: rgb(255, 255, 255); stroke-opacity: 1; stroke-width: 1px;\"/><path class=\"ygrid crisp\" transform=\"translate(0,157.71)\" d=\"M80,0h540\" style=\"stroke: rgb(255, 255, 255); stroke-opacity: 1; stroke-width: 1px;\"/><path class=\"ygrid crisp\" transform=\"translate(0,105.25)\" d=\"M80,0h540\" style=\"stroke: rgb(255, 255, 255); stroke-opacity: 1; stroke-width: 1px;\"/></g></g><g class=\"zerolinelayer\"><path class=\"yzl zl crisp\" transform=\"translate(0,420)\" d=\"M80,0h540\" style=\"stroke: rgb(255, 255, 255); stroke-opacity: 1; stroke-width: 2px;\"/></g><path class=\"xlines-below\"/><path class=\"ylines-below\"/><g class=\"overlines-below\"/><g class=\"xaxislayer-below\"/><g class=\"yaxislayer-below\"/><g class=\"overaxes-below\"/><g class=\"plot\" transform=\"translate(80,100)\" clip-path=\"url(#clip982172xyplot)\"><g class=\"barlayer mlayer\"><g class=\"trace bars\" shape-rendering=\"crispEdges\" style=\"opacity: 1;\"><g class=\"points\"><g class=\"point\"><path d=\"M0,320V16H7.4V320Z\" style=\"vector-effect: none; opacity: 1; stroke-width: 0px; fill: rgb(99, 110, 250); fill-opacity: 1;\"/></g><g class=\"point\"><path d=\"M7.4,320V295.62H14.79V320Z\" style=\"vector-effect: none; opacity: 1; stroke-width: 0px; fill: rgb(99, 110, 250); fill-opacity: 1;\"/></g><g class=\"point\"><path d=\"M14.79,320V305.89H22.19V320Z\" style=\"vector-effect: none; opacity: 1; stroke-width: 0px; fill: rgb(99, 110, 250); fill-opacity: 1;\"/></g><g class=\"point\"><path d=\"M22.19,320V310.34H29.59V320Z\" style=\"vector-effect: none; opacity: 1; stroke-width: 0px; fill: rgb(99, 110, 250); fill-opacity: 1;\"/></g><g class=\"point\"><path d=\"M29.59,320V308.1H36.99V320Z\" style=\"vector-effect: none; opacity: 1; stroke-width: 0px; fill: rgb(99, 110, 250); fill-opacity: 1;\"/></g><g class=\"point\"><path d=\"M36.99,320V310.01H44.38V320Z\" style=\"vector-effect: none; opacity: 1; stroke-width: 0px; fill: rgb(99, 110, 250); fill-opacity: 1;\"/></g><g class=\"point\"><path d=\"M44.38,320V313.46H51.78V320Z\" style=\"vector-effect: none; opacity: 1; stroke-width: 0px; fill: rgb(99, 110, 250); fill-opacity: 1;\"/></g><g class=\"point\"><path d=\"M51.78,320V313.15H59.18V320Z\" style=\"vector-effect: none; opacity: 1; stroke-width: 0px; fill: rgb(99, 110, 250); fill-opacity: 1;\"/></g><g class=\"point\"><path d=\"M59.18,320V311.11H66.58V320Z\" style=\"vector-effect: none; opacity: 1; stroke-width: 0px; fill: rgb(99, 110, 250); fill-opacity: 1;\"/></g><g class=\"point\"><path d=\"M66.58,320V314.5H73.97V320Z\" style=\"vector-effect: none; opacity: 1; stroke-width: 0px; fill: rgb(99, 110, 250); fill-opacity: 1;\"/></g><g class=\"point\"><path d=\"M73.97,320V315.39H81.37V320Z\" style=\"vector-effect: none; opacity: 1; stroke-width: 0px; fill: rgb(99, 110, 250); fill-opacity: 1;\"/></g><g class=\"point\"><path d=\"M81.37,320V315.55H88.77V320Z\" style=\"vector-effect: none; opacity: 1; stroke-width: 0px; fill: rgb(99, 110, 250); fill-opacity: 1;\"/></g><g class=\"point\"><path d=\"M88.77,320V315.59H96.16V320Z\" style=\"vector-effect: none; opacity: 1; stroke-width: 0px; fill: rgb(99, 110, 250); fill-opacity: 1;\"/></g><g class=\"point\"><path d=\"M96.16,320V315.72H103.56V320Z\" style=\"vector-effect: none; opacity: 1; stroke-width: 0px; fill: rgb(99, 110, 250); fill-opacity: 1;\"/></g><g class=\"point\"><path d=\"M103.56,320V315.6H110.96V320Z\" style=\"vector-effect: none; opacity: 1; stroke-width: 0px; fill: rgb(99, 110, 250); fill-opacity: 1;\"/></g><g class=\"point\"><path d=\"M110.96,320V315.36H118.36V320Z\" style=\"vector-effect: none; opacity: 1; stroke-width: 0px; fill: rgb(99, 110, 250); fill-opacity: 1;\"/></g><g class=\"point\"><path d=\"M118.36,320V317.39H125.75V320Z\" style=\"vector-effect: none; opacity: 1; stroke-width: 0px; fill: rgb(99, 110, 250); fill-opacity: 1;\"/></g><g class=\"point\"><path d=\"M125.75,320V316.87H133.15V320Z\" style=\"vector-effect: none; opacity: 1; stroke-width: 0px; fill: rgb(99, 110, 250); fill-opacity: 1;\"/></g><g class=\"point\"><path d=\"M133.15,320V315.35H140.55V320Z\" style=\"vector-effect: none; opacity: 1; stroke-width: 0px; fill: rgb(99, 110, 250); fill-opacity: 1;\"/></g><g class=\"point\"><path d=\"M140.55,320V315.9H147.95V320Z\" style=\"vector-effect: none; opacity: 1; stroke-width: 0px; fill: rgb(99, 110, 250); fill-opacity: 1;\"/></g><g class=\"point\"><path d=\"M147.95,320V315.62H155.34V320Z\" style=\"vector-effect: none; opacity: 1; stroke-width: 0px; fill: rgb(99, 110, 250); fill-opacity: 1;\"/></g><g class=\"point\"><path d=\"M155.34,320V317.54H162.74V320Z\" style=\"vector-effect: none; opacity: 1; stroke-width: 0px; fill: rgb(99, 110, 250); fill-opacity: 1;\"/></g><g class=\"point\"><path d=\"M162.74,320V316.39H170.14V320Z\" style=\"vector-effect: none; opacity: 1; stroke-width: 0px; fill: rgb(99, 110, 250); fill-opacity: 1;\"/></g><g class=\"point\"><path d=\"M170.14,320V316.49H177.53V320Z\" style=\"vector-effect: none; opacity: 1; stroke-width: 0px; fill: rgb(99, 110, 250); fill-opacity: 1;\"/></g><g class=\"point\"><path d=\"M177.53,320V316.66H184.93V320Z\" style=\"vector-effect: none; opacity: 1; stroke-width: 0px; fill: rgb(99, 110, 250); fill-opacity: 1;\"/></g><g class=\"point\"><path d=\"M184.93,320V317.19H192.33V320Z\" style=\"vector-effect: none; opacity: 1; stroke-width: 0px; fill: rgb(99, 110, 250); fill-opacity: 1;\"/></g><g class=\"point\"><path d=\"M192.33,320V317.39H199.73V320Z\" style=\"vector-effect: none; opacity: 1; stroke-width: 0px; fill: rgb(99, 110, 250); fill-opacity: 1;\"/></g><g class=\"point\"><path d=\"M199.73,320V318H207.12V320Z\" style=\"vector-effect: none; opacity: 1; stroke-width: 0px; fill: rgb(99, 110, 250); fill-opacity: 1;\"/></g><g class=\"point\"><path d=\"M207.12,320V318.11H214.52V320Z\" style=\"vector-effect: none; opacity: 1; stroke-width: 0px; fill: rgb(99, 110, 250); fill-opacity: 1;\"/></g><g class=\"point\"><path d=\"M214.52,320V317.3H221.92V320Z\" style=\"vector-effect: none; opacity: 1; stroke-width: 0px; fill: rgb(99, 110, 250); fill-opacity: 1;\"/></g><g class=\"point\"><path d=\"M221.92,320V317.92H229.32V320Z\" style=\"vector-effect: none; opacity: 1; stroke-width: 0px; fill: rgb(99, 110, 250); fill-opacity: 1;\"/></g><g class=\"point\"><path d=\"M229.32,320V317.7H236.71V320Z\" style=\"vector-effect: none; opacity: 1; stroke-width: 0px; fill: rgb(99, 110, 250); fill-opacity: 1;\"/></g><g class=\"point\"><path d=\"M236.71,320V318.47H244.11V320Z\" style=\"vector-effect: none; opacity: 1; stroke-width: 0px; fill: rgb(99, 110, 250); fill-opacity: 1;\"/></g><g class=\"point\"><path d=\"M244.11,320V318.34H251.51V320Z\" style=\"vector-effect: none; opacity: 1; stroke-width: 0px; fill: rgb(99, 110, 250); fill-opacity: 1;\"/></g><g class=\"point\"><path d=\"M251.51,320V317.49H258.9V320Z\" style=\"vector-effect: none; opacity: 1; stroke-width: 0px; fill: rgb(99, 110, 250); fill-opacity: 1;\"/></g><g class=\"point\"><path d=\"M258.9,320V316.6H266.3V320Z\" style=\"vector-effect: none; opacity: 1; stroke-width: 0px; fill: rgb(99, 110, 250); fill-opacity: 1;\"/></g><g class=\"point\"><path d=\"M266.3,320V318.51H273.7V320Z\" style=\"vector-effect: none; opacity: 1; stroke-width: 0px; fill: rgb(99, 110, 250); fill-opacity: 1;\"/></g><g class=\"point\"><path d=\"M273.7,320V318.71H281.1V320Z\" style=\"vector-effect: none; opacity: 1; stroke-width: 0px; fill: rgb(99, 110, 250); fill-opacity: 1;\"/></g><g class=\"point\"><path d=\"M281.1,320V318.62H288.49V320Z\" style=\"vector-effect: none; opacity: 1; stroke-width: 0px; fill: rgb(99, 110, 250); fill-opacity: 1;\"/></g><g class=\"point\"><path d=\"M288.49,320V318.92H295.89V320Z\" style=\"vector-effect: none; opacity: 1; stroke-width: 0px; fill: rgb(99, 110, 250); fill-opacity: 1;\"/></g><g class=\"point\"><path d=\"M295.89,320V317.46H303.29V320Z\" style=\"vector-effect: none; opacity: 1; stroke-width: 0px; fill: rgb(99, 110, 250); fill-opacity: 1;\"/></g><g class=\"point\"><path d=\"M303.29,320V319.29H310.68V320Z\" style=\"vector-effect: none; opacity: 1; stroke-width: 0px; fill: rgb(99, 110, 250); fill-opacity: 1;\"/></g><g class=\"point\"><path d=\"M310.68,320V318.9H318.08V320Z\" style=\"vector-effect: none; opacity: 1; stroke-width: 0px; fill: rgb(99, 110, 250); fill-opacity: 1;\"/></g><g class=\"point\"><path d=\"M318.08,320V319.37H325.48V320Z\" style=\"vector-effect: none; opacity: 1; stroke-width: 0px; fill: rgb(99, 110, 250); fill-opacity: 1;\"/></g><g class=\"point\"><path d=\"M325.48,320V318.77H332.88V320Z\" style=\"vector-effect: none; opacity: 1; stroke-width: 0px; fill: rgb(99, 110, 250); fill-opacity: 1;\"/></g><g class=\"point\"><path d=\"M332.88,320V318.55H340.27V320Z\" style=\"vector-effect: none; opacity: 1; stroke-width: 0px; fill: rgb(99, 110, 250); fill-opacity: 1;\"/></g><g class=\"point\"><path d=\"M340.27,320V318.88H347.67V320Z\" style=\"vector-effect: none; opacity: 1; stroke-width: 0px; fill: rgb(99, 110, 250); fill-opacity: 1;\"/></g><g class=\"point\"><path d=\"M347.67,320V319.38H355.07V320Z\" style=\"vector-effect: none; opacity: 1; stroke-width: 0px; fill: rgb(99, 110, 250); fill-opacity: 1;\"/></g><g class=\"point\"><path d=\"M355.07,320V319.1H362.47V320Z\" style=\"vector-effect: none; opacity: 1; stroke-width: 0px; fill: rgb(99, 110, 250); fill-opacity: 1;\"/></g><g class=\"point\"><path d=\"M362.47,320V319.63H369.86V320Z\" style=\"vector-effect: none; opacity: 1; stroke-width: 0px; fill: rgb(99, 110, 250); fill-opacity: 1;\"/></g><g class=\"point\"><path d=\"M369.86,320V319.18H377.26V320Z\" style=\"vector-effect: none; opacity: 1; stroke-width: 0px; fill: rgb(99, 110, 250); fill-opacity: 1;\"/></g><g class=\"point\"><path d=\"M377.26,320V318.29H384.66V320Z\" style=\"vector-effect: none; opacity: 1; stroke-width: 0px; fill: rgb(99, 110, 250); fill-opacity: 1;\"/></g><g class=\"point\"><path d=\"M384.66,320V319.44H392.05V320Z\" style=\"vector-effect: none; opacity: 1; stroke-width: 0px; fill: rgb(99, 110, 250); fill-opacity: 1;\"/></g><g class=\"point\"><path d=\"M392.05,320V319.63H399.45V320Z\" style=\"vector-effect: none; opacity: 1; stroke-width: 0px; fill: rgb(99, 110, 250); fill-opacity: 1;\"/></g><g class=\"point\"><path d=\"M399.45,320V319.52H406.85V320Z\" style=\"vector-effect: none; opacity: 1; stroke-width: 0px; fill: rgb(99, 110, 250); fill-opacity: 1;\"/></g><g class=\"point\"><path d=\"M406.85,320V319.62H414.25V320Z\" style=\"vector-effect: none; opacity: 1; stroke-width: 0px; fill: rgb(99, 110, 250); fill-opacity: 1;\"/></g><g class=\"point\"><path d=\"M414.25,320V319.7H421.64V320Z\" style=\"vector-effect: none; opacity: 1; stroke-width: 0px; fill: rgb(99, 110, 250); fill-opacity: 1;\"/></g><g class=\"point\"><path d=\"M421.64,320V319.53H429.04V320Z\" style=\"vector-effect: none; opacity: 1; stroke-width: 0px; fill: rgb(99, 110, 250); fill-opacity: 1;\"/></g><g class=\"point\"><path d=\"M429.04,320V319.67H436.44V320Z\" style=\"vector-effect: none; opacity: 1; stroke-width: 0px; fill: rgb(99, 110, 250); fill-opacity: 1;\"/></g><g class=\"point\"><path d=\"M436.44,320V319.66H443.84V320Z\" style=\"vector-effect: none; opacity: 1; stroke-width: 0px; fill: rgb(99, 110, 250); fill-opacity: 1;\"/></g><g class=\"point\"><path d=\"M443.84,320V319.86H451.23V320Z\" style=\"vector-effect: none; opacity: 1; stroke-width: 0px; fill: rgb(99, 110, 250); fill-opacity: 1;\"/></g><g class=\"point\"><path d=\"M451.23,320V319.78H458.63V320Z\" style=\"vector-effect: none; opacity: 1; stroke-width: 0px; fill: rgb(99, 110, 250); fill-opacity: 1;\"/></g><g class=\"point\"><path d=\"M458.63,320V319.97H466.03V320Z\" style=\"vector-effect: none; opacity: 1; stroke-width: 0px; fill: rgb(99, 110, 250); fill-opacity: 1;\"/></g><g class=\"point\"><path d=\"M466.03,320V319.69H473.42V320Z\" style=\"vector-effect: none; opacity: 1; stroke-width: 0px; fill: rgb(99, 110, 250); fill-opacity: 1;\"/></g><g class=\"point\"><path d=\"M473.42,320V319.66H480.82V320Z\" style=\"vector-effect: none; opacity: 1; stroke-width: 0px; fill: rgb(99, 110, 250); fill-opacity: 1;\"/></g><g class=\"point\"><path d=\"M480.82,320V319.67H488.22V320Z\" style=\"vector-effect: none; opacity: 1; stroke-width: 0px; fill: rgb(99, 110, 250); fill-opacity: 1;\"/></g><g class=\"point\"><path d=\"M488.22,320V319.85H495.62V320Z\" style=\"vector-effect: none; opacity: 1; stroke-width: 0px; fill: rgb(99, 110, 250); fill-opacity: 1;\"/></g><g class=\"point\"><path d=\"M495.62,320V319.91H503.01V320Z\" style=\"vector-effect: none; opacity: 1; stroke-width: 0px; fill: rgb(99, 110, 250); fill-opacity: 1;\"/></g><g class=\"point\"><path d=\"M503.01,320V319.48H510.41V320Z\" style=\"vector-effect: none; opacity: 1; stroke-width: 0px; fill: rgb(99, 110, 250); fill-opacity: 1;\"/></g><g class=\"point\"><path d=\"M510.41,320V319.55H517.81V320Z\" style=\"vector-effect: none; opacity: 1; stroke-width: 0px; fill: rgb(99, 110, 250); fill-opacity: 1;\"/></g><g class=\"point\"><path d=\"M517.81,320V319.88H525.21V320Z\" style=\"vector-effect: none; opacity: 1; stroke-width: 0px; fill: rgb(99, 110, 250); fill-opacity: 1;\"/></g><g class=\"point\"><path d=\"M525.21,320V319.91H532.6V320Z\" style=\"vector-effect: none; opacity: 1; stroke-width: 0px; fill: rgb(99, 110, 250); fill-opacity: 1;\"/></g><g class=\"point\"><path d=\"M532.6,320V319.43H540V320Z\" style=\"vector-effect: none; opacity: 1; stroke-width: 0px; fill: rgb(99, 110, 250); fill-opacity: 1;\"/></g></g></g></g></g><g class=\"overplot\"/><path class=\"xlines-above crisp\" d=\"M0,0\" style=\"fill: none;\"/><path class=\"ylines-above crisp\" d=\"M0,0\" style=\"fill: none;\"/><g class=\"overlines-above\"/><g class=\"xaxislayer-above\"><g class=\"xtick\"><text text-anchor=\"middle\" x=\"0\" y=\"433\" transform=\"translate(80.74,0)\" style=\"font-family: 'Open Sans', verdana, arial, sans-serif; font-size: 12px; fill: rgb(42, 63, 95); fill-opacity: 1; white-space: pre; opacity: 1;\">0</text></g><g class=\"xtick\"><text text-anchor=\"middle\" x=\"0\" y=\"433\" style=\"font-family: 'Open Sans', verdana, arial, sans-serif; font-size: 12px; fill: rgb(42, 63, 95); fill-opacity: 1; white-space: pre; opacity: 1;\" transform=\"translate(154.70999999999998,0)\">50</text></g><g class=\"xtick\"><text text-anchor=\"middle\" x=\"0\" y=\"433\" style=\"font-family: 'Open Sans', verdana, arial, sans-serif; font-size: 12px; fill: rgb(42, 63, 95); fill-opacity: 1; white-space: pre; opacity: 1;\" transform=\"translate(228.68,0)\">100</text></g><g class=\"xtick\"><text text-anchor=\"middle\" x=\"0\" y=\"433\" style=\"font-family: 'Open Sans', verdana, arial, sans-serif; font-size: 12px; fill: rgb(42, 63, 95); fill-opacity: 1; white-space: pre; opacity: 1;\" transform=\"translate(302.65999999999997,0)\">150</text></g><g class=\"xtick\"><text text-anchor=\"middle\" x=\"0\" y=\"433\" style=\"font-family: 'Open Sans', verdana, arial, sans-serif; font-size: 12px; fill: rgb(42, 63, 95); fill-opacity: 1; white-space: pre; opacity: 1;\" transform=\"translate(376.63,0)\">200</text></g><g class=\"xtick\"><text text-anchor=\"middle\" x=\"0\" y=\"433\" style=\"font-family: 'Open Sans', verdana, arial, sans-serif; font-size: 12px; fill: rgb(42, 63, 95); fill-opacity: 1; white-space: pre; opacity: 1;\" transform=\"translate(450.6,0)\">250</text></g><g class=\"xtick\"><text text-anchor=\"middle\" x=\"0\" y=\"433\" style=\"font-family: 'Open Sans', verdana, arial, sans-serif; font-size: 12px; fill: rgb(42, 63, 95); fill-opacity: 1; white-space: pre; opacity: 1;\" transform=\"translate(524.5799999999999,0)\">300</text></g><g class=\"xtick\"><text text-anchor=\"middle\" x=\"0\" y=\"433\" style=\"font-family: 'Open Sans', verdana, arial, sans-serif; font-size: 12px; fill: rgb(42, 63, 95); fill-opacity: 1; white-space: pre; opacity: 1;\" transform=\"translate(598.55,0)\">350</text></g></g><g class=\"yaxislayer-above\"><g class=\"ytick\"><text text-anchor=\"end\" x=\"79\" y=\"4.199999999999999\" transform=\"translate(0,420)\" style=\"font-family: 'Open Sans', verdana, arial, sans-serif; font-size: 12px; fill: rgb(42, 63, 95); fill-opacity: 1; white-space: pre; opacity: 1;\">0</text></g><g class=\"ytick\"><text text-anchor=\"end\" x=\"79\" y=\"4.199999999999999\" style=\"font-family: 'Open Sans', verdana, arial, sans-serif; font-size: 12px; fill: rgb(42, 63, 95); fill-opacity: 1; white-space: pre; opacity: 1;\" transform=\"translate(0,367.54)\">10k</text></g><g class=\"ytick\"><text text-anchor=\"end\" x=\"79\" y=\"4.199999999999999\" style=\"font-family: 'Open Sans', verdana, arial, sans-serif; font-size: 12px; fill: rgb(42, 63, 95); fill-opacity: 1; white-space: pre; opacity: 1;\" transform=\"translate(0,315.08000000000004)\">20k</text></g><g class=\"ytick\"><text text-anchor=\"end\" x=\"79\" y=\"4.199999999999999\" style=\"font-family: 'Open Sans', verdana, arial, sans-serif; font-size: 12px; fill: rgb(42, 63, 95); fill-opacity: 1; white-space: pre; opacity: 1;\" transform=\"translate(0,262.63)\">30k</text></g><g class=\"ytick\"><text text-anchor=\"end\" x=\"79\" y=\"4.199999999999999\" style=\"font-family: 'Open Sans', verdana, arial, sans-serif; font-size: 12px; fill: rgb(42, 63, 95); fill-opacity: 1; white-space: pre; opacity: 1;\" transform=\"translate(0,210.17000000000002)\">40k</text></g><g class=\"ytick\"><text text-anchor=\"end\" x=\"79\" y=\"4.199999999999999\" style=\"font-family: 'Open Sans', verdana, arial, sans-serif; font-size: 12px; fill: rgb(42, 63, 95); fill-opacity: 1; white-space: pre; opacity: 1;\" transform=\"translate(0,157.71)\">50k</text></g><g class=\"ytick\"><text text-anchor=\"end\" x=\"79\" y=\"4.199999999999999\" style=\"font-family: 'Open Sans', verdana, arial, sans-serif; font-size: 12px; fill: rgb(42, 63, 95); fill-opacity: 1; white-space: pre; opacity: 1;\" transform=\"translate(0,105.25)\">60k</text></g></g><g class=\"overaxes-above\"/></g></g><g class=\"polarlayer\"/><g class=\"smithlayer\"/><g class=\"ternarylayer\"/><g class=\"geolayer\"/><g class=\"funnelarealayer\"/><g class=\"pielayer\"/><g class=\"iciclelayer\"/><g class=\"treemaplayer\"/><g class=\"sunburstlayer\"/><g class=\"glimages\"/><defs id=\"topdefs-982172\"><g class=\"clips\"/></defs><g class=\"layer-above\"><g class=\"imagelayer\"/><g class=\"shapelayer\"/></g><g class=\"infolayer\"><g class=\"g-gtitle\"><text class=\"gtitle\" x=\"35\" y=\"50\" text-anchor=\"start\" dy=\"0em\" style=\"font-family: 'Open Sans', verdana, arial, sans-serif; font-size: 17px; fill: rgb(42, 63, 95); opacity: 1; font-weight: normal; white-space: pre;\">Distribution of conversion from the first purchase to the first visit (in days)</text></g><g class=\"g-xtitle\"><text class=\"xtitle\" x=\"350\" y=\"460.3\" text-anchor=\"middle\" style=\"font-family: 'Open Sans', verdana, arial, sans-serif; font-size: 14px; fill: rgb(42, 63, 95); opacity: 1; font-weight: normal; white-space: pre;\">Conversion (days)</text></g><g class=\"g-ytitle\"><text class=\"ytitle\" transform=\"rotate(-90,32.340625,260)\" x=\"32.340625\" y=\"260\" text-anchor=\"middle\" style=\"font-family: 'Open Sans', verdana, arial, sans-serif; font-size: 14px; fill: rgb(42, 63, 95); opacity: 1; font-weight: normal; white-space: pre;\">count</text></g></g></svg>"
      ]
     },
     "metadata": {},
     "output_type": "display_data"
    }
   ],
   "source": [
    "fig = px.histogram(start_purchase, x=\"conversion\", \n",
    "                   nbins=100, labels ={'conversion': 'Conversion (days)'}, \n",
    "                   title = 'Distribution of conversion from the first purchase to the first visit (in days)')\n",
    "fig.show(\"svg\")"
   ]
  },
  {
   "cell_type": "markdown",
   "metadata": {},
   "source": [
    "As we see, the histogram skewed, so let's define median value:"
   ]
  },
  {
   "cell_type": "code",
   "execution_count": 46,
   "metadata": {},
   "outputs": [
    {
     "data": {
      "text/plain": [
       "1.0"
      ]
     },
     "execution_count": 46,
     "metadata": {},
     "output_type": "execute_result"
    }
   ],
   "source": [
    "start_purchase['conversion'].median()"
   ]
  },
  {
   "cell_type": "markdown",
   "metadata": {},
   "source": [
    "And the overall conversion by dividing number of unique orders on number of unique visitors: "
   ]
  },
  {
   "cell_type": "code",
   "execution_count": 47,
   "metadata": {},
   "outputs": [
    {
     "name": "stdout",
     "output_type": "stream",
     "text": [
      "The overall conversion is 16.0%\n"
     ]
    }
   ],
   "source": [
    "print('The overall conversion is {:.1%}'.format(orders['uid'].nunique()/visits['uid'].nunique()))"
   ]
  },
  {
   "cell_type": "markdown",
   "metadata": {},
   "source": [
    "**Conclusion**   \n",
    "\n",
    "So, as we see it doesn't take a lot of time to make a purchase from the moment of first attraction: it takes place or in the same day or on the next one"
   ]
  },
  {
   "cell_type": "markdown",
   "metadata": {},
   "source": [
    "##### How many orders do they make during a given period of time?"
   ]
  },
  {
   "cell_type": "markdown",
   "metadata": {},
   "source": [
    "We have to build cohorts for counting number of orders, so let's repeat the similar calculations with visits table: "
   ]
  },
  {
   "cell_type": "code",
   "execution_count": 48,
   "metadata": {},
   "outputs": [],
   "source": [
    "orders['month'] = orders['buy_ts'].astype('datetime64[M]')\n",
    "orders['week'] = orders['buy_ts'].astype('datetime64[W]')\n",
    "orders['date'] = orders['buy_ts'].dt.date"
   ]
  },
  {
   "cell_type": "code",
   "execution_count": 49,
   "metadata": {},
   "outputs": [
    {
     "data": {
      "text/html": [
       "<div>\n",
       "<style scoped>\n",
       "    .dataframe tbody tr th:only-of-type {\n",
       "        vertical-align: middle;\n",
       "    }\n",
       "\n",
       "    .dataframe tbody tr th {\n",
       "        vertical-align: top;\n",
       "    }\n",
       "\n",
       "    .dataframe thead th {\n",
       "        text-align: right;\n",
       "    }\n",
       "</style>\n",
       "<table border=\"1\" class=\"dataframe\">\n",
       "  <thead>\n",
       "    <tr style=\"text-align: right;\">\n",
       "      <th></th>\n",
       "      <th>buy_ts</th>\n",
       "      <th>revenue</th>\n",
       "      <th>uid</th>\n",
       "      <th>month</th>\n",
       "      <th>week</th>\n",
       "      <th>date</th>\n",
       "      <th>first_order</th>\n",
       "    </tr>\n",
       "  </thead>\n",
       "  <tbody>\n",
       "    <tr>\n",
       "      <th>0</th>\n",
       "      <td>2017-06-01 00:10:00</td>\n",
       "      <td>17.00</td>\n",
       "      <td>10329302124590727494</td>\n",
       "      <td>2017-06-01</td>\n",
       "      <td>2017-06-01</td>\n",
       "      <td>2017-06-01</td>\n",
       "      <td>2017-06-01 00:10:00</td>\n",
       "    </tr>\n",
       "    <tr>\n",
       "      <th>1</th>\n",
       "      <td>2017-06-01 00:25:00</td>\n",
       "      <td>0.55</td>\n",
       "      <td>11627257723692907447</td>\n",
       "      <td>2017-06-01</td>\n",
       "      <td>2017-06-01</td>\n",
       "      <td>2017-06-01</td>\n",
       "      <td>2017-06-01 00:25:00</td>\n",
       "    </tr>\n",
       "    <tr>\n",
       "      <th>2</th>\n",
       "      <td>2017-06-01 00:27:00</td>\n",
       "      <td>0.37</td>\n",
       "      <td>17903680561304213844</td>\n",
       "      <td>2017-06-01</td>\n",
       "      <td>2017-06-01</td>\n",
       "      <td>2017-06-01</td>\n",
       "      <td>2017-06-01 00:27:00</td>\n",
       "    </tr>\n",
       "    <tr>\n",
       "      <th>3</th>\n",
       "      <td>2017-06-01 00:29:00</td>\n",
       "      <td>0.55</td>\n",
       "      <td>16109239769442553005</td>\n",
       "      <td>2017-06-01</td>\n",
       "      <td>2017-06-01</td>\n",
       "      <td>2017-06-01</td>\n",
       "      <td>2017-06-01 00:29:00</td>\n",
       "    </tr>\n",
       "    <tr>\n",
       "      <th>4</th>\n",
       "      <td>2017-06-01 07:58:00</td>\n",
       "      <td>0.37</td>\n",
       "      <td>14200605875248379450</td>\n",
       "      <td>2017-06-01</td>\n",
       "      <td>2017-06-01</td>\n",
       "      <td>2017-06-01</td>\n",
       "      <td>2017-06-01 07:58:00</td>\n",
       "    </tr>\n",
       "  </tbody>\n",
       "</table>\n",
       "</div>"
      ],
      "text/plain": [
       "               buy_ts  revenue                   uid      month       week  \\\n",
       "0 2017-06-01 00:10:00    17.00  10329302124590727494 2017-06-01 2017-06-01   \n",
       "1 2017-06-01 00:25:00     0.55  11627257723692907447 2017-06-01 2017-06-01   \n",
       "2 2017-06-01 00:27:00     0.37  17903680561304213844 2017-06-01 2017-06-01   \n",
       "3 2017-06-01 00:29:00     0.55  16109239769442553005 2017-06-01 2017-06-01   \n",
       "4 2017-06-01 07:58:00     0.37  14200605875248379450 2017-06-01 2017-06-01   \n",
       "\n",
       "         date         first_order  \n",
       "0  2017-06-01 2017-06-01 00:10:00  \n",
       "1  2017-06-01 2017-06-01 00:25:00  \n",
       "2  2017-06-01 2017-06-01 00:27:00  \n",
       "3  2017-06-01 2017-06-01 00:29:00  \n",
       "4  2017-06-01 2017-06-01 07:58:00  "
      ]
     },
     "execution_count": 49,
     "metadata": {},
     "output_type": "execute_result"
    }
   ],
   "source": [
    "orders = orders.merge(first_order, how = 'inner', on = ['uid'])\n",
    "orders.head()"
   ]
  },
  {
   "cell_type": "markdown",
   "metadata": {},
   "source": [
    "Let's define cohorts and number of users that fall in cohorts: "
   ]
  },
  {
   "cell_type": "code",
   "execution_count": 50,
   "metadata": {},
   "outputs": [
    {
     "data": {
      "text/html": [
       "<div>\n",
       "<style scoped>\n",
       "    .dataframe tbody tr th:only-of-type {\n",
       "        vertical-align: middle;\n",
       "    }\n",
       "\n",
       "    .dataframe tbody tr th {\n",
       "        vertical-align: top;\n",
       "    }\n",
       "\n",
       "    .dataframe thead th {\n",
       "        text-align: right;\n",
       "    }\n",
       "</style>\n",
       "<table border=\"1\" class=\"dataframe\">\n",
       "  <thead>\n",
       "    <tr style=\"text-align: right;\">\n",
       "      <th></th>\n",
       "      <th>cohort</th>\n",
       "      <th>cohort_size</th>\n",
       "    </tr>\n",
       "  </thead>\n",
       "  <tbody>\n",
       "    <tr>\n",
       "      <th>0</th>\n",
       "      <td>2017-06-01</td>\n",
       "      <td>2023</td>\n",
       "    </tr>\n",
       "    <tr>\n",
       "      <th>1</th>\n",
       "      <td>2017-07-01</td>\n",
       "      <td>1923</td>\n",
       "    </tr>\n",
       "    <tr>\n",
       "      <th>2</th>\n",
       "      <td>2017-08-01</td>\n",
       "      <td>1370</td>\n",
       "    </tr>\n",
       "    <tr>\n",
       "      <th>3</th>\n",
       "      <td>2017-09-01</td>\n",
       "      <td>2581</td>\n",
       "    </tr>\n",
       "    <tr>\n",
       "      <th>4</th>\n",
       "      <td>2017-10-01</td>\n",
       "      <td>4340</td>\n",
       "    </tr>\n",
       "  </tbody>\n",
       "</table>\n",
       "</div>"
      ],
      "text/plain": [
       "      cohort  cohort_size\n",
       "0 2017-06-01         2023\n",
       "1 2017-07-01         1923\n",
       "2 2017-08-01         1370\n",
       "3 2017-09-01         2581\n",
       "4 2017-10-01         4340"
      ]
     },
     "execution_count": 50,
     "metadata": {},
     "output_type": "execute_result"
    }
   ],
   "source": [
    "orders['cohort'] = orders['first_order'].astype('datetime64[M]')\n",
    "cohort_size = orders.groupby('cohort').agg({'uid': 'nunique'}).reset_index()\n",
    "cohort_size.columns = ['cohort', 'cohort_size']\n",
    "cohort_size.head()"
   ]
  },
  {
   "cell_type": "markdown",
   "metadata": {},
   "source": [
    "Now, we'll define the number of purchases: "
   ]
  },
  {
   "cell_type": "code",
   "execution_count": 51,
   "metadata": {},
   "outputs": [
    {
     "data": {
      "text/html": [
       "<div>\n",
       "<style scoped>\n",
       "    .dataframe tbody tr th:only-of-type {\n",
       "        vertical-align: middle;\n",
       "    }\n",
       "\n",
       "    .dataframe tbody tr th {\n",
       "        vertical-align: top;\n",
       "    }\n",
       "\n",
       "    .dataframe thead th {\n",
       "        text-align: right;\n",
       "    }\n",
       "</style>\n",
       "<table border=\"1\" class=\"dataframe\">\n",
       "  <thead>\n",
       "    <tr style=\"text-align: right;\">\n",
       "      <th></th>\n",
       "      <th>cohort</th>\n",
       "      <th>month</th>\n",
       "      <th>num_orders</th>\n",
       "    </tr>\n",
       "  </thead>\n",
       "  <tbody>\n",
       "    <tr>\n",
       "      <th>0</th>\n",
       "      <td>2017-06-01</td>\n",
       "      <td>2017-06-01</td>\n",
       "      <td>2354</td>\n",
       "    </tr>\n",
       "    <tr>\n",
       "      <th>1</th>\n",
       "      <td>2017-06-01</td>\n",
       "      <td>2017-07-01</td>\n",
       "      <td>177</td>\n",
       "    </tr>\n",
       "    <tr>\n",
       "      <th>2</th>\n",
       "      <td>2017-06-01</td>\n",
       "      <td>2017-08-01</td>\n",
       "      <td>174</td>\n",
       "    </tr>\n",
       "    <tr>\n",
       "      <th>3</th>\n",
       "      <td>2017-06-01</td>\n",
       "      <td>2017-09-01</td>\n",
       "      <td>226</td>\n",
       "    </tr>\n",
       "    <tr>\n",
       "      <th>4</th>\n",
       "      <td>2017-06-01</td>\n",
       "      <td>2017-10-01</td>\n",
       "      <td>292</td>\n",
       "    </tr>\n",
       "  </tbody>\n",
       "</table>\n",
       "</div>"
      ],
      "text/plain": [
       "      cohort      month  num_orders\n",
       "0 2017-06-01 2017-06-01        2354\n",
       "1 2017-06-01 2017-07-01         177\n",
       "2 2017-06-01 2017-08-01         174\n",
       "3 2017-06-01 2017-09-01         226\n",
       "4 2017-06-01 2017-10-01         292"
      ]
     },
     "execution_count": 51,
     "metadata": {},
     "output_type": "execute_result"
    }
   ],
   "source": [
    "order_cohorts = orders.groupby(['cohort', 'month'])['revenue'].count().reset_index()\n",
    "order_cohorts.columns = ['cohort', 'month', 'num_orders']\n",
    "order_cohorts.head()"
   ]
  },
  {
   "cell_type": "markdown",
   "metadata": {},
   "source": [
    "Let's merge two tables, and define the number of purcahses per byuers: "
   ]
  },
  {
   "cell_type": "code",
   "execution_count": 52,
   "metadata": {},
   "outputs": [
    {
     "data": {
      "text/html": [
       "<div>\n",
       "<style scoped>\n",
       "    .dataframe tbody tr th:only-of-type {\n",
       "        vertical-align: middle;\n",
       "    }\n",
       "\n",
       "    .dataframe tbody tr th {\n",
       "        vertical-align: top;\n",
       "    }\n",
       "\n",
       "    .dataframe thead th {\n",
       "        text-align: right;\n",
       "    }\n",
       "</style>\n",
       "<table border=\"1\" class=\"dataframe\">\n",
       "  <thead>\n",
       "    <tr style=\"text-align: right;\">\n",
       "      <th></th>\n",
       "      <th>cohort</th>\n",
       "      <th>month</th>\n",
       "      <th>num_orders</th>\n",
       "      <th>cohort_size</th>\n",
       "      <th>age</th>\n",
       "      <th>orders_per_buyer</th>\n",
       "    </tr>\n",
       "  </thead>\n",
       "  <tbody>\n",
       "    <tr>\n",
       "      <th>0</th>\n",
       "      <td>2017-06-01</td>\n",
       "      <td>2017-06-01</td>\n",
       "      <td>2354</td>\n",
       "      <td>2023</td>\n",
       "      <td>0</td>\n",
       "      <td>1.163618</td>\n",
       "    </tr>\n",
       "    <tr>\n",
       "      <th>1</th>\n",
       "      <td>2017-06-01</td>\n",
       "      <td>2017-07-01</td>\n",
       "      <td>177</td>\n",
       "      <td>2023</td>\n",
       "      <td>1</td>\n",
       "      <td>0.087494</td>\n",
       "    </tr>\n",
       "    <tr>\n",
       "      <th>2</th>\n",
       "      <td>2017-06-01</td>\n",
       "      <td>2017-08-01</td>\n",
       "      <td>174</td>\n",
       "      <td>2023</td>\n",
       "      <td>2</td>\n",
       "      <td>0.086011</td>\n",
       "    </tr>\n",
       "    <tr>\n",
       "      <th>3</th>\n",
       "      <td>2017-06-01</td>\n",
       "      <td>2017-09-01</td>\n",
       "      <td>226</td>\n",
       "      <td>2023</td>\n",
       "      <td>3</td>\n",
       "      <td>0.111715</td>\n",
       "    </tr>\n",
       "    <tr>\n",
       "      <th>4</th>\n",
       "      <td>2017-06-01</td>\n",
       "      <td>2017-10-01</td>\n",
       "      <td>292</td>\n",
       "      <td>2023</td>\n",
       "      <td>4</td>\n",
       "      <td>0.144340</td>\n",
       "    </tr>\n",
       "  </tbody>\n",
       "</table>\n",
       "</div>"
      ],
      "text/plain": [
       "      cohort      month  num_orders  cohort_size  age  orders_per_buyer\n",
       "0 2017-06-01 2017-06-01        2354         2023    0          1.163618\n",
       "1 2017-06-01 2017-07-01         177         2023    1          0.087494\n",
       "2 2017-06-01 2017-08-01         174         2023    2          0.086011\n",
       "3 2017-06-01 2017-09-01         226         2023    3          0.111715\n",
       "4 2017-06-01 2017-10-01         292         2023    4          0.144340"
      ]
     },
     "execution_count": 52,
     "metadata": {},
     "output_type": "execute_result"
    }
   ],
   "source": [
    "order_cohorts = order_cohorts.merge(cohort_size, on = ['cohort'])\n",
    "order_cohorts['age'] = ((order_cohorts['month'] - order_cohorts['cohort']) / np.timedelta64(1, 'M')).round().astype('int')\n",
    "order_cohorts['orders_per_buyer'] = order_cohorts['num_orders'] / order_cohorts['cohort_size']\n",
    "order_cohorts.head() "
   ]
  },
  {
   "cell_type": "code",
   "execution_count": 53,
   "metadata": {},
   "outputs": [
    {
     "data": {
      "text/html": [
       "<div>\n",
       "<style scoped>\n",
       "    .dataframe tbody tr th:only-of-type {\n",
       "        vertical-align: middle;\n",
       "    }\n",
       "\n",
       "    .dataframe tbody tr th {\n",
       "        vertical-align: top;\n",
       "    }\n",
       "\n",
       "    .dataframe thead th {\n",
       "        text-align: right;\n",
       "    }\n",
       "</style>\n",
       "<table border=\"1\" class=\"dataframe\">\n",
       "  <thead>\n",
       "    <tr style=\"text-align: right;\">\n",
       "      <th>age</th>\n",
       "      <th>0</th>\n",
       "      <th>1</th>\n",
       "      <th>2</th>\n",
       "      <th>3</th>\n",
       "      <th>4</th>\n",
       "      <th>5</th>\n",
       "      <th>6</th>\n",
       "      <th>7</th>\n",
       "      <th>8</th>\n",
       "      <th>9</th>\n",
       "      <th>10</th>\n",
       "      <th>11</th>\n",
       "    </tr>\n",
       "    <tr>\n",
       "      <th>cohort</th>\n",
       "      <th></th>\n",
       "      <th></th>\n",
       "      <th></th>\n",
       "      <th></th>\n",
       "      <th></th>\n",
       "      <th></th>\n",
       "      <th></th>\n",
       "      <th></th>\n",
       "      <th></th>\n",
       "      <th></th>\n",
       "      <th></th>\n",
       "      <th></th>\n",
       "    </tr>\n",
       "  </thead>\n",
       "  <tbody>\n",
       "    <tr>\n",
       "      <th>2017-06-01</th>\n",
       "      <td>1.16</td>\n",
       "      <td>1.25</td>\n",
       "      <td>1.34</td>\n",
       "      <td>1.45</td>\n",
       "      <td>1.59</td>\n",
       "      <td>1.7</td>\n",
       "      <td>1.84</td>\n",
       "      <td>1.92</td>\n",
       "      <td>2.03</td>\n",
       "      <td>2.1</td>\n",
       "      <td>2.15</td>\n",
       "      <td>2.19</td>\n",
       "    </tr>\n",
       "    <tr>\n",
       "      <th>2017-07-01</th>\n",
       "      <td>1.14</td>\n",
       "      <td>1.19</td>\n",
       "      <td>1.25</td>\n",
       "      <td>1.31</td>\n",
       "      <td>1.34</td>\n",
       "      <td>1.39</td>\n",
       "      <td>1.42</td>\n",
       "      <td>1.44</td>\n",
       "      <td>1.47</td>\n",
       "      <td>1.49</td>\n",
       "      <td>1.51</td>\n",
       "      <td></td>\n",
       "    </tr>\n",
       "    <tr>\n",
       "      <th>2017-08-01</th>\n",
       "      <td>1.12</td>\n",
       "      <td>1.2</td>\n",
       "      <td>1.27</td>\n",
       "      <td>1.33</td>\n",
       "      <td>1.39</td>\n",
       "      <td>1.44</td>\n",
       "      <td>1.47</td>\n",
       "      <td>1.53</td>\n",
       "      <td>1.56</td>\n",
       "      <td>1.6</td>\n",
       "      <td></td>\n",
       "      <td></td>\n",
       "    </tr>\n",
       "    <tr>\n",
       "      <th>2017-09-01</th>\n",
       "      <td>1.14</td>\n",
       "      <td>1.22</td>\n",
       "      <td>1.28</td>\n",
       "      <td>1.35</td>\n",
       "      <td>1.37</td>\n",
       "      <td>1.42</td>\n",
       "      <td>1.46</td>\n",
       "      <td>1.48</td>\n",
       "      <td>1.5</td>\n",
       "      <td></td>\n",
       "      <td></td>\n",
       "      <td></td>\n",
       "    </tr>\n",
       "    <tr>\n",
       "      <th>2017-10-01</th>\n",
       "      <td>1.14</td>\n",
       "      <td>1.22</td>\n",
       "      <td>1.25</td>\n",
       "      <td>1.28</td>\n",
       "      <td>1.31</td>\n",
       "      <td>1.34</td>\n",
       "      <td>1.35</td>\n",
       "      <td>1.38</td>\n",
       "      <td></td>\n",
       "      <td></td>\n",
       "      <td></td>\n",
       "      <td></td>\n",
       "    </tr>\n",
       "    <tr>\n",
       "      <th>2017-11-01</th>\n",
       "      <td>1.18</td>\n",
       "      <td>1.28</td>\n",
       "      <td>1.32</td>\n",
       "      <td>1.37</td>\n",
       "      <td>1.41</td>\n",
       "      <td>1.42</td>\n",
       "      <td>1.45</td>\n",
       "      <td></td>\n",
       "      <td></td>\n",
       "      <td></td>\n",
       "      <td></td>\n",
       "      <td></td>\n",
       "    </tr>\n",
       "    <tr>\n",
       "      <th>2017-12-01</th>\n",
       "      <td>1.15</td>\n",
       "      <td>1.21</td>\n",
       "      <td>1.26</td>\n",
       "      <td>1.3</td>\n",
       "      <td>1.32</td>\n",
       "      <td>1.34</td>\n",
       "      <td></td>\n",
       "      <td></td>\n",
       "      <td></td>\n",
       "      <td></td>\n",
       "      <td></td>\n",
       "      <td></td>\n",
       "    </tr>\n",
       "    <tr>\n",
       "      <th>2018-01-01</th>\n",
       "      <td>1.12</td>\n",
       "      <td>1.19</td>\n",
       "      <td>1.24</td>\n",
       "      <td>1.25</td>\n",
       "      <td>1.28</td>\n",
       "      <td></td>\n",
       "      <td></td>\n",
       "      <td></td>\n",
       "      <td></td>\n",
       "      <td></td>\n",
       "      <td></td>\n",
       "      <td></td>\n",
       "    </tr>\n",
       "    <tr>\n",
       "      <th>2018-02-01</th>\n",
       "      <td>1.12</td>\n",
       "      <td>1.18</td>\n",
       "      <td>1.21</td>\n",
       "      <td>1.22</td>\n",
       "      <td></td>\n",
       "      <td></td>\n",
       "      <td></td>\n",
       "      <td></td>\n",
       "      <td></td>\n",
       "      <td></td>\n",
       "      <td></td>\n",
       "      <td></td>\n",
       "    </tr>\n",
       "    <tr>\n",
       "      <th>2018-03-01</th>\n",
       "      <td>1.17</td>\n",
       "      <td>1.22</td>\n",
       "      <td>1.27</td>\n",
       "      <td></td>\n",
       "      <td></td>\n",
       "      <td></td>\n",
       "      <td></td>\n",
       "      <td></td>\n",
       "      <td></td>\n",
       "      <td></td>\n",
       "      <td></td>\n",
       "      <td></td>\n",
       "    </tr>\n",
       "    <tr>\n",
       "      <th>2018-04-01</th>\n",
       "      <td>1.10</td>\n",
       "      <td>1.18</td>\n",
       "      <td></td>\n",
       "      <td></td>\n",
       "      <td></td>\n",
       "      <td></td>\n",
       "      <td></td>\n",
       "      <td></td>\n",
       "      <td></td>\n",
       "      <td></td>\n",
       "      <td></td>\n",
       "      <td></td>\n",
       "    </tr>\n",
       "    <tr>\n",
       "      <th>2018-05-01</th>\n",
       "      <td>1.09</td>\n",
       "      <td></td>\n",
       "      <td></td>\n",
       "      <td></td>\n",
       "      <td></td>\n",
       "      <td></td>\n",
       "      <td></td>\n",
       "      <td></td>\n",
       "      <td></td>\n",
       "      <td></td>\n",
       "      <td></td>\n",
       "      <td></td>\n",
       "    </tr>\n",
       "    <tr>\n",
       "      <th>2018-06-01</th>\n",
       "      <td>1.00</td>\n",
       "      <td></td>\n",
       "      <td></td>\n",
       "      <td></td>\n",
       "      <td></td>\n",
       "      <td></td>\n",
       "      <td></td>\n",
       "      <td></td>\n",
       "      <td></td>\n",
       "      <td></td>\n",
       "      <td></td>\n",
       "      <td></td>\n",
       "    </tr>\n",
       "  </tbody>\n",
       "</table>\n",
       "</div>"
      ],
      "text/plain": [
       "age           0     1     2     3     4     5     6     7     8     9     10  \\\n",
       "cohort                                                                         \n",
       "2017-06-01  1.16  1.25  1.34  1.45  1.59   1.7  1.84  1.92  2.03   2.1  2.15   \n",
       "2017-07-01  1.14  1.19  1.25  1.31  1.34  1.39  1.42  1.44  1.47  1.49  1.51   \n",
       "2017-08-01  1.12   1.2  1.27  1.33  1.39  1.44  1.47  1.53  1.56   1.6         \n",
       "2017-09-01  1.14  1.22  1.28  1.35  1.37  1.42  1.46  1.48   1.5               \n",
       "2017-10-01  1.14  1.22  1.25  1.28  1.31  1.34  1.35  1.38                     \n",
       "2017-11-01  1.18  1.28  1.32  1.37  1.41  1.42  1.45                           \n",
       "2017-12-01  1.15  1.21  1.26   1.3  1.32  1.34                                 \n",
       "2018-01-01  1.12  1.19  1.24  1.25  1.28                                       \n",
       "2018-02-01  1.12  1.18  1.21  1.22                                             \n",
       "2018-03-01  1.17  1.22  1.27                                                   \n",
       "2018-04-01  1.10  1.18                                                         \n",
       "2018-05-01  1.09                                                               \n",
       "2018-06-01  1.00                                                               \n",
       "\n",
       "age           11  \n",
       "cohort            \n",
       "2017-06-01  2.19  \n",
       "2017-07-01        \n",
       "2017-08-01        \n",
       "2017-09-01        \n",
       "2017-10-01        \n",
       "2017-11-01        \n",
       "2017-12-01        \n",
       "2018-01-01        \n",
       "2018-02-01        \n",
       "2018-03-01        \n",
       "2018-04-01        \n",
       "2018-05-01        \n",
       "2018-06-01        "
      ]
     },
     "execution_count": 53,
     "metadata": {},
     "output_type": "execute_result"
    }
   ],
   "source": [
    "num_orders=order_cohorts.pivot_table(index='cohort', columns='age', values='orders_per_buyer', aggfunc='sum').cumsum(axis=1)\n",
    "num_orders.round(2).fillna('')"
   ]
  },
  {
   "cell_type": "markdown",
   "metadata": {},
   "source": [
    "**Conclusion**\n",
    "\n",
    "\n",
    "So, as we can see, in terms of number purchases per user, the June 2017 cohort users \"behave\" themself much better than others: from an initial 1.16 purchase per user, they have the highest level of purchases per user in the next months. For instance, the November 2017 cohort users, that have initial 1.18 purchases per user have lower level of purchases from the second month. "
   ]
  },
  {
   "cell_type": "markdown",
   "metadata": {},
   "source": [
    "##### What is the average purchase size?"
   ]
  },
  {
   "cell_type": "markdown",
   "metadata": {},
   "source": [
    "Instead of defining the number of purchases that we've made in the previous task now we'll define the average revenue for each cohort:"
   ]
  },
  {
   "cell_type": "code",
   "execution_count": 54,
   "metadata": {},
   "outputs": [
    {
     "data": {
      "text/html": [
       "<div>\n",
       "<style scoped>\n",
       "    .dataframe tbody tr th:only-of-type {\n",
       "        vertical-align: middle;\n",
       "    }\n",
       "\n",
       "    .dataframe tbody tr th {\n",
       "        vertical-align: top;\n",
       "    }\n",
       "\n",
       "    .dataframe thead th {\n",
       "        text-align: right;\n",
       "    }\n",
       "</style>\n",
       "<table border=\"1\" class=\"dataframe\">\n",
       "  <thead>\n",
       "    <tr style=\"text-align: right;\">\n",
       "      <th></th>\n",
       "      <th>cohort</th>\n",
       "      <th>month</th>\n",
       "      <th>revenue</th>\n",
       "      <th>age</th>\n",
       "    </tr>\n",
       "  </thead>\n",
       "  <tbody>\n",
       "    <tr>\n",
       "      <th>0</th>\n",
       "      <td>2017-06-01</td>\n",
       "      <td>2017-06-01</td>\n",
       "      <td>4.060106</td>\n",
       "      <td>0</td>\n",
       "    </tr>\n",
       "    <tr>\n",
       "      <th>1</th>\n",
       "      <td>2017-06-01</td>\n",
       "      <td>2017-07-01</td>\n",
       "      <td>5.547006</td>\n",
       "      <td>1</td>\n",
       "    </tr>\n",
       "    <tr>\n",
       "      <th>2</th>\n",
       "      <td>2017-06-01</td>\n",
       "      <td>2017-08-01</td>\n",
       "      <td>5.088161</td>\n",
       "      <td>2</td>\n",
       "    </tr>\n",
       "    <tr>\n",
       "      <th>3</th>\n",
       "      <td>2017-06-01</td>\n",
       "      <td>2017-09-01</td>\n",
       "      <td>8.545575</td>\n",
       "      <td>3</td>\n",
       "    </tr>\n",
       "    <tr>\n",
       "      <th>4</th>\n",
       "      <td>2017-06-01</td>\n",
       "      <td>2017-10-01</td>\n",
       "      <td>7.084178</td>\n",
       "      <td>4</td>\n",
       "    </tr>\n",
       "  </tbody>\n",
       "</table>\n",
       "</div>"
      ],
      "text/plain": [
       "      cohort      month   revenue  age\n",
       "0 2017-06-01 2017-06-01  4.060106    0\n",
       "1 2017-06-01 2017-07-01  5.547006    1\n",
       "2 2017-06-01 2017-08-01  5.088161    2\n",
       "3 2017-06-01 2017-09-01  8.545575    3\n",
       "4 2017-06-01 2017-10-01  7.084178    4"
      ]
     },
     "execution_count": 54,
     "metadata": {},
     "output_type": "execute_result"
    }
   ],
   "source": [
    "avg_order_cohorts = orders.groupby(['cohort', 'month'])['revenue'].mean().reset_index()\n",
    "avg_order_cohorts['age'] = ((avg_order_cohorts['month'] - avg_order_cohorts['cohort']) /\n",
    "                            np.timedelta64(1, 'M')).round().astype('int')\n",
    "avg_order_cohorts.head()"
   ]
  },
  {
   "cell_type": "code",
   "execution_count": 55,
   "metadata": {},
   "outputs": [
    {
     "data": {
      "text/html": [
       "<div>\n",
       "<style scoped>\n",
       "    .dataframe tbody tr th:only-of-type {\n",
       "        vertical-align: middle;\n",
       "    }\n",
       "\n",
       "    .dataframe tbody tr th {\n",
       "        vertical-align: top;\n",
       "    }\n",
       "\n",
       "    .dataframe thead th {\n",
       "        text-align: right;\n",
       "    }\n",
       "</style>\n",
       "<table border=\"1\" class=\"dataframe\">\n",
       "  <thead>\n",
       "    <tr style=\"text-align: right;\">\n",
       "      <th>age</th>\n",
       "      <th>0</th>\n",
       "      <th>1</th>\n",
       "      <th>2</th>\n",
       "      <th>3</th>\n",
       "      <th>4</th>\n",
       "      <th>5</th>\n",
       "      <th>6</th>\n",
       "      <th>7</th>\n",
       "      <th>8</th>\n",
       "      <th>9</th>\n",
       "      <th>10</th>\n",
       "      <th>11</th>\n",
       "    </tr>\n",
       "    <tr>\n",
       "      <th>cohort</th>\n",
       "      <th></th>\n",
       "      <th></th>\n",
       "      <th></th>\n",
       "      <th></th>\n",
       "      <th></th>\n",
       "      <th></th>\n",
       "      <th></th>\n",
       "      <th></th>\n",
       "      <th></th>\n",
       "      <th></th>\n",
       "      <th></th>\n",
       "      <th></th>\n",
       "    </tr>\n",
       "  </thead>\n",
       "  <tbody>\n",
       "    <tr>\n",
       "      <th>2017-06-01</th>\n",
       "      <td>4.06</td>\n",
       "      <td>5.55</td>\n",
       "      <td>5.09</td>\n",
       "      <td>8.55</td>\n",
       "      <td>7.08</td>\n",
       "      <td>6.83</td>\n",
       "      <td>6.97</td>\n",
       "      <td>6.76</td>\n",
       "      <td>5.28</td>\n",
       "      <td>8.01</td>\n",
       "      <td>12.04</td>\n",
       "      <td>6.04</td>\n",
       "    </tr>\n",
       "    <tr>\n",
       "      <th>2017-07-01</th>\n",
       "      <td>5.29</td>\n",
       "      <td>6.45</td>\n",
       "      <td>9.99</td>\n",
       "      <td>6.64</td>\n",
       "      <td>4.72</td>\n",
       "      <td>3.66</td>\n",
       "      <td>3.79</td>\n",
       "      <td>5.45</td>\n",
       "      <td>5.35</td>\n",
       "      <td>11.79</td>\n",
       "      <td>5.65</td>\n",
       "      <td></td>\n",
       "    </tr>\n",
       "    <tr>\n",
       "      <th>2017-08-01</th>\n",
       "      <td>4.72</td>\n",
       "      <td>5.99</td>\n",
       "      <td>6.28</td>\n",
       "      <td>6.62</td>\n",
       "      <td>7.96</td>\n",
       "      <td>6.27</td>\n",
       "      <td>5.89</td>\n",
       "      <td>7.11</td>\n",
       "      <td>8.7</td>\n",
       "      <td>5.6</td>\n",
       "      <td></td>\n",
       "      <td></td>\n",
       "    </tr>\n",
       "    <tr>\n",
       "      <th>2017-09-01</th>\n",
       "      <td>4.97</td>\n",
       "      <td>13.17</td>\n",
       "      <td>8.35</td>\n",
       "      <td>62.57</td>\n",
       "      <td>15.43</td>\n",
       "      <td>15.32</td>\n",
       "      <td>16.77</td>\n",
       "      <td>11.21</td>\n",
       "      <td>7.79</td>\n",
       "      <td></td>\n",
       "      <td></td>\n",
       "      <td></td>\n",
       "    </tr>\n",
       "    <tr>\n",
       "      <th>2017-10-01</th>\n",
       "      <td>4.37</td>\n",
       "      <td>7.41</td>\n",
       "      <td>5.13</td>\n",
       "      <td>5.59</td>\n",
       "      <td>5.1</td>\n",
       "      <td>5.07</td>\n",
       "      <td>4.28</td>\n",
       "      <td>4.01</td>\n",
       "      <td></td>\n",
       "      <td></td>\n",
       "      <td></td>\n",
       "      <td></td>\n",
       "    </tr>\n",
       "    <tr>\n",
       "      <th>2017-11-01</th>\n",
       "      <td>4.37</td>\n",
       "      <td>4.1</td>\n",
       "      <td>4.47</td>\n",
       "      <td>6.28</td>\n",
       "      <td>4.44</td>\n",
       "      <td>3.73</td>\n",
       "      <td>4.6</td>\n",
       "      <td></td>\n",
       "      <td></td>\n",
       "      <td></td>\n",
       "      <td></td>\n",
       "      <td></td>\n",
       "    </tr>\n",
       "    <tr>\n",
       "      <th>2017-12-01</th>\n",
       "      <td>4.11</td>\n",
       "      <td>4.23</td>\n",
       "      <td>20.07</td>\n",
       "      <td>26.08</td>\n",
       "      <td>15.95</td>\n",
       "      <td>14.11</td>\n",
       "      <td></td>\n",
       "      <td></td>\n",
       "      <td></td>\n",
       "      <td></td>\n",
       "      <td></td>\n",
       "      <td></td>\n",
       "    </tr>\n",
       "    <tr>\n",
       "      <th>2018-01-01</th>\n",
       "      <td>3.69</td>\n",
       "      <td>4.44</td>\n",
       "      <td>6.45</td>\n",
       "      <td>7.52</td>\n",
       "      <td>2.71</td>\n",
       "      <td></td>\n",
       "      <td></td>\n",
       "      <td></td>\n",
       "      <td></td>\n",
       "      <td></td>\n",
       "      <td></td>\n",
       "      <td></td>\n",
       "    </tr>\n",
       "    <tr>\n",
       "      <th>2018-02-01</th>\n",
       "      <td>3.71</td>\n",
       "      <td>4.58</td>\n",
       "      <td>3.45</td>\n",
       "      <td>3.87</td>\n",
       "      <td></td>\n",
       "      <td></td>\n",
       "      <td></td>\n",
       "      <td></td>\n",
       "      <td></td>\n",
       "      <td></td>\n",
       "      <td></td>\n",
       "      <td></td>\n",
       "    </tr>\n",
       "    <tr>\n",
       "      <th>2018-03-01</th>\n",
       "      <td>4.14</td>\n",
       "      <td>5.97</td>\n",
       "      <td>6.33</td>\n",
       "      <td></td>\n",
       "      <td></td>\n",
       "      <td></td>\n",
       "      <td></td>\n",
       "      <td></td>\n",
       "      <td></td>\n",
       "      <td></td>\n",
       "      <td></td>\n",
       "      <td></td>\n",
       "    </tr>\n",
       "    <tr>\n",
       "      <th>2018-04-01</th>\n",
       "      <td>4.25</td>\n",
       "      <td>6.2</td>\n",
       "      <td></td>\n",
       "      <td></td>\n",
       "      <td></td>\n",
       "      <td></td>\n",
       "      <td></td>\n",
       "      <td></td>\n",
       "      <td></td>\n",
       "      <td></td>\n",
       "      <td></td>\n",
       "      <td></td>\n",
       "    </tr>\n",
       "    <tr>\n",
       "      <th>2018-05-01</th>\n",
       "      <td>4.29</td>\n",
       "      <td></td>\n",
       "      <td></td>\n",
       "      <td></td>\n",
       "      <td></td>\n",
       "      <td></td>\n",
       "      <td></td>\n",
       "      <td></td>\n",
       "      <td></td>\n",
       "      <td></td>\n",
       "      <td></td>\n",
       "      <td></td>\n",
       "    </tr>\n",
       "    <tr>\n",
       "      <th>2018-06-01</th>\n",
       "      <td>3.42</td>\n",
       "      <td></td>\n",
       "      <td></td>\n",
       "      <td></td>\n",
       "      <td></td>\n",
       "      <td></td>\n",
       "      <td></td>\n",
       "      <td></td>\n",
       "      <td></td>\n",
       "      <td></td>\n",
       "      <td></td>\n",
       "      <td></td>\n",
       "    </tr>\n",
       "  </tbody>\n",
       "</table>\n",
       "</div>"
      ],
      "text/plain": [
       "age           0      1      2      3      4      5      6      7     8   \\\n",
       "cohort                                                                    \n",
       "2017-06-01  4.06   5.55   5.09   8.55   7.08   6.83   6.97   6.76  5.28   \n",
       "2017-07-01  5.29   6.45   9.99   6.64   4.72   3.66   3.79   5.45  5.35   \n",
       "2017-08-01  4.72   5.99   6.28   6.62   7.96   6.27   5.89   7.11   8.7   \n",
       "2017-09-01  4.97  13.17   8.35  62.57  15.43  15.32  16.77  11.21  7.79   \n",
       "2017-10-01  4.37   7.41   5.13   5.59    5.1   5.07   4.28   4.01         \n",
       "2017-11-01  4.37    4.1   4.47   6.28   4.44   3.73    4.6                \n",
       "2017-12-01  4.11   4.23  20.07  26.08  15.95  14.11                       \n",
       "2018-01-01  3.69   4.44   6.45   7.52   2.71                              \n",
       "2018-02-01  3.71   4.58   3.45   3.87                                     \n",
       "2018-03-01  4.14   5.97   6.33                                            \n",
       "2018-04-01  4.25    6.2                                                   \n",
       "2018-05-01  4.29                                                          \n",
       "2018-06-01  3.42                                                          \n",
       "\n",
       "age            9      10    11  \n",
       "cohort                          \n",
       "2017-06-01   8.01  12.04  6.04  \n",
       "2017-07-01  11.79   5.65        \n",
       "2017-08-01    5.6               \n",
       "2017-09-01                      \n",
       "2017-10-01                      \n",
       "2017-11-01                      \n",
       "2017-12-01                      \n",
       "2018-01-01                      \n",
       "2018-02-01                      \n",
       "2018-03-01                      \n",
       "2018-04-01                      \n",
       "2018-05-01                      \n",
       "2018-06-01                      "
      ]
     },
     "execution_count": 55,
     "metadata": {},
     "output_type": "execute_result"
    }
   ],
   "source": [
    "avg_order = avg_order_cohorts.pivot_table(index = 'cohort', columns = 'age', values = 'revenue', aggfunc = 'mean')\n",
    "avg_order.round(2).fillna('')"
   ]
  },
  {
   "cell_type": "markdown",
   "metadata": {},
   "source": [
    "**Conclusion**\n",
    "\n",
    "Here we can mention a kind of \"explosion\" for September cohort, that has \"leap\" on third month (December) and high level in 4th, 5th and 6th month as well. We can also mention a huge increase for December cohort in 2nd and 3rd months, and high level in 4th and 5th.\n",
    "\n",
    "But in general, all cohorts have almost the same level of average check that doesn't varied so strongly through their \"lifetime\""
   ]
  },
  {
   "cell_type": "markdown",
   "metadata": {},
   "source": [
    "##### How much money do they bring? (LTV)"
   ]
  },
  {
   "cell_type": "markdown",
   "metadata": {},
   "source": [
    "Again, like in case we've defined the average number of orders we have to make same steps to define lifetime value (LTV). In first step we'll define the total revenue:  "
   ]
  },
  {
   "cell_type": "code",
   "execution_count": 56,
   "metadata": {},
   "outputs": [
    {
     "data": {
      "text/html": [
       "<div>\n",
       "<style scoped>\n",
       "    .dataframe tbody tr th:only-of-type {\n",
       "        vertical-align: middle;\n",
       "    }\n",
       "\n",
       "    .dataframe tbody tr th {\n",
       "        vertical-align: top;\n",
       "    }\n",
       "\n",
       "    .dataframe thead th {\n",
       "        text-align: right;\n",
       "    }\n",
       "</style>\n",
       "<table border=\"1\" class=\"dataframe\">\n",
       "  <thead>\n",
       "    <tr style=\"text-align: right;\">\n",
       "      <th></th>\n",
       "      <th>cohort</th>\n",
       "      <th>month</th>\n",
       "      <th>total_revenue</th>\n",
       "    </tr>\n",
       "  </thead>\n",
       "  <tbody>\n",
       "    <tr>\n",
       "      <th>0</th>\n",
       "      <td>2017-06-01</td>\n",
       "      <td>2017-06-01</td>\n",
       "      <td>9557.49</td>\n",
       "    </tr>\n",
       "    <tr>\n",
       "      <th>1</th>\n",
       "      <td>2017-06-01</td>\n",
       "      <td>2017-07-01</td>\n",
       "      <td>981.82</td>\n",
       "    </tr>\n",
       "    <tr>\n",
       "      <th>2</th>\n",
       "      <td>2017-06-01</td>\n",
       "      <td>2017-08-01</td>\n",
       "      <td>885.34</td>\n",
       "    </tr>\n",
       "    <tr>\n",
       "      <th>3</th>\n",
       "      <td>2017-06-01</td>\n",
       "      <td>2017-09-01</td>\n",
       "      <td>1931.30</td>\n",
       "    </tr>\n",
       "    <tr>\n",
       "      <th>4</th>\n",
       "      <td>2017-06-01</td>\n",
       "      <td>2017-10-01</td>\n",
       "      <td>2068.58</td>\n",
       "    </tr>\n",
       "  </tbody>\n",
       "</table>\n",
       "</div>"
      ],
      "text/plain": [
       "      cohort      month  total_revenue\n",
       "0 2017-06-01 2017-06-01        9557.49\n",
       "1 2017-06-01 2017-07-01         981.82\n",
       "2 2017-06-01 2017-08-01         885.34\n",
       "3 2017-06-01 2017-09-01        1931.30\n",
       "4 2017-06-01 2017-10-01        2068.58"
      ]
     },
     "execution_count": 56,
     "metadata": {},
     "output_type": "execute_result"
    }
   ],
   "source": [
    "ltv_cohorts = orders.groupby(['cohort', 'month'])['revenue'].sum().reset_index()\n",
    "ltv_cohorts.columns = ['cohort', 'month', 'total_revenue']\n",
    "ltv_cohorts.head()"
   ]
  },
  {
   "cell_type": "markdown",
   "metadata": {},
   "source": [
    "Let's merge two tables: total revenue per cohort and number of customers per cohort:"
   ]
  },
  {
   "cell_type": "code",
   "execution_count": 57,
   "metadata": {},
   "outputs": [],
   "source": [
    "ltv_cohorts = ltv_cohorts.merge(cohort_size, on = ['cohort'])\n",
    "ltv_cohorts['age'] = ((ltv_cohorts['month'] - ltv_cohorts['cohort']) / np.timedelta64(1, 'M')).round().astype('int')"
   ]
  },
  {
   "cell_type": "code",
   "execution_count": 58,
   "metadata": {},
   "outputs": [
    {
     "data": {
      "text/html": [
       "<div>\n",
       "<style scoped>\n",
       "    .dataframe tbody tr th:only-of-type {\n",
       "        vertical-align: middle;\n",
       "    }\n",
       "\n",
       "    .dataframe tbody tr th {\n",
       "        vertical-align: top;\n",
       "    }\n",
       "\n",
       "    .dataframe thead th {\n",
       "        text-align: right;\n",
       "    }\n",
       "</style>\n",
       "<table border=\"1\" class=\"dataframe\">\n",
       "  <thead>\n",
       "    <tr style=\"text-align: right;\">\n",
       "      <th></th>\n",
       "      <th>cohort</th>\n",
       "      <th>month</th>\n",
       "      <th>total_revenue</th>\n",
       "      <th>cohort_size</th>\n",
       "      <th>age</th>\n",
       "      <th>ltv</th>\n",
       "    </tr>\n",
       "  </thead>\n",
       "  <tbody>\n",
       "    <tr>\n",
       "      <th>0</th>\n",
       "      <td>2017-06-01</td>\n",
       "      <td>2017-06-01</td>\n",
       "      <td>9557.49</td>\n",
       "      <td>2023</td>\n",
       "      <td>0</td>\n",
       "      <td>4.724414</td>\n",
       "    </tr>\n",
       "    <tr>\n",
       "      <th>1</th>\n",
       "      <td>2017-06-01</td>\n",
       "      <td>2017-07-01</td>\n",
       "      <td>981.82</td>\n",
       "      <td>2023</td>\n",
       "      <td>1</td>\n",
       "      <td>0.485329</td>\n",
       "    </tr>\n",
       "    <tr>\n",
       "      <th>2</th>\n",
       "      <td>2017-06-01</td>\n",
       "      <td>2017-08-01</td>\n",
       "      <td>885.34</td>\n",
       "      <td>2023</td>\n",
       "      <td>2</td>\n",
       "      <td>0.437637</td>\n",
       "    </tr>\n",
       "    <tr>\n",
       "      <th>3</th>\n",
       "      <td>2017-06-01</td>\n",
       "      <td>2017-09-01</td>\n",
       "      <td>1931.30</td>\n",
       "      <td>2023</td>\n",
       "      <td>3</td>\n",
       "      <td>0.954671</td>\n",
       "    </tr>\n",
       "    <tr>\n",
       "      <th>4</th>\n",
       "      <td>2017-06-01</td>\n",
       "      <td>2017-10-01</td>\n",
       "      <td>2068.58</td>\n",
       "      <td>2023</td>\n",
       "      <td>4</td>\n",
       "      <td>1.022531</td>\n",
       "    </tr>\n",
       "  </tbody>\n",
       "</table>\n",
       "</div>"
      ],
      "text/plain": [
       "      cohort      month  total_revenue  cohort_size  age       ltv\n",
       "0 2017-06-01 2017-06-01        9557.49         2023    0  4.724414\n",
       "1 2017-06-01 2017-07-01         981.82         2023    1  0.485329\n",
       "2 2017-06-01 2017-08-01         885.34         2023    2  0.437637\n",
       "3 2017-06-01 2017-09-01        1931.30         2023    3  0.954671\n",
       "4 2017-06-01 2017-10-01        2068.58         2023    4  1.022531"
      ]
     },
     "execution_count": 58,
     "metadata": {},
     "output_type": "execute_result"
    }
   ],
   "source": [
    "ltv_cohorts['ltv'] = ltv_cohorts['total_revenue'] / ltv_cohorts['cohort_size']\n",
    "ltv_cohorts.head()"
   ]
  },
  {
   "cell_type": "code",
   "execution_count": 59,
   "metadata": {},
   "outputs": [
    {
     "data": {
      "text/html": [
       "<div>\n",
       "<style scoped>\n",
       "    .dataframe tbody tr th:only-of-type {\n",
       "        vertical-align: middle;\n",
       "    }\n",
       "\n",
       "    .dataframe tbody tr th {\n",
       "        vertical-align: top;\n",
       "    }\n",
       "\n",
       "    .dataframe thead th {\n",
       "        text-align: right;\n",
       "    }\n",
       "</style>\n",
       "<table border=\"1\" class=\"dataframe\">\n",
       "  <thead>\n",
       "    <tr style=\"text-align: right;\">\n",
       "      <th>age</th>\n",
       "      <th>0</th>\n",
       "      <th>1</th>\n",
       "      <th>2</th>\n",
       "      <th>3</th>\n",
       "      <th>4</th>\n",
       "      <th>5</th>\n",
       "      <th>6</th>\n",
       "      <th>7</th>\n",
       "      <th>8</th>\n",
       "      <th>9</th>\n",
       "      <th>10</th>\n",
       "      <th>11</th>\n",
       "    </tr>\n",
       "    <tr>\n",
       "      <th>cohort</th>\n",
       "      <th></th>\n",
       "      <th></th>\n",
       "      <th></th>\n",
       "      <th></th>\n",
       "      <th></th>\n",
       "      <th></th>\n",
       "      <th></th>\n",
       "      <th></th>\n",
       "      <th></th>\n",
       "      <th></th>\n",
       "      <th></th>\n",
       "      <th></th>\n",
       "    </tr>\n",
       "  </thead>\n",
       "  <tbody>\n",
       "    <tr>\n",
       "      <th>2017-06-01</th>\n",
       "      <td>4.72</td>\n",
       "      <td>5.21</td>\n",
       "      <td>5.65</td>\n",
       "      <td>6.6</td>\n",
       "      <td>7.62</td>\n",
       "      <td>8.36</td>\n",
       "      <td>9.31</td>\n",
       "      <td>9.89</td>\n",
       "      <td>10.45</td>\n",
       "      <td>11.05</td>\n",
       "      <td>11.62</td>\n",
       "      <td>11.88</td>\n",
       "    </tr>\n",
       "    <tr>\n",
       "      <th>2017-07-01</th>\n",
       "      <td>6.01</td>\n",
       "      <td>6.35</td>\n",
       "      <td>6.97</td>\n",
       "      <td>7.33</td>\n",
       "      <td>7.5</td>\n",
       "      <td>7.66</td>\n",
       "      <td>7.78</td>\n",
       "      <td>7.92</td>\n",
       "      <td>8.08</td>\n",
       "      <td>8.23</td>\n",
       "      <td>8.39</td>\n",
       "      <td></td>\n",
       "    </tr>\n",
       "    <tr>\n",
       "      <th>2017-08-01</th>\n",
       "      <td>5.28</td>\n",
       "      <td>5.75</td>\n",
       "      <td>6.21</td>\n",
       "      <td>6.6</td>\n",
       "      <td>7.09</td>\n",
       "      <td>7.38</td>\n",
       "      <td>7.59</td>\n",
       "      <td>7.99</td>\n",
       "      <td>8.28</td>\n",
       "      <td>8.47</td>\n",
       "      <td></td>\n",
       "      <td></td>\n",
       "    </tr>\n",
       "    <tr>\n",
       "      <th>2017-09-01</th>\n",
       "      <td>5.64</td>\n",
       "      <td>6.76</td>\n",
       "      <td>7.28</td>\n",
       "      <td>11.26</td>\n",
       "      <td>11.66</td>\n",
       "      <td>12.31</td>\n",
       "      <td>13.01</td>\n",
       "      <td>13.25</td>\n",
       "      <td>13.44</td>\n",
       "      <td></td>\n",
       "      <td></td>\n",
       "      <td></td>\n",
       "    </tr>\n",
       "    <tr>\n",
       "      <th>2017-10-01</th>\n",
       "      <td>5.00</td>\n",
       "      <td>5.54</td>\n",
       "      <td>5.73</td>\n",
       "      <td>5.89</td>\n",
       "      <td>6.04</td>\n",
       "      <td>6.16</td>\n",
       "      <td>6.24</td>\n",
       "      <td>6.36</td>\n",
       "      <td></td>\n",
       "      <td></td>\n",
       "      <td></td>\n",
       "      <td></td>\n",
       "    </tr>\n",
       "    <tr>\n",
       "      <th>2017-11-01</th>\n",
       "      <td>5.15</td>\n",
       "      <td>5.55</td>\n",
       "      <td>5.75</td>\n",
       "      <td>6.08</td>\n",
       "      <td>6.23</td>\n",
       "      <td>6.28</td>\n",
       "      <td>6.4</td>\n",
       "      <td></td>\n",
       "      <td></td>\n",
       "      <td></td>\n",
       "      <td></td>\n",
       "      <td></td>\n",
       "    </tr>\n",
       "    <tr>\n",
       "      <th>2017-12-01</th>\n",
       "      <td>4.74</td>\n",
       "      <td>5.0</td>\n",
       "      <td>5.92</td>\n",
       "      <td>6.99</td>\n",
       "      <td>7.3</td>\n",
       "      <td>7.64</td>\n",
       "      <td></td>\n",
       "      <td></td>\n",
       "      <td></td>\n",
       "      <td></td>\n",
       "      <td></td>\n",
       "      <td></td>\n",
       "    </tr>\n",
       "    <tr>\n",
       "      <th>2018-01-01</th>\n",
       "      <td>4.14</td>\n",
       "      <td>4.43</td>\n",
       "      <td>4.73</td>\n",
       "      <td>4.88</td>\n",
       "      <td>4.94</td>\n",
       "      <td></td>\n",
       "      <td></td>\n",
       "      <td></td>\n",
       "      <td></td>\n",
       "      <td></td>\n",
       "      <td></td>\n",
       "      <td></td>\n",
       "    </tr>\n",
       "    <tr>\n",
       "      <th>2018-02-01</th>\n",
       "      <td>4.16</td>\n",
       "      <td>4.44</td>\n",
       "      <td>4.51</td>\n",
       "      <td>4.59</td>\n",
       "      <td></td>\n",
       "      <td></td>\n",
       "      <td></td>\n",
       "      <td></td>\n",
       "      <td></td>\n",
       "      <td></td>\n",
       "      <td></td>\n",
       "      <td></td>\n",
       "    </tr>\n",
       "    <tr>\n",
       "      <th>2018-03-01</th>\n",
       "      <td>4.84</td>\n",
       "      <td>5.14</td>\n",
       "      <td>5.46</td>\n",
       "      <td></td>\n",
       "      <td></td>\n",
       "      <td></td>\n",
       "      <td></td>\n",
       "      <td></td>\n",
       "      <td></td>\n",
       "      <td></td>\n",
       "      <td></td>\n",
       "      <td></td>\n",
       "    </tr>\n",
       "    <tr>\n",
       "      <th>2018-04-01</th>\n",
       "      <td>4.66</td>\n",
       "      <td>5.19</td>\n",
       "      <td></td>\n",
       "      <td></td>\n",
       "      <td></td>\n",
       "      <td></td>\n",
       "      <td></td>\n",
       "      <td></td>\n",
       "      <td></td>\n",
       "      <td></td>\n",
       "      <td></td>\n",
       "      <td></td>\n",
       "    </tr>\n",
       "    <tr>\n",
       "      <th>2018-05-01</th>\n",
       "      <td>4.66</td>\n",
       "      <td></td>\n",
       "      <td></td>\n",
       "      <td></td>\n",
       "      <td></td>\n",
       "      <td></td>\n",
       "      <td></td>\n",
       "      <td></td>\n",
       "      <td></td>\n",
       "      <td></td>\n",
       "      <td></td>\n",
       "      <td></td>\n",
       "    </tr>\n",
       "    <tr>\n",
       "      <th>2018-06-01</th>\n",
       "      <td>3.42</td>\n",
       "      <td></td>\n",
       "      <td></td>\n",
       "      <td></td>\n",
       "      <td></td>\n",
       "      <td></td>\n",
       "      <td></td>\n",
       "      <td></td>\n",
       "      <td></td>\n",
       "      <td></td>\n",
       "      <td></td>\n",
       "      <td></td>\n",
       "    </tr>\n",
       "  </tbody>\n",
       "</table>\n",
       "</div>"
      ],
      "text/plain": [
       "age           0     1     2      3      4      5      6      7      8      9   \\\n",
       "cohort                                                                          \n",
       "2017-06-01  4.72  5.21  5.65    6.6   7.62   8.36   9.31   9.89  10.45  11.05   \n",
       "2017-07-01  6.01  6.35  6.97   7.33    7.5   7.66   7.78   7.92   8.08   8.23   \n",
       "2017-08-01  5.28  5.75  6.21    6.6   7.09   7.38   7.59   7.99   8.28   8.47   \n",
       "2017-09-01  5.64  6.76  7.28  11.26  11.66  12.31  13.01  13.25  13.44          \n",
       "2017-10-01  5.00  5.54  5.73   5.89   6.04   6.16   6.24   6.36                 \n",
       "2017-11-01  5.15  5.55  5.75   6.08   6.23   6.28    6.4                        \n",
       "2017-12-01  4.74   5.0  5.92   6.99    7.3   7.64                               \n",
       "2018-01-01  4.14  4.43  4.73   4.88   4.94                                      \n",
       "2018-02-01  4.16  4.44  4.51   4.59                                             \n",
       "2018-03-01  4.84  5.14  5.46                                                    \n",
       "2018-04-01  4.66  5.19                                                          \n",
       "2018-05-01  4.66                                                                \n",
       "2018-06-01  3.42                                                                \n",
       "\n",
       "age            10     11  \n",
       "cohort                    \n",
       "2017-06-01  11.62  11.88  \n",
       "2017-07-01   8.39         \n",
       "2017-08-01                \n",
       "2017-09-01                \n",
       "2017-10-01                \n",
       "2017-11-01                \n",
       "2017-12-01                \n",
       "2018-01-01                \n",
       "2018-02-01                \n",
       "2018-03-01                \n",
       "2018-04-01                \n",
       "2018-05-01                \n",
       "2018-06-01                "
      ]
     },
     "execution_count": 59,
     "metadata": {},
     "output_type": "execute_result"
    }
   ],
   "source": [
    "ltv = ltv_cohorts.pivot_table(index = 'cohort', columns = 'age', values = 'ltv', aggfunc = 'sum').cumsum(axis=1)\n",
    "ltv.round(2).fillna('')"
   ]
  },
  {
   "cell_type": "markdown",
   "metadata": {},
   "source": [
    "And we'll plot heatmap: "
   ]
  },
  {
   "cell_type": "code",
   "execution_count": 60,
   "metadata": {},
   "outputs": [
    {
     "data": {
      "image/png": "[encoded data removed]",
      "text/plain": [
       "<Figure size 1080x864 with 2 Axes>"
      ]
     },
     "metadata": {
      "needs_background": "light"
     },
     "output_type": "display_data"
    }
   ],
   "source": [
    "ltv.index = ltv.index.astype(str)\n",
    "plt.figure(figsize=(15, 12))\n",
    "sns.heatmap(ltv, annot=True, fmt='.2f', linewidths=1, \n",
    "            linecolor='grey', cbar_kws= {'orientation': 'horizontal'}).set(title ='LTV')\n",
    "plt.show()"
   ]
  },
  {
   "cell_type": "markdown",
   "metadata": {},
   "source": [
    "**Conclusion**   \n",
    "\n",
    "Again, in terms of LTV we have September 2017 cohort as a leader, because cumulative sum bigger than even June 2017 cohort that has longer \"lifetime\": \\\\$13.44 per user after 8 months for September compared with \\\\$11.88 per user for June respectively. Also, we can consider July, August and December cohorts successful as well."
   ]
  },
  {
   "cell_type": "markdown",
   "metadata": {},
   "source": [
    "____    \n",
    "#### Conclusion for Sales Block:   \n",
    "\n",
    "Ok, let's summarize:\n",
    "It takes just one day to make purchase, and it's kind of fast sale, and it's sound logical - you don't have to spent a lot of time to make purchase ticket for certain event. Also, in most cases it's a spontaneous purchase (often, after social media adv) on the nearest event. Also, we don't see on graphs a huge level of repeat sales, currently we can't say about high level of recurrent payments. In average users have similar check, the ticket's prices don't varied a lot, except couple of months where apparently was purchases for a group visitor (group of collogues, for instance)"
   ]
  },
  {
   "cell_type": "markdown",
   "metadata": {},
   "source": [
    "#### **Marketing**   \n",
    " - How much money was spent? Overall/per source/over time   \n",
    " - How much did customer acquisition from each of the sources cost?   \n",
    " - How worthwhile where the investments? (ROI)   "
   ]
  },
  {
   "cell_type": "markdown",
   "metadata": {},
   "source": [
    "##### How much money was spent? Overall/per source/over time"
   ]
  },
  {
   "cell_type": "markdown",
   "metadata": {},
   "source": [
    "**Overall**"
   ]
  },
  {
   "cell_type": "code",
   "execution_count": 61,
   "metadata": {},
   "outputs": [
    {
     "data": {
      "text/html": [
       "<div>\n",
       "<style scoped>\n",
       "    .dataframe tbody tr th:only-of-type {\n",
       "        vertical-align: middle;\n",
       "    }\n",
       "\n",
       "    .dataframe tbody tr th {\n",
       "        vertical-align: top;\n",
       "    }\n",
       "\n",
       "    .dataframe thead th {\n",
       "        text-align: right;\n",
       "    }\n",
       "</style>\n",
       "<table border=\"1\" class=\"dataframe\">\n",
       "  <thead>\n",
       "    <tr style=\"text-align: right;\">\n",
       "      <th></th>\n",
       "      <th>source_id</th>\n",
       "      <th>dt</th>\n",
       "      <th>costs</th>\n",
       "    </tr>\n",
       "  </thead>\n",
       "  <tbody>\n",
       "    <tr>\n",
       "      <th>0</th>\n",
       "      <td>1</td>\n",
       "      <td>2017-06-01</td>\n",
       "      <td>75.20</td>\n",
       "    </tr>\n",
       "    <tr>\n",
       "      <th>363</th>\n",
       "      <td>2</td>\n",
       "      <td>2017-06-01</td>\n",
       "      <td>132.56</td>\n",
       "    </tr>\n",
       "    <tr>\n",
       "      <th>726</th>\n",
       "      <td>3</td>\n",
       "      <td>2017-06-01</td>\n",
       "      <td>349.38</td>\n",
       "    </tr>\n",
       "    <tr>\n",
       "      <th>1089</th>\n",
       "      <td>4</td>\n",
       "      <td>2017-06-01</td>\n",
       "      <td>76.74</td>\n",
       "    </tr>\n",
       "    <tr>\n",
       "      <th>1452</th>\n",
       "      <td>5</td>\n",
       "      <td>2017-06-01</td>\n",
       "      <td>73.24</td>\n",
       "    </tr>\n",
       "  </tbody>\n",
       "</table>\n",
       "</div>"
      ],
      "text/plain": [
       "      source_id         dt   costs\n",
       "0             1 2017-06-01   75.20\n",
       "363           2 2017-06-01  132.56\n",
       "726           3 2017-06-01  349.38\n",
       "1089          4 2017-06-01   76.74\n",
       "1452          5 2017-06-01   73.24"
      ]
     },
     "execution_count": 61,
     "metadata": {},
     "output_type": "execute_result"
    }
   ],
   "source": [
    "costs = costs.sort_values(by = ['dt', 'source_id'])\n",
    "costs.head()"
   ]
  },
  {
   "cell_type": "code",
   "execution_count": 62,
   "metadata": {},
   "outputs": [
    {
     "name": "stdout",
     "output_type": "stream",
     "text": [
      "Total marketing cost is 329131.62\n"
     ]
    }
   ],
   "source": [
    "print('Total marketing cost is {}'.format(costs['costs'].sum()))"
   ]
  },
  {
   "cell_type": "markdown",
   "metadata": {},
   "source": [
    "**Per source** "
   ]
  },
  {
   "cell_type": "markdown",
   "metadata": {},
   "source": [
    "Ok, let's define sum of cost per source and plot the some graphs: "
   ]
  },
  {
   "cell_type": "code",
   "execution_count": 63,
   "metadata": {},
   "outputs": [
    {
     "data": {
      "text/html": [
       "<div>\n",
       "<style scoped>\n",
       "    .dataframe tbody tr th:only-of-type {\n",
       "        vertical-align: middle;\n",
       "    }\n",
       "\n",
       "    .dataframe tbody tr th {\n",
       "        vertical-align: top;\n",
       "    }\n",
       "\n",
       "    .dataframe thead th {\n",
       "        text-align: right;\n",
       "    }\n",
       "</style>\n",
       "<table border=\"1\" class=\"dataframe\">\n",
       "  <thead>\n",
       "    <tr style=\"text-align: right;\">\n",
       "      <th></th>\n",
       "      <th>source_id</th>\n",
       "      <th>costs</th>\n",
       "    </tr>\n",
       "  </thead>\n",
       "  <tbody>\n",
       "    <tr>\n",
       "      <th>0</th>\n",
       "      <td>1</td>\n",
       "      <td>20833.27</td>\n",
       "    </tr>\n",
       "    <tr>\n",
       "      <th>1</th>\n",
       "      <td>2</td>\n",
       "      <td>42806.04</td>\n",
       "    </tr>\n",
       "    <tr>\n",
       "      <th>2</th>\n",
       "      <td>3</td>\n",
       "      <td>141321.63</td>\n",
       "    </tr>\n",
       "    <tr>\n",
       "      <th>3</th>\n",
       "      <td>4</td>\n",
       "      <td>61073.60</td>\n",
       "    </tr>\n",
       "    <tr>\n",
       "      <th>4</th>\n",
       "      <td>5</td>\n",
       "      <td>51757.10</td>\n",
       "    </tr>\n",
       "  </tbody>\n",
       "</table>\n",
       "</div>"
      ],
      "text/plain": [
       "   source_id      costs\n",
       "0          1   20833.27\n",
       "1          2   42806.04\n",
       "2          3  141321.63\n",
       "3          4   61073.60\n",
       "4          5   51757.10"
      ]
     },
     "execution_count": 63,
     "metadata": {},
     "output_type": "execute_result"
    }
   ],
   "source": [
    "costs_per_source = costs.groupby(['source_id'])['costs'].sum().reset_index()\n",
    "costs_per_source.head()"
   ]
  },
  {
   "cell_type": "code",
   "execution_count": 64,
   "metadata": {},
   "outputs": [
    {
     "data": {
      "image/svg+xml": [
       "<svg class=\"main-svg\" xmlns=\"http://www.w3.org/2000/svg\" xmlns:xlink=\"http://www.w3.org/1999/xlink\" width=\"700\" height=\"500\" style=\"\" viewBox=\"0 0 700 500\"><rect x=\"0\" y=\"0\" width=\"700\" height=\"500\" style=\"fill: rgb(255, 255, 255); fill-opacity: 1;\"/><defs id=\"defs-a731a2\"><g class=\"clips\"><clipPath id=\"clipa731a2xyplot\" class=\"plotclip\"><rect width=\"540\" height=\"320\"/></clipPath><clipPath class=\"axesclip\" id=\"clipa731a2x\"><rect x=\"80\" y=\"0\" width=\"540\" height=\"500\"/></clipPath><clipPath class=\"axesclip\" id=\"clipa731a2y\"><rect x=\"0\" y=\"100\" width=\"700\" height=\"320\"/></clipPath><clipPath class=\"axesclip\" id=\"clipa731a2xy\"><rect x=\"80\" y=\"100\" width=\"540\" height=\"320\"/></clipPath></g><g class=\"gradients\"/><g class=\"patterns\"/></defs><g class=\"bglayer\"><rect class=\"bg\" x=\"80\" y=\"100\" width=\"540\" height=\"320\" style=\"fill: rgb(229, 236, 246); fill-opacity: 1; stroke-width: 0;\"/></g><g class=\"layer-below\"><g class=\"imagelayer\"/><g class=\"shapelayer\"/></g><g class=\"cartesianlayer\"><g class=\"subplot xy\"><g class=\"layer-subplot\"><g class=\"shapelayer\"/><g class=\"imagelayer\"/></g><g class=\"minor-gridlayer\"><g class=\"x\"/><g class=\"y\"/></g><g class=\"gridlayer\"><g class=\"x\"/><g class=\"y\"><path class=\"ygrid crisp\" transform=\"translate(0,376.98)\" d=\"M80,0h540\" style=\"stroke: rgb(255, 255, 255); stroke-opacity: 1; stroke-width: 1px;\"/><path class=\"ygrid crisp\" transform=\"translate(0,333.96000000000004)\" d=\"M80,0h540\" style=\"stroke: rgb(255, 255, 255); stroke-opacity: 1; stroke-width: 1px;\"/><path class=\"ygrid crisp\" transform=\"translate(0,290.93)\" d=\"M80,0h540\" style=\"stroke: rgb(255, 255, 255); stroke-opacity: 1; stroke-width: 1px;\"/><path class=\"ygrid crisp\" transform=\"translate(0,247.91)\" d=\"M80,0h540\" style=\"stroke: rgb(255, 255, 255); stroke-opacity: 1; stroke-width: 1px;\"/><path class=\"ygrid crisp\" transform=\"translate(0,204.89)\" d=\"M80,0h540\" style=\"stroke: rgb(255, 255, 255); stroke-opacity: 1; stroke-width: 1px;\"/><path class=\"ygrid crisp\" transform=\"translate(0,161.87)\" d=\"M80,0h540\" style=\"stroke: rgb(255, 255, 255); stroke-opacity: 1; stroke-width: 1px;\"/><path class=\"ygrid crisp\" transform=\"translate(0,118.84)\" d=\"M80,0h540\" style=\"stroke: rgb(255, 255, 255); stroke-opacity: 1; stroke-width: 1px;\"/></g></g><g class=\"zerolinelayer\"><path class=\"yzl zl crisp\" transform=\"translate(0,420)\" d=\"M80,0h540\" style=\"stroke: rgb(255, 255, 255); stroke-opacity: 1; stroke-width: 2px;\"/></g><path class=\"xlines-below\"/><path class=\"ylines-below\"/><g class=\"overlines-below\"/><g class=\"xaxislayer-below\"/><g class=\"yaxislayer-below\"/><g class=\"overaxes-below\"/><g class=\"plot\" transform=\"translate(80,100)\" clip-path=\"url(#clipa731a2xyplot)\"><g class=\"barlayer mlayer\"><g class=\"trace bars\" style=\"opacity: 1;\"><g class=\"points\"><g class=\"point\"><path d=\"M7.71,320V275.19H69.43V320Z\" style=\"vector-effect: none; opacity: 1; stroke-width: 0.5px; fill: rgb(99, 110, 250); fill-opacity: 1; stroke: rgb(229, 236, 246); stroke-opacity: 1;\"/></g><g class=\"point\"><path d=\"M84.86,320V227.92H146.57V320Z\" style=\"vector-effect: none; opacity: 1; stroke-width: 0.5px; fill: rgb(99, 110, 250); fill-opacity: 1; stroke: rgb(229, 236, 246); stroke-opacity: 1;\"/></g><g class=\"point\"><path d=\"M162,320V16H223.71V320Z\" style=\"vector-effect: none; opacity: 1; stroke-width: 0.5px; fill: rgb(99, 110, 250); fill-opacity: 1; stroke: rgb(229, 236, 246); stroke-opacity: 1;\"/></g><g class=\"point\"><path d=\"M239.14,320V188.62H300.86V320Z\" style=\"vector-effect: none; opacity: 1; stroke-width: 0.5px; fill: rgb(99, 110, 250); fill-opacity: 1; stroke: rgb(229, 236, 246); stroke-opacity: 1;\"/></g><g class=\"point\"><path d=\"M316.29,320V208.66H378V320Z\" style=\"vector-effect: none; opacity: 1; stroke-width: 0.5px; fill: rgb(99, 110, 250); fill-opacity: 1; stroke: rgb(229, 236, 246); stroke-opacity: 1;\"/></g><g class=\"point\"><path d=\"M393.43,320V308.13H455.14V320Z\" style=\"vector-effect: none; opacity: 1; stroke-width: 0.5px; fill: rgb(99, 110, 250); fill-opacity: 1; stroke: rgb(229, 236, 246); stroke-opacity: 1;\"/></g><g class=\"point\"><path d=\"M470.57,320V307.48H532.29V320Z\" style=\"vector-effect: none; opacity: 1; stroke-width: 0.5px; fill: rgb(99, 110, 250); fill-opacity: 1; stroke: rgb(229, 236, 246); stroke-opacity: 1;\"/></g></g></g></g></g><g class=\"overplot\"/><path class=\"xlines-above crisp\" d=\"M0,0\" style=\"fill: none;\"/><path class=\"ylines-above crisp\" d=\"M0,0\" style=\"fill: none;\"/><g class=\"overlines-above\"/><g class=\"xaxislayer-above\"><g class=\"xtick\"><text text-anchor=\"middle\" x=\"0\" y=\"433\" transform=\"translate(118.57,0)\" style=\"font-family: 'Open Sans', verdana, arial, sans-serif; font-size: 12px; fill: rgb(42, 63, 95); fill-opacity: 1; white-space: pre; opacity: 1;\">1</text></g><g class=\"xtick\"><text text-anchor=\"middle\" x=\"0\" y=\"433\" transform=\"translate(195.70999999999998,0)\" style=\"font-family: 'Open Sans', verdana, arial, sans-serif; font-size: 12px; fill: rgb(42, 63, 95); fill-opacity: 1; white-space: pre; opacity: 1;\">2</text></g><g class=\"xtick\"><text text-anchor=\"middle\" x=\"0\" y=\"433\" transform=\"translate(272.86,0)\" style=\"font-family: 'Open Sans', verdana, arial, sans-serif; font-size: 12px; fill: rgb(42, 63, 95); fill-opacity: 1; white-space: pre; opacity: 1;\">3</text></g><g class=\"xtick\"><text text-anchor=\"middle\" x=\"0\" y=\"433\" transform=\"translate(350,0)\" style=\"font-family: 'Open Sans', verdana, arial, sans-serif; font-size: 12px; fill: rgb(42, 63, 95); fill-opacity: 1; white-space: pre; opacity: 1;\">4</text></g><g class=\"xtick\"><text text-anchor=\"middle\" x=\"0\" y=\"433\" transform=\"translate(427.14,0)\" style=\"font-family: 'Open Sans', verdana, arial, sans-serif; font-size: 12px; fill: rgb(42, 63, 95); fill-opacity: 1; white-space: pre; opacity: 1;\">5</text></g><g class=\"xtick\"><text text-anchor=\"middle\" x=\"0\" y=\"433\" transform=\"translate(504.29,0)\" style=\"font-family: 'Open Sans', verdana, arial, sans-serif; font-size: 12px; fill: rgb(42, 63, 95); fill-opacity: 1; white-space: pre; opacity: 1;\">9</text></g><g class=\"xtick\"><text text-anchor=\"middle\" x=\"0\" y=\"433\" transform=\"translate(581.4300000000001,0)\" style=\"font-family: 'Open Sans', verdana, arial, sans-serif; font-size: 12px; fill: rgb(42, 63, 95); fill-opacity: 1; white-space: pre; opacity: 1;\">10</text></g></g><g class=\"yaxislayer-above\"><g class=\"ytick\"><text text-anchor=\"end\" x=\"79\" y=\"4.199999999999999\" transform=\"translate(0,420)\" style=\"font-family: 'Open Sans', verdana, arial, sans-serif; font-size: 12px; fill: rgb(42, 63, 95); fill-opacity: 1; white-space: pre; opacity: 1;\">0</text></g><g class=\"ytick\"><text text-anchor=\"end\" x=\"79\" y=\"4.199999999999999\" style=\"font-family: 'Open Sans', verdana, arial, sans-serif; font-size: 12px; fill: rgb(42, 63, 95); fill-opacity: 1; white-space: pre; opacity: 1;\" transform=\"translate(0,376.98)\">20k</text></g><g class=\"ytick\"><text text-anchor=\"end\" x=\"79\" y=\"4.199999999999999\" style=\"font-family: 'Open Sans', verdana, arial, sans-serif; font-size: 12px; fill: rgb(42, 63, 95); fill-opacity: 1; white-space: pre; opacity: 1;\" transform=\"translate(0,333.96000000000004)\">40k</text></g><g class=\"ytick\"><text text-anchor=\"end\" x=\"79\" y=\"4.199999999999999\" style=\"font-family: 'Open Sans', verdana, arial, sans-serif; font-size: 12px; fill: rgb(42, 63, 95); fill-opacity: 1; white-space: pre; opacity: 1;\" transform=\"translate(0,290.93)\">60k</text></g><g class=\"ytick\"><text text-anchor=\"end\" x=\"79\" y=\"4.199999999999999\" style=\"font-family: 'Open Sans', verdana, arial, sans-serif; font-size: 12px; fill: rgb(42, 63, 95); fill-opacity: 1; white-space: pre; opacity: 1;\" transform=\"translate(0,247.91)\">80k</text></g><g class=\"ytick\"><text text-anchor=\"end\" x=\"79\" y=\"4.199999999999999\" style=\"font-family: 'Open Sans', verdana, arial, sans-serif; font-size: 12px; fill: rgb(42, 63, 95); fill-opacity: 1; white-space: pre; opacity: 1;\" transform=\"translate(0,204.89)\">100k</text></g><g class=\"ytick\"><text text-anchor=\"end\" x=\"79\" y=\"4.199999999999999\" style=\"font-family: 'Open Sans', verdana, arial, sans-serif; font-size: 12px; fill: rgb(42, 63, 95); fill-opacity: 1; white-space: pre; opacity: 1;\" transform=\"translate(0,161.87)\">120k</text></g><g class=\"ytick\"><text text-anchor=\"end\" x=\"79\" y=\"4.199999999999999\" style=\"font-family: 'Open Sans', verdana, arial, sans-serif; font-size: 12px; fill: rgb(42, 63, 95); fill-opacity: 1; white-space: pre; opacity: 1;\" transform=\"translate(0,118.84)\">140k</text></g></g><g class=\"overaxes-above\"/></g></g><g class=\"polarlayer\"/><g class=\"smithlayer\"/><g class=\"ternarylayer\"/><g class=\"geolayer\"/><g class=\"funnelarealayer\"/><g class=\"pielayer\"/><g class=\"iciclelayer\"/><g class=\"treemaplayer\"/><g class=\"sunburstlayer\"/><g class=\"glimages\"/><defs id=\"topdefs-a731a2\"><g class=\"clips\"/></defs><g class=\"layer-above\"><g class=\"imagelayer\"/><g class=\"shapelayer\"/></g><g class=\"infolayer\"><g class=\"g-gtitle\"><text class=\"gtitle\" x=\"35\" y=\"50\" text-anchor=\"start\" dy=\"0em\" style=\"font-family: 'Open Sans', verdana, arial, sans-serif; font-size: 17px; fill: rgb(42, 63, 95); opacity: 1; font-weight: normal; white-space: pre;\">Distribution of costs per source</text></g><g class=\"g-xtitle\"><text class=\"xtitle\" x=\"350\" y=\"460.3\" text-anchor=\"middle\" style=\"font-family: 'Open Sans', verdana, arial, sans-serif; font-size: 14px; fill: rgb(42, 63, 95); opacity: 1; font-weight: normal; white-space: pre;\">Type of source</text></g><g class=\"g-ytitle\"><text class=\"ytitle\" transform=\"rotate(-90,24.700000000000003,260)\" x=\"24.700000000000003\" y=\"260\" text-anchor=\"middle\" style=\"font-family: 'Open Sans', verdana, arial, sans-serif; font-size: 14px; fill: rgb(42, 63, 95); opacity: 1; font-weight: normal; white-space: pre;\">Sum of costs</text></g></g></svg>"
      ]
     },
     "metadata": {},
     "output_type": "display_data"
    }
   ],
   "source": [
    "fig = px.bar(costs_per_source, x = 'source_id', y = 'costs', \n",
    "             labels ={'source_id': 'Type of source', 'costs': 'Sum of costs'}, title = 'Distribution of costs per source')\n",
    "fig.update_xaxes(type='category')\n",
    "fig.show(\"svg\")"
   ]
  },
  {
   "cell_type": "code",
   "execution_count": 65,
   "metadata": {},
   "outputs": [
    {
     "data": {
      "image/svg+xml": [
       "<svg class=\"main-svg\" xmlns=\"http://www.w3.org/2000/svg\" xmlns:xlink=\"http://www.w3.org/1999/xlink\" width=\"700\" height=\"500\" style=\"\" viewBox=\"0 0 700 500\"><rect x=\"0\" y=\"0\" width=\"700\" height=\"500\" style=\"fill: rgb(255, 255, 255); fill-opacity: 1;\"/><defs id=\"defs-ff3313\"><g class=\"clips\"><clipPath id=\"clipff3313xyplot\" class=\"plotclip\"><rect width=\"525\" height=\"320\"/></clipPath><clipPath class=\"axesclip\" id=\"clipff3313x\"><rect x=\"80\" y=\"0\" width=\"525\" height=\"500\"/></clipPath><clipPath class=\"axesclip\" id=\"clipff3313y\"><rect x=\"0\" y=\"100\" width=\"700\" height=\"320\"/></clipPath><clipPath class=\"axesclip\" id=\"clipff3313xy\"><rect x=\"80\" y=\"100\" width=\"525\" height=\"320\"/></clipPath></g><g class=\"gradients\"/><g class=\"patterns\"/></defs><g class=\"bglayer\"><rect class=\"bg\" x=\"80\" y=\"100\" width=\"525\" height=\"320\" style=\"fill: rgb(229, 236, 246); fill-opacity: 1; stroke-width: 0;\"/></g><g class=\"layer-below\"><g class=\"imagelayer\"/><g class=\"shapelayer\"/></g><g class=\"cartesianlayer\"><g class=\"subplot xy\"><g class=\"layer-subplot\"><g class=\"shapelayer\"/><g class=\"imagelayer\"/></g><g class=\"minor-gridlayer\"><g class=\"x\"/><g class=\"y\"/></g><g class=\"gridlayer\"><g class=\"x\"><path class=\"xgrid crisp\" transform=\"translate(123.27000000000001,0)\" d=\"M0,100v320\" style=\"stroke: rgb(255, 255, 255); stroke-opacity: 1; stroke-width: 1px;\"/><path class=\"xgrid crisp\" transform=\"translate(212.69,0)\" d=\"M0,100v320\" style=\"stroke: rgb(255, 255, 255); stroke-opacity: 1; stroke-width: 1px;\"/><path class=\"xgrid crisp\" transform=\"translate(300.66999999999996,0)\" d=\"M0,100v320\" style=\"stroke: rgb(255, 255, 255); stroke-opacity: 1; stroke-width: 1px;\"/><path class=\"xgrid crisp\" transform=\"translate(388.65,0)\" d=\"M0,100v320\" style=\"stroke: rgb(255, 255, 255); stroke-opacity: 1; stroke-width: 1px;\"/><path class=\"xgrid crisp\" transform=\"translate(473.75,0)\" d=\"M0,100v320\" style=\"stroke: rgb(255, 255, 255); stroke-opacity: 1; stroke-width: 1px;\"/><path class=\"xgrid crisp\" transform=\"translate(561.73,0)\" d=\"M0,100v320\" style=\"stroke: rgb(255, 255, 255); stroke-opacity: 1; stroke-width: 1px;\"/></g><g class=\"y\"><path class=\"ygrid crisp\" transform=\"translate(0,323.53999999999996)\" d=\"M80,0h525\" style=\"stroke: rgb(255, 255, 255); stroke-opacity: 1; stroke-width: 1px;\"/><path class=\"ygrid crisp\" transform=\"translate(0,242.99)\" d=\"M80,0h525\" style=\"stroke: rgb(255, 255, 255); stroke-opacity: 1; stroke-width: 1px;\"/><path class=\"ygrid crisp\" transform=\"translate(0,162.44)\" d=\"M80,0h525\" style=\"stroke: rgb(255, 255, 255); stroke-opacity: 1; stroke-width: 1px;\"/></g></g><g class=\"zerolinelayer\"><path class=\"yzl zl crisp\" transform=\"translate(0,404.09)\" d=\"M80,0h525\" style=\"stroke: rgb(255, 255, 255); stroke-opacity: 1; stroke-width: 2px;\"/></g><path class=\"xlines-below\"/><path class=\"ylines-below\"/><g class=\"overlines-below\"/><g class=\"xaxislayer-below\"/><g class=\"yaxislayer-below\"/><g class=\"overaxes-below\"/><g class=\"plot\" transform=\"translate(80,100)\" clip-path=\"url(#clipff3313xyplot)\"/><g class=\"overplot\"/><path class=\"xlines-above crisp\" d=\"M0,0\" style=\"fill: none;\"/><path class=\"ylines-above crisp\" d=\"M0,0\" style=\"fill: none;\"/><g class=\"overlines-above\"/><g class=\"xaxislayer-above\"><g class=\"xtick\"><text text-anchor=\"middle\" x=\"0\" y=\"433\" transform=\"translate(123.27000000000001,0)\" style=\"font-family: 'Open Sans', verdana, arial, sans-serif; font-size: 12px; fill: rgb(42, 63, 95); fill-opacity: 1; white-space: pre; opacity: 1;\">Jul 2017</text></g><g class=\"xtick\"><text text-anchor=\"middle\" x=\"0\" y=\"433\" style=\"font-family: 'Open Sans', verdana, arial, sans-serif; font-size: 12px; fill: rgb(42, 63, 95); fill-opacity: 1; white-space: pre; opacity: 1;\" transform=\"translate(212.69,0)\">Sep 2017</text></g><g class=\"xtick\"><text text-anchor=\"middle\" x=\"0\" y=\"433\" style=\"font-family: 'Open Sans', verdana, arial, sans-serif; font-size: 12px; fill: rgb(42, 63, 95); fill-opacity: 1; white-space: pre; opacity: 1;\" transform=\"translate(300.66999999999996,0)\">Nov 2017</text></g><g class=\"xtick\"><text text-anchor=\"middle\" x=\"0\" y=\"433\" style=\"font-family: 'Open Sans', verdana, arial, sans-serif; font-size: 12px; fill: rgb(42, 63, 95); fill-opacity: 1; white-space: pre; opacity: 1;\" transform=\"translate(388.65,0)\">Jan 2018</text></g><g class=\"xtick\"><text text-anchor=\"middle\" x=\"0\" y=\"433\" style=\"font-family: 'Open Sans', verdana, arial, sans-serif; font-size: 12px; fill: rgb(42, 63, 95); fill-opacity: 1; white-space: pre; opacity: 1;\" transform=\"translate(473.75,0)\">Mar 2018</text></g><g class=\"xtick\"><text text-anchor=\"middle\" x=\"0\" y=\"433\" style=\"font-family: 'Open Sans', verdana, arial, sans-serif; font-size: 12px; fill: rgb(42, 63, 95); fill-opacity: 1; white-space: pre; opacity: 1;\" transform=\"translate(561.73,0)\">May 2018</text></g></g><g class=\"yaxislayer-above\"><g class=\"ytick\"><text text-anchor=\"end\" x=\"79\" y=\"4.199999999999999\" transform=\"translate(0,404.09)\" style=\"font-family: 'Open Sans', verdana, arial, sans-serif; font-size: 12px; fill: rgb(42, 63, 95); fill-opacity: 1; white-space: pre; opacity: 1;\">0</text></g><g class=\"ytick\"><text text-anchor=\"end\" x=\"79\" y=\"4.199999999999999\" style=\"font-family: 'Open Sans', verdana, arial, sans-serif; font-size: 12px; fill: rgb(42, 63, 95); fill-opacity: 1; white-space: pre; opacity: 1;\" transform=\"translate(0,323.53999999999996)\">500</text></g><g class=\"ytick\"><text text-anchor=\"end\" x=\"79\" y=\"4.199999999999999\" style=\"font-family: 'Open Sans', verdana, arial, sans-serif; font-size: 12px; fill: rgb(42, 63, 95); fill-opacity: 1; white-space: pre; opacity: 1;\" transform=\"translate(0,242.99)\">1000</text></g><g class=\"ytick\"><text text-anchor=\"end\" x=\"79\" y=\"4.199999999999999\" style=\"font-family: 'Open Sans', verdana, arial, sans-serif; font-size: 12px; fill: rgb(42, 63, 95); fill-opacity: 1; white-space: pre; opacity: 1;\" transform=\"translate(0,162.44)\">1500</text></g></g><g class=\"overaxes-above\"/></g></g><g class=\"polarlayer\"/><g class=\"smithlayer\"/><g class=\"ternarylayer\"/><g class=\"geolayer\"/><g class=\"funnelarealayer\"/><g class=\"pielayer\"/><g class=\"iciclelayer\"/><g class=\"treemaplayer\"/><g class=\"sunburstlayer\"/><g class=\"glimages\"><image xmlns=\"http://www.w3.org/2000/svg\" xlink:href=\"data:image/png;base64,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\" preserveAspectRatio=\"none\" x=\"0\" y=\"0\" width=\"700px\" height=\"500px\"/><image xmlns=\"http://www.w3.org/2000/svg\" xlink:href=\"data:image/png;base64,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\" preserveAspectRatio=\"none\" x=\"0\" y=\"0\" width=\"700px\" height=\"500px\"/></g><defs id=\"topdefs-ff3313\"><g class=\"clips\"/><clipPath id=\"legendff3313\"><rect width=\"72\" height=\"162\" x=\"0\" y=\"0\"/></clipPath></defs><g class=\"layer-above\"><g class=\"imagelayer\"/><g class=\"shapelayer\"/></g><g class=\"infolayer\"><g class=\"legend\" pointer-events=\"all\" transform=\"translate(615.5,100)\"><rect class=\"bg\" shape-rendering=\"crispEdges\" style=\"stroke: rgb(68, 68, 68); stroke-opacity: 1; fill: rgb(255, 255, 255); fill-opacity: 1; stroke-width: 0px;\" width=\"72\" height=\"162\" x=\"0\" y=\"0\"/><g class=\"scrollbox\" transform=\"\" clip-path=\"url(#legendff3313)\"><text class=\"legendtitletext\" text-anchor=\"start\" x=\"2\" y=\"18.2\" style=\"font-family: 'Open Sans', verdana, arial, sans-serif; font-size: 14px; fill: rgb(42, 63, 95); fill-opacity: 1; white-space: pre;\">source_id</text><g class=\"groups\" transform=\"\"><g class=\"traces\" transform=\"translate(0,32.7)\" style=\"opacity: 1;\"><text class=\"legendtext\" text-anchor=\"start\" x=\"40\" y=\"4.680000000000001\" style=\"font-family: 'Open Sans', verdana, arial, sans-serif; font-size: 12px; fill: rgb(42, 63, 95); fill-opacity: 1; white-space: pre;\">1</text><g class=\"layers\" style=\"opacity: 1;\"><g class=\"legendfill\"/><g class=\"legendlines\"><path class=\"js-line\" d=\"M5,0h30\" style=\"fill: none; stroke: rgb(99, 110, 250); stroke-opacity: 1; stroke-width: 2px;\"/></g><g class=\"legendsymbols\"><g class=\"legendpoints\"/></g></g><rect class=\"legendtoggle\" x=\"0\" y=\"-9.5\" width=\"55.640625\" height=\"19\" style=\"fill: rgb(0, 0, 0); fill-opacity: 0;\"/></g></g><g class=\"groups\" transform=\"\"><g class=\"traces\" transform=\"translate(0,51.7)\" style=\"opacity: 1;\"><text class=\"legendtext\" text-anchor=\"start\" x=\"40\" y=\"4.680000000000001\" style=\"font-family: 'Open Sans', verdana, arial, sans-serif; font-size: 12px; fill: rgb(42, 63, 95); fill-opacity: 1; white-space: pre;\">2</text><g class=\"layers\" style=\"opacity: 1;\"><g class=\"legendfill\"/><g class=\"legendlines\"><path class=\"js-line\" d=\"M5,0h30\" style=\"fill: none; stroke: rgb(239, 85, 59); stroke-opacity: 1; stroke-width: 2px;\"/></g><g class=\"legendsymbols\"><g class=\"legendpoints\"/></g></g><rect class=\"legendtoggle\" x=\"0\" y=\"-9.5\" width=\"55.640625\" height=\"19\" style=\"fill: rgb(0, 0, 0); fill-opacity: 0;\"/></g></g><g class=\"groups\" transform=\"\"><g class=\"traces\" transform=\"translate(0,70.7)\" style=\"opacity: 1;\"><text class=\"legendtext\" text-anchor=\"start\" x=\"40\" y=\"4.680000000000001\" style=\"font-family: 'Open Sans', verdana, arial, sans-serif; font-size: 12px; fill: rgb(42, 63, 95); fill-opacity: 1; white-space: pre;\">3</text><g class=\"layers\" style=\"opacity: 1;\"><g class=\"legendfill\"/><g class=\"legendlines\"><path class=\"js-line\" d=\"M5,0h30\" style=\"fill: none; stroke: rgb(0, 204, 150); stroke-opacity: 1; stroke-width: 2px;\"/></g><g class=\"legendsymbols\"><g class=\"legendpoints\"/></g></g><rect class=\"legendtoggle\" x=\"0\" y=\"-9.5\" width=\"55.640625\" height=\"19\" style=\"fill: rgb(0, 0, 0); fill-opacity: 0;\"/></g></g><g class=\"groups\" transform=\"\"><g class=\"traces\" transform=\"translate(0,89.7)\" style=\"opacity: 1;\"><text class=\"legendtext\" text-anchor=\"start\" x=\"40\" y=\"4.680000000000001\" style=\"font-family: 'Open Sans', verdana, arial, sans-serif; font-size: 12px; fill: rgb(42, 63, 95); fill-opacity: 1; white-space: pre;\">4</text><g class=\"layers\" style=\"opacity: 1;\"><g class=\"legendfill\"/><g class=\"legendlines\"><path class=\"js-line\" d=\"M5,0h30\" style=\"fill: none; stroke: rgb(171, 99, 250); stroke-opacity: 1; stroke-width: 2px;\"/></g><g class=\"legendsymbols\"><g class=\"legendpoints\"/></g></g><rect class=\"legendtoggle\" x=\"0\" y=\"-9.5\" width=\"55.640625\" height=\"19\" style=\"fill: rgb(0, 0, 0); fill-opacity: 0;\"/></g></g><g class=\"groups\" transform=\"\"><g class=\"traces\" transform=\"translate(0,108.7)\" style=\"opacity: 1;\"><text class=\"legendtext\" text-anchor=\"start\" x=\"40\" y=\"4.680000000000001\" style=\"font-family: 'Open Sans', verdana, arial, sans-serif; font-size: 12px; fill: rgb(42, 63, 95); fill-opacity: 1; white-space: pre;\">5</text><g class=\"layers\" style=\"opacity: 1;\"><g class=\"legendfill\"/><g class=\"legendlines\"><path class=\"js-line\" d=\"M5,0h30\" style=\"fill: none; stroke: rgb(255, 161, 90); stroke-opacity: 1; stroke-width: 2px;\"/></g><g class=\"legendsymbols\"><g class=\"legendpoints\"/></g></g><rect class=\"legendtoggle\" x=\"0\" y=\"-9.5\" width=\"55.640625\" height=\"19\" style=\"fill: rgb(0, 0, 0); fill-opacity: 0;\"/></g></g><g class=\"groups\" transform=\"\"><g class=\"traces\" transform=\"translate(0,127.7)\" style=\"opacity: 1;\"><text class=\"legendtext\" text-anchor=\"start\" x=\"40\" y=\"4.680000000000001\" style=\"font-family: 'Open Sans', verdana, arial, sans-serif; font-size: 12px; fill: rgb(42, 63, 95); fill-opacity: 1; white-space: pre;\">9</text><g class=\"layers\" style=\"opacity: 1;\"><g class=\"legendfill\"/><g class=\"legendlines\"><path class=\"js-line\" d=\"M5,0h30\" style=\"fill: none; stroke: rgb(25, 211, 243); stroke-opacity: 1; stroke-width: 2px;\"/></g><g class=\"legendsymbols\"><g class=\"legendpoints\"/></g></g><rect class=\"legendtoggle\" x=\"0\" y=\"-9.5\" width=\"55.640625\" height=\"19\" style=\"fill: rgb(0, 0, 0); fill-opacity: 0;\"/></g></g><g class=\"groups\" transform=\"\"><g class=\"traces\" transform=\"translate(0,146.7)\" style=\"opacity: 1;\"><text class=\"legendtext\" text-anchor=\"start\" x=\"40\" y=\"4.680000000000001\" style=\"font-family: 'Open Sans', verdana, arial, sans-serif; font-size: 12px; fill: rgb(42, 63, 95); fill-opacity: 1; white-space: pre;\">10</text><g class=\"layers\" style=\"opacity: 1;\"><g class=\"legendfill\"/><g class=\"legendlines\"><path class=\"js-line\" d=\"M5,0h30\" style=\"fill: none; stroke: rgb(255, 102, 146); stroke-opacity: 1; stroke-width: 2px;\"/></g><g class=\"legendsymbols\"><g class=\"legendpoints\"/></g></g><rect class=\"legendtoggle\" x=\"0\" y=\"-9.5\" width=\"55.640625\" height=\"19\" style=\"fill: rgb(0, 0, 0); fill-opacity: 0;\"/></g></g></g><rect class=\"scrollbar\" rx=\"20\" ry=\"3\" width=\"0\" height=\"0\" style=\"fill: rgb(128, 139, 164); fill-opacity: 1;\" x=\"0\" y=\"0\"/></g><g class=\"g-gtitle\"><text class=\"gtitle\" x=\"35\" y=\"50\" text-anchor=\"start\" dy=\"0em\" style=\"font-family: 'Open Sans', verdana, arial, sans-serif; font-size: 17px; fill: rgb(42, 63, 95); opacity: 1; font-weight: normal; white-space: pre;\">Distribution of costs per source and days</text></g><g class=\"g-xtitle\"><text class=\"xtitle\" x=\"342.5\" y=\"460.3\" text-anchor=\"middle\" style=\"font-family: 'Open Sans', verdana, arial, sans-serif; font-size: 14px; fill: rgb(42, 63, 95); opacity: 1; font-weight: normal; white-space: pre;\">Date</text></g><g class=\"g-ytitle\"><text class=\"ytitle\" transform=\"rotate(-90,24.184375000000003,260)\" x=\"24.184375000000003\" y=\"260\" text-anchor=\"middle\" style=\"font-family: 'Open Sans', verdana, arial, sans-serif; font-size: 14px; fill: rgb(42, 63, 95); opacity: 1; font-weight: normal; white-space: pre;\">Sum of costs</text></g></g></svg>"
      ]
     },
     "metadata": {},
     "output_type": "display_data"
    }
   ],
   "source": [
    "fig = px.line(costs, x=\"dt\", y=\"costs\", color='source_id', \n",
    "             labels ={'dt': 'Date', 'costs': 'Sum of costs'}, title = 'Distribution of costs per source and days')\n",
    "fig.show(\"svg\")"
   ]
  },
  {
   "cell_type": "markdown",
   "metadata": {},
   "source": [
    "**Conclusion**   \n",
    "\n",
    "The source №3 our leader in terms of overall acquisition cost, more then 140K\\\\$. After that there are three channels: №№4,5 and 2. Next one №1 with 20K\\\\$ and №№9 and 10 have the lowest indicators. \n",
    "\n",
    "In terms of daily costs, we can mention the next one:   \n",
    "- sources 9 and 10 are equal   \n",
    "- source 1 has the same trend with sources 2 and 5, but less significant   \n",
    "- sources 2 and 5 are almost equal, different in several points   \n",
    "- source 4 actually seems so similar to source 3, there are a lot of days where costs are equal at the peaks, but so huge different on bottom positions. "
   ]
  },
  {
   "cell_type": "markdown",
   "metadata": {},
   "source": [
    "##### How much did customer acquisition from each of the sources cost?"
   ]
  },
  {
   "cell_type": "markdown",
   "metadata": {},
   "source": [
    "For defining customer acquisition cost (CAC), we have to compute marketing costs for attracting customers that made purchases. First, let's add a new column that equals cohorts in other tables:"
   ]
  },
  {
   "cell_type": "code",
   "execution_count": 66,
   "metadata": {},
   "outputs": [
    {
     "data": {
      "text/html": [
       "<div>\n",
       "<style scoped>\n",
       "    .dataframe tbody tr th:only-of-type {\n",
       "        vertical-align: middle;\n",
       "    }\n",
       "\n",
       "    .dataframe tbody tr th {\n",
       "        vertical-align: top;\n",
       "    }\n",
       "\n",
       "    .dataframe thead th {\n",
       "        text-align: right;\n",
       "    }\n",
       "</style>\n",
       "<table border=\"1\" class=\"dataframe\">\n",
       "  <thead>\n",
       "    <tr style=\"text-align: right;\">\n",
       "      <th></th>\n",
       "      <th>source_id</th>\n",
       "      <th>dt</th>\n",
       "      <th>costs</th>\n",
       "      <th>cost_month</th>\n",
       "    </tr>\n",
       "  </thead>\n",
       "  <tbody>\n",
       "    <tr>\n",
       "      <th>0</th>\n",
       "      <td>1</td>\n",
       "      <td>2017-06-01</td>\n",
       "      <td>75.20</td>\n",
       "      <td>2017-06-01</td>\n",
       "    </tr>\n",
       "    <tr>\n",
       "      <th>363</th>\n",
       "      <td>2</td>\n",
       "      <td>2017-06-01</td>\n",
       "      <td>132.56</td>\n",
       "      <td>2017-06-01</td>\n",
       "    </tr>\n",
       "    <tr>\n",
       "      <th>726</th>\n",
       "      <td>3</td>\n",
       "      <td>2017-06-01</td>\n",
       "      <td>349.38</td>\n",
       "      <td>2017-06-01</td>\n",
       "    </tr>\n",
       "    <tr>\n",
       "      <th>1089</th>\n",
       "      <td>4</td>\n",
       "      <td>2017-06-01</td>\n",
       "      <td>76.74</td>\n",
       "      <td>2017-06-01</td>\n",
       "    </tr>\n",
       "    <tr>\n",
       "      <th>1452</th>\n",
       "      <td>5</td>\n",
       "      <td>2017-06-01</td>\n",
       "      <td>73.24</td>\n",
       "      <td>2017-06-01</td>\n",
       "    </tr>\n",
       "  </tbody>\n",
       "</table>\n",
       "</div>"
      ],
      "text/plain": [
       "      source_id         dt   costs cost_month\n",
       "0             1 2017-06-01   75.20 2017-06-01\n",
       "363           2 2017-06-01  132.56 2017-06-01\n",
       "726           3 2017-06-01  349.38 2017-06-01\n",
       "1089          4 2017-06-01   76.74 2017-06-01\n",
       "1452          5 2017-06-01   73.24 2017-06-01"
      ]
     },
     "execution_count": 66,
     "metadata": {},
     "output_type": "execute_result"
    }
   ],
   "source": [
    "costs['cost_month'] = costs['dt'].astype('datetime64[M]')\n",
    "costs.head()"
   ]
  },
  {
   "cell_type": "markdown",
   "metadata": {},
   "source": [
    "Second, let's define the sum spent on attracting per month:"
   ]
  },
  {
   "cell_type": "code",
   "execution_count": 67,
   "metadata": {},
   "outputs": [
    {
     "data": {
      "text/html": [
       "<div>\n",
       "<style scoped>\n",
       "    .dataframe tbody tr th:only-of-type {\n",
       "        vertical-align: middle;\n",
       "    }\n",
       "\n",
       "    .dataframe tbody tr th {\n",
       "        vertical-align: top;\n",
       "    }\n",
       "\n",
       "    .dataframe thead th {\n",
       "        text-align: right;\n",
       "    }\n",
       "</style>\n",
       "<table border=\"1\" class=\"dataframe\">\n",
       "  <thead>\n",
       "    <tr style=\"text-align: right;\">\n",
       "      <th></th>\n",
       "      <th>cost_month</th>\n",
       "      <th>costs_in_month</th>\n",
       "    </tr>\n",
       "  </thead>\n",
       "  <tbody>\n",
       "    <tr>\n",
       "      <th>0</th>\n",
       "      <td>2017-06-01</td>\n",
       "      <td>18015.00</td>\n",
       "    </tr>\n",
       "    <tr>\n",
       "      <th>1</th>\n",
       "      <td>2017-07-01</td>\n",
       "      <td>18240.59</td>\n",
       "    </tr>\n",
       "    <tr>\n",
       "      <th>2</th>\n",
       "      <td>2017-08-01</td>\n",
       "      <td>14790.54</td>\n",
       "    </tr>\n",
       "    <tr>\n",
       "      <th>3</th>\n",
       "      <td>2017-09-01</td>\n",
       "      <td>24368.91</td>\n",
       "    </tr>\n",
       "    <tr>\n",
       "      <th>4</th>\n",
       "      <td>2017-10-01</td>\n",
       "      <td>36322.88</td>\n",
       "    </tr>\n",
       "  </tbody>\n",
       "</table>\n",
       "</div>"
      ],
      "text/plain": [
       "  cost_month  costs_in_month\n",
       "0 2017-06-01        18015.00\n",
       "1 2017-07-01        18240.59\n",
       "2 2017-08-01        14790.54\n",
       "3 2017-09-01        24368.91\n",
       "4 2017-10-01        36322.88"
      ]
     },
     "execution_count": 67,
     "metadata": {},
     "output_type": "execute_result"
    }
   ],
   "source": [
    "costs_by_month = costs.groupby(['cost_month'])['costs'].sum().reset_index()\n",
    "costs_by_month.columns = ['cost_month', 'costs_in_month']\n",
    "costs_by_month.head()"
   ]
  },
  {
   "cell_type": "code",
   "execution_count": 68,
   "metadata": {},
   "outputs": [
    {
     "data": {
      "text/html": [
       "<div>\n",
       "<style scoped>\n",
       "    .dataframe tbody tr th:only-of-type {\n",
       "        vertical-align: middle;\n",
       "    }\n",
       "\n",
       "    .dataframe tbody tr th {\n",
       "        vertical-align: top;\n",
       "    }\n",
       "\n",
       "    .dataframe thead th {\n",
       "        text-align: right;\n",
       "    }\n",
       "</style>\n",
       "<table border=\"1\" class=\"dataframe\">\n",
       "  <thead>\n",
       "    <tr style=\"text-align: right;\">\n",
       "      <th></th>\n",
       "      <th>buy_ts</th>\n",
       "      <th>revenue</th>\n",
       "      <th>uid</th>\n",
       "      <th>month</th>\n",
       "      <th>week</th>\n",
       "      <th>date</th>\n",
       "      <th>first_order</th>\n",
       "      <th>cohort</th>\n",
       "    </tr>\n",
       "  </thead>\n",
       "  <tbody>\n",
       "    <tr>\n",
       "      <th>0</th>\n",
       "      <td>2017-06-01 00:10:00</td>\n",
       "      <td>17.00</td>\n",
       "      <td>10329302124590727494</td>\n",
       "      <td>2017-06-01</td>\n",
       "      <td>2017-06-01</td>\n",
       "      <td>2017-06-01</td>\n",
       "      <td>2017-06-01 00:10:00</td>\n",
       "      <td>2017-06-01</td>\n",
       "    </tr>\n",
       "    <tr>\n",
       "      <th>1</th>\n",
       "      <td>2017-06-01 00:25:00</td>\n",
       "      <td>0.55</td>\n",
       "      <td>11627257723692907447</td>\n",
       "      <td>2017-06-01</td>\n",
       "      <td>2017-06-01</td>\n",
       "      <td>2017-06-01</td>\n",
       "      <td>2017-06-01 00:25:00</td>\n",
       "      <td>2017-06-01</td>\n",
       "    </tr>\n",
       "    <tr>\n",
       "      <th>2</th>\n",
       "      <td>2017-06-01 00:27:00</td>\n",
       "      <td>0.37</td>\n",
       "      <td>17903680561304213844</td>\n",
       "      <td>2017-06-01</td>\n",
       "      <td>2017-06-01</td>\n",
       "      <td>2017-06-01</td>\n",
       "      <td>2017-06-01 00:27:00</td>\n",
       "      <td>2017-06-01</td>\n",
       "    </tr>\n",
       "    <tr>\n",
       "      <th>3</th>\n",
       "      <td>2017-06-01 00:29:00</td>\n",
       "      <td>0.55</td>\n",
       "      <td>16109239769442553005</td>\n",
       "      <td>2017-06-01</td>\n",
       "      <td>2017-06-01</td>\n",
       "      <td>2017-06-01</td>\n",
       "      <td>2017-06-01 00:29:00</td>\n",
       "      <td>2017-06-01</td>\n",
       "    </tr>\n",
       "    <tr>\n",
       "      <th>4</th>\n",
       "      <td>2017-06-01 07:58:00</td>\n",
       "      <td>0.37</td>\n",
       "      <td>14200605875248379450</td>\n",
       "      <td>2017-06-01</td>\n",
       "      <td>2017-06-01</td>\n",
       "      <td>2017-06-01</td>\n",
       "      <td>2017-06-01 07:58:00</td>\n",
       "      <td>2017-06-01</td>\n",
       "    </tr>\n",
       "  </tbody>\n",
       "</table>\n",
       "</div>"
      ],
      "text/plain": [
       "               buy_ts  revenue                   uid      month       week  \\\n",
       "0 2017-06-01 00:10:00    17.00  10329302124590727494 2017-06-01 2017-06-01   \n",
       "1 2017-06-01 00:25:00     0.55  11627257723692907447 2017-06-01 2017-06-01   \n",
       "2 2017-06-01 00:27:00     0.37  17903680561304213844 2017-06-01 2017-06-01   \n",
       "3 2017-06-01 00:29:00     0.55  16109239769442553005 2017-06-01 2017-06-01   \n",
       "4 2017-06-01 07:58:00     0.37  14200605875248379450 2017-06-01 2017-06-01   \n",
       "\n",
       "         date         first_order     cohort  \n",
       "0  2017-06-01 2017-06-01 00:10:00 2017-06-01  \n",
       "1  2017-06-01 2017-06-01 00:25:00 2017-06-01  \n",
       "2  2017-06-01 2017-06-01 00:27:00 2017-06-01  \n",
       "3  2017-06-01 2017-06-01 00:29:00 2017-06-01  \n",
       "4  2017-06-01 2017-06-01 07:58:00 2017-06-01  "
      ]
     },
     "execution_count": 68,
     "metadata": {},
     "output_type": "execute_result"
    }
   ],
   "source": [
    "orders.head()"
   ]
  },
  {
   "cell_type": "markdown",
   "metadata": {},
   "source": [
    "We've already done it, but let's make it again - define the number of customers per month: "
   ]
  },
  {
   "cell_type": "code",
   "execution_count": 69,
   "metadata": {},
   "outputs": [
    {
     "data": {
      "text/html": [
       "<div>\n",
       "<style scoped>\n",
       "    .dataframe tbody tr th:only-of-type {\n",
       "        vertical-align: middle;\n",
       "    }\n",
       "\n",
       "    .dataframe tbody tr th {\n",
       "        vertical-align: top;\n",
       "    }\n",
       "\n",
       "    .dataframe thead th {\n",
       "        text-align: right;\n",
       "    }\n",
       "</style>\n",
       "<table border=\"1\" class=\"dataframe\">\n",
       "  <thead>\n",
       "    <tr style=\"text-align: right;\">\n",
       "      <th></th>\n",
       "      <th>cost_month</th>\n",
       "      <th>num_buyers</th>\n",
       "    </tr>\n",
       "  </thead>\n",
       "  <tbody>\n",
       "    <tr>\n",
       "      <th>0</th>\n",
       "      <td>2017-06-01</td>\n",
       "      <td>2023</td>\n",
       "    </tr>\n",
       "    <tr>\n",
       "      <th>1</th>\n",
       "      <td>2017-07-01</td>\n",
       "      <td>1923</td>\n",
       "    </tr>\n",
       "    <tr>\n",
       "      <th>2</th>\n",
       "      <td>2017-08-01</td>\n",
       "      <td>1370</td>\n",
       "    </tr>\n",
       "    <tr>\n",
       "      <th>3</th>\n",
       "      <td>2017-09-01</td>\n",
       "      <td>2581</td>\n",
       "    </tr>\n",
       "    <tr>\n",
       "      <th>4</th>\n",
       "      <td>2017-10-01</td>\n",
       "      <td>4340</td>\n",
       "    </tr>\n",
       "  </tbody>\n",
       "</table>\n",
       "</div>"
      ],
      "text/plain": [
       "  cost_month  num_buyers\n",
       "0 2017-06-01        2023\n",
       "1 2017-07-01        1923\n",
       "2 2017-08-01        1370\n",
       "3 2017-09-01        2581\n",
       "4 2017-10-01        4340"
      ]
     },
     "execution_count": 69,
     "metadata": {},
     "output_type": "execute_result"
    }
   ],
   "source": [
    "num_buyers_per_month = orders.groupby(['cohort'])['uid'].nunique().reset_index()\n",
    "num_buyers_per_month.columns = ['cost_month', 'num_buyers']\n",
    "num_buyers_per_month.head()"
   ]
  },
  {
   "cell_type": "markdown",
   "metadata": {},
   "source": [
    "After that we merge two tables and add a new column CAC by dividing the sum of money that has been spent on attracting customers:"
   ]
  },
  {
   "cell_type": "code",
   "execution_count": 70,
   "metadata": {
    "scrolled": true
   },
   "outputs": [
    {
     "data": {
      "text/html": [
       "<div>\n",
       "<style scoped>\n",
       "    .dataframe tbody tr th:only-of-type {\n",
       "        vertical-align: middle;\n",
       "    }\n",
       "\n",
       "    .dataframe tbody tr th {\n",
       "        vertical-align: top;\n",
       "    }\n",
       "\n",
       "    .dataframe thead th {\n",
       "        text-align: right;\n",
       "    }\n",
       "</style>\n",
       "<table border=\"1\" class=\"dataframe\">\n",
       "  <thead>\n",
       "    <tr style=\"text-align: right;\">\n",
       "      <th></th>\n",
       "      <th>cost_month</th>\n",
       "      <th>costs_in_month</th>\n",
       "      <th>num_buyers</th>\n",
       "      <th>CAC</th>\n",
       "    </tr>\n",
       "  </thead>\n",
       "  <tbody>\n",
       "    <tr>\n",
       "      <th>0</th>\n",
       "      <td>2017-06-01</td>\n",
       "      <td>18015.00</td>\n",
       "      <td>2023</td>\n",
       "      <td>8.905091</td>\n",
       "    </tr>\n",
       "    <tr>\n",
       "      <th>1</th>\n",
       "      <td>2017-07-01</td>\n",
       "      <td>18240.59</td>\n",
       "      <td>1923</td>\n",
       "      <td>9.485486</td>\n",
       "    </tr>\n",
       "    <tr>\n",
       "      <th>2</th>\n",
       "      <td>2017-08-01</td>\n",
       "      <td>14790.54</td>\n",
       "      <td>1370</td>\n",
       "      <td>10.796015</td>\n",
       "    </tr>\n",
       "    <tr>\n",
       "      <th>3</th>\n",
       "      <td>2017-09-01</td>\n",
       "      <td>24368.91</td>\n",
       "      <td>2581</td>\n",
       "      <td>9.441654</td>\n",
       "    </tr>\n",
       "    <tr>\n",
       "      <th>4</th>\n",
       "      <td>2017-10-01</td>\n",
       "      <td>36322.88</td>\n",
       "      <td>4340</td>\n",
       "      <td>8.369327</td>\n",
       "    </tr>\n",
       "  </tbody>\n",
       "</table>\n",
       "</div>"
      ],
      "text/plain": [
       "  cost_month  costs_in_month  num_buyers        CAC\n",
       "0 2017-06-01        18015.00        2023   8.905091\n",
       "1 2017-07-01        18240.59        1923   9.485486\n",
       "2 2017-08-01        14790.54        1370  10.796015\n",
       "3 2017-09-01        24368.91        2581   9.441654\n",
       "4 2017-10-01        36322.88        4340   8.369327"
      ]
     },
     "execution_count": 70,
     "metadata": {},
     "output_type": "execute_result"
    }
   ],
   "source": [
    "CAC_per_month = costs_by_month.merge(num_buyers_per_month, how = 'left', on = ['cost_month'])\n",
    "CAC_per_month['CAC'] = CAC_per_month['costs_in_month'] / CAC_per_month['num_buyers']\n",
    "CAC_per_month.head()"
   ]
  },
  {
   "cell_type": "code",
   "execution_count": 71,
   "metadata": {
    "scrolled": false
   },
   "outputs": [
    {
     "data": {
      "image/svg+xml": [
       "<svg class=\"main-svg\" xmlns=\"http://www.w3.org/2000/svg\" xmlns:xlink=\"http://www.w3.org/1999/xlink\" width=\"700\" height=\"500\" style=\"\" viewBox=\"0 0 700 500\"><rect x=\"0\" y=\"0\" width=\"700\" height=\"500\" style=\"fill: rgb(255, 255, 255); fill-opacity: 1;\"/><defs id=\"defs-8bf465\"><g class=\"clips\"><clipPath id=\"clip8bf465xyplot\" class=\"plotclip\"><rect width=\"540\" height=\"320\"/></clipPath><clipPath class=\"axesclip\" id=\"clip8bf465x\"><rect x=\"80\" y=\"0\" width=\"540\" height=\"500\"/></clipPath><clipPath class=\"axesclip\" id=\"clip8bf465y\"><rect x=\"0\" y=\"100\" width=\"700\" height=\"320\"/></clipPath><clipPath class=\"axesclip\" id=\"clip8bf465xy\"><rect x=\"80\" y=\"100\" width=\"540\" height=\"320\"/></clipPath></g><g class=\"gradients\"/><g class=\"patterns\"/></defs><g class=\"bglayer\"><rect class=\"bg\" x=\"80\" y=\"100\" width=\"540\" height=\"320\" style=\"fill: rgb(229, 236, 246); fill-opacity: 1; stroke-width: 0;\"/></g><g class=\"layer-below\"><g class=\"imagelayer\"/><g class=\"shapelayer\"/></g><g class=\"cartesianlayer\"><g class=\"subplot xy\"><g class=\"layer-subplot\"><g class=\"shapelayer\"/><g class=\"imagelayer\"/></g><g class=\"minor-gridlayer\"><g class=\"x\"/><g class=\"y\"/></g><g class=\"gridlayer\"><g class=\"x\"><path class=\"xgrid crisp\" transform=\"translate(128.5,0)\" d=\"M0,100v320\" style=\"stroke: rgb(255, 255, 255); stroke-opacity: 1; stroke-width: 1px;\"/><path class=\"xgrid crisp\" transform=\"translate(228.74,0)\" d=\"M0,100v320\" style=\"stroke: rgb(255, 255, 255); stroke-opacity: 1; stroke-width: 1px;\"/><path class=\"xgrid crisp\" transform=\"translate(327.37,0)\" d=\"M0,100v320\" style=\"stroke: rgb(255, 255, 255); stroke-opacity: 1; stroke-width: 1px;\"/><path class=\"xgrid crisp\" transform=\"translate(425.99,0)\" d=\"M0,100v320\" style=\"stroke: rgb(255, 255, 255); stroke-opacity: 1; stroke-width: 1px;\"/><path class=\"xgrid crisp\" transform=\"translate(521.38,0)\" d=\"M0,100v320\" style=\"stroke: rgb(255, 255, 255); stroke-opacity: 1; stroke-width: 1px;\"/></g><g class=\"y\"><path class=\"ygrid crisp\" transform=\"translate(0,398.67)\" d=\"M80,0h540\" style=\"stroke: rgb(255, 255, 255); stroke-opacity: 1; stroke-width: 1px;\"/><path class=\"ygrid crisp\" transform=\"translate(0,355.78999999999996)\" d=\"M80,0h540\" style=\"stroke: rgb(255, 255, 255); stroke-opacity: 1; stroke-width: 1px;\"/><path class=\"ygrid crisp\" transform=\"translate(0,312.90999999999997)\" d=\"M80,0h540\" style=\"stroke: rgb(255, 255, 255); stroke-opacity: 1; stroke-width: 1px;\"/><path class=\"ygrid crisp\" transform=\"translate(0,270.03)\" d=\"M80,0h540\" style=\"stroke: rgb(255, 255, 255); stroke-opacity: 1; stroke-width: 1px;\"/><path class=\"ygrid crisp\" transform=\"translate(0,227.15)\" d=\"M80,0h540\" style=\"stroke: rgb(255, 255, 255); stroke-opacity: 1; stroke-width: 1px;\"/><path class=\"ygrid crisp\" transform=\"translate(0,184.26999999999998)\" d=\"M80,0h540\" style=\"stroke: rgb(255, 255, 255); stroke-opacity: 1; stroke-width: 1px;\"/><path class=\"ygrid crisp\" transform=\"translate(0,141.39)\" d=\"M80,0h540\" style=\"stroke: rgb(255, 255, 255); stroke-opacity: 1; stroke-width: 1px;\"/></g></g><g class=\"zerolinelayer\"/><path class=\"xlines-below\"/><path class=\"ylines-below\"/><g class=\"overlines-below\"/><g class=\"xaxislayer-below\"/><g class=\"yaxislayer-below\"/><g class=\"overaxes-below\"/><g class=\"plot\" transform=\"translate(80,100)\" clip-path=\"url(#clip8bf465xyplot)\"><g class=\"scatterlayer mlayer\"><g class=\"trace scatter traceebab87\" style=\"stroke-miterlimit: 2; opacity: 1;\"><g class=\"fills\"/><g class=\"errorbars\"/><g class=\"lines\"><path class=\"js-line\" d=\"M0,178.17L48.5,128.39L98.62,16L148.74,132.15L197.25,224.11L247.37,145.25L295.87,192.17L345.99,89.64L396.11,173.22L441.38,203.57L491.5,102L540,304\" style=\"vector-effect: none; fill: none; stroke: rgb(99, 110, 250); stroke-opacity: 1; stroke-width: 2px; opacity: 1;\"/></g><g class=\"points\"/><g class=\"text\"/></g></g></g><g class=\"overplot\"/><path class=\"xlines-above crisp\" d=\"M0,0\" style=\"fill: none;\"/><path class=\"ylines-above crisp\" d=\"M0,0\" style=\"fill: none;\"/><g class=\"overlines-above\"/><g class=\"xaxislayer-above\"><g class=\"xtick\"><text text-anchor=\"middle\" x=\"0\" y=\"433\" transform=\"translate(128.5,0)\" style=\"font-family: 'Open Sans', verdana, arial, sans-serif; font-size: 12px; fill: rgb(42, 63, 95); fill-opacity: 1; white-space: pre; opacity: 1;\">Jul 2017</text></g><g class=\"xtick\"><text text-anchor=\"middle\" x=\"0\" y=\"433\" style=\"font-family: 'Open Sans', verdana, arial, sans-serif; font-size: 12px; fill: rgb(42, 63, 95); fill-opacity: 1; white-space: pre; opacity: 1;\" transform=\"translate(228.74,0)\">Sep 2017</text></g><g class=\"xtick\"><text text-anchor=\"middle\" x=\"0\" y=\"433\" style=\"font-family: 'Open Sans', verdana, arial, sans-serif; font-size: 12px; fill: rgb(42, 63, 95); fill-opacity: 1; white-space: pre; opacity: 1;\" transform=\"translate(327.37,0)\">Nov 2017</text></g><g class=\"xtick\"><text text-anchor=\"middle\" x=\"0\" y=\"433\" style=\"font-family: 'Open Sans', verdana, arial, sans-serif; font-size: 12px; fill: rgb(42, 63, 95); fill-opacity: 1; white-space: pre; opacity: 1;\" transform=\"translate(425.99,0)\">Jan 2018</text></g><g class=\"xtick\"><text text-anchor=\"middle\" x=\"0\" y=\"433\" style=\"font-family: 'Open Sans', verdana, arial, sans-serif; font-size: 12px; fill: rgb(42, 63, 95); fill-opacity: 1; white-space: pre; opacity: 1;\" transform=\"translate(521.38,0)\">Mar 2018</text></g><g class=\"xtick\"><text text-anchor=\"middle\" x=\"0\" y=\"433\" style=\"font-family: 'Open Sans', verdana, arial, sans-serif; font-size: 12px; fill: rgb(42, 63, 95); fill-opacity: 1; white-space: pre; opacity: 1;\" transform=\"translate(620,0)\">May 2018</text></g></g><g class=\"yaxislayer-above\"><g class=\"ytick\"><text text-anchor=\"end\" x=\"79\" y=\"4.199999999999999\" transform=\"translate(0,398.67)\" style=\"font-family: 'Open Sans', verdana, arial, sans-serif; font-size: 12px; fill: rgb(42, 63, 95); fill-opacity: 1; white-space: pre; opacity: 1;\">7.5</text></g><g class=\"ytick\"><text text-anchor=\"end\" x=\"79\" y=\"4.199999999999999\" style=\"font-family: 'Open Sans', verdana, arial, sans-serif; font-size: 12px; fill: rgb(42, 63, 95); fill-opacity: 1; white-space: pre; opacity: 1;\" transform=\"translate(0,355.78999999999996)\">8</text></g><g class=\"ytick\"><text text-anchor=\"end\" x=\"79\" y=\"4.199999999999999\" style=\"font-family: 'Open Sans', verdana, arial, sans-serif; font-size: 12px; fill: rgb(42, 63, 95); fill-opacity: 1; white-space: pre; opacity: 1;\" transform=\"translate(0,312.90999999999997)\">8.5</text></g><g class=\"ytick\"><text text-anchor=\"end\" x=\"79\" y=\"4.199999999999999\" style=\"font-family: 'Open Sans', verdana, arial, sans-serif; font-size: 12px; fill: rgb(42, 63, 95); fill-opacity: 1; white-space: pre; opacity: 1;\" transform=\"translate(0,270.03)\">9</text></g><g class=\"ytick\"><text text-anchor=\"end\" x=\"79\" y=\"4.199999999999999\" style=\"font-family: 'Open Sans', verdana, arial, sans-serif; font-size: 12px; fill: rgb(42, 63, 95); fill-opacity: 1; white-space: pre; opacity: 1;\" transform=\"translate(0,227.15)\">9.5</text></g><g class=\"ytick\"><text text-anchor=\"end\" x=\"79\" y=\"4.199999999999999\" style=\"font-family: 'Open Sans', verdana, arial, sans-serif; font-size: 12px; fill: rgb(42, 63, 95); fill-opacity: 1; white-space: pre; opacity: 1;\" transform=\"translate(0,184.26999999999998)\">10</text></g><g class=\"ytick\"><text text-anchor=\"end\" x=\"79\" y=\"4.199999999999999\" style=\"font-family: 'Open Sans', verdana, arial, sans-serif; font-size: 12px; fill: rgb(42, 63, 95); fill-opacity: 1; white-space: pre; opacity: 1;\" transform=\"translate(0,141.39)\">10.5</text></g></g><g class=\"overaxes-above\"/></g></g><g class=\"polarlayer\"/><g class=\"smithlayer\"/><g class=\"ternarylayer\"/><g class=\"geolayer\"/><g class=\"funnelarealayer\"/><g class=\"pielayer\"/><g class=\"iciclelayer\"/><g class=\"treemaplayer\"/><g class=\"sunburstlayer\"/><g class=\"glimages\"/><defs id=\"topdefs-8bf465\"><g class=\"clips\"/></defs><g class=\"layer-above\"><g class=\"imagelayer\"/><g class=\"shapelayer\"/></g><g class=\"infolayer\"><g class=\"g-gtitle\"><text class=\"gtitle\" x=\"35\" y=\"50\" text-anchor=\"start\" dy=\"0em\" style=\"font-family: 'Open Sans', verdana, arial, sans-serif; font-size: 17px; fill: rgb(42, 63, 95); opacity: 1; font-weight: normal; white-space: pre;\">CAC</text></g><g class=\"g-xtitle\"><text class=\"xtitle\" x=\"350\" y=\"460.3\" text-anchor=\"middle\" style=\"font-family: 'Open Sans', verdana, arial, sans-serif; font-size: 14px; fill: rgb(42, 63, 95); opacity: 1; font-weight: normal; white-space: pre;\">Month</text></g><g class=\"g-ytitle\"><text class=\"ytitle\" transform=\"rotate(-90,27.434375000000003,260)\" x=\"27.434375000000003\" y=\"260\" text-anchor=\"middle\" style=\"font-family: 'Open Sans', verdana, arial, sans-serif; font-size: 14px; fill: rgb(42, 63, 95); opacity: 1; font-weight: normal; white-space: pre;\">CAC</text></g></g></svg>"
      ]
     },
     "metadata": {},
     "output_type": "display_data"
    }
   ],
   "source": [
    "fig = px.line(CAC_per_month, x=\"cost_month\", y=\"CAC\", title='CAC', labels ={'cost_month': 'Month'})\n",
    "fig.show(\"svg\")"
   ]
  },
  {
   "cell_type": "markdown",
   "metadata": {},
   "source": [
    "**Conclusion**   \n",
    "\n",
    "If we're talking about customer acquisition costs in general, the average cost per customer falls between 7,5\\\\$ and 11\\\\$. The most expensive customers were in August and the most cheapest - in May"
   ]
  },
  {
   "cell_type": "markdown",
   "metadata": {},
   "source": [
    "**CAC per source**"
   ]
  },
  {
   "cell_type": "markdown",
   "metadata": {},
   "source": [
    "First, we should define the source, from that user came from first time and it will be kind of original source. "
   ]
  },
  {
   "cell_type": "code",
   "execution_count": 72,
   "metadata": {},
   "outputs": [
    {
     "data": {
      "text/html": [
       "<div>\n",
       "<style scoped>\n",
       "    .dataframe tbody tr th:only-of-type {\n",
       "        vertical-align: middle;\n",
       "    }\n",
       "\n",
       "    .dataframe tbody tr th {\n",
       "        vertical-align: top;\n",
       "    }\n",
       "\n",
       "    .dataframe thead th {\n",
       "        text-align: right;\n",
       "    }\n",
       "</style>\n",
       "<table border=\"1\" class=\"dataframe\">\n",
       "  <thead>\n",
       "    <tr style=\"text-align: right;\">\n",
       "      <th></th>\n",
       "      <th>uid</th>\n",
       "      <th>first_source</th>\n",
       "    </tr>\n",
       "  </thead>\n",
       "  <tbody>\n",
       "    <tr>\n",
       "      <th>0</th>\n",
       "      <td>11863502262781</td>\n",
       "      <td>3</td>\n",
       "    </tr>\n",
       "    <tr>\n",
       "      <th>1</th>\n",
       "      <td>49537067089222</td>\n",
       "      <td>2</td>\n",
       "    </tr>\n",
       "    <tr>\n",
       "      <th>2</th>\n",
       "      <td>297729379853735</td>\n",
       "      <td>3</td>\n",
       "    </tr>\n",
       "    <tr>\n",
       "      <th>3</th>\n",
       "      <td>313578113262317</td>\n",
       "      <td>2</td>\n",
       "    </tr>\n",
       "    <tr>\n",
       "      <th>4</th>\n",
       "      <td>325320750514679</td>\n",
       "      <td>5</td>\n",
       "    </tr>\n",
       "  </tbody>\n",
       "</table>\n",
       "</div>"
      ],
      "text/plain": [
       "               uid  first_source\n",
       "0   11863502262781             3\n",
       "1   49537067089222             2\n",
       "2  297729379853735             3\n",
       "3  313578113262317             2\n",
       "4  325320750514679             5"
      ]
     },
     "execution_count": 72,
     "metadata": {},
     "output_type": "execute_result"
    }
   ],
   "source": [
    "first_source_visit = visits.sort_values('date').groupby('uid')['source_id'].first().reset_index()\n",
    "first_source_visit.columns = ['uid', 'first_source']\n",
    "first_source_visit.head()"
   ]
  },
  {
   "cell_type": "markdown",
   "metadata": {},
   "source": [
    "After that we'll merge first source to purchase table:"
   ]
  },
  {
   "cell_type": "code",
   "execution_count": 73,
   "metadata": {},
   "outputs": [
    {
     "data": {
      "text/html": [
       "<div>\n",
       "<style scoped>\n",
       "    .dataframe tbody tr th:only-of-type {\n",
       "        vertical-align: middle;\n",
       "    }\n",
       "\n",
       "    .dataframe tbody tr th {\n",
       "        vertical-align: top;\n",
       "    }\n",
       "\n",
       "    .dataframe thead th {\n",
       "        text-align: right;\n",
       "    }\n",
       "</style>\n",
       "<table border=\"1\" class=\"dataframe\">\n",
       "  <thead>\n",
       "    <tr style=\"text-align: right;\">\n",
       "      <th></th>\n",
       "      <th>buy_ts</th>\n",
       "      <th>revenue</th>\n",
       "      <th>uid</th>\n",
       "      <th>month</th>\n",
       "      <th>week</th>\n",
       "      <th>date</th>\n",
       "      <th>first_order</th>\n",
       "      <th>cohort</th>\n",
       "      <th>first_source</th>\n",
       "    </tr>\n",
       "  </thead>\n",
       "  <tbody>\n",
       "    <tr>\n",
       "      <th>0</th>\n",
       "      <td>2017-06-01 00:10:00</td>\n",
       "      <td>17.00</td>\n",
       "      <td>10329302124590727494</td>\n",
       "      <td>2017-06-01</td>\n",
       "      <td>2017-06-01</td>\n",
       "      <td>2017-06-01</td>\n",
       "      <td>2017-06-01 00:10:00</td>\n",
       "      <td>2017-06-01</td>\n",
       "      <td>1</td>\n",
       "    </tr>\n",
       "    <tr>\n",
       "      <th>1</th>\n",
       "      <td>2017-06-01 00:25:00</td>\n",
       "      <td>0.55</td>\n",
       "      <td>11627257723692907447</td>\n",
       "      <td>2017-06-01</td>\n",
       "      <td>2017-06-01</td>\n",
       "      <td>2017-06-01</td>\n",
       "      <td>2017-06-01 00:25:00</td>\n",
       "      <td>2017-06-01</td>\n",
       "      <td>2</td>\n",
       "    </tr>\n",
       "    <tr>\n",
       "      <th>2</th>\n",
       "      <td>2017-06-01 00:27:00</td>\n",
       "      <td>0.37</td>\n",
       "      <td>17903680561304213844</td>\n",
       "      <td>2017-06-01</td>\n",
       "      <td>2017-06-01</td>\n",
       "      <td>2017-06-01</td>\n",
       "      <td>2017-06-01 00:27:00</td>\n",
       "      <td>2017-06-01</td>\n",
       "      <td>2</td>\n",
       "    </tr>\n",
       "    <tr>\n",
       "      <th>3</th>\n",
       "      <td>2017-06-01 00:29:00</td>\n",
       "      <td>0.55</td>\n",
       "      <td>16109239769442553005</td>\n",
       "      <td>2017-06-01</td>\n",
       "      <td>2017-06-01</td>\n",
       "      <td>2017-06-01</td>\n",
       "      <td>2017-06-01 00:29:00</td>\n",
       "      <td>2017-06-01</td>\n",
       "      <td>2</td>\n",
       "    </tr>\n",
       "    <tr>\n",
       "      <th>4</th>\n",
       "      <td>2017-06-01 07:58:00</td>\n",
       "      <td>0.37</td>\n",
       "      <td>14200605875248379450</td>\n",
       "      <td>2017-06-01</td>\n",
       "      <td>2017-06-01</td>\n",
       "      <td>2017-06-01</td>\n",
       "      <td>2017-06-01 07:58:00</td>\n",
       "      <td>2017-06-01</td>\n",
       "      <td>3</td>\n",
       "    </tr>\n",
       "  </tbody>\n",
       "</table>\n",
       "</div>"
      ],
      "text/plain": [
       "               buy_ts  revenue                   uid      month       week  \\\n",
       "0 2017-06-01 00:10:00    17.00  10329302124590727494 2017-06-01 2017-06-01   \n",
       "1 2017-06-01 00:25:00     0.55  11627257723692907447 2017-06-01 2017-06-01   \n",
       "2 2017-06-01 00:27:00     0.37  17903680561304213844 2017-06-01 2017-06-01   \n",
       "3 2017-06-01 00:29:00     0.55  16109239769442553005 2017-06-01 2017-06-01   \n",
       "4 2017-06-01 07:58:00     0.37  14200605875248379450 2017-06-01 2017-06-01   \n",
       "\n",
       "         date         first_order     cohort  first_source  \n",
       "0  2017-06-01 2017-06-01 00:10:00 2017-06-01             1  \n",
       "1  2017-06-01 2017-06-01 00:25:00 2017-06-01             2  \n",
       "2  2017-06-01 2017-06-01 00:27:00 2017-06-01             2  \n",
       "3  2017-06-01 2017-06-01 00:29:00 2017-06-01             2  \n",
       "4  2017-06-01 2017-06-01 07:58:00 2017-06-01             3  "
      ]
     },
     "execution_count": 73,
     "metadata": {},
     "output_type": "execute_result"
    }
   ],
   "source": [
    "first_source_order = orders.merge(first_source_visit, how = 'left', on = 'uid')\n",
    "first_source_order.head()"
   ]
  },
  {
   "cell_type": "markdown",
   "metadata": {},
   "source": [
    "Now, we'll calculate the sum of customer cost per source and per month"
   ]
  },
  {
   "cell_type": "code",
   "execution_count": 74,
   "metadata": {},
   "outputs": [
    {
     "data": {
      "text/html": [
       "<div>\n",
       "<style scoped>\n",
       "    .dataframe tbody tr th:only-of-type {\n",
       "        vertical-align: middle;\n",
       "    }\n",
       "\n",
       "    .dataframe tbody tr th {\n",
       "        vertical-align: top;\n",
       "    }\n",
       "\n",
       "    .dataframe thead th {\n",
       "        text-align: right;\n",
       "    }\n",
       "</style>\n",
       "<table border=\"1\" class=\"dataframe\">\n",
       "  <thead>\n",
       "    <tr style=\"text-align: right;\">\n",
       "      <th></th>\n",
       "      <th>cost_month</th>\n",
       "      <th>source_id</th>\n",
       "      <th>costs</th>\n",
       "    </tr>\n",
       "  </thead>\n",
       "  <tbody>\n",
       "    <tr>\n",
       "      <th>0</th>\n",
       "      <td>2017-06-01</td>\n",
       "      <td>1</td>\n",
       "      <td>1125.61</td>\n",
       "    </tr>\n",
       "    <tr>\n",
       "      <th>1</th>\n",
       "      <td>2017-06-01</td>\n",
       "      <td>2</td>\n",
       "      <td>2427.38</td>\n",
       "    </tr>\n",
       "    <tr>\n",
       "      <th>2</th>\n",
       "      <td>2017-06-01</td>\n",
       "      <td>3</td>\n",
       "      <td>7731.65</td>\n",
       "    </tr>\n",
       "    <tr>\n",
       "      <th>3</th>\n",
       "      <td>2017-06-01</td>\n",
       "      <td>4</td>\n",
       "      <td>3514.80</td>\n",
       "    </tr>\n",
       "    <tr>\n",
       "      <th>4</th>\n",
       "      <td>2017-06-01</td>\n",
       "      <td>5</td>\n",
       "      <td>2616.12</td>\n",
       "    </tr>\n",
       "  </tbody>\n",
       "</table>\n",
       "</div>"
      ],
      "text/plain": [
       "  cost_month  source_id    costs\n",
       "0 2017-06-01          1  1125.61\n",
       "1 2017-06-01          2  2427.38\n",
       "2 2017-06-01          3  7731.65\n",
       "3 2017-06-01          4  3514.80\n",
       "4 2017-06-01          5  2616.12"
      ]
     },
     "execution_count": 74,
     "metadata": {},
     "output_type": "execute_result"
    }
   ],
   "source": [
    "costs_by_month_source = costs.groupby(['cost_month', 'source_id'])['costs'].sum().reset_index()\n",
    "costs_by_month_source.head()"
   ]
  },
  {
   "cell_type": "markdown",
   "metadata": {},
   "source": [
    "After that let's define number of customers per month and per source as well"
   ]
  },
  {
   "cell_type": "code",
   "execution_count": 75,
   "metadata": {},
   "outputs": [
    {
     "data": {
      "text/html": [
       "<div>\n",
       "<style scoped>\n",
       "    .dataframe tbody tr th:only-of-type {\n",
       "        vertical-align: middle;\n",
       "    }\n",
       "\n",
       "    .dataframe tbody tr th {\n",
       "        vertical-align: top;\n",
       "    }\n",
       "\n",
       "    .dataframe thead th {\n",
       "        text-align: right;\n",
       "    }\n",
       "</style>\n",
       "<table border=\"1\" class=\"dataframe\">\n",
       "  <thead>\n",
       "    <tr style=\"text-align: right;\">\n",
       "      <th></th>\n",
       "      <th>cost_month</th>\n",
       "      <th>source_id</th>\n",
       "      <th>num_byuers</th>\n",
       "    </tr>\n",
       "  </thead>\n",
       "  <tbody>\n",
       "    <tr>\n",
       "      <th>0</th>\n",
       "      <td>2017-06-01</td>\n",
       "      <td>1</td>\n",
       "      <td>218</td>\n",
       "    </tr>\n",
       "    <tr>\n",
       "      <th>1</th>\n",
       "      <td>2017-06-01</td>\n",
       "      <td>2</td>\n",
       "      <td>236</td>\n",
       "    </tr>\n",
       "    <tr>\n",
       "      <th>2</th>\n",
       "      <td>2017-06-01</td>\n",
       "      <td>3</td>\n",
       "      <td>618</td>\n",
       "    </tr>\n",
       "    <tr>\n",
       "      <th>3</th>\n",
       "      <td>2017-06-01</td>\n",
       "      <td>4</td>\n",
       "      <td>401</td>\n",
       "    </tr>\n",
       "    <tr>\n",
       "      <th>4</th>\n",
       "      <td>2017-06-01</td>\n",
       "      <td>5</td>\n",
       "      <td>390</td>\n",
       "    </tr>\n",
       "  </tbody>\n",
       "</table>\n",
       "</div>"
      ],
      "text/plain": [
       "  cost_month  source_id  num_byuers\n",
       "0 2017-06-01          1         218\n",
       "1 2017-06-01          2         236\n",
       "2 2017-06-01          3         618\n",
       "3 2017-06-01          4         401\n",
       "4 2017-06-01          5         390"
      ]
     },
     "execution_count": 75,
     "metadata": {},
     "output_type": "execute_result"
    }
   ],
   "source": [
    "byuers_per_month_source = first_source_order.groupby(['cohort', 'first_source'])['uid'].nunique().reset_index()\n",
    "byuers_per_month_source.columns = ['cost_month', 'source_id', 'num_byuers']\n",
    "byuers_per_month_source.head()"
   ]
  },
  {
   "cell_type": "markdown",
   "metadata": {},
   "source": [
    "Now we'll merge two tables and define customer acquisition costs by dividing costs by number of customers and we'll plot graph"
   ]
  },
  {
   "cell_type": "code",
   "execution_count": 76,
   "metadata": {},
   "outputs": [
    {
     "data": {
      "text/html": [
       "<div>\n",
       "<style scoped>\n",
       "    .dataframe tbody tr th:only-of-type {\n",
       "        vertical-align: middle;\n",
       "    }\n",
       "\n",
       "    .dataframe tbody tr th {\n",
       "        vertical-align: top;\n",
       "    }\n",
       "\n",
       "    .dataframe thead th {\n",
       "        text-align: right;\n",
       "    }\n",
       "</style>\n",
       "<table border=\"1\" class=\"dataframe\">\n",
       "  <thead>\n",
       "    <tr style=\"text-align: right;\">\n",
       "      <th></th>\n",
       "      <th>cost_month</th>\n",
       "      <th>source_id</th>\n",
       "      <th>costs</th>\n",
       "      <th>num_byuers</th>\n",
       "      <th>CAC</th>\n",
       "    </tr>\n",
       "  </thead>\n",
       "  <tbody>\n",
       "    <tr>\n",
       "      <th>0</th>\n",
       "      <td>2017-06-01</td>\n",
       "      <td>1</td>\n",
       "      <td>1125.61</td>\n",
       "      <td>218</td>\n",
       "      <td>5.163349</td>\n",
       "    </tr>\n",
       "    <tr>\n",
       "      <th>1</th>\n",
       "      <td>2017-06-01</td>\n",
       "      <td>2</td>\n",
       "      <td>2427.38</td>\n",
       "      <td>236</td>\n",
       "      <td>10.285508</td>\n",
       "    </tr>\n",
       "    <tr>\n",
       "      <th>2</th>\n",
       "      <td>2017-06-01</td>\n",
       "      <td>3</td>\n",
       "      <td>7731.65</td>\n",
       "      <td>618</td>\n",
       "      <td>12.510761</td>\n",
       "    </tr>\n",
       "    <tr>\n",
       "      <th>3</th>\n",
       "      <td>2017-06-01</td>\n",
       "      <td>4</td>\n",
       "      <td>3514.80</td>\n",
       "      <td>401</td>\n",
       "      <td>8.765087</td>\n",
       "    </tr>\n",
       "    <tr>\n",
       "      <th>4</th>\n",
       "      <td>2017-06-01</td>\n",
       "      <td>5</td>\n",
       "      <td>2616.12</td>\n",
       "      <td>390</td>\n",
       "      <td>6.708000</td>\n",
       "    </tr>\n",
       "  </tbody>\n",
       "</table>\n",
       "</div>"
      ],
      "text/plain": [
       "  cost_month  source_id    costs  num_byuers        CAC\n",
       "0 2017-06-01          1  1125.61         218   5.163349\n",
       "1 2017-06-01          2  2427.38         236  10.285508\n",
       "2 2017-06-01          3  7731.65         618  12.510761\n",
       "3 2017-06-01          4  3514.80         401   8.765087\n",
       "4 2017-06-01          5  2616.12         390   6.708000"
      ]
     },
     "execution_count": 76,
     "metadata": {},
     "output_type": "execute_result"
    }
   ],
   "source": [
    "CAC_per_month_source = costs_by_month_source.merge(byuers_per_month_source, how = 'left', on = ['cost_month', 'source_id'])\n",
    "CAC_per_month_source['CAC'] = CAC_per_month_source['costs'] / CAC_per_month_source['num_byuers']\n",
    "CAC_per_month_source.head()"
   ]
  },
  {
   "cell_type": "code",
   "execution_count": 77,
   "metadata": {},
   "outputs": [
    {
     "data": {
      "image/svg+xml": [
       "<svg class=\"main-svg\" xmlns=\"http://www.w3.org/2000/svg\" xmlns:xlink=\"http://www.w3.org/1999/xlink\" width=\"700\" height=\"500\" style=\"\" viewBox=\"0 0 700 500\"><rect x=\"0\" y=\"0\" width=\"700\" height=\"500\" style=\"fill: rgb(255, 255, 255); fill-opacity: 1;\"/><defs id=\"defs-f38dd5\"><g class=\"clips\"><clipPath id=\"clipf38dd5xyplot\" class=\"plotclip\"><rect width=\"525\" height=\"320\"/></clipPath><clipPath class=\"axesclip\" id=\"clipf38dd5x\"><rect x=\"80\" y=\"0\" width=\"525\" height=\"500\"/></clipPath><clipPath class=\"axesclip\" id=\"clipf38dd5y\"><rect x=\"0\" y=\"100\" width=\"700\" height=\"320\"/></clipPath><clipPath class=\"axesclip\" id=\"clipf38dd5xy\"><rect x=\"80\" y=\"100\" width=\"525\" height=\"320\"/></clipPath></g><g class=\"gradients\"/><g class=\"patterns\"/></defs><g class=\"bglayer\"><rect class=\"bg\" x=\"80\" y=\"100\" width=\"525\" height=\"320\" style=\"fill: rgb(229, 236, 246); fill-opacity: 1; stroke-width: 0;\"/></g><g class=\"layer-below\"><g class=\"imagelayer\"/><g class=\"shapelayer\"/></g><g class=\"cartesianlayer\"><g class=\"subplot xy\"><g class=\"layer-subplot\"><g class=\"shapelayer\"/><g class=\"imagelayer\"/></g><g class=\"minor-gridlayer\"><g class=\"x\"/><g class=\"y\"/></g><g class=\"gridlayer\"><g class=\"x\"><path class=\"xgrid crisp\" transform=\"translate(127.16,0)\" d=\"M0,100v320\" style=\"stroke: rgb(255, 255, 255); stroke-opacity: 1; stroke-width: 1px;\"/><path class=\"xgrid crisp\" transform=\"translate(224.61,0)\" d=\"M0,100v320\" style=\"stroke: rgb(255, 255, 255); stroke-opacity: 1; stroke-width: 1px;\"/><path class=\"xgrid crisp\" transform=\"translate(320.49,0)\" d=\"M0,100v320\" style=\"stroke: rgb(255, 255, 255); stroke-opacity: 1; stroke-width: 1px;\"/><path class=\"xgrid crisp\" transform=\"translate(416.38,0)\" d=\"M0,100v320\" style=\"stroke: rgb(255, 255, 255); stroke-opacity: 1; stroke-width: 1px;\"/><path class=\"xgrid crisp\" transform=\"translate(509.12,0)\" d=\"M0,100v320\" style=\"stroke: rgb(255, 255, 255); stroke-opacity: 1; stroke-width: 1px;\"/></g><g class=\"y\"><path class=\"ygrid crisp\" transform=\"translate(0,384.34)\" d=\"M80,0h525\" style=\"stroke: rgb(255, 255, 255); stroke-opacity: 1; stroke-width: 1px;\"/><path class=\"ygrid crisp\" transform=\"translate(0,348.33000000000004)\" d=\"M80,0h525\" style=\"stroke: rgb(255, 255, 255); stroke-opacity: 1; stroke-width: 1px;\"/><path class=\"ygrid crisp\" transform=\"translate(0,312.32)\" d=\"M80,0h525\" style=\"stroke: rgb(255, 255, 255); stroke-opacity: 1; stroke-width: 1px;\"/><path class=\"ygrid crisp\" transform=\"translate(0,276.31)\" d=\"M80,0h525\" style=\"stroke: rgb(255, 255, 255); stroke-opacity: 1; stroke-width: 1px;\"/><path class=\"ygrid crisp\" transform=\"translate(0,240.3)\" d=\"M80,0h525\" style=\"stroke: rgb(255, 255, 255); stroke-opacity: 1; stroke-width: 1px;\"/><path class=\"ygrid crisp\" transform=\"translate(0,204.29000000000002)\" d=\"M80,0h525\" style=\"stroke: rgb(255, 255, 255); stroke-opacity: 1; stroke-width: 1px;\"/><path class=\"ygrid crisp\" transform=\"translate(0,168.26999999999998)\" d=\"M80,0h525\" style=\"stroke: rgb(255, 255, 255); stroke-opacity: 1; stroke-width: 1px;\"/><path class=\"ygrid crisp\" transform=\"translate(0,132.26)\" d=\"M80,0h525\" style=\"stroke: rgb(255, 255, 255); stroke-opacity: 1; stroke-width: 1px;\"/></g></g><g class=\"zerolinelayer\"/><path class=\"xlines-below\"/><path class=\"ylines-below\"/><g class=\"overlines-below\"/><g class=\"xaxislayer-below\"/><g class=\"yaxislayer-below\"/><g class=\"overaxes-below\"/><g class=\"plot\" transform=\"translate(80,100)\" clip-path=\"url(#clipf38dd5xyplot)\"><g class=\"scatterlayer mlayer\"><g class=\"trace scatter trace9b5a83\" style=\"stroke-miterlimit: 2; opacity: 1;\"><g class=\"fills\"/><g class=\"errorbars\"/><g class=\"lines\"><path class=\"js-line\" d=\"M0,263.4L47.16,255.75L95.88,223.51L144.61,251.54L191.77,255.89L240.49,241.71L287.65,248.55L336.38,219.69L385.1,228.32L429.12,249.18L477.84,238.04L525,261.31\" style=\"vector-effect: none; fill: none; stroke: rgb(99, 110, 250); stroke-opacity: 1; stroke-width: 2px; opacity: 1;\"/></g><g class=\"points\"/><g class=\"text\"/></g><g class=\"trace scatter trace3fd959\" style=\"stroke-miterlimit: 2; opacity: 1;\"><g class=\"fills\"/><g class=\"errorbars\"/><g class=\"lines\"><path class=\"js-line\" d=\"M0,171.17L47.16,153.42L95.88,91.25L144.61,124.65L191.77,139.36L240.49,123.06L287.65,131.4L336.38,99.99L385.1,85.11L429.12,153.51L477.84,102.1L525,237.97\" style=\"vector-effect: none; fill: none; stroke: rgb(239, 85, 59); stroke-opacity: 1; stroke-width: 2px; opacity: 1;\"/></g><g class=\"points\"/><g class=\"text\"/></g><g class=\"trace scatter tracecdb792\" style=\"stroke-miterlimit: 2; opacity: 1;\"><g class=\"fills\"/><g class=\"errorbars\"/><g class=\"lines\"><path class=\"js-line\" d=\"M0,131.1L47.16,78.89L95.88,16L144.61,117.8L191.77,100.16L240.49,96.35L287.65,128.92L336.38,82.32L385.1,111.9L429.12,98.11L477.84,78.3L525,150.71\" style=\"vector-effect: none; fill: none; stroke: rgb(0, 204, 150); stroke-opacity: 1; stroke-width: 2px; opacity: 1;\"/></g><g class=\"points\"/><g class=\"text\"/></g><g class=\"trace scatter trace938ec7\" style=\"stroke-miterlimit: 2; opacity: 1;\"><g class=\"fills\"/><g class=\"errorbars\"/><g class=\"lines\"><path class=\"js-line\" d=\"M0,198.54L47.16,228.75L95.88,180.28L144.61,190.9L191.77,253.42L240.49,271.25L287.65,253.55L336.38,251.97L385.1,261.49L429.12,253.54L477.84,238.24L525,260.07\" style=\"vector-effect: none; fill: none; stroke: rgb(171, 99, 250); stroke-opacity: 1; stroke-width: 2px; opacity: 1;\"/></g><g class=\"points\"/><g class=\"text\"/></g><g class=\"trace scatter trace68fb0e\" style=\"stroke-miterlimit: 2; opacity: 1;\"><g class=\"fills\"/><g class=\"errorbars\"/><g class=\"lines\"><path class=\"js-line\" d=\"M0,235.58L47.16,229.94L95.88,248.27L144.61,242.38L191.77,248.98L240.49,195.95L287.65,219.4L336.38,206.88L385.1,227.39L429.12,212.78L477.84,214.06L525,224.22\" style=\"vector-effect: none; fill: none; stroke: rgb(255, 161, 90); stroke-opacity: 1; stroke-width: 2px; opacity: 1;\"/></g><g class=\"points\"/><g class=\"text\"/></g><g class=\"trace scatter trace00eec1\" style=\"stroke-miterlimit: 2; opacity: 1;\"><g class=\"fills\"/><g class=\"errorbars\"/><g class=\"lines\"><path class=\"js-line\" d=\"M0,278.55L47.16,249.55L95.88,282.89L144.61,266.2L191.77,265.68L240.49,267.87L287.65,255.11L336.38,230.06L385.1,239.54L429.12,302.32L477.84,192.34L525,243.93\" style=\"vector-effect: none; fill: none; stroke: rgb(25, 211, 243); stroke-opacity: 1; stroke-width: 2px; opacity: 1;\"/></g><g class=\"points\"/><g class=\"text\"/></g><g class=\"trace scatter trace0260b3\" style=\"stroke-miterlimit: 2; opacity: 1;\"><g class=\"fills\"/><g class=\"errorbars\"/><g class=\"lines\"><path class=\"js-line\" d=\"M0,296.18L47.16,237.59L95.88,246.17L144.61,256.43L191.77,301.54L240.49,241.31L287.65,214.55L336.38,232.08L385.1,283.61L429.12,304L477.84,289.15L525,300.03\" style=\"vector-effect: none; fill: none; stroke: rgb(255, 102, 146); stroke-opacity: 1; stroke-width: 2px; opacity: 1;\"/></g><g class=\"points\"/><g class=\"text\"/></g></g></g><g class=\"overplot\"/><path class=\"xlines-above crisp\" d=\"M0,0\" style=\"fill: none;\"/><path class=\"ylines-above crisp\" d=\"M0,0\" style=\"fill: none;\"/><g class=\"overlines-above\"/><g class=\"xaxislayer-above\"><g class=\"xtick\"><text text-anchor=\"middle\" x=\"0\" y=\"433\" transform=\"translate(127.16,0)\" style=\"font-family: 'Open Sans', verdana, arial, sans-serif; font-size: 12px; fill: rgb(42, 63, 95); fill-opacity: 1; white-space: pre; opacity: 1;\">Jul 2017</text></g><g class=\"xtick\"><text text-anchor=\"middle\" x=\"0\" y=\"433\" style=\"font-family: 'Open Sans', verdana, arial, sans-serif; font-size: 12px; fill: rgb(42, 63, 95); fill-opacity: 1; white-space: pre; opacity: 1;\" transform=\"translate(224.61,0)\">Sep 2017</text></g><g class=\"xtick\"><text text-anchor=\"middle\" x=\"0\" y=\"433\" style=\"font-family: 'Open Sans', verdana, arial, sans-serif; font-size: 12px; fill: rgb(42, 63, 95); fill-opacity: 1; white-space: pre; opacity: 1;\" transform=\"translate(320.49,0)\">Nov 2017</text></g><g class=\"xtick\"><text text-anchor=\"middle\" x=\"0\" y=\"433\" style=\"font-family: 'Open Sans', verdana, arial, sans-serif; font-size: 12px; fill: rgb(42, 63, 95); fill-opacity: 1; white-space: pre; opacity: 1;\" transform=\"translate(416.38,0)\">Jan 2018</text></g><g class=\"xtick\"><text text-anchor=\"middle\" x=\"0\" y=\"433\" style=\"font-family: 'Open Sans', verdana, arial, sans-serif; font-size: 12px; fill: rgb(42, 63, 95); fill-opacity: 1; white-space: pre; opacity: 1;\" transform=\"translate(509.12,0)\">Mar 2018</text></g><g class=\"xtick\"><text text-anchor=\"middle\" x=\"0\" y=\"433\" style=\"font-family: 'Open Sans', verdana, arial, sans-serif; font-size: 12px; fill: rgb(42, 63, 95); fill-opacity: 1; white-space: pre; opacity: 1;\" transform=\"translate(605,0)\">May 2018</text></g></g><g class=\"yaxislayer-above\"><g class=\"ytick\"><text text-anchor=\"end\" x=\"79\" y=\"4.199999999999999\" transform=\"translate(0,384.34)\" style=\"font-family: 'Open Sans', verdana, arial, sans-serif; font-size: 12px; fill: rgb(42, 63, 95); fill-opacity: 1; white-space: pre; opacity: 1;\">4</text></g><g class=\"ytick\"><text text-anchor=\"end\" x=\"79\" y=\"4.199999999999999\" style=\"font-family: 'Open Sans', verdana, arial, sans-serif; font-size: 12px; fill: rgb(42, 63, 95); fill-opacity: 1; white-space: pre; opacity: 1;\" transform=\"translate(0,348.33000000000004)\">6</text></g><g class=\"ytick\"><text text-anchor=\"end\" x=\"79\" y=\"4.199999999999999\" style=\"font-family: 'Open Sans', verdana, arial, sans-serif; font-size: 12px; fill: rgb(42, 63, 95); fill-opacity: 1; white-space: pre; opacity: 1;\" transform=\"translate(0,312.32)\">8</text></g><g class=\"ytick\"><text text-anchor=\"end\" x=\"79\" y=\"4.199999999999999\" style=\"font-family: 'Open Sans', verdana, arial, sans-serif; font-size: 12px; fill: rgb(42, 63, 95); fill-opacity: 1; white-space: pre; opacity: 1;\" transform=\"translate(0,276.31)\">10</text></g><g class=\"ytick\"><text text-anchor=\"end\" x=\"79\" y=\"4.199999999999999\" style=\"font-family: 'Open Sans', verdana, arial, sans-serif; font-size: 12px; fill: rgb(42, 63, 95); fill-opacity: 1; white-space: pre; opacity: 1;\" transform=\"translate(0,240.3)\">12</text></g><g class=\"ytick\"><text text-anchor=\"end\" x=\"79\" y=\"4.199999999999999\" style=\"font-family: 'Open Sans', verdana, arial, sans-serif; font-size: 12px; fill: rgb(42, 63, 95); fill-opacity: 1; white-space: pre; opacity: 1;\" transform=\"translate(0,204.29000000000002)\">14</text></g><g class=\"ytick\"><text text-anchor=\"end\" x=\"79\" y=\"4.199999999999999\" style=\"font-family: 'Open Sans', verdana, arial, sans-serif; font-size: 12px; fill: rgb(42, 63, 95); fill-opacity: 1; white-space: pre; opacity: 1;\" transform=\"translate(0,168.26999999999998)\">16</text></g><g class=\"ytick\"><text text-anchor=\"end\" x=\"79\" y=\"4.199999999999999\" style=\"font-family: 'Open Sans', verdana, arial, sans-serif; font-size: 12px; fill: rgb(42, 63, 95); fill-opacity: 1; white-space: pre; opacity: 1;\" transform=\"translate(0,132.26)\">18</text></g></g><g class=\"overaxes-above\"/></g></g><g class=\"polarlayer\"/><g class=\"smithlayer\"/><g class=\"ternarylayer\"/><g class=\"geolayer\"/><g class=\"funnelarealayer\"/><g class=\"pielayer\"/><g class=\"iciclelayer\"/><g class=\"treemaplayer\"/><g class=\"sunburstlayer\"/><g class=\"glimages\"/><defs id=\"topdefs-f38dd5\"><g class=\"clips\"/><clipPath id=\"legendf38dd5\"><rect width=\"72\" height=\"162\" x=\"0\" y=\"0\"/></clipPath></defs><g class=\"layer-above\"><g class=\"imagelayer\"/><g class=\"shapelayer\"/></g><g class=\"infolayer\"><g class=\"legend\" pointer-events=\"all\" transform=\"translate(615.5,100)\"><rect class=\"bg\" shape-rendering=\"crispEdges\" width=\"72\" height=\"162\" x=\"0\" y=\"0\" style=\"stroke: rgb(68, 68, 68); stroke-opacity: 1; fill: rgb(255, 255, 255); fill-opacity: 1; stroke-width: 0px;\"/><g class=\"scrollbox\" transform=\"\" clip-path=\"url(#legendf38dd5)\"><text class=\"legendtitletext\" text-anchor=\"start\" x=\"2\" y=\"18.2\" style=\"font-family: 'Open Sans', verdana, arial, sans-serif; font-size: 14px; fill: rgb(42, 63, 95); fill-opacity: 1; white-space: pre;\">source_id</text><g class=\"groups\" transform=\"\"><g class=\"traces\" transform=\"translate(0,32.7)\" style=\"opacity: 1;\"><text class=\"legendtext\" text-anchor=\"start\" x=\"40\" y=\"4.680000000000001\" style=\"font-family: 'Open Sans', verdana, arial, sans-serif; font-size: 12px; fill: rgb(42, 63, 95); fill-opacity: 1; white-space: pre;\">1</text><g class=\"layers\" style=\"opacity: 1;\"><g class=\"legendfill\"/><g class=\"legendlines\"><path class=\"js-line\" d=\"M5,0h30\" style=\"fill: none; stroke: rgb(99, 110, 250); stroke-opacity: 1; stroke-width: 2px;\"/></g><g class=\"legendsymbols\"><g class=\"legendpoints\"/></g></g><rect class=\"legendtoggle\" x=\"0\" y=\"-9.5\" width=\"55.640625\" height=\"19\" style=\"fill: rgb(0, 0, 0); fill-opacity: 0;\"/></g></g><g class=\"groups\" transform=\"\"><g class=\"traces\" transform=\"translate(0,51.7)\" style=\"opacity: 1;\"><text class=\"legendtext\" text-anchor=\"start\" x=\"40\" y=\"4.680000000000001\" style=\"font-family: 'Open Sans', verdana, arial, sans-serif; font-size: 12px; fill: rgb(42, 63, 95); fill-opacity: 1; white-space: pre;\">2</text><g class=\"layers\" style=\"opacity: 1;\"><g class=\"legendfill\"/><g class=\"legendlines\"><path class=\"js-line\" d=\"M5,0h30\" style=\"fill: none; stroke: rgb(239, 85, 59); stroke-opacity: 1; stroke-width: 2px;\"/></g><g class=\"legendsymbols\"><g class=\"legendpoints\"/></g></g><rect class=\"legendtoggle\" x=\"0\" y=\"-9.5\" width=\"55.640625\" height=\"19\" style=\"fill: rgb(0, 0, 0); fill-opacity: 0;\"/></g></g><g class=\"groups\" transform=\"\"><g class=\"traces\" transform=\"translate(0,70.7)\" style=\"opacity: 1;\"><text class=\"legendtext\" text-anchor=\"start\" x=\"40\" y=\"4.680000000000001\" style=\"font-family: 'Open Sans', verdana, arial, sans-serif; font-size: 12px; fill: rgb(42, 63, 95); fill-opacity: 1; white-space: pre;\">3</text><g class=\"layers\" style=\"opacity: 1;\"><g class=\"legendfill\"/><g class=\"legendlines\"><path class=\"js-line\" d=\"M5,0h30\" style=\"fill: none; stroke: rgb(0, 204, 150); stroke-opacity: 1; stroke-width: 2px;\"/></g><g class=\"legendsymbols\"><g class=\"legendpoints\"/></g></g><rect class=\"legendtoggle\" x=\"0\" y=\"-9.5\" width=\"55.640625\" height=\"19\" style=\"fill: rgb(0, 0, 0); fill-opacity: 0;\"/></g></g><g class=\"groups\" transform=\"\"><g class=\"traces\" transform=\"translate(0,89.7)\" style=\"opacity: 1;\"><text class=\"legendtext\" text-anchor=\"start\" x=\"40\" y=\"4.680000000000001\" style=\"font-family: 'Open Sans', verdana, arial, sans-serif; font-size: 12px; fill: rgb(42, 63, 95); fill-opacity: 1; white-space: pre;\">4</text><g class=\"layers\" style=\"opacity: 1;\"><g class=\"legendfill\"/><g class=\"legendlines\"><path class=\"js-line\" d=\"M5,0h30\" style=\"fill: none; stroke: rgb(171, 99, 250); stroke-opacity: 1; stroke-width: 2px;\"/></g><g class=\"legendsymbols\"><g class=\"legendpoints\"/></g></g><rect class=\"legendtoggle\" x=\"0\" y=\"-9.5\" width=\"55.640625\" height=\"19\" style=\"fill: rgb(0, 0, 0); fill-opacity: 0;\"/></g></g><g class=\"groups\" transform=\"\"><g class=\"traces\" transform=\"translate(0,108.7)\" style=\"opacity: 1;\"><text class=\"legendtext\" text-anchor=\"start\" x=\"40\" y=\"4.680000000000001\" style=\"font-family: 'Open Sans', verdana, arial, sans-serif; font-size: 12px; fill: rgb(42, 63, 95); fill-opacity: 1; white-space: pre;\">5</text><g class=\"layers\" style=\"opacity: 1;\"><g class=\"legendfill\"/><g class=\"legendlines\"><path class=\"js-line\" d=\"M5,0h30\" style=\"fill: none; stroke: rgb(255, 161, 90); stroke-opacity: 1; stroke-width: 2px;\"/></g><g class=\"legendsymbols\"><g class=\"legendpoints\"/></g></g><rect class=\"legendtoggle\" x=\"0\" y=\"-9.5\" width=\"55.640625\" height=\"19\" style=\"fill: rgb(0, 0, 0); fill-opacity: 0;\"/></g></g><g class=\"groups\" transform=\"\"><g class=\"traces\" transform=\"translate(0,127.7)\" style=\"opacity: 1;\"><text class=\"legendtext\" text-anchor=\"start\" x=\"40\" y=\"4.680000000000001\" style=\"font-family: 'Open Sans', verdana, arial, sans-serif; font-size: 12px; fill: rgb(42, 63, 95); fill-opacity: 1; white-space: pre;\">9</text><g class=\"layers\" style=\"opacity: 1;\"><g class=\"legendfill\"/><g class=\"legendlines\"><path class=\"js-line\" d=\"M5,0h30\" style=\"fill: none; stroke: rgb(25, 211, 243); stroke-opacity: 1; stroke-width: 2px;\"/></g><g class=\"legendsymbols\"><g class=\"legendpoints\"/></g></g><rect class=\"legendtoggle\" x=\"0\" y=\"-9.5\" width=\"55.640625\" height=\"19\" style=\"fill: rgb(0, 0, 0); fill-opacity: 0;\"/></g></g><g class=\"groups\" transform=\"\"><g class=\"traces\" transform=\"translate(0,146.7)\" style=\"opacity: 1;\"><text class=\"legendtext\" text-anchor=\"start\" x=\"40\" y=\"4.680000000000001\" style=\"font-family: 'Open Sans', verdana, arial, sans-serif; font-size: 12px; fill: rgb(42, 63, 95); fill-opacity: 1; white-space: pre;\">10</text><g class=\"layers\" style=\"opacity: 1;\"><g class=\"legendfill\"/><g class=\"legendlines\"><path class=\"js-line\" d=\"M5,0h30\" style=\"fill: none; stroke: rgb(255, 102, 146); stroke-opacity: 1; stroke-width: 2px;\"/></g><g class=\"legendsymbols\"><g class=\"legendpoints\"/></g></g><rect class=\"legendtoggle\" x=\"0\" y=\"-9.5\" width=\"55.640625\" height=\"19\" style=\"fill: rgb(0, 0, 0); fill-opacity: 0;\"/></g></g></g><rect class=\"scrollbar\" rx=\"20\" ry=\"3\" width=\"0\" height=\"0\" x=\"0\" y=\"0\" style=\"fill: rgb(128, 139, 164); fill-opacity: 1;\"/></g><g class=\"g-gtitle\"><text class=\"gtitle\" x=\"35\" y=\"50\" text-anchor=\"start\" dy=\"0em\" style=\"font-family: 'Open Sans', verdana, arial, sans-serif; font-size: 17px; fill: rgb(42, 63, 95); opacity: 1; font-weight: normal; white-space: pre;\">CAC per month and per source</text></g><g class=\"g-xtitle\"><text class=\"xtitle\" x=\"342.5\" y=\"460.3\" text-anchor=\"middle\" style=\"font-family: 'Open Sans', verdana, arial, sans-serif; font-size: 14px; fill: rgb(42, 63, 95); opacity: 1; font-weight: normal; white-space: pre;\">Month</text></g><g class=\"g-ytitle\"><text class=\"ytitle\" transform=\"rotate(-90,39.434375,260)\" x=\"39.434375\" y=\"260\" text-anchor=\"middle\" style=\"font-family: 'Open Sans', verdana, arial, sans-serif; font-size: 14px; fill: rgb(42, 63, 95); opacity: 1; font-weight: normal; white-space: pre;\">CAC</text></g></g></svg>"
      ]
     },
     "metadata": {},
     "output_type": "display_data"
    }
   ],
   "source": [
    "fig = px.line(CAC_per_month_source, x=\"cost_month\", y=\"CAC\", \n",
    "              color='source_id', title='CAC per month and per source', labels ={'cost_month': 'Month'})\n",
    "fig.show(\"svg\")"
   ]
  },
  {
   "cell_type": "markdown",
   "metadata": {},
   "source": [
    "**Conclusion**    \n",
    "\n",
    "It turns out that all sources are different and have different trends over different periods. Sources 2 and 3 are most expensive and have similar trend between September and March, source 4 after October become straight, and the rest sources are varied from month to month"
   ]
  },
  {
   "cell_type": "markdown",
   "metadata": {},
   "source": [
    "##### How worthwhile where the investments? (ROI)"
   ]
  },
  {
   "cell_type": "markdown",
   "metadata": {},
   "source": [
    "At first, we'll define ROI for cohort. We've already made calculations of CAC and LTV, so let's rewrite names of columns and let's merge two tables, calculate ROI and plot the graphs"
   ]
  },
  {
   "cell_type": "code",
   "execution_count": 78,
   "metadata": {},
   "outputs": [
    {
     "data": {
      "text/html": [
       "<div>\n",
       "<style scoped>\n",
       "    .dataframe tbody tr th:only-of-type {\n",
       "        vertical-align: middle;\n",
       "    }\n",
       "\n",
       "    .dataframe tbody tr th {\n",
       "        vertical-align: top;\n",
       "    }\n",
       "\n",
       "    .dataframe thead th {\n",
       "        text-align: right;\n",
       "    }\n",
       "</style>\n",
       "<table border=\"1\" class=\"dataframe\">\n",
       "  <thead>\n",
       "    <tr style=\"text-align: right;\">\n",
       "      <th></th>\n",
       "      <th>cohort</th>\n",
       "      <th>month</th>\n",
       "      <th>total_revenue</th>\n",
       "      <th>cohort_size</th>\n",
       "      <th>age</th>\n",
       "      <th>ltv</th>\n",
       "      <th>CAC</th>\n",
       "    </tr>\n",
       "  </thead>\n",
       "  <tbody>\n",
       "    <tr>\n",
       "      <th>0</th>\n",
       "      <td>2017-06-01</td>\n",
       "      <td>2017-06-01</td>\n",
       "      <td>9557.49</td>\n",
       "      <td>2023</td>\n",
       "      <td>0</td>\n",
       "      <td>4.724414</td>\n",
       "      <td>8.905091</td>\n",
       "    </tr>\n",
       "    <tr>\n",
       "      <th>1</th>\n",
       "      <td>2017-06-01</td>\n",
       "      <td>2017-07-01</td>\n",
       "      <td>981.82</td>\n",
       "      <td>2023</td>\n",
       "      <td>1</td>\n",
       "      <td>0.485329</td>\n",
       "      <td>8.905091</td>\n",
       "    </tr>\n",
       "    <tr>\n",
       "      <th>2</th>\n",
       "      <td>2017-06-01</td>\n",
       "      <td>2017-08-01</td>\n",
       "      <td>885.34</td>\n",
       "      <td>2023</td>\n",
       "      <td>2</td>\n",
       "      <td>0.437637</td>\n",
       "      <td>8.905091</td>\n",
       "    </tr>\n",
       "    <tr>\n",
       "      <th>3</th>\n",
       "      <td>2017-06-01</td>\n",
       "      <td>2017-09-01</td>\n",
       "      <td>1931.30</td>\n",
       "      <td>2023</td>\n",
       "      <td>3</td>\n",
       "      <td>0.954671</td>\n",
       "      <td>8.905091</td>\n",
       "    </tr>\n",
       "    <tr>\n",
       "      <th>4</th>\n",
       "      <td>2017-06-01</td>\n",
       "      <td>2017-10-01</td>\n",
       "      <td>2068.58</td>\n",
       "      <td>2023</td>\n",
       "      <td>4</td>\n",
       "      <td>1.022531</td>\n",
       "      <td>8.905091</td>\n",
       "    </tr>\n",
       "  </tbody>\n",
       "</table>\n",
       "</div>"
      ],
      "text/plain": [
       "      cohort      month  total_revenue  cohort_size  age       ltv       CAC\n",
       "0 2017-06-01 2017-06-01        9557.49         2023    0  4.724414  8.905091\n",
       "1 2017-06-01 2017-07-01         981.82         2023    1  0.485329  8.905091\n",
       "2 2017-06-01 2017-08-01         885.34         2023    2  0.437637  8.905091\n",
       "3 2017-06-01 2017-09-01        1931.30         2023    3  0.954671  8.905091\n",
       "4 2017-06-01 2017-10-01        2068.58         2023    4  1.022531  8.905091"
      ]
     },
     "execution_count": 78,
     "metadata": {},
     "output_type": "execute_result"
    }
   ],
   "source": [
    "CAC_per_month_ROI = CAC_per_month[['cost_month', 'CAC']]\n",
    "CAC_per_month_ROI.columns = ['cohort', 'CAC']\n",
    "ROI = ltv_cohorts.merge(CAC_per_month_ROI, how = 'left', on = ['cohort'])\n",
    "ROI.head()"
   ]
  },
  {
   "cell_type": "code",
   "execution_count": 79,
   "metadata": {},
   "outputs": [
    {
     "data": {
      "text/html": [
       "<div>\n",
       "<style scoped>\n",
       "    .dataframe tbody tr th:only-of-type {\n",
       "        vertical-align: middle;\n",
       "    }\n",
       "\n",
       "    .dataframe tbody tr th {\n",
       "        vertical-align: top;\n",
       "    }\n",
       "\n",
       "    .dataframe thead th {\n",
       "        text-align: right;\n",
       "    }\n",
       "</style>\n",
       "<table border=\"1\" class=\"dataframe\">\n",
       "  <thead>\n",
       "    <tr style=\"text-align: right;\">\n",
       "      <th>age</th>\n",
       "      <th>0</th>\n",
       "      <th>1</th>\n",
       "      <th>2</th>\n",
       "      <th>3</th>\n",
       "      <th>4</th>\n",
       "      <th>5</th>\n",
       "      <th>6</th>\n",
       "      <th>7</th>\n",
       "      <th>8</th>\n",
       "      <th>9</th>\n",
       "      <th>10</th>\n",
       "      <th>11</th>\n",
       "    </tr>\n",
       "    <tr>\n",
       "      <th>cohort</th>\n",
       "      <th></th>\n",
       "      <th></th>\n",
       "      <th></th>\n",
       "      <th></th>\n",
       "      <th></th>\n",
       "      <th></th>\n",
       "      <th></th>\n",
       "      <th></th>\n",
       "      <th></th>\n",
       "      <th></th>\n",
       "      <th></th>\n",
       "      <th></th>\n",
       "    </tr>\n",
       "  </thead>\n",
       "  <tbody>\n",
       "    <tr>\n",
       "      <th>2017-06-01</th>\n",
       "      <td>0.53</td>\n",
       "      <td>0.59</td>\n",
       "      <td>0.63</td>\n",
       "      <td>0.74</td>\n",
       "      <td>0.86</td>\n",
       "      <td>0.94</td>\n",
       "      <td>1.05</td>\n",
       "      <td>1.11</td>\n",
       "      <td>1.17</td>\n",
       "      <td>1.24</td>\n",
       "      <td>1.31</td>\n",
       "      <td>1.33</td>\n",
       "    </tr>\n",
       "    <tr>\n",
       "      <th>2017-07-01</th>\n",
       "      <td>0.63</td>\n",
       "      <td>0.67</td>\n",
       "      <td>0.73</td>\n",
       "      <td>0.77</td>\n",
       "      <td>0.79</td>\n",
       "      <td>0.81</td>\n",
       "      <td>0.82</td>\n",
       "      <td>0.84</td>\n",
       "      <td>0.85</td>\n",
       "      <td>0.87</td>\n",
       "      <td>0.88</td>\n",
       "      <td></td>\n",
       "    </tr>\n",
       "    <tr>\n",
       "      <th>2017-08-01</th>\n",
       "      <td>0.49</td>\n",
       "      <td>0.53</td>\n",
       "      <td>0.57</td>\n",
       "      <td>0.61</td>\n",
       "      <td>0.66</td>\n",
       "      <td>0.68</td>\n",
       "      <td>0.7</td>\n",
       "      <td>0.74</td>\n",
       "      <td>0.77</td>\n",
       "      <td>0.78</td>\n",
       "      <td></td>\n",
       "      <td></td>\n",
       "    </tr>\n",
       "    <tr>\n",
       "      <th>2017-09-01</th>\n",
       "      <td>0.60</td>\n",
       "      <td>0.72</td>\n",
       "      <td>0.77</td>\n",
       "      <td>1.19</td>\n",
       "      <td>1.23</td>\n",
       "      <td>1.3</td>\n",
       "      <td>1.38</td>\n",
       "      <td>1.4</td>\n",
       "      <td>1.42</td>\n",
       "      <td></td>\n",
       "      <td></td>\n",
       "      <td></td>\n",
       "    </tr>\n",
       "    <tr>\n",
       "      <th>2017-10-01</th>\n",
       "      <td>0.60</td>\n",
       "      <td>0.66</td>\n",
       "      <td>0.68</td>\n",
       "      <td>0.7</td>\n",
       "      <td>0.72</td>\n",
       "      <td>0.74</td>\n",
       "      <td>0.75</td>\n",
       "      <td>0.76</td>\n",
       "      <td></td>\n",
       "      <td></td>\n",
       "      <td></td>\n",
       "      <td></td>\n",
       "    </tr>\n",
       "    <tr>\n",
       "      <th>2017-11-01</th>\n",
       "      <td>0.55</td>\n",
       "      <td>0.6</td>\n",
       "      <td>0.62</td>\n",
       "      <td>0.65</td>\n",
       "      <td>0.67</td>\n",
       "      <td>0.68</td>\n",
       "      <td>0.69</td>\n",
       "      <td></td>\n",
       "      <td></td>\n",
       "      <td></td>\n",
       "      <td></td>\n",
       "      <td></td>\n",
       "    </tr>\n",
       "    <tr>\n",
       "      <th>2017-12-01</th>\n",
       "      <td>0.54</td>\n",
       "      <td>0.57</td>\n",
       "      <td>0.68</td>\n",
       "      <td>0.8</td>\n",
       "      <td>0.84</td>\n",
       "      <td>0.87</td>\n",
       "      <td></td>\n",
       "      <td></td>\n",
       "      <td></td>\n",
       "      <td></td>\n",
       "      <td></td>\n",
       "      <td></td>\n",
       "    </tr>\n",
       "    <tr>\n",
       "      <th>2018-01-01</th>\n",
       "      <td>0.42</td>\n",
       "      <td>0.45</td>\n",
       "      <td>0.48</td>\n",
       "      <td>0.49</td>\n",
       "      <td>0.5</td>\n",
       "      <td></td>\n",
       "      <td></td>\n",
       "      <td></td>\n",
       "      <td></td>\n",
       "      <td></td>\n",
       "      <td></td>\n",
       "      <td></td>\n",
       "    </tr>\n",
       "    <tr>\n",
       "      <th>2018-02-01</th>\n",
       "      <td>0.46</td>\n",
       "      <td>0.49</td>\n",
       "      <td>0.5</td>\n",
       "      <td>0.51</td>\n",
       "      <td></td>\n",
       "      <td></td>\n",
       "      <td></td>\n",
       "      <td></td>\n",
       "      <td></td>\n",
       "      <td></td>\n",
       "      <td></td>\n",
       "      <td></td>\n",
       "    </tr>\n",
       "    <tr>\n",
       "      <th>2018-03-01</th>\n",
       "      <td>0.56</td>\n",
       "      <td>0.6</td>\n",
       "      <td>0.63</td>\n",
       "      <td></td>\n",
       "      <td></td>\n",
       "      <td></td>\n",
       "      <td></td>\n",
       "      <td></td>\n",
       "      <td></td>\n",
       "      <td></td>\n",
       "      <td></td>\n",
       "      <td></td>\n",
       "    </tr>\n",
       "    <tr>\n",
       "      <th>2018-04-01</th>\n",
       "      <td>0.48</td>\n",
       "      <td>0.53</td>\n",
       "      <td></td>\n",
       "      <td></td>\n",
       "      <td></td>\n",
       "      <td></td>\n",
       "      <td></td>\n",
       "      <td></td>\n",
       "      <td></td>\n",
       "      <td></td>\n",
       "      <td></td>\n",
       "      <td></td>\n",
       "    </tr>\n",
       "    <tr>\n",
       "      <th>2018-05-01</th>\n",
       "      <td>0.63</td>\n",
       "      <td></td>\n",
       "      <td></td>\n",
       "      <td></td>\n",
       "      <td></td>\n",
       "      <td></td>\n",
       "      <td></td>\n",
       "      <td></td>\n",
       "      <td></td>\n",
       "      <td></td>\n",
       "      <td></td>\n",
       "      <td></td>\n",
       "    </tr>\n",
       "  </tbody>\n",
       "</table>\n",
       "</div>"
      ],
      "text/plain": [
       "age           0     1     2     3     4     5     6     7     8     9     10  \\\n",
       "cohort                                                                         \n",
       "2017-06-01  0.53  0.59  0.63  0.74  0.86  0.94  1.05  1.11  1.17  1.24  1.31   \n",
       "2017-07-01  0.63  0.67  0.73  0.77  0.79  0.81  0.82  0.84  0.85  0.87  0.88   \n",
       "2017-08-01  0.49  0.53  0.57  0.61  0.66  0.68   0.7  0.74  0.77  0.78         \n",
       "2017-09-01  0.60  0.72  0.77  1.19  1.23   1.3  1.38   1.4  1.42               \n",
       "2017-10-01  0.60  0.66  0.68   0.7  0.72  0.74  0.75  0.76                     \n",
       "2017-11-01  0.55   0.6  0.62  0.65  0.67  0.68  0.69                           \n",
       "2017-12-01  0.54  0.57  0.68   0.8  0.84  0.87                                 \n",
       "2018-01-01  0.42  0.45  0.48  0.49   0.5                                       \n",
       "2018-02-01  0.46  0.49   0.5  0.51                                             \n",
       "2018-03-01  0.56   0.6  0.63                                                   \n",
       "2018-04-01  0.48  0.53                                                         \n",
       "2018-05-01  0.63                                                               \n",
       "\n",
       "age           11  \n",
       "cohort            \n",
       "2017-06-01  1.33  \n",
       "2017-07-01        \n",
       "2017-08-01        \n",
       "2017-09-01        \n",
       "2017-10-01        \n",
       "2017-11-01        \n",
       "2017-12-01        \n",
       "2018-01-01        \n",
       "2018-02-01        \n",
       "2018-03-01        \n",
       "2018-04-01        \n",
       "2018-05-01        "
      ]
     },
     "execution_count": 79,
     "metadata": {},
     "output_type": "execute_result"
    }
   ],
   "source": [
    "ROI['ROI']=ROI['ltv']/ROI['CAC']\n",
    "roi_piv = ROI.pivot_table(index='cohort', columns='age', values='ROI', aggfunc='mean').cumsum(axis=1)\n",
    "roi_piv.round(2).fillna('') "
   ]
  },
  {
   "cell_type": "code",
   "execution_count": 80,
   "metadata": {},
   "outputs": [
    {
     "data": {
      "image/png": "[encoded data removed]",
      "text/plain": [
       "<Figure size 1080x864 with 2 Axes>"
      ]
     },
     "metadata": {
      "needs_background": "light"
     },
     "output_type": "display_data"
    }
   ],
   "source": [
    "roi_piv.index=roi_piv.index.astype(str)\n",
    "plt.figure(figsize=(15, 12))\n",
    "sns.heatmap(roi_piv, annot=True, fmt='.2%', linewidths=1, \n",
    "            linecolor='grey', cbar_kws= {'orientation': 'horizontal'}).set(title ='ROI per cohort')\n",
    "plt.show()"
   ]
  },
  {
   "cell_type": "markdown",
   "metadata": {},
   "source": [
    "**Conclusion**   \n",
    "\n",
    "We can see the similar picture with LTV per cohort: we can call September, June, July and December most succsessfull cohorts in terms of returns of investments.  "
   ]
  },
  {
   "cell_type": "markdown",
   "metadata": {},
   "source": [
    "Now, let's define ROI for each source according the same logic:"
   ]
  },
  {
   "cell_type": "code",
   "execution_count": 81,
   "metadata": {},
   "outputs": [
    {
     "name": "stderr",
     "output_type": "stream",
     "text": [
      "C:\\Users\\Dell\\miniconda3\\lib\\site-packages\\ipykernel_launcher.py:1: FutureWarning:\n",
      "\n",
      "Indexing with multiple keys (implicitly converted to a tuple of keys) will be deprecated, use a list instead.\n",
      "\n"
     ]
    },
    {
     "data": {
      "text/html": [
       "<div>\n",
       "<style scoped>\n",
       "    .dataframe tbody tr th:only-of-type {\n",
       "        vertical-align: middle;\n",
       "    }\n",
       "\n",
       "    .dataframe tbody tr th {\n",
       "        vertical-align: top;\n",
       "    }\n",
       "\n",
       "    .dataframe thead th {\n",
       "        text-align: right;\n",
       "    }\n",
       "</style>\n",
       "<table border=\"1\" class=\"dataframe\">\n",
       "  <thead>\n",
       "    <tr style=\"text-align: right;\">\n",
       "      <th></th>\n",
       "      <th>source_id</th>\n",
       "      <th>num_byuers</th>\n",
       "      <th>total_revenue</th>\n",
       "      <th>ltv</th>\n",
       "    </tr>\n",
       "  </thead>\n",
       "  <tbody>\n",
       "    <tr>\n",
       "      <th>0</th>\n",
       "      <td>1</td>\n",
       "      <td>3383</td>\n",
       "      <td>35529.84</td>\n",
       "      <td>10.502465</td>\n",
       "    </tr>\n",
       "    <tr>\n",
       "      <th>1</th>\n",
       "      <td>2</td>\n",
       "      <td>3557</td>\n",
       "      <td>45721.66</td>\n",
       "      <td>12.853995</td>\n",
       "    </tr>\n",
       "    <tr>\n",
       "      <th>2</th>\n",
       "      <td>3</td>\n",
       "      <td>10121</td>\n",
       "      <td>51183.42</td>\n",
       "      <td>5.057150</td>\n",
       "    </tr>\n",
       "    <tr>\n",
       "      <th>3</th>\n",
       "      <td>4</td>\n",
       "      <td>9996</td>\n",
       "      <td>55009.80</td>\n",
       "      <td>5.503181</td>\n",
       "    </tr>\n",
       "    <tr>\n",
       "      <th>4</th>\n",
       "      <td>5</td>\n",
       "      <td>7104</td>\n",
       "      <td>54478.15</td>\n",
       "      <td>7.668659</td>\n",
       "    </tr>\n",
       "  </tbody>\n",
       "</table>\n",
       "</div>"
      ],
      "text/plain": [
       "   source_id  num_byuers  total_revenue        ltv\n",
       "0          1        3383       35529.84  10.502465\n",
       "1          2        3557       45721.66  12.853995\n",
       "2          3       10121       51183.42   5.057150\n",
       "3          4        9996       55009.80   5.503181\n",
       "4          5        7104       54478.15   7.668659"
      ]
     },
     "execution_count": 81,
     "metadata": {},
     "output_type": "execute_result"
    }
   ],
   "source": [
    "ltv_per_source = first_source_order.groupby(['first_source'])['uid', 'revenue'].agg({'uid': 'nunique', 'revenue': 'sum'}).reset_index()\n",
    "ltv_per_source.columns = ['source_id', 'num_byuers', 'total_revenue']\n",
    "ltv_per_source['ltv'] = ltv_per_source['total_revenue'] / ltv_per_source['num_byuers']\n",
    "ltv_per_source.head()"
   ]
  },
  {
   "cell_type": "code",
   "execution_count": 82,
   "metadata": {},
   "outputs": [
    {
     "data": {
      "text/html": [
       "<div>\n",
       "<style scoped>\n",
       "    .dataframe tbody tr th:only-of-type {\n",
       "        vertical-align: middle;\n",
       "    }\n",
       "\n",
       "    .dataframe tbody tr th {\n",
       "        vertical-align: top;\n",
       "    }\n",
       "\n",
       "    .dataframe thead th {\n",
       "        text-align: right;\n",
       "    }\n",
       "</style>\n",
       "<table border=\"1\" class=\"dataframe\">\n",
       "  <thead>\n",
       "    <tr style=\"text-align: right;\">\n",
       "      <th></th>\n",
       "      <th>source_id</th>\n",
       "      <th>costs</th>\n",
       "      <th>num_byuers</th>\n",
       "      <th>total_revenue</th>\n",
       "      <th>ltv</th>\n",
       "      <th>cac</th>\n",
       "      <th>romi</th>\n",
       "    </tr>\n",
       "  </thead>\n",
       "  <tbody>\n",
       "    <tr>\n",
       "      <th>0</th>\n",
       "      <td>1</td>\n",
       "      <td>20833.27</td>\n",
       "      <td>3383</td>\n",
       "      <td>35529.84</td>\n",
       "      <td>10.502465</td>\n",
       "      <td>6.158223</td>\n",
       "      <td>1.705438</td>\n",
       "    </tr>\n",
       "    <tr>\n",
       "      <th>1</th>\n",
       "      <td>2</td>\n",
       "      <td>42806.04</td>\n",
       "      <td>3557</td>\n",
       "      <td>45721.66</td>\n",
       "      <td>12.853995</td>\n",
       "      <td>12.034310</td>\n",
       "      <td>1.068112</td>\n",
       "    </tr>\n",
       "    <tr>\n",
       "      <th>2</th>\n",
       "      <td>3</td>\n",
       "      <td>141321.63</td>\n",
       "      <td>10121</td>\n",
       "      <td>51183.42</td>\n",
       "      <td>5.057150</td>\n",
       "      <td>13.963208</td>\n",
       "      <td>0.362177</td>\n",
       "    </tr>\n",
       "    <tr>\n",
       "      <th>3</th>\n",
       "      <td>4</td>\n",
       "      <td>61073.60</td>\n",
       "      <td>9996</td>\n",
       "      <td>55009.80</td>\n",
       "      <td>5.503181</td>\n",
       "      <td>6.109804</td>\n",
       "      <td>0.900713</td>\n",
       "    </tr>\n",
       "    <tr>\n",
       "      <th>4</th>\n",
       "      <td>5</td>\n",
       "      <td>51757.10</td>\n",
       "      <td>7104</td>\n",
       "      <td>54478.15</td>\n",
       "      <td>7.668659</td>\n",
       "      <td>7.285628</td>\n",
       "      <td>1.052573</td>\n",
       "    </tr>\n",
       "  </tbody>\n",
       "</table>\n",
       "</div>"
      ],
      "text/plain": [
       "   source_id      costs  num_byuers  total_revenue        ltv        cac  \\\n",
       "0          1   20833.27        3383       35529.84  10.502465   6.158223   \n",
       "1          2   42806.04        3557       45721.66  12.853995  12.034310   \n",
       "2          3  141321.63       10121       51183.42   5.057150  13.963208   \n",
       "3          4   61073.60        9996       55009.80   5.503181   6.109804   \n",
       "4          5   51757.10        7104       54478.15   7.668659   7.285628   \n",
       "\n",
       "       romi  \n",
       "0  1.705438  \n",
       "1  1.068112  \n",
       "2  0.362177  \n",
       "3  0.900713  \n",
       "4  1.052573  "
      ]
     },
     "execution_count": 82,
     "metadata": {},
     "output_type": "execute_result"
    }
   ],
   "source": [
    "roi_per_source = costs_per_source.merge(ltv_per_source, on = ['source_id'])\n",
    "roi_per_source['cac'] = roi_per_source['costs'] / roi_per_source['num_byuers']\n",
    "roi_per_source['romi'] = roi_per_source['ltv'] / roi_per_source['cac']\n",
    "roi_per_source.head()"
   ]
  },
  {
   "cell_type": "code",
   "execution_count": 83,
   "metadata": {},
   "outputs": [
    {
     "data": {
      "image/svg+xml": [
       "<svg class=\"main-svg\" xmlns=\"http://www.w3.org/2000/svg\" xmlns:xlink=\"http://www.w3.org/1999/xlink\" width=\"700\" height=\"500\" style=\"\" viewBox=\"0 0 700 500\"><rect x=\"0\" y=\"0\" width=\"700\" height=\"500\" style=\"fill: rgb(255, 255, 255); fill-opacity: 1;\"/><defs id=\"defs-f590e4\"><g class=\"clips\"><clipPath id=\"clipf590e4xyplot\" class=\"plotclip\"><rect width=\"540\" height=\"320\"/></clipPath><clipPath class=\"axesclip\" id=\"clipf590e4x\"><rect x=\"80\" y=\"0\" width=\"540\" height=\"500\"/></clipPath><clipPath class=\"axesclip\" id=\"clipf590e4y\"><rect x=\"0\" y=\"100\" width=\"700\" height=\"320\"/></clipPath><clipPath class=\"axesclip\" id=\"clipf590e4xy\"><rect x=\"80\" y=\"100\" width=\"540\" height=\"320\"/></clipPath></g><g class=\"gradients\"/><g class=\"patterns\"/></defs><g class=\"bglayer\"><rect class=\"bg\" x=\"80\" y=\"100\" width=\"540\" height=\"320\" style=\"fill: rgb(229, 236, 246); fill-opacity: 1; stroke-width: 0;\"/></g><g class=\"layer-below\"><g class=\"imagelayer\"/><g class=\"shapelayer\"/></g><g class=\"cartesianlayer\"><g class=\"subplot xy\"><g class=\"layer-subplot\"><g class=\"shapelayer\"/><g class=\"imagelayer\"/></g><g class=\"minor-gridlayer\"><g class=\"x\"/><g class=\"y\"/></g><g class=\"gridlayer\"><g class=\"x\"/><g class=\"y\"><path class=\"ygrid crisp\" transform=\"translate(0,384.35)\" d=\"M80,0h540\" style=\"stroke: rgb(255, 255, 255); stroke-opacity: 1; stroke-width: 1px;\"/><path class=\"ygrid crisp\" transform=\"translate(0,348.7)\" d=\"M80,0h540\" style=\"stroke: rgb(255, 255, 255); stroke-opacity: 1; stroke-width: 1px;\"/><path class=\"ygrid crisp\" transform=\"translate(0,313.05)\" d=\"M80,0h540\" style=\"stroke: rgb(255, 255, 255); stroke-opacity: 1; stroke-width: 1px;\"/><path class=\"ygrid crisp\" transform=\"translate(0,277.4)\" d=\"M80,0h540\" style=\"stroke: rgb(255, 255, 255); stroke-opacity: 1; stroke-width: 1px;\"/><path class=\"ygrid crisp\" transform=\"translate(0,241.75)\" d=\"M80,0h540\" style=\"stroke: rgb(255, 255, 255); stroke-opacity: 1; stroke-width: 1px;\"/><path class=\"ygrid crisp\" transform=\"translate(0,206.1)\" d=\"M80,0h540\" style=\"stroke: rgb(255, 255, 255); stroke-opacity: 1; stroke-width: 1px;\"/><path class=\"ygrid crisp\" transform=\"translate(0,170.45)\" d=\"M80,0h540\" style=\"stroke: rgb(255, 255, 255); stroke-opacity: 1; stroke-width: 1px;\"/><path class=\"ygrid crisp\" transform=\"translate(0,134.79)\" d=\"M80,0h540\" style=\"stroke: rgb(255, 255, 255); stroke-opacity: 1; stroke-width: 1px;\"/></g></g><g class=\"zerolinelayer\"><path class=\"yzl zl crisp\" transform=\"translate(0,420)\" d=\"M80,0h540\" style=\"stroke: rgb(255, 255, 255); stroke-opacity: 1; stroke-width: 2px;\"/></g><path class=\"xlines-below\"/><path class=\"ylines-below\"/><g class=\"overlines-below\"/><g class=\"xaxislayer-below\"/><g class=\"yaxislayer-below\"/><g class=\"overaxes-below\"/><g class=\"plot\" transform=\"translate(80,100)\" clip-path=\"url(#clipf590e4xyplot)\"><g class=\"barlayer mlayer\"><g class=\"trace bars\" style=\"opacity: 1;\"><g class=\"points\"><g class=\"point\"><path d=\"M7.71,320V16H69.43V320Z\" style=\"vector-effect: none; opacity: 1; stroke-width: 0.5px; fill: rgb(99, 110, 250); fill-opacity: 1; stroke: rgb(229, 236, 246); stroke-opacity: 1;\"/><text class=\"bartext bartext-inside\" text-anchor=\"middle\" data-notex=\"1\" x=\"0\" y=\"0\" style=\"font-family: 'Open Sans', verdana, arial, sans-serif; font-size: 12px; fill: rgb(255, 255, 255); fill-opacity: 1; white-space: pre;\" transform=\"translate(38.38250000000001,31)\">1.7</text></g><g class=\"point\"><path d=\"M84.86,320V129.61H146.57V320Z\" style=\"vector-effect: none; opacity: 1; stroke-width: 0.5px; fill: rgb(99, 110, 250); fill-opacity: 1; stroke: rgb(229, 236, 246); stroke-opacity: 1;\"/><text class=\"bartext bartext-inside\" text-anchor=\"middle\" data-notex=\"1\" x=\"0\" y=\"0\" style=\"font-family: 'Open Sans', verdana, arial, sans-serif; font-size: 12px; fill: rgb(255, 255, 255); fill-opacity: 1; white-space: pre;\" transform=\"translate(115.715,144.61)\">1.1</text></g><g class=\"point\"><path d=\"M162,320V255.44H223.71V320Z\" style=\"vector-effect: none; opacity: 1; stroke-width: 0.5px; fill: rgb(99, 110, 250); fill-opacity: 1; stroke: rgb(229, 236, 246); stroke-opacity: 1;\"/><text class=\"bartext bartext-inside\" text-anchor=\"middle\" data-notex=\"1\" x=\"0\" y=\"0\" style=\"font-family: 'Open Sans', verdana, arial, sans-serif; font-size: 12px; fill: rgb(255, 255, 255); fill-opacity: 1; white-space: pre;\" transform=\"translate(192.67531250000002,270.44)\">0.36</text></g><g class=\"point\"><path d=\"M239.14,320V159.44H300.86V320Z\" style=\"vector-effect: none; opacity: 1; stroke-width: 0.5px; fill: rgb(99, 110, 250); fill-opacity: 1; stroke: rgb(229, 236, 246); stroke-opacity: 1;\"/><text class=\"bartext bartext-inside\" text-anchor=\"middle\" data-notex=\"1\" x=\"0\" y=\"0\" style=\"font-family: 'Open Sans', verdana, arial, sans-serif; font-size: 12px; fill: rgb(255, 255, 255); fill-opacity: 1; white-space: pre;\" transform=\"translate(269.8125,174.44)\">0.9</text></g><g class=\"point\"><path d=\"M316.29,320V132.38H378V320Z\" style=\"vector-effect: none; opacity: 1; stroke-width: 0.5px; fill: rgb(99, 110, 250); fill-opacity: 1; stroke: rgb(229, 236, 246); stroke-opacity: 1;\"/><text class=\"bartext bartext-inside\" text-anchor=\"middle\" data-notex=\"1\" x=\"0\" y=\"0\" style=\"font-family: 'Open Sans', verdana, arial, sans-serif; font-size: 12px; fill: rgb(255, 255, 255); fill-opacity: 1; white-space: pre;\" transform=\"translate(347.145,147.38)\">1.1</text></g><g class=\"point\"><path d=\"M393.43,320V141.12H455.14V320Z\" style=\"vector-effect: none; opacity: 1; stroke-width: 0.5px; fill: rgb(99, 110, 250); fill-opacity: 1; stroke: rgb(229, 236, 246); stroke-opacity: 1;\"/><text class=\"bartext bartext-inside\" text-anchor=\"middle\" data-notex=\"1\" x=\"0\" y=\"0\" style=\"font-family: 'Open Sans', verdana, arial, sans-serif; font-size: 12px; fill: rgb(255, 255, 255); fill-opacity: 1; white-space: pre;\" transform=\"translate(424.28499999999997,156.12)\">1</text></g><g class=\"point\"><path d=\"M470.57,320V179.29H532.29V320Z\" style=\"vector-effect: none; opacity: 1; stroke-width: 0.5px; fill: rgb(99, 110, 250); fill-opacity: 1; stroke: rgb(229, 236, 246); stroke-opacity: 1;\"/><text class=\"bartext bartext-inside\" text-anchor=\"middle\" data-notex=\"1\" x=\"0\" y=\"0\" style=\"font-family: 'Open Sans', verdana, arial, sans-serif; font-size: 12px; fill: rgb(255, 255, 255); fill-opacity: 1; white-space: pre;\" transform=\"translate(501.25031249999995,194.29)\">0.79</text></g></g></g></g></g><g class=\"overplot\"/><path class=\"xlines-above crisp\" d=\"M0,0\" style=\"fill: none;\"/><path class=\"ylines-above crisp\" d=\"M0,0\" style=\"fill: none;\"/><g class=\"overlines-above\"/><g class=\"xaxislayer-above\"><g class=\"xtick\"><text text-anchor=\"middle\" x=\"0\" y=\"433\" transform=\"translate(118.57,0)\" style=\"font-family: 'Open Sans', verdana, arial, sans-serif; font-size: 12px; fill: rgb(42, 63, 95); fill-opacity: 1; white-space: pre; opacity: 1;\">1</text></g><g class=\"xtick\"><text text-anchor=\"middle\" x=\"0\" y=\"433\" transform=\"translate(195.70999999999998,0)\" style=\"font-family: 'Open Sans', verdana, arial, sans-serif; font-size: 12px; fill: rgb(42, 63, 95); fill-opacity: 1; white-space: pre; opacity: 1;\">2</text></g><g class=\"xtick\"><text text-anchor=\"middle\" x=\"0\" y=\"433\" transform=\"translate(272.86,0)\" style=\"font-family: 'Open Sans', verdana, arial, sans-serif; font-size: 12px; fill: rgb(42, 63, 95); fill-opacity: 1; white-space: pre; opacity: 1;\">3</text></g><g class=\"xtick\"><text text-anchor=\"middle\" x=\"0\" y=\"433\" transform=\"translate(350,0)\" style=\"font-family: 'Open Sans', verdana, arial, sans-serif; font-size: 12px; fill: rgb(42, 63, 95); fill-opacity: 1; white-space: pre; opacity: 1;\">4</text></g><g class=\"xtick\"><text text-anchor=\"middle\" x=\"0\" y=\"433\" transform=\"translate(427.14,0)\" style=\"font-family: 'Open Sans', verdana, arial, sans-serif; font-size: 12px; fill: rgb(42, 63, 95); fill-opacity: 1; white-space: pre; opacity: 1;\">5</text></g><g class=\"xtick\"><text text-anchor=\"middle\" x=\"0\" y=\"433\" transform=\"translate(504.29,0)\" style=\"font-family: 'Open Sans', verdana, arial, sans-serif; font-size: 12px; fill: rgb(42, 63, 95); fill-opacity: 1; white-space: pre; opacity: 1;\">9</text></g><g class=\"xtick\"><text text-anchor=\"middle\" x=\"0\" y=\"433\" transform=\"translate(581.4300000000001,0)\" style=\"font-family: 'Open Sans', verdana, arial, sans-serif; font-size: 12px; fill: rgb(42, 63, 95); fill-opacity: 1; white-space: pre; opacity: 1;\">10</text></g></g><g class=\"yaxislayer-above\"><g class=\"ytick\"><text text-anchor=\"end\" x=\"79\" y=\"4.199999999999999\" transform=\"translate(0,420)\" style=\"font-family: 'Open Sans', verdana, arial, sans-serif; font-size: 12px; fill: rgb(42, 63, 95); fill-opacity: 1; white-space: pre; opacity: 1;\">0</text></g><g class=\"ytick\"><text text-anchor=\"end\" x=\"79\" y=\"4.199999999999999\" style=\"font-family: 'Open Sans', verdana, arial, sans-serif; font-size: 12px; fill: rgb(42, 63, 95); fill-opacity: 1; white-space: pre; opacity: 1;\" transform=\"translate(0,384.35)\">0.2</text></g><g class=\"ytick\"><text text-anchor=\"end\" x=\"79\" y=\"4.199999999999999\" style=\"font-family: 'Open Sans', verdana, arial, sans-serif; font-size: 12px; fill: rgb(42, 63, 95); fill-opacity: 1; white-space: pre; opacity: 1;\" transform=\"translate(0,348.7)\">0.4</text></g><g class=\"ytick\"><text text-anchor=\"end\" x=\"79\" y=\"4.199999999999999\" style=\"font-family: 'Open Sans', verdana, arial, sans-serif; font-size: 12px; fill: rgb(42, 63, 95); fill-opacity: 1; white-space: pre; opacity: 1;\" transform=\"translate(0,313.05)\">0.6</text></g><g class=\"ytick\"><text text-anchor=\"end\" x=\"79\" y=\"4.199999999999999\" style=\"font-family: 'Open Sans', verdana, arial, sans-serif; font-size: 12px; fill: rgb(42, 63, 95); fill-opacity: 1; white-space: pre; opacity: 1;\" transform=\"translate(0,277.4)\">0.8</text></g><g class=\"ytick\"><text text-anchor=\"end\" x=\"79\" y=\"4.199999999999999\" style=\"font-family: 'Open Sans', verdana, arial, sans-serif; font-size: 12px; fill: rgb(42, 63, 95); fill-opacity: 1; white-space: pre; opacity: 1;\" transform=\"translate(0,241.75)\">1</text></g><g class=\"ytick\"><text text-anchor=\"end\" x=\"79\" y=\"4.199999999999999\" style=\"font-family: 'Open Sans', verdana, arial, sans-serif; font-size: 12px; fill: rgb(42, 63, 95); fill-opacity: 1; white-space: pre; opacity: 1;\" transform=\"translate(0,206.1)\">1.2</text></g><g class=\"ytick\"><text text-anchor=\"end\" x=\"79\" y=\"4.199999999999999\" style=\"font-family: 'Open Sans', verdana, arial, sans-serif; font-size: 12px; fill: rgb(42, 63, 95); fill-opacity: 1; white-space: pre; opacity: 1;\" transform=\"translate(0,170.45)\">1.4</text></g><g class=\"ytick\"><text text-anchor=\"end\" x=\"79\" y=\"4.199999999999999\" style=\"font-family: 'Open Sans', verdana, arial, sans-serif; font-size: 12px; fill: rgb(42, 63, 95); fill-opacity: 1; white-space: pre; opacity: 1;\" transform=\"translate(0,134.79)\">1.6</text></g></g><g class=\"overaxes-above\"/></g></g><g class=\"polarlayer\"/><g class=\"smithlayer\"/><g class=\"ternarylayer\"/><g class=\"geolayer\"/><g class=\"funnelarealayer\"/><g class=\"pielayer\"/><g class=\"iciclelayer\"/><g class=\"treemaplayer\"/><g class=\"sunburstlayer\"/><g class=\"glimages\"/><defs id=\"topdefs-f590e4\"><g class=\"clips\"/></defs><g class=\"layer-above\"><g class=\"imagelayer\"/><g class=\"shapelayer\"/></g><g class=\"infolayer\"><g class=\"g-gtitle\"><text class=\"gtitle\" x=\"35\" y=\"50\" text-anchor=\"start\" dy=\"0em\" style=\"font-family: 'Open Sans', verdana, arial, sans-serif; font-size: 17px; fill: rgb(42, 63, 95); opacity: 1; font-weight: normal; white-space: pre;\">ROMI per source</text></g><g class=\"g-xtitle\"><text class=\"xtitle\" x=\"350\" y=\"460.3\" text-anchor=\"middle\" style=\"font-family: 'Open Sans', verdana, arial, sans-serif; font-size: 14px; fill: rgb(42, 63, 95); opacity: 1; font-weight: normal; white-space: pre;\">Source</text></g><g class=\"g-ytitle\"><text class=\"ytitle\" transform=\"rotate(-90,35.075,260)\" x=\"35.075\" y=\"260\" text-anchor=\"middle\" style=\"font-family: 'Open Sans', verdana, arial, sans-serif; font-size: 14px; fill: rgb(42, 63, 95); opacity: 1; font-weight: normal; white-space: pre;\">ROMI</text></g></g></svg>"
      ]
     },
     "metadata": {},
     "output_type": "display_data"
    }
   ],
   "source": [
    "fig = px.bar(roi_per_source, x='source_id', y='romi', \n",
    "             title = 'ROMI per source', labels ={'source_id': 'Source', 'romi': 'ROMI'}, text_auto = '.2')\n",
    "fig.update_xaxes(type='category')\n",
    "fig.show(\"svg\")"
   ]
  },
  {
   "cell_type": "markdown",
   "metadata": {},
   "source": [
    "**Conclusion**   \n",
    "\n",
    "So, we see that the most worth channel is source 1 - he's a obvious leader with almost x2 gap. The next one sources 2, 5 and 9 are similar and we can say they are succsessfull as well (despite more higher level of CAC for source 2)   \n",
    "Also I want to mention source 10 - pretty good indicator.   "
   ]
  },
  {
   "cell_type": "markdown",
   "metadata": {},
   "source": [
    "### Step 3. Overall conclusion"
   ]
  },
  {
   "cell_type": "markdown",
   "metadata": {},
   "source": [
    "**Conclusion**    \n",
    "\n",
    "So, after a first look at two graphs I would like recommend to marketing department stop wasting money on source 3. It is obvious spender, as we see in graphs CAC per source - during entire period source 3 is leader in terms of amount money spending on attract protentional buyers. The ROMI graphs says that source 3 - \"champion\" in terms of inefficiency, the ratio LVT to CAC 0.36 that means for 1\\\\$ LTV accounts almost 3\\\\$ of CAC.    \n",
    "Also, just 3 types of resource show kind of \"success\": №№ 1, 2 and 5, where the ratio LVT: CAC more than 1. It looks that the current strategy for source 1 is working and a pretty good \"quality\" of incoming customers is talking about the right direction, and, probably, increasing budgets for this channel may pay off with more benefits. As we see ROMI on a high level, CAC and the budget are one of the lowest.   "
   ]
  }
 ],
 "metadata": {
  "ExecuteTimeLog": [
   {
    "duration": 1393,
    "start_time": "2022-01-29T20:09:29.805Z"
   },
   {
    "duration": 53966,
    "start_time": "2022-01-29T20:11:07.473Z"
   },
   {
    "duration": 5,
    "start_time": "2022-01-29T20:12:18.593Z"
   },
   {
    "duration": 53943,
    "start_time": "2022-01-29T20:12:33.204Z"
   },
   {
    "duration": 1167,
    "start_time": "2022-01-29T20:13:33.660Z"
   },
   {
    "duration": 648,
    "start_time": "2022-01-29T20:16:24.996Z"
   },
   {
    "duration": 11,
    "start_time": "2022-01-29T20:16:33.016Z"
   },
   {
    "duration": 63,
    "start_time": "2022-01-29T20:24:51.286Z"
   },
   {
    "duration": 147,
    "start_time": "2022-01-29T20:25:49.901Z"
   },
   {
    "duration": 711,
    "start_time": "2022-01-29T20:27:08.642Z"
   },
   {
    "duration": 9,
    "start_time": "2022-01-29T20:27:11.308Z"
   },
   {
    "duration": 12,
    "start_time": "2022-01-29T20:27:15.221Z"
   },
   {
    "duration": 4,
    "start_time": "2022-02-01T12:16:36.890Z"
   },
   {
    "duration": 58865,
    "start_time": "2022-02-01T12:16:51.186Z"
   },
   {
    "duration": 1206,
    "start_time": "2022-02-01T12:17:52.810Z"
   },
   {
    "duration": 679,
    "start_time": "2022-02-01T12:17:55.270Z"
   },
   {
    "duration": 13,
    "start_time": "2022-02-01T12:17:57.217Z"
   },
   {
    "duration": 13,
    "start_time": "2022-02-01T12:18:00.553Z"
   },
   {
    "duration": 50,
    "start_time": "2022-02-01T12:18:02.917Z"
   },
   {
    "duration": 15,
    "start_time": "2022-02-01T12:18:17.447Z"
   },
   {
    "duration": 6,
    "start_time": "2022-02-01T12:19:25.019Z"
   },
   {
    "duration": 60,
    "start_time": "2022-02-01T13:15:22.575Z"
   },
   {
    "duration": 8,
    "start_time": "2022-02-01T13:15:25.582Z"
   },
   {
    "duration": 5,
    "start_time": "2022-02-01T13:15:27.930Z"
   },
   {
    "duration": 4,
    "start_time": "2022-02-01T13:18:22.549Z"
   },
   {
    "duration": 669,
    "start_time": "2022-02-01T13:18:24.579Z"
   },
   {
    "duration": 9,
    "start_time": "2022-02-01T13:18:26.723Z"
   },
   {
    "duration": 15,
    "start_time": "2022-02-01T13:18:28.090Z"
   },
   {
    "duration": 687,
    "start_time": "2022-02-01T13:18:35.541Z"
   },
   {
    "duration": 9,
    "start_time": "2022-02-01T13:18:38.002Z"
   },
   {
    "duration": 12,
    "start_time": "2022-02-01T13:18:41.468Z"
   },
   {
    "duration": 56,
    "start_time": "2022-02-01T13:18:55.848Z"
   },
   {
    "duration": 9,
    "start_time": "2022-02-01T13:18:57.309Z"
   },
   {
    "duration": 7,
    "start_time": "2022-02-01T13:19:18.593Z"
   },
   {
    "duration": 38,
    "start_time": "2022-02-01T13:19:53.198Z"
   },
   {
    "duration": 688,
    "start_time": "2022-02-01T13:19:58.124Z"
   },
   {
    "duration": 609,
    "start_time": "2022-02-01T13:20:39.622Z"
   },
   {
    "duration": 242,
    "start_time": "2022-02-01T13:20:47.997Z"
   },
   {
    "duration": 48,
    "start_time": "2022-02-01T13:20:53.282Z"
   },
   {
    "duration": 9,
    "start_time": "2022-02-01T13:20:55.187Z"
   },
   {
    "duration": 230,
    "start_time": "2022-02-01T13:21:11.617Z"
   },
   {
    "duration": 8,
    "start_time": "2022-02-01T13:21:19.067Z"
   },
   {
    "duration": 39,
    "start_time": "2022-02-01T13:21:50.796Z"
   },
   {
    "duration": 8,
    "start_time": "2022-02-01T13:21:52.208Z"
   },
   {
    "duration": 8,
    "start_time": "2022-02-01T13:21:55.264Z"
   },
   {
    "duration": 20,
    "start_time": "2022-02-01T13:29:58.255Z"
   },
   {
    "duration": 10,
    "start_time": "2022-02-01T13:30:09.493Z"
   },
   {
    "duration": 9,
    "start_time": "2022-02-01T13:30:15.486Z"
   },
   {
    "duration": 220,
    "start_time": "2022-02-01T20:00:48.457Z"
   },
   {
    "duration": 3,
    "start_time": "2022-02-01T20:00:58.651Z"
   },
   {
    "duration": 177,
    "start_time": "2022-02-01T20:03:28.975Z"
   },
   {
    "duration": 414,
    "start_time": "2022-02-01T20:03:34.341Z"
   },
   {
    "duration": 15,
    "start_time": "2022-02-01T20:04:13.927Z"
   },
   {
    "duration": 12,
    "start_time": "2022-02-01T20:04:43.774Z"
   },
   {
    "duration": 35,
    "start_time": "2022-02-01T20:40:24.445Z"
   },
   {
    "duration": 264,
    "start_time": "2022-02-01T20:45:51.070Z"
   },
   {
    "duration": 364,
    "start_time": "2022-02-01T20:48:54.072Z"
   },
   {
    "duration": 302,
    "start_time": "2022-02-01T20:49:08.536Z"
   },
   {
    "duration": 241,
    "start_time": "2022-02-01T20:50:02.120Z"
   },
   {
    "duration": 268,
    "start_time": "2022-02-01T20:50:37.878Z"
   },
   {
    "duration": 276,
    "start_time": "2022-02-01T20:55:13.652Z"
   },
   {
    "duration": 105,
    "start_time": "2022-02-01T20:55:35.391Z"
   },
   {
    "duration": 101,
    "start_time": "2022-02-01T20:55:47.565Z"
   },
   {
    "duration": 101,
    "start_time": "2022-02-01T20:56:03.277Z"
   },
   {
    "duration": 445,
    "start_time": "2022-02-01T21:03:50.731Z"
   },
   {
    "duration": 6,
    "start_time": "2022-02-01T21:04:59.606Z"
   },
   {
    "duration": 986,
    "start_time": "2022-02-01T21:07:30.590Z"
   },
   {
    "duration": 671,
    "start_time": "2022-02-01T21:07:50.041Z"
   },
   {
    "duration": 417,
    "start_time": "2022-02-01T21:08:32.158Z"
   },
   {
    "duration": 346,
    "start_time": "2022-02-01T21:11:26.777Z"
   },
   {
    "duration": 542,
    "start_time": "2022-02-01T21:12:33.144Z"
   },
   {
    "duration": 94207,
    "start_time": "2022-02-01T21:18:21.141Z"
   },
   {
    "duration": 7102,
    "start_time": "2022-02-01T21:19:56.935Z"
   },
   {
    "duration": 4,
    "start_time": "2022-02-01T21:20:06.041Z"
   },
   {
    "duration": 848,
    "start_time": "2022-02-01T21:20:12.326Z"
   },
   {
    "duration": 94256,
    "start_time": "2022-02-01T21:20:40.475Z"
   },
   {
    "duration": 3,
    "start_time": "2022-02-01T21:23:23.283Z"
   },
   {
    "duration": 494,
    "start_time": "2022-02-01T21:23:28.332Z"
   },
   {
    "duration": 21371,
    "start_time": "2022-02-01T21:24:23.225Z"
   },
   {
    "duration": 1275,
    "start_time": "2022-02-01T21:28:51.199Z"
   },
   {
    "duration": 832,
    "start_time": "2022-02-01T21:29:05.002Z"
   },
   {
    "duration": 13,
    "start_time": "2022-02-01T21:29:06.991Z"
   },
   {
    "duration": 24,
    "start_time": "2022-02-01T21:29:11.680Z"
   },
   {
    "duration": 290,
    "start_time": "2022-02-01T21:29:12.944Z"
   },
   {
    "duration": 61,
    "start_time": "2022-02-01T21:29:14.612Z"
   },
   {
    "duration": 12,
    "start_time": "2022-02-01T21:29:15.900Z"
   },
   {
    "duration": 13,
    "start_time": "2022-02-01T21:29:17.985Z"
   },
   {
    "duration": 13,
    "start_time": "2022-02-01T21:29:19.490Z"
   },
   {
    "duration": 40,
    "start_time": "2022-02-01T21:29:20.652Z"
   },
   {
    "duration": 12,
    "start_time": "2022-02-01T21:29:21.870Z"
   },
   {
    "duration": 13,
    "start_time": "2022-02-01T21:29:29.589Z"
   },
   {
    "duration": 16,
    "start_time": "2022-02-01T21:29:30.766Z"
   },
   {
    "duration": 298,
    "start_time": "2022-02-01T21:29:33.232Z"
   },
   {
    "duration": 141,
    "start_time": "2022-02-01T21:29:35.282Z"
   },
   {
    "duration": 704,
    "start_time": "2022-02-01T21:29:37.462Z"
   },
   {
    "duration": 198,
    "start_time": "2022-02-01T21:29:49.355Z"
   },
   {
    "duration": 98,
    "start_time": "2022-02-01T21:41:20.152Z"
   },
   {
    "duration": 105,
    "start_time": "2022-02-01T21:42:20.168Z"
   },
   {
    "duration": 196,
    "start_time": "2022-02-01T21:43:03.730Z"
   },
   {
    "duration": 54,
    "start_time": "2022-02-01T21:43:38.013Z"
   },
   {
    "duration": 89,
    "start_time": "2022-02-01T21:43:57.169Z"
   },
   {
    "duration": 61,
    "start_time": "2022-02-01T21:43:58.902Z"
   },
   {
    "duration": 84,
    "start_time": "2022-02-02T08:57:51.694Z"
   },
   {
    "duration": 91,
    "start_time": "2022-02-02T08:58:01.440Z"
   },
   {
    "duration": 53,
    "start_time": "2022-02-02T08:58:39.083Z"
   },
   {
    "duration": 113,
    "start_time": "2022-02-02T09:06:48.806Z"
   },
   {
    "duration": 115,
    "start_time": "2022-02-02T09:26:56.085Z"
   },
   {
    "duration": 127,
    "start_time": "2022-02-02T09:27:02.453Z"
   },
   {
    "duration": 38,
    "start_time": "2022-02-02T09:32:16.125Z"
   },
   {
    "duration": 34,
    "start_time": "2022-02-02T09:32:59.960Z"
   },
   {
    "duration": 155,
    "start_time": "2022-02-02T09:42:37.883Z"
   },
   {
    "duration": 119,
    "start_time": "2022-02-02T09:42:41.985Z"
   },
   {
    "duration": 124,
    "start_time": "2022-02-02T09:42:44.160Z"
   },
   {
    "duration": 191,
    "start_time": "2022-02-02T09:42:46.709Z"
   },
   {
    "duration": 91,
    "start_time": "2022-02-02T09:42:50.042Z"
   },
   {
    "duration": 54,
    "start_time": "2022-02-02T09:42:53.700Z"
   },
   {
    "duration": 84,
    "start_time": "2022-02-02T09:42:58.249Z"
   },
   {
    "duration": 55,
    "start_time": "2022-02-02T09:43:02.433Z"
   },
   {
    "duration": 37,
    "start_time": "2022-02-02T09:43:09.867Z"
   },
   {
    "duration": 60,
    "start_time": "2022-02-02T09:49:47.766Z"
   },
   {
    "duration": 70,
    "start_time": "2022-02-02T09:49:51.328Z"
   },
   {
    "duration": 60,
    "start_time": "2022-02-02T09:50:49.192Z"
   },
   {
    "duration": 61,
    "start_time": "2022-02-02T09:54:37.033Z"
   },
   {
    "duration": 33,
    "start_time": "2022-02-02T09:55:25.788Z"
   },
   {
    "duration": 17,
    "start_time": "2022-02-02T11:39:12.889Z"
   },
   {
    "duration": 180,
    "start_time": "2022-02-02T11:39:37.381Z"
   },
   {
    "duration": 26,
    "start_time": "2022-02-02T11:39:59.168Z"
   },
   {
    "duration": 18,
    "start_time": "2022-02-02T11:40:19.426Z"
   },
   {
    "duration": 24,
    "start_time": "2022-02-02T11:40:32.323Z"
   },
   {
    "duration": 239,
    "start_time": "2022-02-02T11:41:46.110Z"
   },
   {
    "duration": 290,
    "start_time": "2022-02-02T11:41:56.998Z"
   },
   {
    "duration": 272,
    "start_time": "2022-02-02T11:43:14.045Z"
   },
   {
    "duration": 254,
    "start_time": "2022-02-02T11:43:39.246Z"
   },
   {
    "duration": 250,
    "start_time": "2022-02-02T11:43:42.843Z"
   },
   {
    "duration": 5,
    "start_time": "2022-02-02T11:44:45.957Z"
   },
   {
    "duration": 7,
    "start_time": "2022-02-02T11:44:49.760Z"
   },
   {
    "duration": 249,
    "start_time": "2022-02-02T11:45:22.725Z"
   },
   {
    "duration": 252,
    "start_time": "2022-02-02T11:45:43.089Z"
   },
   {
    "duration": 96,
    "start_time": "2022-02-02T12:23:18.746Z"
   },
   {
    "duration": 68,
    "start_time": "2022-02-02T12:30:00.039Z"
   },
   {
    "duration": 84,
    "start_time": "2022-02-02T12:30:04.644Z"
   },
   {
    "duration": 80,
    "start_time": "2022-02-02T12:30:35.781Z"
   },
   {
    "duration": 82,
    "start_time": "2022-02-02T12:31:18.396Z"
   },
   {
    "duration": 48916,
    "start_time": "2022-02-02T12:31:35.303Z"
   },
   {
    "duration": 1294,
    "start_time": "2022-02-02T12:32:33.024Z"
   },
   {
    "duration": 728,
    "start_time": "2022-02-02T12:32:38.686Z"
   },
   {
    "duration": 17,
    "start_time": "2022-02-02T12:32:41.959Z"
   },
   {
    "duration": 24,
    "start_time": "2022-02-02T12:32:43.759Z"
   },
   {
    "duration": 295,
    "start_time": "2022-02-02T12:32:45.266Z"
   },
   {
    "duration": 61,
    "start_time": "2022-02-02T12:32:46.551Z"
   },
   {
    "duration": 10,
    "start_time": "2022-02-02T12:32:47.462Z"
   },
   {
    "duration": 11,
    "start_time": "2022-02-02T12:32:48.299Z"
   },
   {
    "duration": 13,
    "start_time": "2022-02-02T12:32:49.164Z"
   },
   {
    "duration": 39,
    "start_time": "2022-02-02T12:32:50.265Z"
   },
   {
    "duration": 9,
    "start_time": "2022-02-02T12:32:51.039Z"
   },
   {
    "duration": 11,
    "start_time": "2022-02-02T12:32:51.847Z"
   },
   {
    "duration": 12,
    "start_time": "2022-02-02T12:32:52.733Z"
   },
   {
    "duration": 164,
    "start_time": "2022-02-02T12:32:57.100Z"
   },
   {
    "duration": 127,
    "start_time": "2022-02-02T12:32:58.613Z"
   },
   {
    "duration": 136,
    "start_time": "2022-02-02T12:33:00.308Z"
   },
   {
    "duration": 445,
    "start_time": "2022-02-02T12:33:01.462Z"
   },
   {
    "duration": 95,
    "start_time": "2022-02-02T12:33:05.825Z"
   },
   {
    "duration": 57,
    "start_time": "2022-02-02T12:33:06.867Z"
   },
   {
    "duration": 87,
    "start_time": "2022-02-02T12:33:08.994Z"
   },
   {
    "duration": 56,
    "start_time": "2022-02-02T12:33:10.114Z"
   },
   {
    "duration": 38,
    "start_time": "2022-02-02T12:33:12.963Z"
   },
   {
    "duration": 63,
    "start_time": "2022-02-02T12:33:15.232Z"
   },
   {
    "duration": 33,
    "start_time": "2022-02-02T12:33:17.709Z"
   },
   {
    "duration": 25,
    "start_time": "2022-02-02T12:33:21.021Z"
   },
   {
    "duration": 277,
    "start_time": "2022-02-02T12:33:23.737Z"
   },
   {
    "duration": 9,
    "start_time": "2022-02-02T12:33:25.754Z"
   },
   {
    "duration": 102,
    "start_time": "2022-02-02T12:33:30.028Z"
   },
   {
    "duration": 93,
    "start_time": "2022-02-02T12:34:38.506Z"
   },
   {
    "duration": 205,
    "start_time": "2022-02-02T12:36:01.610Z"
   },
   {
    "duration": 525,
    "start_time": "2022-02-02T13:10:45.837Z"
   },
   {
    "duration": 3,
    "start_time": "2022-02-02T13:13:54.419Z"
   },
   {
    "duration": 192,
    "start_time": "2022-02-02T13:14:30.246Z"
   },
   {
    "duration": 40,
    "start_time": "2022-02-02T13:15:22.133Z"
   },
   {
    "duration": 196,
    "start_time": "2022-02-02T13:32:01.973Z"
   },
   {
    "duration": 194,
    "start_time": "2022-02-02T13:32:11.248Z"
   },
   {
    "duration": 116,
    "start_time": "2022-02-02T13:32:35.581Z"
   },
   {
    "duration": 19,
    "start_time": "2022-02-02T14:02:20.002Z"
   },
   {
    "duration": 1058,
    "start_time": "2022-02-02T14:07:06.977Z"
   },
   {
    "duration": 1093,
    "start_time": "2022-02-02T14:07:19.422Z"
   },
   {
    "duration": 1029,
    "start_time": "2022-02-02T14:07:27.499Z"
   },
   {
    "duration": 1189,
    "start_time": "2022-02-02T14:09:04.242Z"
   },
   {
    "duration": 954,
    "start_time": "2022-02-02T14:09:32.349Z"
   },
   {
    "duration": 930,
    "start_time": "2022-02-02T14:10:27.184Z"
   },
   {
    "duration": 943,
    "start_time": "2022-02-02T14:11:06.666Z"
   },
   {
    "duration": 965,
    "start_time": "2022-02-02T14:11:26.440Z"
   },
   {
    "duration": 1232,
    "start_time": "2022-02-02T14:12:11.363Z"
   },
   {
    "duration": 1038,
    "start_time": "2022-02-02T14:12:19.214Z"
   },
   {
    "duration": 31,
    "start_time": "2022-02-02T14:21:47.246Z"
   },
   {
    "duration": 43,
    "start_time": "2022-02-02T15:18:34.873Z"
   },
   {
    "duration": 9,
    "start_time": "2022-02-02T15:18:39.377Z"
   },
   {
    "duration": 9,
    "start_time": "2022-02-02T15:18:43.051Z"
   },
   {
    "duration": 11,
    "start_time": "2022-02-02T15:18:48.025Z"
   },
   {
    "duration": 14,
    "start_time": "2022-02-02T15:20:20.074Z"
   },
   {
    "duration": 18,
    "start_time": "2022-02-02T15:20:28.562Z"
   },
   {
    "duration": 18,
    "start_time": "2022-02-02T15:21:05.034Z"
   },
   {
    "duration": 65,
    "start_time": "2022-02-02T15:55:19.217Z"
   },
   {
    "duration": 148,
    "start_time": "2022-02-02T16:02:51.533Z"
   },
   {
    "duration": 143,
    "start_time": "2022-02-02T16:57:56.355Z"
   },
   {
    "duration": 2886,
    "start_time": "2022-02-02T17:48:04.030Z"
   },
   {
    "duration": 150,
    "start_time": "2022-02-02T17:48:35.936Z"
   },
   {
    "duration": 140,
    "start_time": "2022-02-02T17:49:43.245Z"
   },
   {
    "duration": 2126,
    "start_time": "2022-02-02T17:49:59.014Z"
   },
   {
    "duration": 31,
    "start_time": "2022-02-02T17:50:28.217Z"
   },
   {
    "duration": 555,
    "start_time": "2022-02-02T17:50:55.653Z"
   },
   {
    "duration": 6,
    "start_time": "2022-02-02T17:51:14.416Z"
   },
   {
    "duration": 17,
    "start_time": "2022-02-03T09:38:07.687Z"
   },
   {
    "duration": 180,
    "start_time": "2022-02-03T13:27:58.135Z"
   },
   {
    "duration": 22,
    "start_time": "2022-02-03T13:28:05.727Z"
   },
   {
    "duration": 17,
    "start_time": "2022-02-03T13:40:37.877Z"
   },
   {
    "duration": 15,
    "start_time": "2022-02-03T13:40:41.410Z"
   },
   {
    "duration": 15,
    "start_time": "2022-02-03T13:44:08.647Z"
   },
   {
    "duration": 11,
    "start_time": "2022-02-03T13:58:16.658Z"
   },
   {
    "duration": 60,
    "start_time": "2022-02-03T14:13:41.796Z"
   },
   {
    "duration": 182,
    "start_time": "2022-02-03T14:13:49.657Z"
   },
   {
    "duration": 163,
    "start_time": "2022-02-03T14:13:54.693Z"
   },
   {
    "duration": 30,
    "start_time": "2022-02-03T14:13:57.260Z"
   },
   {
    "duration": 181,
    "start_time": "2022-02-03T14:14:22.396Z"
   },
   {
    "duration": 535,
    "start_time": "2022-02-03T14:14:31.203Z"
   },
   {
    "duration": 6,
    "start_time": "2022-02-03T14:14:37.224Z"
   },
   {
    "duration": 20,
    "start_time": "2022-02-03T14:16:29.195Z"
   },
   {
    "duration": 23,
    "start_time": "2022-02-03T14:20:03.011Z"
   },
   {
    "duration": 17,
    "start_time": "2022-02-03T15:15:07.075Z"
   },
   {
    "duration": 22,
    "start_time": "2022-02-03T15:34:38.387Z"
   },
   {
    "duration": 19,
    "start_time": "2022-02-03T15:39:23.846Z"
   },
   {
    "duration": 34,
    "start_time": "2022-02-03T15:55:46.537Z"
   },
   {
    "duration": 276,
    "start_time": "2022-02-03T16:33:09.991Z"
   },
   {
    "duration": 89,
    "start_time": "2022-02-03T16:33:14.172Z"
   },
   {
    "duration": 17,
    "start_time": "2022-02-03T16:33:16.229Z"
   },
   {
    "duration": 20,
    "start_time": "2022-02-03T16:37:12.662Z"
   },
   {
    "duration": 27,
    "start_time": "2022-02-03T16:38:25.639Z"
   },
   {
    "duration": 22,
    "start_time": "2022-02-03T16:42:25.338Z"
   },
   {
    "duration": 15,
    "start_time": "2022-02-03T16:42:29.197Z"
   },
   {
    "duration": 28,
    "start_time": "2022-02-03T16:51:39.618Z"
   },
   {
    "duration": 19,
    "start_time": "2022-02-03T17:28:56.345Z"
   },
   {
    "duration": 13,
    "start_time": "2022-02-03T17:29:29.875Z"
   },
   {
    "duration": 16,
    "start_time": "2022-02-03T17:29:31.299Z"
   },
   {
    "duration": 14,
    "start_time": "2022-02-03T17:36:03.932Z"
   },
   {
    "duration": 180,
    "start_time": "2022-02-03T17:36:59.256Z"
   },
   {
    "duration": 2228,
    "start_time": "2022-02-03T17:37:03.911Z"
   },
   {
    "duration": 16,
    "start_time": "2022-02-03T17:38:21.622Z"
   },
   {
    "duration": 15,
    "start_time": "2022-02-03T17:38:40.931Z"
   },
   {
    "duration": 7,
    "start_time": "2022-02-03T17:39:19.841Z"
   },
   {
    "duration": 1256,
    "start_time": "2022-02-03T17:39:36.545Z"
   },
   {
    "duration": 857,
    "start_time": "2022-02-03T17:39:52.393Z"
   },
   {
    "duration": 14,
    "start_time": "2022-02-03T17:39:59.392Z"
   },
   {
    "duration": 25,
    "start_time": "2022-02-03T17:40:02.639Z"
   },
   {
    "duration": 288,
    "start_time": "2022-02-03T17:40:03.805Z"
   },
   {
    "duration": 68,
    "start_time": "2022-02-03T17:40:05.575Z"
   },
   {
    "duration": 10,
    "start_time": "2022-02-03T17:40:07.532Z"
   },
   {
    "duration": 11,
    "start_time": "2022-02-03T17:40:09.319Z"
   },
   {
    "duration": 16,
    "start_time": "2022-02-03T17:40:10.345Z"
   },
   {
    "duration": 37,
    "start_time": "2022-02-03T17:40:11.849Z"
   },
   {
    "duration": 9,
    "start_time": "2022-02-03T17:40:13.954Z"
   },
   {
    "duration": 9,
    "start_time": "2022-02-03T17:40:15.118Z"
   },
   {
    "duration": 12,
    "start_time": "2022-02-03T17:40:16.453Z"
   },
   {
    "duration": 160,
    "start_time": "2022-02-03T17:40:19.781Z"
   },
   {
    "duration": 120,
    "start_time": "2022-02-03T17:40:22.214Z"
   },
   {
    "duration": 419,
    "start_time": "2022-02-03T17:40:24.300Z"
   },
   {
    "duration": 86,
    "start_time": "2022-02-03T17:40:28.758Z"
   },
   {
    "duration": 52,
    "start_time": "2022-02-03T17:40:30.197Z"
   },
   {
    "duration": 82,
    "start_time": "2022-02-03T17:40:31.682Z"
   },
   {
    "duration": 50,
    "start_time": "2022-02-03T17:40:33.240Z"
   },
   {
    "duration": 36,
    "start_time": "2022-02-03T17:40:36.601Z"
   },
   {
    "duration": 59,
    "start_time": "2022-02-03T17:40:37.531Z"
   },
   {
    "duration": 32,
    "start_time": "2022-02-03T17:40:38.854Z"
   },
   {
    "duration": 22,
    "start_time": "2022-02-03T17:40:42.864Z"
   },
   {
    "duration": 241,
    "start_time": "2022-02-03T17:40:47.577Z"
   },
   {
    "duration": 9,
    "start_time": "2022-02-03T17:40:50.141Z"
   },
   {
    "duration": 89,
    "start_time": "2022-02-03T17:40:53.071Z"
   },
   {
    "duration": 194,
    "start_time": "2022-02-03T17:40:56.189Z"
   },
   {
    "duration": 287,
    "start_time": "2022-02-03T17:41:01.190Z"
   },
   {
    "duration": 126,
    "start_time": "2022-02-03T17:41:06.621Z"
   },
   {
    "duration": 316,
    "start_time": "2022-02-03T17:41:35.471Z"
   },
   {
    "duration": 18,
    "start_time": "2022-02-03T17:41:47.038Z"
   },
   {
    "duration": 995,
    "start_time": "2022-02-03T17:41:55.840Z"
   },
   {
    "duration": 18,
    "start_time": "2022-02-03T17:42:02.556Z"
   },
   {
    "duration": 130,
    "start_time": "2022-02-03T17:42:07.917Z"
   },
   {
    "duration": 31,
    "start_time": "2022-02-03T17:42:14.940Z"
   },
   {
    "duration": 479,
    "start_time": "2022-02-03T17:42:25.409Z"
   },
   {
    "duration": 6,
    "start_time": "2022-02-03T17:42:28.335Z"
   },
   {
    "duration": 18,
    "start_time": "2022-02-03T17:42:29.544Z"
   },
   {
    "duration": 21,
    "start_time": "2022-02-03T17:42:33.991Z"
   },
   {
    "duration": 23,
    "start_time": "2022-02-03T17:42:36.865Z"
   },
   {
    "duration": 15,
    "start_time": "2022-02-03T17:42:39.659Z"
   },
   {
    "duration": 14,
    "start_time": "2022-02-03T17:42:48.223Z"
   },
   {
    "duration": 17,
    "start_time": "2022-02-03T17:42:49.902Z"
   },
   {
    "duration": 195,
    "start_time": "2022-02-03T17:42:51.321Z"
   },
   {
    "duration": 29,
    "start_time": "2022-02-03T17:43:20.534Z"
   },
   {
    "duration": 16,
    "start_time": "2022-02-03T17:43:24.528Z"
   },
   {
    "duration": 28,
    "start_time": "2022-02-03T17:43:29.055Z"
   },
   {
    "duration": 27,
    "start_time": "2022-02-03T17:44:06.678Z"
   },
   {
    "duration": 14,
    "start_time": "2022-02-03T17:44:12.093Z"
   },
   {
    "duration": 12,
    "start_time": "2022-02-03T17:44:29.988Z"
   },
   {
    "duration": 3915,
    "start_time": "2022-02-03T17:47:04.683Z"
   },
   {
    "duration": 16,
    "start_time": "2022-02-03T17:48:03.499Z"
   },
   {
    "duration": 15,
    "start_time": "2022-02-03T17:53:08.837Z"
   },
   {
    "duration": 100082,
    "start_time": "2022-02-03T17:53:38.992Z"
   },
   {
    "duration": 1231,
    "start_time": "2022-02-03T17:55:19.076Z"
   },
   {
    "duration": 711,
    "start_time": "2022-02-03T17:55:20.309Z"
   },
   {
    "duration": 11,
    "start_time": "2022-02-03T17:55:21.022Z"
   },
   {
    "duration": 35,
    "start_time": "2022-02-03T17:55:21.035Z"
   },
   {
    "duration": 285,
    "start_time": "2022-02-03T17:55:21.072Z"
   },
   {
    "duration": 57,
    "start_time": "2022-02-03T17:55:21.358Z"
   },
   {
    "duration": 8,
    "start_time": "2022-02-03T17:55:21.418Z"
   },
   {
    "duration": 9,
    "start_time": "2022-02-03T17:55:21.428Z"
   },
   {
    "duration": 21,
    "start_time": "2022-02-03T17:55:21.438Z"
   },
   {
    "duration": 84,
    "start_time": "2022-02-03T17:55:21.460Z"
   },
   {
    "duration": 7,
    "start_time": "2022-02-03T17:55:21.546Z"
   },
   {
    "duration": 12,
    "start_time": "2022-02-03T17:55:21.554Z"
   },
   {
    "duration": 11,
    "start_time": "2022-02-03T17:55:21.567Z"
   },
   {
    "duration": 166,
    "start_time": "2022-02-03T17:55:21.579Z"
   },
   {
    "duration": 126,
    "start_time": "2022-02-03T17:55:21.746Z"
   },
   {
    "duration": 427,
    "start_time": "2022-02-03T17:55:21.874Z"
   },
   {
    "duration": 189,
    "start_time": "2022-02-03T17:55:22.303Z"
   },
   {
    "duration": 102,
    "start_time": "2022-02-03T17:55:22.494Z"
   },
   {
    "duration": 106,
    "start_time": "2022-02-03T17:55:22.597Z"
   },
   {
    "duration": 62,
    "start_time": "2022-02-03T17:55:22.705Z"
   },
   {
    "duration": 39,
    "start_time": "2022-02-03T17:55:22.769Z"
   },
   {
    "duration": 80,
    "start_time": "2022-02-03T17:55:22.811Z"
   },
   {
    "duration": 31,
    "start_time": "2022-02-03T17:55:22.893Z"
   },
   {
    "duration": 43,
    "start_time": "2022-02-03T17:55:22.925Z"
   },
   {
    "duration": 254,
    "start_time": "2022-02-03T17:55:22.969Z"
   },
   {
    "duration": 8,
    "start_time": "2022-02-03T17:55:23.224Z"
   },
   {
    "duration": 98,
    "start_time": "2022-02-03T17:55:23.233Z"
   },
   {
    "duration": 178,
    "start_time": "2022-02-03T17:55:23.332Z"
   },
   {
    "duration": 273,
    "start_time": "2022-02-03T17:55:23.511Z"
   },
   {
    "duration": 139,
    "start_time": "2022-02-03T17:55:23.786Z"
   },
   {
    "duration": 16,
    "start_time": "2022-02-03T17:55:23.926Z"
   },
   {
    "duration": 945,
    "start_time": "2022-02-03T17:55:23.943Z"
   },
   {
    "duration": 18,
    "start_time": "2022-02-03T17:55:24.889Z"
   },
   {
    "duration": 156,
    "start_time": "2022-02-03T17:55:24.908Z"
   },
   {
    "duration": 33,
    "start_time": "2022-02-03T17:55:25.065Z"
   },
   {
    "duration": 520,
    "start_time": "2022-02-03T17:55:25.099Z"
   },
   {
    "duration": 5,
    "start_time": "2022-02-03T17:55:25.621Z"
   },
   {
    "duration": 36,
    "start_time": "2022-02-03T17:55:25.628Z"
   },
   {
    "duration": 22,
    "start_time": "2022-02-03T17:55:25.665Z"
   },
   {
    "duration": 24,
    "start_time": "2022-02-03T17:55:25.688Z"
   },
   {
    "duration": 53,
    "start_time": "2022-02-03T17:55:25.714Z"
   },
   {
    "duration": 12,
    "start_time": "2022-02-03T17:55:25.768Z"
   },
   {
    "duration": 14,
    "start_time": "2022-02-03T17:55:25.782Z"
   },
   {
    "duration": 30,
    "start_time": "2022-02-03T17:55:25.798Z"
   },
   {
    "duration": 39,
    "start_time": "2022-02-03T17:55:25.830Z"
   },
   {
    "duration": 25,
    "start_time": "2022-02-03T17:55:25.871Z"
   },
   {
    "duration": 12,
    "start_time": "2022-02-03T17:55:25.898Z"
   },
   {
    "duration": 11,
    "start_time": "2022-02-03T17:55:25.912Z"
   },
   {
    "duration": 16,
    "start_time": "2022-02-03T17:57:54.944Z"
   },
   {
    "duration": 15,
    "start_time": "2022-02-03T17:58:17.817Z"
   },
   {
    "duration": 15,
    "start_time": "2022-02-03T17:58:30.834Z"
   },
   {
    "duration": 7,
    "start_time": "2022-02-03T17:58:44.960Z"
   },
   {
    "duration": 11,
    "start_time": "2022-02-03T17:59:04.672Z"
   },
   {
    "duration": 7,
    "start_time": "2022-02-03T17:59:22.177Z"
   },
   {
    "duration": 14,
    "start_time": "2022-02-03T17:59:37.660Z"
   },
   {
    "duration": 100836,
    "start_time": "2022-02-03T17:59:50.324Z"
   },
   {
    "duration": 1239,
    "start_time": "2022-02-03T18:01:31.162Z"
   },
   {
    "duration": 699,
    "start_time": "2022-02-03T18:01:32.403Z"
   },
   {
    "duration": 12,
    "start_time": "2022-02-03T18:01:33.104Z"
   },
   {
    "duration": 19,
    "start_time": "2022-02-03T18:01:33.118Z"
   },
   {
    "duration": 304,
    "start_time": "2022-02-03T18:01:33.139Z"
   },
   {
    "duration": 57,
    "start_time": "2022-02-03T18:01:33.445Z"
   },
   {
    "duration": 8,
    "start_time": "2022-02-03T18:01:33.505Z"
   },
   {
    "duration": 9,
    "start_time": "2022-02-03T18:01:33.515Z"
   },
   {
    "duration": 11,
    "start_time": "2022-02-03T18:01:33.526Z"
   },
   {
    "duration": 94,
    "start_time": "2022-02-03T18:01:33.539Z"
   },
   {
    "duration": 9,
    "start_time": "2022-02-03T18:01:33.635Z"
   },
   {
    "duration": 11,
    "start_time": "2022-02-03T18:01:33.646Z"
   },
   {
    "duration": 12,
    "start_time": "2022-02-03T18:01:33.659Z"
   },
   {
    "duration": 171,
    "start_time": "2022-02-03T18:01:33.673Z"
   },
   {
    "duration": 133,
    "start_time": "2022-02-03T18:01:33.845Z"
   },
   {
    "duration": 419,
    "start_time": "2022-02-03T18:01:33.980Z"
   },
   {
    "duration": 180,
    "start_time": "2022-02-03T18:01:34.400Z"
   },
   {
    "duration": 86,
    "start_time": "2022-02-03T18:01:34.582Z"
   },
   {
    "duration": 103,
    "start_time": "2022-02-03T18:01:34.669Z"
   },
   {
    "duration": 51,
    "start_time": "2022-02-03T18:01:34.774Z"
   },
   {
    "duration": 57,
    "start_time": "2022-02-03T18:01:34.826Z"
   },
   {
    "duration": 58,
    "start_time": "2022-02-03T18:01:34.886Z"
   },
   {
    "duration": 40,
    "start_time": "2022-02-03T18:01:34.946Z"
   },
   {
    "duration": 24,
    "start_time": "2022-02-03T18:01:34.987Z"
   },
   {
    "duration": 292,
    "start_time": "2022-02-03T18:01:35.013Z"
   },
   {
    "duration": 9,
    "start_time": "2022-02-03T18:01:35.307Z"
   },
   {
    "duration": 109,
    "start_time": "2022-02-03T18:01:35.317Z"
   },
   {
    "duration": 186,
    "start_time": "2022-02-03T18:01:35.428Z"
   },
   {
    "duration": 273,
    "start_time": "2022-02-03T18:01:35.616Z"
   },
   {
    "duration": 137,
    "start_time": "2022-02-03T18:01:35.891Z"
   },
   {
    "duration": 17,
    "start_time": "2022-02-03T18:01:36.029Z"
   },
   {
    "duration": 960,
    "start_time": "2022-02-03T18:01:36.047Z"
   },
   {
    "duration": 19,
    "start_time": "2022-02-03T18:01:37.008Z"
   },
   {
    "duration": 159,
    "start_time": "2022-02-03T18:01:37.028Z"
   },
   {
    "duration": 29,
    "start_time": "2022-02-03T18:01:37.189Z"
   },
   {
    "duration": 515,
    "start_time": "2022-02-03T18:01:37.219Z"
   },
   {
    "duration": 6,
    "start_time": "2022-02-03T18:01:37.736Z"
   },
   {
    "duration": 33,
    "start_time": "2022-02-03T18:01:37.743Z"
   },
   {
    "duration": 20,
    "start_time": "2022-02-03T18:01:37.778Z"
   },
   {
    "duration": 66,
    "start_time": "2022-02-03T18:01:37.800Z"
   },
   {
    "duration": 16,
    "start_time": "2022-02-03T18:01:37.868Z"
   },
   {
    "duration": 11,
    "start_time": "2022-02-03T18:01:37.885Z"
   },
   {
    "duration": 13,
    "start_time": "2022-02-03T18:01:37.898Z"
   },
   {
    "duration": 48,
    "start_time": "2022-02-03T18:01:37.912Z"
   },
   {
    "duration": 14,
    "start_time": "2022-02-03T18:01:37.962Z"
   },
   {
    "duration": 25,
    "start_time": "2022-02-03T18:01:37.978Z"
   },
   {
    "duration": 12,
    "start_time": "2022-02-03T18:01:38.004Z"
   },
   {
    "duration": 6,
    "start_time": "2022-02-03T18:01:38.018Z"
   },
   {
    "duration": 34,
    "start_time": "2022-02-03T18:01:38.026Z"
   },
   {
    "duration": 23,
    "start_time": "2022-02-03T18:01:38.062Z"
   },
   {
    "duration": 15,
    "start_time": "2022-02-03T18:07:51.020Z"
   },
   {
    "duration": 429,
    "start_time": "2022-02-03T18:23:05.370Z"
   },
   {
    "duration": 13,
    "start_time": "2022-02-03T18:23:07.235Z"
   },
   {
    "duration": 736,
    "start_time": "2022-02-03T18:23:08.391Z"
   },
   {
    "duration": 721,
    "start_time": "2022-02-03T18:24:32.355Z"
   },
   {
    "duration": 531,
    "start_time": "2022-02-03T18:25:16.621Z"
   },
   {
    "duration": 575,
    "start_time": "2022-02-03T18:25:34.796Z"
   },
   {
    "duration": 646,
    "start_time": "2022-02-03T18:25:59.847Z"
   },
   {
    "duration": 744,
    "start_time": "2022-02-03T18:26:26.338Z"
   },
   {
    "duration": 722,
    "start_time": "2022-02-03T18:26:33.514Z"
   },
   {
    "duration": 762,
    "start_time": "2022-02-03T18:27:16.312Z"
   },
   {
    "duration": 12,
    "start_time": "2022-02-03T19:01:16.416Z"
   },
   {
    "duration": 5,
    "start_time": "2022-02-03T19:03:17.679Z"
   },
   {
    "duration": 11,
    "start_time": "2022-02-03T19:03:25.844Z"
   },
   {
    "duration": 11,
    "start_time": "2022-02-03T19:04:00.579Z"
   },
   {
    "duration": 6,
    "start_time": "2022-02-03T19:05:12.214Z"
   },
   {
    "duration": 10,
    "start_time": "2022-02-03T19:05:21.414Z"
   },
   {
    "duration": 15,
    "start_time": "2022-02-03T19:09:06.555Z"
   },
   {
    "duration": 4,
    "start_time": "2022-02-03T19:09:14.840Z"
   },
   {
    "duration": 9,
    "start_time": "2022-02-03T19:13:31.654Z"
   },
   {
    "duration": 49,
    "start_time": "2022-02-03T19:37:24.768Z"
   },
   {
    "duration": 10,
    "start_time": "2022-02-03T19:38:41.226Z"
   },
   {
    "duration": 5,
    "start_time": "2022-02-03T19:43:20.454Z"
   },
   {
    "duration": 46,
    "start_time": "2022-02-03T19:45:59.724Z"
   },
   {
    "duration": 183,
    "start_time": "2022-02-03T19:46:08.084Z"
   },
   {
    "duration": 48,
    "start_time": "2022-02-03T19:46:21.287Z"
   },
   {
    "duration": 47,
    "start_time": "2022-02-03T19:46:26.544Z"
   },
   {
    "duration": 48,
    "start_time": "2022-02-03T19:46:52.403Z"
   },
   {
    "duration": 47,
    "start_time": "2022-02-03T19:47:08.910Z"
   },
   {
    "duration": 201,
    "start_time": "2022-02-03T19:48:24.881Z"
   },
   {
    "duration": 48,
    "start_time": "2022-02-03T19:48:30.999Z"
   },
   {
    "duration": 263,
    "start_time": "2022-02-03T19:50:14.294Z"
   },
   {
    "duration": 140,
    "start_time": "2022-02-03T19:51:55.367Z"
   },
   {
    "duration": 187,
    "start_time": "2022-02-04T08:50:41.435Z"
   },
   {
    "duration": 215,
    "start_time": "2022-02-04T08:51:03.106Z"
   },
   {
    "duration": 10,
    "start_time": "2022-02-04T08:51:07.230Z"
   },
   {
    "duration": 20,
    "start_time": "2022-02-04T08:52:52.970Z"
   },
   {
    "duration": 11,
    "start_time": "2022-02-04T08:53:22.093Z"
   },
   {
    "duration": 13,
    "start_time": "2022-02-04T08:54:39.070Z"
   },
   {
    "duration": 11,
    "start_time": "2022-02-04T09:02:09.903Z"
   },
   {
    "duration": 198,
    "start_time": "2022-02-04T09:05:18.011Z"
   },
   {
    "duration": 13,
    "start_time": "2022-02-04T09:05:29.961Z"
   },
   {
    "duration": 4,
    "start_time": "2022-02-04T09:14:45.608Z"
   },
   {
    "duration": 12,
    "start_time": "2022-02-04T09:14:56.911Z"
   },
   {
    "duration": 13,
    "start_time": "2022-02-04T09:15:02.416Z"
   },
   {
    "duration": 13,
    "start_time": "2022-02-04T09:15:04.222Z"
   },
   {
    "duration": 47,
    "start_time": "2022-02-04T09:15:47.808Z"
   },
   {
    "duration": 13,
    "start_time": "2022-02-04T09:31:49.218Z"
   },
   {
    "duration": 652,
    "start_time": "2022-02-04T09:33:33.675Z"
   },
   {
    "duration": 645,
    "start_time": "2022-02-04T09:36:35.660Z"
   },
   {
    "duration": 12,
    "start_time": "2022-02-04T09:43:53.272Z"
   },
   {
    "duration": 596,
    "start_time": "2022-02-04T09:48:15.321Z"
   },
   {
    "duration": 58,
    "start_time": "2022-02-04T09:49:41.745Z"
   },
   {
    "duration": 10,
    "start_time": "2022-02-04T09:51:29.346Z"
   },
   {
    "duration": 197,
    "start_time": "2022-02-04T09:52:36.643Z"
   },
   {
    "duration": 13,
    "start_time": "2022-02-04T09:53:36.655Z"
   },
   {
    "duration": 212,
    "start_time": "2022-02-04T09:55:42.118Z"
   },
   {
    "duration": 17,
    "start_time": "2022-02-04T09:56:14.897Z"
   },
   {
    "duration": 1286,
    "start_time": "2022-02-04T10:03:25.738Z"
   },
   {
    "duration": 772,
    "start_time": "2022-02-04T10:03:30.432Z"
   },
   {
    "duration": 12,
    "start_time": "2022-02-04T10:03:32.864Z"
   },
   {
    "duration": 23,
    "start_time": "2022-02-04T10:03:34.307Z"
   },
   {
    "duration": 296,
    "start_time": "2022-02-04T10:03:35.572Z"
   },
   {
    "duration": 66,
    "start_time": "2022-02-04T10:03:45.113Z"
   },
   {
    "duration": 8,
    "start_time": "2022-02-04T10:03:46.308Z"
   },
   {
    "duration": 11,
    "start_time": "2022-02-04T10:03:47.345Z"
   },
   {
    "duration": 12,
    "start_time": "2022-02-04T10:03:48.421Z"
   },
   {
    "duration": 74,
    "start_time": "2022-02-04T10:03:49.709Z"
   },
   {
    "duration": 9,
    "start_time": "2022-02-04T10:03:51.502Z"
   },
   {
    "duration": 10,
    "start_time": "2022-02-04T10:03:52.482Z"
   },
   {
    "duration": 12,
    "start_time": "2022-02-04T10:03:57.112Z"
   },
   {
    "duration": 285,
    "start_time": "2022-02-04T10:04:54.704Z"
   },
   {
    "duration": 4,
    "start_time": "2022-02-04T10:04:59.656Z"
   },
   {
    "duration": 17,
    "start_time": "2022-02-04T10:05:05.440Z"
   },
   {
    "duration": 4,
    "start_time": "2022-02-04T10:06:09.951Z"
   },
   {
    "duration": 15,
    "start_time": "2022-02-04T10:06:16.699Z"
   },
   {
    "duration": 14,
    "start_time": "2022-02-04T10:07:18.727Z"
   },
   {
    "duration": 16,
    "start_time": "2022-02-04T10:08:32.809Z"
   },
   {
    "duration": 163,
    "start_time": "2022-02-04T10:11:08.152Z"
   },
   {
    "duration": 191,
    "start_time": "2022-02-04T10:11:15.466Z"
   },
   {
    "duration": 126,
    "start_time": "2022-02-04T10:11:21.924Z"
   },
   {
    "duration": 389,
    "start_time": "2022-02-04T10:11:37.386Z"
   },
   {
    "duration": 93,
    "start_time": "2022-02-04T10:11:58.590Z"
   },
   {
    "duration": 59,
    "start_time": "2022-02-04T10:12:04.839Z"
   },
   {
    "duration": 288,
    "start_time": "2022-02-04T10:12:16.570Z"
   },
   {
    "duration": 85,
    "start_time": "2022-02-04T10:12:22.208Z"
   },
   {
    "duration": 52,
    "start_time": "2022-02-04T10:12:23.872Z"
   },
   {
    "duration": 184,
    "start_time": "2022-02-04T10:12:39.439Z"
   },
   {
    "duration": 38,
    "start_time": "2022-02-04T10:12:42.675Z"
   },
   {
    "duration": 64,
    "start_time": "2022-02-04T10:12:44.853Z"
   },
   {
    "duration": 34,
    "start_time": "2022-02-04T10:13:02.540Z"
   },
   {
    "duration": 24,
    "start_time": "2022-02-04T10:19:51.108Z"
   },
   {
    "duration": 267,
    "start_time": "2022-02-04T10:20:06.159Z"
   },
   {
    "duration": 12,
    "start_time": "2022-02-04T10:20:10.477Z"
   },
   {
    "duration": 90,
    "start_time": "2022-02-04T10:24:21.786Z"
   },
   {
    "duration": 182,
    "start_time": "2022-02-04T10:24:59.169Z"
   },
   {
    "duration": 157,
    "start_time": "2022-02-04T10:26:49.123Z"
   },
   {
    "duration": 124,
    "start_time": "2022-02-04T10:27:08.128Z"
   },
   {
    "duration": 17,
    "start_time": "2022-02-04T10:27:12.928Z"
   },
   {
    "duration": 969,
    "start_time": "2022-02-04T10:27:18.633Z"
   },
   {
    "duration": 13,
    "start_time": "2022-02-04T10:39:24.661Z"
   },
   {
    "duration": 8,
    "start_time": "2022-02-04T10:39:32.323Z"
   },
   {
    "duration": 19,
    "start_time": "2022-02-04T10:39:55.233Z"
   },
   {
    "duration": 134,
    "start_time": "2022-02-04T10:55:37.661Z"
   },
   {
    "duration": 33,
    "start_time": "2022-02-04T10:55:44.058Z"
   },
   {
    "duration": 854,
    "start_time": "2022-02-04T10:56:49.327Z"
   },
   {
    "duration": 8,
    "start_time": "2022-02-04T10:59:01.358Z"
   },
   {
    "duration": 2504,
    "start_time": "2022-02-04T10:59:05.362Z"
   },
   {
    "duration": 20,
    "start_time": "2022-02-04T10:59:12.468Z"
   },
   {
    "duration": 9,
    "start_time": "2022-02-04T11:07:54.101Z"
   },
   {
    "duration": 22,
    "start_time": "2022-02-04T11:08:18.961Z"
   },
   {
    "duration": 270,
    "start_time": "2022-02-04T11:08:24.183Z"
   },
   {
    "duration": 26,
    "start_time": "2022-02-04T11:08:28.814Z"
   },
   {
    "duration": 20,
    "start_time": "2022-02-04T11:09:08.577Z"
   },
   {
    "duration": 14,
    "start_time": "2022-02-04T11:09:20.748Z"
   },
   {
    "duration": 15,
    "start_time": "2022-02-04T11:12:42.211Z"
   },
   {
    "duration": 29,
    "start_time": "2022-02-04T11:12:58.132Z"
   },
   {
    "duration": 16,
    "start_time": "2022-02-04T11:31:48.430Z"
   },
   {
    "duration": 214,
    "start_time": "2022-02-04T11:31:59.514Z"
   },
   {
    "duration": 36,
    "start_time": "2022-02-04T11:32:06.365Z"
   },
   {
    "duration": 12,
    "start_time": "2022-02-04T11:37:44.323Z"
   },
   {
    "duration": 12,
    "start_time": "2022-02-04T11:38:51.802Z"
   },
   {
    "duration": 14,
    "start_time": "2022-02-04T11:39:11.449Z"
   },
   {
    "duration": 8,
    "start_time": "2022-02-04T11:39:25.797Z"
   },
   {
    "duration": 12,
    "start_time": "2022-02-04T11:39:35.836Z"
   },
   {
    "duration": 13,
    "start_time": "2022-02-04T11:39:43.842Z"
   },
   {
    "duration": 35,
    "start_time": "2022-02-04T11:39:56.751Z"
   },
   {
    "duration": 28,
    "start_time": "2022-02-04T11:40:26.829Z"
   },
   {
    "duration": 758,
    "start_time": "2022-02-04T11:40:37.411Z"
   },
   {
    "duration": 804,
    "start_time": "2022-02-04T12:18:29.566Z"
   },
   {
    "duration": 8,
    "start_time": "2022-02-04T12:19:16.917Z"
   },
   {
    "duration": 10,
    "start_time": "2022-02-04T12:20:26.330Z"
   },
   {
    "duration": 4,
    "start_time": "2022-02-04T12:20:28.897Z"
   },
   {
    "duration": 10,
    "start_time": "2022-02-04T12:28:12.788Z"
   },
   {
    "duration": 50,
    "start_time": "2022-02-04T12:29:51.618Z"
   },
   {
    "duration": 140,
    "start_time": "2022-02-04T12:29:55.864Z"
   },
   {
    "duration": 12,
    "start_time": "2022-02-04T12:49:05.004Z"
   },
   {
    "duration": 13,
    "start_time": "2022-02-04T12:49:14.778Z"
   },
   {
    "duration": 9,
    "start_time": "2022-02-04T12:53:59.590Z"
   },
   {
    "duration": 10,
    "start_time": "2022-02-04T12:54:17.213Z"
   },
   {
    "duration": 12,
    "start_time": "2022-02-04T12:55:32.354Z"
   },
   {
    "duration": 11,
    "start_time": "2022-02-04T12:57:55.325Z"
   },
   {
    "duration": 13,
    "start_time": "2022-02-04T12:59:20.604Z"
   },
   {
    "duration": 2281,
    "start_time": "2022-02-04T13:02:03.740Z"
   },
   {
    "duration": 12,
    "start_time": "2022-02-04T13:02:32.167Z"
   },
   {
    "duration": 49,
    "start_time": "2022-02-04T13:02:46.571Z"
   },
   {
    "duration": 13,
    "start_time": "2022-02-04T13:25:21.579Z"
   },
   {
    "duration": 48,
    "start_time": "2022-02-04T13:25:23.799Z"
   },
   {
    "duration": 13,
    "start_time": "2022-02-04T14:11:29.356Z"
   },
   {
    "duration": 587,
    "start_time": "2022-02-04T14:29:51.787Z"
   },
   {
    "duration": 13,
    "start_time": "2022-02-04T14:29:55.524Z"
   },
   {
    "duration": 62,
    "start_time": "2022-02-04T14:30:42.582Z"
   },
   {
    "duration": 12,
    "start_time": "2022-02-04T14:31:25.746Z"
   },
   {
    "duration": 17,
    "start_time": "2022-02-04T14:31:56.858Z"
   },
   {
    "duration": 17,
    "start_time": "2022-02-04T14:34:30.609Z"
   },
   {
    "duration": 14,
    "start_time": "2022-02-04T14:37:49.761Z"
   },
   {
    "duration": 69,
    "start_time": "2022-02-04T14:38:15.921Z"
   },
   {
    "duration": 16,
    "start_time": "2022-02-04T15:25:03.132Z"
   },
   {
    "duration": 19,
    "start_time": "2022-02-04T15:25:57.850Z"
   },
   {
    "duration": 32,
    "start_time": "2022-02-04T15:26:11.089Z"
   },
   {
    "duration": 29,
    "start_time": "2022-02-04T15:26:57.664Z"
   },
   {
    "duration": 650,
    "start_time": "2022-02-04T15:28:26.420Z"
   },
   {
    "duration": 773,
    "start_time": "2022-02-04T15:28:49.850Z"
   },
   {
    "duration": 12,
    "start_time": "2022-02-04T15:30:24.069Z"
   },
   {
    "duration": 12,
    "start_time": "2022-02-04T15:31:14.574Z"
   },
   {
    "duration": 20,
    "start_time": "2022-02-04T15:38:56.204Z"
   },
   {
    "duration": 20,
    "start_time": "2022-02-04T17:32:36.724Z"
   },
   {
    "duration": 7,
    "start_time": "2022-02-04T17:39:08.364Z"
   },
   {
    "duration": 16,
    "start_time": "2022-02-04T17:40:53.336Z"
   },
   {
    "duration": 49,
    "start_time": "2022-02-04T17:41:16.513Z"
   },
   {
    "duration": 46,
    "start_time": "2022-02-04T17:41:44.460Z"
   },
   {
    "duration": 20,
    "start_time": "2022-02-04T23:00:46.750Z"
   },
   {
    "duration": 18,
    "start_time": "2022-02-04T23:00:58.781Z"
   },
   {
    "duration": 22,
    "start_time": "2022-02-04T23:01:05.471Z"
   },
   {
    "duration": 33,
    "start_time": "2022-02-05T13:49:30.727Z"
   },
   {
    "duration": 32,
    "start_time": "2022-02-05T13:49:37.225Z"
   },
   {
    "duration": 30,
    "start_time": "2022-02-05T13:49:48.284Z"
   },
   {
    "duration": 21,
    "start_time": "2022-02-05T14:58:18.800Z"
   },
   {
    "duration": 1206,
    "start_time": "2022-02-05T14:58:55.492Z"
   },
   {
    "duration": 681,
    "start_time": "2022-02-05T14:58:59.578Z"
   },
   {
    "duration": 12,
    "start_time": "2022-02-05T14:59:01.070Z"
   },
   {
    "duration": 23,
    "start_time": "2022-02-05T14:59:02.191Z"
   },
   {
    "duration": 279,
    "start_time": "2022-02-05T14:59:03.074Z"
   },
   {
    "duration": 55,
    "start_time": "2022-02-05T14:59:04.719Z"
   },
   {
    "duration": 9,
    "start_time": "2022-02-05T14:59:06.025Z"
   },
   {
    "duration": 10,
    "start_time": "2022-02-05T14:59:06.873Z"
   },
   {
    "duration": 12,
    "start_time": "2022-02-05T14:59:07.889Z"
   },
   {
    "duration": 55,
    "start_time": "2022-02-05T14:59:08.715Z"
   },
   {
    "duration": 9,
    "start_time": "2022-02-05T14:59:09.780Z"
   },
   {
    "duration": 9,
    "start_time": "2022-02-05T14:59:10.697Z"
   },
   {
    "duration": 13,
    "start_time": "2022-02-05T14:59:11.639Z"
   },
   {
    "duration": 16,
    "start_time": "2022-02-05T14:59:15.011Z"
   },
   {
    "duration": 11,
    "start_time": "2022-02-05T14:59:15.899Z"
   },
   {
    "duration": 12,
    "start_time": "2022-02-05T14:59:19.402Z"
   },
   {
    "duration": 163,
    "start_time": "2022-02-05T14:59:28.957Z"
   },
   {
    "duration": 126,
    "start_time": "2022-02-05T14:59:30.448Z"
   },
   {
    "duration": 420,
    "start_time": "2022-02-05T14:59:31.538Z"
   },
   {
    "duration": 86,
    "start_time": "2022-02-05T14:59:36.349Z"
   },
   {
    "duration": 56,
    "start_time": "2022-02-05T14:59:39.859Z"
   },
   {
    "duration": 92,
    "start_time": "2022-02-05T14:59:41.777Z"
   },
   {
    "duration": 65,
    "start_time": "2022-02-05T14:59:42.947Z"
   },
   {
    "duration": 35,
    "start_time": "2022-02-05T14:59:45.795Z"
   },
   {
    "duration": 59,
    "start_time": "2022-02-05T14:59:47.081Z"
   },
   {
    "duration": 64,
    "start_time": "2022-02-05T14:59:48.527Z"
   },
   {
    "duration": 23,
    "start_time": "2022-02-05T14:59:52.802Z"
   },
   {
    "duration": 266,
    "start_time": "2022-02-05T14:59:53.779Z"
   },
   {
    "duration": 9,
    "start_time": "2022-02-05T14:59:57.587Z"
   },
   {
    "duration": 86,
    "start_time": "2022-02-05T15:00:03.504Z"
   },
   {
    "duration": 173,
    "start_time": "2022-02-05T15:00:06.016Z"
   },
   {
    "duration": 266,
    "start_time": "2022-02-05T15:00:08.616Z"
   },
   {
    "duration": 123,
    "start_time": "2022-02-05T15:00:10.073Z"
   },
   {
    "duration": 18,
    "start_time": "2022-02-05T15:00:11.490Z"
   },
   {
    "duration": 959,
    "start_time": "2022-02-05T15:00:13.245Z"
   },
   {
    "duration": 17,
    "start_time": "2022-02-05T15:47:23.663Z"
   },
   {
    "duration": 127,
    "start_time": "2022-02-05T15:47:25.215Z"
   },
   {
    "duration": 31,
    "start_time": "2022-02-05T15:47:26.419Z"
   },
   {
    "duration": 498,
    "start_time": "2022-02-05T15:47:28.332Z"
   },
   {
    "duration": 6,
    "start_time": "2022-02-05T15:47:31.614Z"
   },
   {
    "duration": 19,
    "start_time": "2022-02-05T15:47:32.950Z"
   },
   {
    "duration": 22,
    "start_time": "2022-02-05T15:50:45.746Z"
   },
   {
    "duration": 26,
    "start_time": "2022-02-05T15:50:46.884Z"
   },
   {
    "duration": 17,
    "start_time": "2022-02-05T15:50:48.296Z"
   },
   {
    "duration": 13,
    "start_time": "2022-02-05T15:50:49.668Z"
   },
   {
    "duration": 16,
    "start_time": "2022-02-05T15:50:51.066Z"
   },
   {
    "duration": 27,
    "start_time": "2022-02-05T15:50:52.134Z"
   },
   {
    "duration": 16,
    "start_time": "2022-02-05T16:20:42.815Z"
   },
   {
    "duration": 27,
    "start_time": "2022-02-05T16:20:44.245Z"
   },
   {
    "duration": 14,
    "start_time": "2022-02-05T16:53:25.705Z"
   },
   {
    "duration": 8,
    "start_time": "2022-02-05T16:53:27.149Z"
   },
   {
    "duration": 11,
    "start_time": "2022-02-05T16:53:28.762Z"
   },
   {
    "duration": 29,
    "start_time": "2022-02-05T16:53:30.610Z"
   },
   {
    "duration": 701,
    "start_time": "2022-02-05T16:53:33.196Z"
   },
   {
    "duration": 11,
    "start_time": "2022-02-05T21:28:36.687Z"
   },
   {
    "duration": 4,
    "start_time": "2022-02-05T21:28:38.519Z"
   },
   {
    "duration": 9,
    "start_time": "2022-02-05T21:28:46.557Z"
   },
   {
    "duration": 144,
    "start_time": "2022-02-05T21:28:48.136Z"
   },
   {
    "duration": 135,
    "start_time": "2022-02-05T21:28:50.865Z"
   },
   {
    "duration": 10,
    "start_time": "2022-02-05T21:55:15.453Z"
   },
   {
    "duration": 11,
    "start_time": "2022-02-05T21:55:18.526Z"
   },
   {
    "duration": 12,
    "start_time": "2022-02-05T21:55:21.004Z"
   },
   {
    "duration": 12,
    "start_time": "2022-02-05T21:55:23.220Z"
   },
   {
    "duration": 46,
    "start_time": "2022-02-05T21:55:24.633Z"
   },
   {
    "duration": 504,
    "start_time": "2022-02-05T22:16:40.937Z"
   },
   {
    "duration": 59,
    "start_time": "2022-02-05T22:16:43.901Z"
   },
   {
    "duration": 12,
    "start_time": "2022-02-05T22:16:45.723Z"
   },
   {
    "duration": 17,
    "start_time": "2022-02-05T22:16:47.224Z"
   },
   {
    "duration": 14,
    "start_time": "2022-02-05T22:16:49.693Z"
   },
   {
    "duration": 71,
    "start_time": "2022-02-05T22:16:50.995Z"
   },
   {
    "duration": 15,
    "start_time": "2022-02-05T23:01:18.852Z"
   },
   {
    "duration": 31,
    "start_time": "2022-02-05T23:01:21.301Z"
   },
   {
    "duration": 750,
    "start_time": "2022-02-05T23:01:26.272Z"
   },
   {
    "duration": 21,
    "start_time": "2022-02-05T23:01:41.291Z"
   },
   {
    "duration": 16,
    "start_time": "2022-02-05T23:01:43.827Z"
   },
   {
    "duration": 49,
    "start_time": "2022-02-05T23:01:45.205Z"
   },
   {
    "duration": 120963,
    "start_time": "2022-02-07T08:54:49.951Z"
   },
   {
    "duration": 1792,
    "start_time": "2022-02-07T08:56:50.916Z"
   },
   {
    "duration": -84,
    "start_time": "2022-02-07T08:56:52.798Z"
   },
   {
    "duration": -95,
    "start_time": "2022-02-07T08:56:52.811Z"
   },
   {
    "duration": -100,
    "start_time": "2022-02-07T08:56:52.817Z"
   },
   {
    "duration": -107,
    "start_time": "2022-02-07T08:56:52.826Z"
   },
   {
    "duration": -111,
    "start_time": "2022-02-07T08:56:52.831Z"
   },
   {
    "duration": -115,
    "start_time": "2022-02-07T08:56:52.837Z"
   },
   {
    "duration": -121,
    "start_time": "2022-02-07T08:56:52.845Z"
   },
   {
    "duration": -127,
    "start_time": "2022-02-07T08:56:52.852Z"
   },
   {
    "duration": -134,
    "start_time": "2022-02-07T08:56:52.861Z"
   },
   {
    "duration": -137,
    "start_time": "2022-02-07T08:56:52.866Z"
   },
   {
    "duration": -139,
    "start_time": "2022-02-07T08:56:52.869Z"
   },
   {
    "duration": -145,
    "start_time": "2022-02-07T08:56:52.877Z"
   },
   {
    "duration": -148,
    "start_time": "2022-02-07T08:56:52.881Z"
   },
   {
    "duration": -151,
    "start_time": "2022-02-07T08:56:52.886Z"
   },
   {
    "duration": -157,
    "start_time": "2022-02-07T08:56:52.893Z"
   },
   {
    "duration": -161,
    "start_time": "2022-02-07T08:56:52.898Z"
   },
   {
    "duration": -162,
    "start_time": "2022-02-07T08:56:52.901Z"
   },
   {
    "duration": -168,
    "start_time": "2022-02-07T08:56:52.908Z"
   },
   {
    "duration": -171,
    "start_time": "2022-02-07T08:56:52.912Z"
   },
   {
    "duration": -173,
    "start_time": "2022-02-07T08:56:52.916Z"
   },
   {
    "duration": -176,
    "start_time": "2022-02-07T08:56:52.920Z"
   },
   {
    "duration": -182,
    "start_time": "2022-02-07T08:56:52.927Z"
   },
   {
    "duration": -184,
    "start_time": "2022-02-07T08:56:52.931Z"
   },
   {
    "duration": -188,
    "start_time": "2022-02-07T08:56:52.936Z"
   },
   {
    "duration": -197,
    "start_time": "2022-02-07T08:56:52.946Z"
   },
   {
    "duration": -199,
    "start_time": "2022-02-07T08:56:52.950Z"
   },
   {
    "duration": -199,
    "start_time": "2022-02-07T08:56:52.958Z"
   },
   {
    "duration": -201,
    "start_time": "2022-02-07T08:56:52.962Z"
   },
   {
    "duration": -204,
    "start_time": "2022-02-07T08:56:52.966Z"
   },
   {
    "duration": -207,
    "start_time": "2022-02-07T08:56:52.970Z"
   },
   {
    "duration": -213,
    "start_time": "2022-02-07T08:56:52.978Z"
   },
   {
    "duration": -216,
    "start_time": "2022-02-07T08:56:52.982Z"
   },
   {
    "duration": -223,
    "start_time": "2022-02-07T08:56:52.991Z"
   },
   {
    "duration": -227,
    "start_time": "2022-02-07T08:56:52.996Z"
   },
   {
    "duration": -249,
    "start_time": "2022-02-07T08:56:53.019Z"
   },
   {
    "duration": -255,
    "start_time": "2022-02-07T08:56:53.027Z"
   },
   {
    "duration": -258,
    "start_time": "2022-02-07T08:56:53.031Z"
   },
   {
    "duration": -260,
    "start_time": "2022-02-07T08:56:53.035Z"
   },
   {
    "duration": -268,
    "start_time": "2022-02-07T08:56:53.044Z"
   },
   {
    "duration": -271,
    "start_time": "2022-02-07T08:56:53.048Z"
   },
   {
    "duration": -274,
    "start_time": "2022-02-07T08:56:53.053Z"
   },
   {
    "duration": -279,
    "start_time": "2022-02-07T08:56:53.060Z"
   },
   {
    "duration": -283,
    "start_time": "2022-02-07T08:56:53.065Z"
   },
   {
    "duration": -286,
    "start_time": "2022-02-07T08:56:53.069Z"
   },
   {
    "duration": -294,
    "start_time": "2022-02-07T08:56:53.078Z"
   },
   {
    "duration": -297,
    "start_time": "2022-02-07T08:56:53.083Z"
   },
   {
    "duration": -304,
    "start_time": "2022-02-07T08:56:53.091Z"
   },
   {
    "duration": -308,
    "start_time": "2022-02-07T08:56:53.096Z"
   },
   {
    "duration": -310,
    "start_time": "2022-02-07T08:56:53.099Z"
   },
   {
    "duration": -313,
    "start_time": "2022-02-07T08:56:53.103Z"
   },
   {
    "duration": -318,
    "start_time": "2022-02-07T08:56:53.110Z"
   },
   {
    "duration": -322,
    "start_time": "2022-02-07T08:56:53.115Z"
   },
   {
    "duration": -324,
    "start_time": "2022-02-07T08:56:53.119Z"
   },
   {
    "duration": -266,
    "start_time": "2022-02-07T08:56:53.125Z"
   },
   {
    "duration": -270,
    "start_time": "2022-02-07T08:56:53.130Z"
   },
   {
    "duration": -271,
    "start_time": "2022-02-07T08:56:53.133Z"
   },
   {
    "duration": -293,
    "start_time": "2022-02-07T08:56:53.157Z"
   },
   {
    "duration": -296,
    "start_time": "2022-02-07T08:56:53.161Z"
   },
   {
    "duration": -299,
    "start_time": "2022-02-07T08:56:53.165Z"
   },
   {
    "duration": -301,
    "start_time": "2022-02-07T08:56:53.169Z"
   },
   {
    "duration": -308,
    "start_time": "2022-02-07T08:56:53.177Z"
   },
   {
    "duration": -320,
    "start_time": "2022-02-07T08:56:53.191Z"
   },
   {
    "duration": -324,
    "start_time": "2022-02-07T08:56:53.196Z"
   },
   {
    "duration": -326,
    "start_time": "2022-02-07T08:56:53.199Z"
   },
   {
    "duration": -327,
    "start_time": "2022-02-07T08:56:53.202Z"
   },
   {
    "duration": -335,
    "start_time": "2022-02-07T08:56:53.211Z"
   },
   {
    "duration": -337,
    "start_time": "2022-02-07T08:56:53.215Z"
   },
   {
    "duration": -340,
    "start_time": "2022-02-07T08:56:53.219Z"
   },
   {
    "duration": -345,
    "start_time": "2022-02-07T08:56:53.226Z"
   },
   {
    "duration": -349,
    "start_time": "2022-02-07T08:56:53.231Z"
   },
   {
    "duration": -351,
    "start_time": "2022-02-07T08:56:53.234Z"
   },
   {
    "duration": -357,
    "start_time": "2022-02-07T08:56:53.242Z"
   },
   {
    "duration": -363,
    "start_time": "2022-02-07T08:56:53.249Z"
   },
   {
    "duration": -367,
    "start_time": "2022-02-07T08:56:53.254Z"
   },
   {
    "duration": -372,
    "start_time": "2022-02-07T08:56:53.261Z"
   },
   {
    "duration": 4594,
    "start_time": "2022-02-07T09:33:08.619Z"
   },
   {
    "duration": 14,
    "start_time": "2022-02-07T09:33:13.216Z"
   },
   {
    "duration": 55,
    "start_time": "2022-02-07T09:33:13.233Z"
   },
   {
    "duration": 339,
    "start_time": "2022-02-07T09:33:13.291Z"
   },
   {
    "duration": -42,
    "start_time": "2022-02-07T09:33:13.676Z"
   },
   {
    "duration": -43,
    "start_time": "2022-02-07T09:33:13.680Z"
   },
   {
    "duration": -45,
    "start_time": "2022-02-07T09:33:13.684Z"
   },
   {
    "duration": -51,
    "start_time": "2022-02-07T09:33:13.692Z"
   },
   {
    "duration": -53,
    "start_time": "2022-02-07T09:33:13.696Z"
   },
   {
    "duration": -55,
    "start_time": "2022-02-07T09:33:13.700Z"
   },
   {
    "duration": -60,
    "start_time": "2022-02-07T09:33:13.708Z"
   },
   {
    "duration": 303,
    "start_time": "2022-02-07T09:33:15.039Z"
   },
   {
    "duration": 31,
    "start_time": "2022-02-07T09:33:15.475Z"
   },
   {
    "duration": 309,
    "start_time": "2022-02-07T09:33:17.773Z"
   },
   {
    "duration": 11,
    "start_time": "2022-02-07T09:33:18.625Z"
   },
   {
    "duration": 14,
    "start_time": "2022-02-07T09:33:18.927Z"
   },
   {
    "duration": 441,
    "start_time": "2022-02-07T09:33:19.364Z"
   },
   {
    "duration": -39,
    "start_time": "2022-02-07T09:33:19.847Z"
   },
   {
    "duration": 473,
    "start_time": "2022-02-07T09:33:20.497Z"
   },
   {
    "duration": 46,
    "start_time": "2022-02-07T09:33:23.253Z"
   },
   {
    "duration": 10,
    "start_time": "2022-02-07T09:33:23.399Z"
   },
   {
    "duration": 14,
    "start_time": "2022-02-07T09:33:25.135Z"
   },
   {
    "duration": 465,
    "start_time": "2022-02-07T09:33:25.739Z"
   },
   {
    "duration": 22,
    "start_time": "2022-02-07T09:33:28.429Z"
   },
   {
    "duration": 16,
    "start_time": "2022-02-07T09:33:29.981Z"
   },
   {
    "duration": 16,
    "start_time": "2022-02-07T09:33:30.201Z"
   },
   {
    "duration": 265,
    "start_time": "2022-02-07T09:33:32.972Z"
   },
   {
    "duration": 172,
    "start_time": "2022-02-07T09:33:33.240Z"
   },
   {
    "duration": 365,
    "start_time": "2022-02-07T09:33:33.716Z"
   },
   {
    "duration": 120,
    "start_time": "2022-02-07T09:33:34.165Z"
   },
   {
    "duration": 105736,
    "start_time": "2022-02-07T09:33:53.430Z"
   },
   {
    "duration": 1431,
    "start_time": "2022-02-07T09:36:07.229Z"
   },
   {
    "duration": 129,
    "start_time": "2022-02-07T09:36:13.155Z"
   },
   {
    "duration": 1376,
    "start_time": "2022-02-07T09:36:13.496Z"
   },
   {
    "duration": -70,
    "start_time": "2022-02-07T09:36:14.945Z"
   },
   {
    "duration": -79,
    "start_time": "2022-02-07T09:36:14.955Z"
   },
   {
    "duration": 104,
    "start_time": "2022-02-07T09:36:19.181Z"
   },
   {
    "duration": 1318,
    "start_time": "2022-02-07T09:36:19.349Z"
   },
   {
    "duration": 49,
    "start_time": "2022-02-07T09:36:28.871Z"
   },
   {
    "duration": 363,
    "start_time": "2022-02-07T09:36:29.608Z"
   },
   {
    "duration": 453,
    "start_time": "2022-02-07T09:36:30.030Z"
   },
   {
    "duration": 480,
    "start_time": "2022-02-07T09:36:46.397Z"
   },
   {
    "duration": 29114,
    "start_time": "2022-02-07T09:36:54.475Z"
   },
   {
    "duration": 124,
    "start_time": "2022-02-07T09:37:29.701Z"
   },
   {
    "duration": 91,
    "start_time": "2022-02-07T09:37:29.860Z"
   },
   {
    "duration": 107,
    "start_time": "2022-02-07T09:37:30.029Z"
   },
   {
    "duration": 87,
    "start_time": "2022-02-07T09:37:38.529Z"
   },
   {
    "duration": 48,
    "start_time": "2022-02-07T09:37:41.683Z"
   },
   {
    "duration": 106,
    "start_time": "2022-02-07T09:37:41.863Z"
   },
   {
    "duration": 53,
    "start_time": "2022-02-07T09:37:42.161Z"
   },
   {
    "duration": 34,
    "start_time": "2022-02-07T09:37:43.963Z"
   },
   {
    "duration": 403,
    "start_time": "2022-02-07T09:37:44.159Z"
   },
   {
    "duration": 11,
    "start_time": "2022-02-07T09:37:44.641Z"
   },
   {
    "duration": 112,
    "start_time": "2022-02-07T09:37:46.651Z"
   },
   {
    "duration": 225,
    "start_time": "2022-02-07T09:37:47.456Z"
   },
   {
    "duration": 184,
    "start_time": "2022-02-07T09:37:47.873Z"
   },
   {
    "duration": 240,
    "start_time": "2022-02-07T09:37:48.253Z"
   },
   {
    "duration": 25,
    "start_time": "2022-02-07T09:37:48.951Z"
   },
   {
    "duration": 1532,
    "start_time": "2022-02-07T09:37:49.119Z"
   },
   {
    "duration": 29,
    "start_time": "2022-02-07T09:37:50.654Z"
   },
   {
    "duration": 171,
    "start_time": "2022-02-07T09:37:51.027Z"
   },
   {
    "duration": 23,
    "start_time": "2022-02-07T09:37:51.252Z"
   },
   {
    "duration": 808,
    "start_time": "2022-02-07T09:37:51.625Z"
   },
   {
    "duration": 8,
    "start_time": "2022-02-07T09:37:52.479Z"
   },
   {
    "duration": 20,
    "start_time": "2022-02-07T09:37:52.861Z"
   },
   {
    "duration": 35,
    "start_time": "2022-02-07T09:37:54.111Z"
   },
   {
    "duration": 38,
    "start_time": "2022-02-07T09:37:54.353Z"
   },
   {
    "duration": 32,
    "start_time": "2022-02-07T09:37:54.813Z"
   },
   {
    "duration": 23,
    "start_time": "2022-02-07T09:37:55.197Z"
   },
   {
    "duration": 25,
    "start_time": "2022-02-07T09:37:55.598Z"
   },
   {
    "duration": 54,
    "start_time": "2022-02-07T09:37:55.829Z"
   },
   {
    "duration": 29,
    "start_time": "2022-02-07T09:37:57.039Z"
   },
   {
    "duration": 55,
    "start_time": "2022-02-07T09:37:57.454Z"
   },
   {
    "duration": 24,
    "start_time": "2022-02-07T09:37:58.279Z"
   },
   {
    "duration": 12,
    "start_time": "2022-02-07T09:37:58.735Z"
   },
   {
    "duration": 17,
    "start_time": "2022-02-07T09:37:59.141Z"
   },
   {
    "duration": 55,
    "start_time": "2022-02-07T09:37:59.523Z"
   },
   {
    "duration": 1214,
    "start_time": "2022-02-07T09:38:00.351Z"
   },
   {
    "duration": 16,
    "start_time": "2022-02-07T09:38:03.213Z"
   },
   {
    "duration": 6,
    "start_time": "2022-02-07T09:38:03.445Z"
   },
   {
    "duration": 13,
    "start_time": "2022-02-07T09:38:04.258Z"
   },
   {
    "duration": 85,
    "start_time": "2022-02-07T09:38:04.473Z"
   },
   {
    "duration": 239,
    "start_time": "2022-02-07T09:38:04.665Z"
   },
   {
    "duration": 15,
    "start_time": "2022-02-07T09:38:05.549Z"
   },
   {
    "duration": 18,
    "start_time": "2022-02-07T09:38:05.957Z"
   },
   {
    "duration": 24,
    "start_time": "2022-02-07T09:38:06.571Z"
   },
   {
    "duration": 18,
    "start_time": "2022-02-07T09:38:06.985Z"
   },
   {
    "duration": 79,
    "start_time": "2022-02-07T09:38:07.213Z"
   },
   {
    "duration": 626,
    "start_time": "2022-02-07T09:38:08.303Z"
   },
   {
    "duration": 113,
    "start_time": "2022-02-07T09:38:08.931Z"
   },
   {
    "duration": 24,
    "start_time": "2022-02-07T09:38:09.050Z"
   },
   {
    "duration": 30,
    "start_time": "2022-02-07T09:38:09.472Z"
   },
   {
    "duration": 23,
    "start_time": "2022-02-07T09:38:10.077Z"
   },
   {
    "duration": 118,
    "start_time": "2022-02-07T09:38:10.301Z"
   },
   {
    "duration": 23,
    "start_time": "2022-02-07T09:38:11.085Z"
   },
   {
    "duration": 55,
    "start_time": "2022-02-07T09:38:11.545Z"
   },
   {
    "duration": 1174,
    "start_time": "2022-02-07T09:38:11.719Z"
   },
   {
    "duration": 41,
    "start_time": "2022-02-07T09:38:12.896Z"
   },
   {
    "duration": 41,
    "start_time": "2022-02-07T09:38:12.940Z"
   },
   {
    "duration": 77,
    "start_time": "2022-02-07T09:38:13.195Z"
   },
   {
    "duration": 4,
    "start_time": "2022-02-07T09:51:22.683Z"
   },
   {
    "duration": 6,
    "start_time": "2022-02-07T09:51:29.037Z"
   },
   {
    "duration": 362,
    "start_time": "2022-02-07T10:32:32.370Z"
   },
   {
    "duration": 17650,
    "start_time": "2022-02-07T10:36:29.458Z"
   },
   {
    "duration": 1484,
    "start_time": "2022-02-07T10:36:47.109Z"
   },
   {
    "duration": 3767,
    "start_time": "2022-02-07T10:37:07.114Z"
   },
   {
    "duration": 11553,
    "start_time": "2022-02-07T10:37:13.880Z"
   },
   {
    "duration": 8,
    "start_time": "2022-02-07T10:37:27.581Z"
   },
   {
    "duration": 4155,
    "start_time": "2022-02-07T10:41:29.644Z"
   },
   {
    "duration": 9,
    "start_time": "2022-02-07T10:41:39.768Z"
   },
   {
    "duration": 537,
    "start_time": "2022-02-07T10:41:45.993Z"
   },
   {
    "duration": 237,
    "start_time": "2022-02-07T10:41:47.852Z"
   },
   {
    "duration": 6,
    "start_time": "2022-02-07T10:41:49.329Z"
   },
   {
    "duration": 11,
    "start_time": "2022-02-07T10:41:50.361Z"
   },
   {
    "duration": 12,
    "start_time": "2022-02-07T10:41:51.349Z"
   },
   {
    "duration": 48,
    "start_time": "2022-02-07T10:41:52.259Z"
   },
   {
    "duration": 6,
    "start_time": "2022-02-07T10:41:53.493Z"
   },
   {
    "duration": 10,
    "start_time": "2022-02-07T10:42:00.397Z"
   },
   {
    "duration": 8,
    "start_time": "2022-02-07T10:42:02.321Z"
   },
   {
    "duration": 10,
    "start_time": "2022-02-07T10:42:03.972Z"
   },
   {
    "duration": 13,
    "start_time": "2022-02-07T10:42:06.098Z"
   },
   {
    "duration": 10,
    "start_time": "2022-02-07T10:42:08.208Z"
   },
   {
    "duration": 10,
    "start_time": "2022-02-07T10:42:09.274Z"
   },
   {
    "duration": 176,
    "start_time": "2022-02-07T10:45:57.228Z"
   },
   {
    "duration": 160,
    "start_time": "2022-02-07T10:45:59.103Z"
   },
   {
    "duration": 116,
    "start_time": "2022-02-07T10:46:01.239Z"
   },
   {
    "duration": 320,
    "start_time": "2022-02-07T10:46:14.089Z"
   },
   {
    "duration": 451,
    "start_time": "2022-02-07T10:46:25.819Z"
   },
   {
    "duration": 84,
    "start_time": "2022-02-07T10:46:47.740Z"
   },
   {
    "duration": 52,
    "start_time": "2022-02-07T10:47:26.310Z"
   },
   {
    "duration": 50,
    "start_time": "2022-02-07T10:47:42.290Z"
   },
   {
    "duration": 52,
    "start_time": "2022-02-07T10:47:49.917Z"
   },
   {
    "duration": 77,
    "start_time": "2022-02-07T10:47:57.358Z"
   },
   {
    "duration": 55,
    "start_time": "2022-02-07T10:48:18.115Z"
   },
   {
    "duration": 505,
    "start_time": "2022-02-07T10:51:57.449Z"
   },
   {
    "duration": 1004,
    "start_time": "2022-02-07T10:52:12.881Z"
   },
   {
    "duration": 47,
    "start_time": "2022-02-07T10:52:35.782Z"
   },
   {
    "duration": 28,
    "start_time": "2022-02-07T10:54:38.316Z"
   },
   {
    "duration": 59,
    "start_time": "2022-02-07T10:54:45.524Z"
   },
   {
    "duration": 58,
    "start_time": "2022-02-07T10:56:01.237Z"
   },
   {
    "duration": 348,
    "start_time": "2022-02-07T10:56:58.152Z"
   },
   {
    "duration": 332,
    "start_time": "2022-02-07T10:57:12.103Z"
   },
   {
    "duration": 29,
    "start_time": "2022-02-07T11:02:14.749Z"
   },
   {
    "duration": 30,
    "start_time": "2022-02-07T11:03:09.271Z"
   },
   {
    "duration": 28,
    "start_time": "2022-02-07T11:06:10.609Z"
   },
   {
    "duration": 30,
    "start_time": "2022-02-07T11:06:40.424Z"
   },
   {
    "duration": 32,
    "start_time": "2022-02-07T11:06:54.109Z"
   },
   {
    "duration": 29,
    "start_time": "2022-02-07T11:07:02.843Z"
   },
   {
    "duration": 29,
    "start_time": "2022-02-07T11:07:10.615Z"
   },
   {
    "duration": 31,
    "start_time": "2022-02-07T11:07:16.244Z"
   },
   {
    "duration": 29,
    "start_time": "2022-02-07T11:07:25.244Z"
   },
   {
    "duration": 35,
    "start_time": "2022-02-07T11:07:29.588Z"
   },
   {
    "duration": 30,
    "start_time": "2022-02-07T11:07:35.939Z"
   },
   {
    "duration": 31,
    "start_time": "2022-02-07T11:07:42.665Z"
   },
   {
    "duration": 919,
    "start_time": "2022-02-07T11:07:51.756Z"
   },
   {
    "duration": 30,
    "start_time": "2022-02-07T11:08:09.702Z"
   },
   {
    "duration": 30,
    "start_time": "2022-02-07T11:08:22.415Z"
   },
   {
    "duration": 29,
    "start_time": "2022-02-07T11:08:35.150Z"
   },
   {
    "duration": 5,
    "start_time": "2022-02-07T11:15:25.053Z"
   },
   {
    "duration": 58,
    "start_time": "2022-02-07T11:15:31.897Z"
   },
   {
    "duration": 4,
    "start_time": "2022-02-07T11:16:06.653Z"
   },
   {
    "duration": 4,
    "start_time": "2022-02-07T11:16:37.651Z"
   },
   {
    "duration": 3,
    "start_time": "2022-02-07T11:17:03.308Z"
   },
   {
    "duration": 3,
    "start_time": "2022-02-07T11:19:43.945Z"
   },
   {
    "duration": 342,
    "start_time": "2022-02-07T11:22:47.383Z"
   },
   {
    "duration": 23,
    "start_time": "2022-02-07T11:23:11.363Z"
   },
   {
    "duration": 211,
    "start_time": "2022-02-07T11:23:17.381Z"
   },
   {
    "duration": 10,
    "start_time": "2022-02-07T11:23:19.819Z"
   },
   {
    "duration": 74,
    "start_time": "2022-02-07T11:23:23.542Z"
   },
   {
    "duration": 130,
    "start_time": "2022-02-07T11:23:25.585Z"
   },
   {
    "duration": 125,
    "start_time": "2022-02-07T11:23:28.106Z"
   },
   {
    "duration": 169,
    "start_time": "2022-02-07T11:23:31.296Z"
   },
   {
    "duration": 335,
    "start_time": "2022-02-07T11:23:33.766Z"
   },
   {
    "duration": 146,
    "start_time": "2022-02-07T11:23:48.182Z"
   },
   {
    "duration": 14,
    "start_time": "2022-02-07T11:24:23.265Z"
   },
   {
    "duration": 949,
    "start_time": "2022-02-07T11:24:27.130Z"
   },
   {
    "duration": 349,
    "start_time": "2022-02-07T11:27:02.308Z"
   },
   {
    "duration": 31,
    "start_time": "2022-02-07T11:33:06.149Z"
   },
   {
    "duration": 19,
    "start_time": "2022-02-07T13:51:15.735Z"
   },
   {
    "duration": 119,
    "start_time": "2022-02-07T13:51:17.839Z"
   },
   {
    "duration": 18,
    "start_time": "2022-02-07T13:51:19.782Z"
   },
   {
    "duration": 395,
    "start_time": "2022-02-07T13:51:22.879Z"
   },
   {
    "duration": 16,
    "start_time": "2022-02-07T13:51:33.191Z"
   },
   {
    "duration": 106,
    "start_time": "2022-02-07T13:51:35.546Z"
   },
   {
    "duration": 14,
    "start_time": "2022-02-07T13:51:39.300Z"
   },
   {
    "duration": 364,
    "start_time": "2022-02-07T13:51:41.196Z"
   },
   {
    "duration": 428,
    "start_time": "2022-02-07T13:51:47.395Z"
   },
   {
    "duration": 488,
    "start_time": "2022-02-07T13:51:57.982Z"
   },
   {
    "duration": 496,
    "start_time": "2022-02-07T13:52:10.185Z"
   },
   {
    "duration": 412,
    "start_time": "2022-02-07T13:52:17.551Z"
   },
   {
    "duration": 416,
    "start_time": "2022-02-07T13:52:22.817Z"
   },
   {
    "duration": 477,
    "start_time": "2022-02-07T13:55:36.754Z"
   },
   {
    "duration": 416,
    "start_time": "2022-02-07T16:04:53.448Z"
   },
   {
    "duration": 506,
    "start_time": "2022-02-07T16:05:04.502Z"
   },
   {
    "duration": 10,
    "start_time": "2022-02-08T16:43:59.626Z"
   },
   {
    "duration": 3,
    "start_time": "2022-02-08T16:44:01.621Z"
   },
   {
    "duration": 9,
    "start_time": "2022-02-08T16:44:03.643Z"
   },
   {
    "duration": 46,
    "start_time": "2022-02-08T16:44:05.577Z"
   },
   {
    "duration": 329,
    "start_time": "2022-02-08T16:46:37.110Z"
   },
   {
    "duration": 44,
    "start_time": "2022-02-08T16:46:44.460Z"
   },
   {
    "duration": 45,
    "start_time": "2022-02-08T16:47:01.035Z"
   },
   {
    "duration": 44,
    "start_time": "2022-02-08T16:48:41.921Z"
   },
   {
    "duration": 132,
    "start_time": "2022-02-08T16:48:43.721Z"
   },
   {
    "duration": 10,
    "start_time": "2022-02-08T16:49:00.636Z"
   },
   {
    "duration": 13,
    "start_time": "2022-02-08T16:49:04.139Z"
   },
   {
    "duration": 317,
    "start_time": "2022-02-08T16:49:06.800Z"
   },
   {
    "duration": 8,
    "start_time": "2022-02-08T16:50:53.248Z"
   },
   {
    "duration": 23,
    "start_time": "2022-02-08T16:51:24.316Z"
   },
   {
    "duration": 25,
    "start_time": "2022-02-08T16:51:25.689Z"
   },
   {
    "duration": 22,
    "start_time": "2022-02-08T16:51:38.935Z"
   },
   {
    "duration": 16,
    "start_time": "2022-02-08T16:51:50.734Z"
   },
   {
    "duration": 19,
    "start_time": "2022-02-08T16:51:54.154Z"
   },
   {
    "duration": 17,
    "start_time": "2022-02-08T16:52:09.958Z"
   },
   {
    "duration": 11,
    "start_time": "2022-02-08T16:52:21.380Z"
   },
   {
    "duration": 17,
    "start_time": "2022-02-08T16:52:24.480Z"
   },
   {
    "duration": 13,
    "start_time": "2022-02-08T16:52:29.519Z"
   },
   {
    "duration": 43,
    "start_time": "2022-02-08T16:52:33.182Z"
   },
   {
    "duration": 33499,
    "start_time": "2022-02-10T03:47:44.566Z"
   },
   {
    "duration": 1660,
    "start_time": "2022-02-10T03:48:21.290Z"
   },
   {
    "duration": 2689,
    "start_time": "2022-02-10T03:48:33.160Z"
   },
   {
    "duration": 17,
    "start_time": "2022-02-10T03:48:38.161Z"
   },
   {
    "duration": 29,
    "start_time": "2022-02-10T03:48:40.970Z"
   },
   {
    "duration": 980,
    "start_time": "2022-02-10T03:48:43.536Z"
   },
   {
    "duration": 288,
    "start_time": "2022-02-10T03:48:46.657Z"
   },
   {
    "duration": 12,
    "start_time": "2022-02-10T03:48:49.368Z"
   },
   {
    "duration": 14,
    "start_time": "2022-02-10T03:48:51.967Z"
   },
   {
    "duration": 16,
    "start_time": "2022-02-10T03:48:54.942Z"
   },
   {
    "duration": 73,
    "start_time": "2022-02-10T03:48:58.175Z"
   },
   {
    "duration": 14,
    "start_time": "2022-02-10T03:49:00.889Z"
   },
   {
    "duration": 12,
    "start_time": "2022-02-10T03:49:03.205Z"
   },
   {
    "duration": 15,
    "start_time": "2022-02-10T03:49:06.272Z"
   },
   {
    "duration": 21,
    "start_time": "2022-02-10T03:49:09.156Z"
   },
   {
    "duration": 16,
    "start_time": "2022-02-10T03:49:11.429Z"
   },
   {
    "duration": 16,
    "start_time": "2022-02-10T03:49:14.759Z"
   },
   {
    "duration": 225,
    "start_time": "2022-02-10T03:49:18.108Z"
   },
   {
    "duration": 160,
    "start_time": "2022-02-10T03:49:20.692Z"
   },
   {
    "duration": 5,
    "start_time": "2022-02-10T03:49:25.167Z"
   },
   {
    "duration": 688,
    "start_time": "2022-02-10T03:49:27.562Z"
   },
   {
    "duration": 114,
    "start_time": "2022-02-10T03:49:39.624Z"
   },
   {
    "duration": 5,
    "start_time": "2022-02-10T03:49:41.407Z"
   },
   {
    "duration": 84,
    "start_time": "2022-02-10T03:49:43.680Z"
   },
   {
    "duration": 108,
    "start_time": "2022-02-10T03:49:49.700Z"
   },
   {
    "duration": 5,
    "start_time": "2022-02-10T03:49:52.122Z"
   },
   {
    "duration": 83,
    "start_time": "2022-02-10T03:49:54.497Z"
   },
   {
    "duration": 52,
    "start_time": "2022-02-10T03:50:31.305Z"
   },
   {
    "duration": 5,
    "start_time": "2022-02-10T03:50:33.439Z"
   },
   {
    "duration": 103,
    "start_time": "2022-02-10T03:50:34.861Z"
   },
   {
    "duration": 50,
    "start_time": "2022-02-10T03:50:40.599Z"
   },
   {
    "duration": 30,
    "start_time": "2022-02-10T03:50:51.276Z"
   },
   {
    "duration": 382,
    "start_time": "2022-02-10T03:50:53.579Z"
   },
   {
    "duration": 12,
    "start_time": "2022-02-10T03:50:56.630Z"
   },
   {
    "duration": 115,
    "start_time": "2022-02-10T03:50:59.930Z"
   },
   {
    "duration": 218,
    "start_time": "2022-02-10T03:51:03.264Z"
   },
   {
    "duration": 312,
    "start_time": "2022-02-10T03:51:05.921Z"
   },
   {
    "duration": 160,
    "start_time": "2022-02-10T03:51:08.955Z"
   },
   {
    "duration": 26,
    "start_time": "2022-02-10T03:51:11.974Z"
   },
   {
    "duration": 1554,
    "start_time": "2022-02-10T03:51:14.605Z"
   },
   {
    "duration": 25,
    "start_time": "2022-02-10T03:52:17.185Z"
   },
   {
    "duration": 169,
    "start_time": "2022-02-10T03:52:20.380Z"
   },
   {
    "duration": 47,
    "start_time": "2022-02-10T03:52:27.914Z"
   },
   {
    "duration": 721,
    "start_time": "2022-02-10T03:52:29.257Z"
   },
   {
    "duration": 9,
    "start_time": "2022-02-10T03:52:47.625Z"
   },
   {
    "duration": 25,
    "start_time": "2022-02-10T03:52:49.601Z"
   },
   {
    "duration": 36,
    "start_time": "2022-02-10T03:52:52.546Z"
   },
   {
    "duration": 38,
    "start_time": "2022-02-10T03:52:53.899Z"
   },
   {
    "duration": 25,
    "start_time": "2022-02-10T03:52:56.420Z"
   },
   {
    "duration": 19,
    "start_time": "2022-02-10T03:52:58.474Z"
   },
   {
    "duration": 23,
    "start_time": "2022-02-10T03:53:00.522Z"
   },
   {
    "duration": 47,
    "start_time": "2022-02-10T03:53:02.568Z"
   },
   {
    "duration": 21,
    "start_time": "2022-02-10T03:53:06.562Z"
   },
   {
    "duration": 44,
    "start_time": "2022-02-10T03:53:09.427Z"
   },
   {
    "duration": 20,
    "start_time": "2022-02-10T03:53:14.001Z"
   },
   {
    "duration": 10,
    "start_time": "2022-02-10T03:53:16.822Z"
   },
   {
    "duration": 14,
    "start_time": "2022-02-10T03:53:17.988Z"
   },
   {
    "duration": 44,
    "start_time": "2022-02-10T03:53:20.307Z"
   },
   {
    "duration": 1176,
    "start_time": "2022-02-10T03:53:23.013Z"
   },
   {
    "duration": 15,
    "start_time": "2022-02-10T03:53:48.538Z"
   },
   {
    "duration": 5,
    "start_time": "2022-02-10T03:53:49.868Z"
   },
   {
    "duration": 13,
    "start_time": "2022-02-10T03:53:52.411Z"
   },
   {
    "duration": 164,
    "start_time": "2022-02-10T03:53:54.882Z"
   },
   {
    "duration": 233,
    "start_time": "2022-02-10T03:53:59.447Z"
   },
   {
    "duration": 14,
    "start_time": "2022-02-10T03:54:08.408Z"
   },
   {
    "duration": 14,
    "start_time": "2022-02-10T03:54:11.792Z"
   },
   {
    "duration": 16,
    "start_time": "2022-02-10T03:54:14.341Z"
   },
   {
    "duration": 18,
    "start_time": "2022-02-10T03:54:17.073Z"
   },
   {
    "duration": 18,
    "start_time": "2022-02-10T03:54:19.492Z"
   },
   {
    "duration": 75,
    "start_time": "2022-02-10T03:54:23.382Z"
   },
   {
    "duration": 639,
    "start_time": "2022-02-10T03:54:27.132Z"
   },
   {
    "duration": 101,
    "start_time": "2022-02-10T03:54:31.560Z"
   },
   {
    "duration": 15,
    "start_time": "2022-02-10T03:54:34.326Z"
   },
   {
    "duration": 23,
    "start_time": "2022-02-10T03:54:37.083Z"
   },
   {
    "duration": 20,
    "start_time": "2022-02-10T03:54:39.968Z"
   },
   {
    "duration": 110,
    "start_time": "2022-02-10T03:54:42.390Z"
   },
   {
    "duration": 6338,
    "start_time": "2022-02-11T17:42:32.881Z"
   },
   {
    "duration": 8099,
    "start_time": "2022-02-11T17:44:24.136Z"
   },
   {
    "duration": 116,
    "start_time": "2022-02-11T17:44:46.575Z"
   },
   {
    "duration": 4,
    "start_time": "2022-02-11T17:45:01.627Z"
   },
   {
    "duration": 959,
    "start_time": "2022-02-11T17:45:08.053Z"
   },
   {
    "duration": 18,
    "start_time": "2022-02-11T17:45:10.898Z"
   },
   {
    "duration": 24,
    "start_time": "2022-02-11T17:45:12.592Z"
   },
   {
    "duration": 26,
    "start_time": "2022-02-11T17:45:13.648Z"
   },
   {
    "duration": 605,
    "start_time": "2022-02-11T17:45:14.773Z"
   },
   {
    "duration": 12,
    "start_time": "2022-02-11T17:45:16.447Z"
   },
   {
    "duration": 18,
    "start_time": "2022-02-11T17:45:17.469Z"
   },
   {
    "duration": 19,
    "start_time": "2022-02-11T17:45:19.048Z"
   },
   {
    "duration": 79,
    "start_time": "2022-02-11T17:45:20.232Z"
   },
   {
    "duration": 12,
    "start_time": "2022-02-11T17:45:22.297Z"
   },
   {
    "duration": 14,
    "start_time": "2022-02-11T17:45:23.632Z"
   },
   {
    "duration": 17,
    "start_time": "2022-02-11T17:45:24.858Z"
   },
   {
    "duration": 29,
    "start_time": "2022-02-11T17:45:31.706Z"
   },
   {
    "duration": 17,
    "start_time": "2022-02-11T17:45:33.458Z"
   },
   {
    "duration": 16,
    "start_time": "2022-02-11T17:45:34.835Z"
   },
   {
    "duration": 223,
    "start_time": "2022-02-11T17:45:38.208Z"
   },
   {
    "duration": 166,
    "start_time": "2022-02-11T17:45:43.576Z"
   },
   {
    "duration": 5,
    "start_time": "2022-02-11T17:45:45.013Z"
   },
   {
    "duration": 103,
    "start_time": "2022-02-11T17:45:46.350Z"
   },
   {
    "duration": 165,
    "start_time": "2022-02-11T17:45:53.847Z"
   },
   {
    "duration": 6,
    "start_time": "2022-02-11T17:45:55.319Z"
   },
   {
    "duration": 90,
    "start_time": "2022-02-11T17:45:56.677Z"
   },
   {
    "duration": 123,
    "start_time": "2022-02-11T17:46:03.388Z"
   },
   {
    "duration": 5,
    "start_time": "2022-02-11T17:46:05.716Z"
   },
   {
    "duration": 122,
    "start_time": "2022-02-11T17:46:10.977Z"
   },
   {
    "duration": 81,
    "start_time": "2022-02-11T17:46:16.175Z"
   },
   {
    "duration": 6,
    "start_time": "2022-02-11T17:46:17.532Z"
   },
   {
    "duration": 101,
    "start_time": "2022-02-11T17:46:18.529Z"
   },
   {
    "duration": 28,
    "start_time": "2022-02-11T17:46:24.098Z"
   },
   {
    "duration": 640,
    "start_time": "2022-02-11T17:46:26.868Z"
   },
   {
    "duration": 11,
    "start_time": "2022-02-11T17:46:30.602Z"
   },
   {
    "duration": 114,
    "start_time": "2022-02-11T17:46:33.905Z"
   },
   {
    "duration": 243,
    "start_time": "2022-02-11T17:46:36.218Z"
   },
   {
    "duration": 251,
    "start_time": "2022-02-11T17:46:38.552Z"
   },
   {
    "duration": 154,
    "start_time": "2022-02-11T17:46:41.764Z"
   },
   {
    "duration": 28,
    "start_time": "2022-02-11T17:46:44.820Z"
   },
   {
    "duration": 1923,
    "start_time": "2022-02-11T17:46:47.365Z"
   },
   {
    "duration": 27,
    "start_time": "2022-02-11T17:46:56.322Z"
   },
   {
    "duration": 189,
    "start_time": "2022-02-11T17:46:58.222Z"
   },
   {
    "duration": 51,
    "start_time": "2022-02-11T17:47:00.909Z"
   },
   {
    "duration": 764,
    "start_time": "2022-02-11T17:47:03.176Z"
   },
   {
    "duration": 8598,
    "start_time": "2022-02-11T17:47:19.817Z"
   },
   {
    "duration": 171,
    "start_time": "2022-02-11T17:47:37.059Z"
   },
   {
    "duration": 7549,
    "start_time": "2022-02-11T17:48:09.529Z"
   },
   {
    "duration": 1847,
    "start_time": "2022-02-11T17:48:17.082Z"
   },
   {
    "duration": 869,
    "start_time": "2022-02-11T17:48:18.932Z"
   },
   {
    "duration": 16,
    "start_time": "2022-02-11T17:48:19.804Z"
   },
   {
    "duration": 50,
    "start_time": "2022-02-11T17:48:19.823Z"
   },
   {
    "duration": 742,
    "start_time": "2022-02-11T17:48:19.876Z"
   },
   {
    "duration": 93,
    "start_time": "2022-02-11T17:48:20.621Z"
   },
   {
    "duration": 13,
    "start_time": "2022-02-11T17:48:20.718Z"
   },
   {
    "duration": 28,
    "start_time": "2022-02-11T17:48:20.734Z"
   },
   {
    "duration": 23,
    "start_time": "2022-02-11T17:48:20.765Z"
   },
   {
    "duration": 87,
    "start_time": "2022-02-11T17:48:20.790Z"
   },
   {
    "duration": 13,
    "start_time": "2022-02-11T17:48:20.880Z"
   },
   {
    "duration": 17,
    "start_time": "2022-02-11T17:48:20.896Z"
   },
   {
    "duration": 20,
    "start_time": "2022-02-11T17:48:20.916Z"
   },
   {
    "duration": 44,
    "start_time": "2022-02-11T17:48:20.939Z"
   },
   {
    "duration": 17,
    "start_time": "2022-02-11T17:48:20.987Z"
   },
   {
    "duration": 53,
    "start_time": "2022-02-11T17:48:21.006Z"
   },
   {
    "duration": 255,
    "start_time": "2022-02-11T17:48:21.066Z"
   },
   {
    "duration": 188,
    "start_time": "2022-02-11T17:48:21.324Z"
   },
   {
    "duration": 5,
    "start_time": "2022-02-11T17:48:21.514Z"
   },
   {
    "duration": 790,
    "start_time": "2022-02-11T17:48:21.522Z"
   },
   {
    "duration": 263,
    "start_time": "2022-02-11T17:48:22.315Z"
   },
   {
    "duration": 5,
    "start_time": "2022-02-11T17:48:22.584Z"
   },
   {
    "duration": 170,
    "start_time": "2022-02-11T17:48:22.594Z"
   },
   {
    "duration": 126,
    "start_time": "2022-02-11T17:48:22.766Z"
   },
   {
    "duration": 5,
    "start_time": "2022-02-11T17:48:22.895Z"
   },
   {
    "duration": 109,
    "start_time": "2022-02-11T17:48:22.902Z"
   },
   {
    "duration": 59,
    "start_time": "2022-02-11T17:48:23.013Z"
   },
   {
    "duration": 5,
    "start_time": "2022-02-11T17:48:23.074Z"
   },
   {
    "duration": 129,
    "start_time": "2022-02-11T17:48:23.082Z"
   },
   {
    "duration": 71,
    "start_time": "2022-02-11T17:48:23.214Z"
   },
   {
    "duration": 32,
    "start_time": "2022-02-11T17:48:23.288Z"
   },
   {
    "duration": 440,
    "start_time": "2022-02-11T17:48:23.323Z"
   },
   {
    "duration": 13,
    "start_time": "2022-02-11T17:48:23.766Z"
   },
   {
    "duration": 144,
    "start_time": "2022-02-11T17:48:23.782Z"
   },
   {
    "duration": 236,
    "start_time": "2022-02-11T17:48:23.928Z"
   },
   {
    "duration": 313,
    "start_time": "2022-02-11T17:48:24.166Z"
   },
   {
    "duration": 181,
    "start_time": "2022-02-11T17:48:24.482Z"
   },
   {
    "duration": 27,
    "start_time": "2022-02-11T17:48:24.666Z"
   },
   {
    "duration": 1576,
    "start_time": "2022-02-11T17:48:24.696Z"
   },
   {
    "duration": 25,
    "start_time": "2022-02-11T17:48:26.274Z"
   },
   {
    "duration": 198,
    "start_time": "2022-02-11T17:48:26.301Z"
   },
   {
    "duration": 59,
    "start_time": "2022-02-11T17:48:26.501Z"
   },
   {
    "duration": 796,
    "start_time": "2022-02-11T17:48:26.563Z"
   },
   {
    "duration": 11,
    "start_time": "2022-02-11T17:48:27.362Z"
   },
   {
    "duration": 83,
    "start_time": "2022-02-11T17:48:27.376Z"
   },
   {
    "duration": 40,
    "start_time": "2022-02-11T17:48:27.463Z"
   },
   {
    "duration": 82,
    "start_time": "2022-02-11T17:48:27.506Z"
   },
   {
    "duration": 25,
    "start_time": "2022-02-11T17:48:27.591Z"
   },
   {
    "duration": 47,
    "start_time": "2022-02-11T17:48:27.618Z"
   },
   {
    "duration": 31,
    "start_time": "2022-02-11T17:48:27.670Z"
   },
   {
    "duration": 69,
    "start_time": "2022-02-11T17:48:27.703Z"
   },
   {
    "duration": 26,
    "start_time": "2022-02-11T17:48:27.776Z"
   },
   {
    "duration": 78,
    "start_time": "2022-02-11T17:48:27.805Z"
   },
   {
    "duration": 26,
    "start_time": "2022-02-11T17:48:27.886Z"
   },
   {
    "duration": 13,
    "start_time": "2022-02-11T17:48:27.915Z"
   },
   {
    "duration": 48,
    "start_time": "2022-02-11T17:48:27.930Z"
   },
   {
    "duration": 53,
    "start_time": "2022-02-11T17:48:27.981Z"
   },
   {
    "duration": 1173,
    "start_time": "2022-02-11T17:48:28.060Z"
   },
   {
    "duration": 27,
    "start_time": "2022-02-11T17:48:29.235Z"
   },
   {
    "duration": 5,
    "start_time": "2022-02-11T17:48:29.264Z"
   },
   {
    "duration": 13,
    "start_time": "2022-02-11T17:48:29.271Z"
   },
   {
    "duration": 222,
    "start_time": "2022-02-11T17:48:29.287Z"
   },
   {
    "duration": 303,
    "start_time": "2022-02-11T17:48:29.512Z"
   },
   {
    "duration": 43,
    "start_time": "2022-02-11T17:48:29.818Z"
   },
   {
    "duration": 14,
    "start_time": "2022-02-11T17:48:29.864Z"
   },
   {
    "duration": 22,
    "start_time": "2022-02-11T17:48:29.881Z"
   },
   {
    "duration": 55,
    "start_time": "2022-02-11T17:48:29.914Z"
   },
   {
    "duration": 17,
    "start_time": "2022-02-11T17:48:29.972Z"
   },
   {
    "duration": 109,
    "start_time": "2022-02-11T17:48:29.992Z"
   },
   {
    "duration": 801,
    "start_time": "2022-02-11T17:48:30.104Z"
   },
   {
    "duration": 145,
    "start_time": "2022-02-11T17:48:30.907Z"
   },
   {
    "duration": 21,
    "start_time": "2022-02-11T17:48:31.054Z"
   },
   {
    "duration": 27,
    "start_time": "2022-02-11T17:48:31.077Z"
   },
   {
    "duration": 58,
    "start_time": "2022-02-11T17:48:31.106Z"
   },
   {
    "duration": 162,
    "start_time": "2022-02-11T17:48:31.168Z"
   },
   {
    "duration": 39,
    "start_time": "2022-02-11T17:48:31.334Z"
   },
   {
    "duration": 52,
    "start_time": "2022-02-11T17:48:31.375Z"
   },
   {
    "duration": 1298,
    "start_time": "2022-02-11T17:48:31.430Z"
   },
   {
    "duration": 49,
    "start_time": "2022-02-11T17:48:32.730Z"
   },
   {
    "duration": 39,
    "start_time": "2022-02-11T17:48:32.783Z"
   },
   {
    "duration": 111,
    "start_time": "2022-02-11T17:48:32.825Z"
   },
   {
    "duration": 110,
    "start_time": "2022-02-11T17:50:57.581Z"
   },
   {
    "duration": 119,
    "start_time": "2022-02-11T17:52:55.689Z"
   },
   {
    "duration": 75,
    "start_time": "2022-02-11T17:57:33.897Z"
   },
   {
    "duration": 5,
    "start_time": "2022-02-12T17:42:44.370Z"
   },
   {
    "duration": 179247,
    "start_time": "2022-02-12T17:46:36.872Z"
   },
   {
    "duration": 1223,
    "start_time": "2022-02-12T17:49:36.121Z"
   },
   {
    "duration": 648,
    "start_time": "2022-02-12T17:49:37.347Z"
   },
   {
    "duration": 12,
    "start_time": "2022-02-12T17:49:37.997Z"
   },
   {
    "duration": 22,
    "start_time": "2022-02-12T17:49:38.012Z"
   },
   {
    "duration": 308,
    "start_time": "2022-02-12T17:49:38.035Z"
   },
   {
    "duration": 50,
    "start_time": "2022-02-12T17:49:38.344Z"
   },
   {
    "duration": 10,
    "start_time": "2022-02-12T17:49:38.396Z"
   },
   {
    "duration": 13,
    "start_time": "2022-02-12T17:49:38.407Z"
   },
   {
    "duration": 10,
    "start_time": "2022-02-12T17:49:38.422Z"
   },
   {
    "duration": 34,
    "start_time": "2022-02-12T17:49:38.434Z"
   },
   {
    "duration": 8,
    "start_time": "2022-02-12T17:49:38.469Z"
   },
   {
    "duration": 11,
    "start_time": "2022-02-12T17:49:38.478Z"
   },
   {
    "duration": 15,
    "start_time": "2022-02-12T17:49:38.491Z"
   },
   {
    "duration": 18,
    "start_time": "2022-02-12T17:49:38.507Z"
   },
   {
    "duration": 12,
    "start_time": "2022-02-12T17:49:38.526Z"
   },
   {
    "duration": 10,
    "start_time": "2022-02-12T17:49:38.539Z"
   },
   {
    "duration": 179,
    "start_time": "2022-02-12T17:49:38.551Z"
   },
   {
    "duration": 120,
    "start_time": "2022-02-12T17:49:38.731Z"
   },
   {
    "duration": 4,
    "start_time": "2022-02-12T17:49:38.852Z"
   },
   {
    "duration": 420,
    "start_time": "2022-02-12T17:49:38.857Z"
   },
   {
    "duration": 154,
    "start_time": "2022-02-12T17:49:39.278Z"
   },
   {
    "duration": 3,
    "start_time": "2022-02-12T17:49:39.436Z"
   },
   {
    "duration": 87,
    "start_time": "2022-02-12T17:49:39.442Z"
   },
   {
    "duration": 86,
    "start_time": "2022-02-12T17:49:39.531Z"
   },
   {
    "duration": 3,
    "start_time": "2022-02-12T17:49:39.619Z"
   },
   {
    "duration": 56,
    "start_time": "2022-02-12T17:49:39.624Z"
   },
   {
    "duration": 62,
    "start_time": "2022-02-12T17:49:39.682Z"
   },
   {
    "duration": 3,
    "start_time": "2022-02-12T17:49:39.746Z"
   },
   {
    "duration": 75,
    "start_time": "2022-02-12T17:49:39.751Z"
   },
   {
    "duration": 32,
    "start_time": "2022-02-12T17:49:39.828Z"
   },
   {
    "duration": 20,
    "start_time": "2022-02-12T17:49:39.862Z"
   },
   {
    "duration": 281,
    "start_time": "2022-02-12T17:49:39.884Z"
   },
   {
    "duration": 7,
    "start_time": "2022-02-12T17:49:40.167Z"
   },
   {
    "duration": 94,
    "start_time": "2022-02-12T17:49:40.175Z"
   },
   {
    "duration": 147,
    "start_time": "2022-02-12T17:49:40.270Z"
   },
   {
    "duration": 223,
    "start_time": "2022-02-12T17:49:40.419Z"
   },
   {
    "duration": 133,
    "start_time": "2022-02-12T17:49:40.644Z"
   },
   {
    "duration": 17,
    "start_time": "2022-02-12T17:49:40.779Z"
   },
   {
    "duration": 1060,
    "start_time": "2022-02-12T17:49:40.798Z"
   },
   {
    "duration": 19,
    "start_time": "2022-02-12T17:49:41.860Z"
   },
   {
    "duration": 137,
    "start_time": "2022-02-12T17:49:41.881Z"
   },
   {
    "duration": 31,
    "start_time": "2022-02-12T17:49:42.020Z"
   },
   {
    "duration": 504,
    "start_time": "2022-02-12T17:49:42.053Z"
   },
   {
    "duration": 6,
    "start_time": "2022-02-12T17:49:42.559Z"
   },
   {
    "duration": 18,
    "start_time": "2022-02-12T17:49:42.566Z"
   },
   {
    "duration": 30,
    "start_time": "2022-02-12T17:49:42.612Z"
   },
   {
    "duration": 24,
    "start_time": "2022-02-12T17:49:42.644Z"
   },
   {
    "duration": 48,
    "start_time": "2022-02-12T17:49:42.669Z"
   },
   {
    "duration": 12,
    "start_time": "2022-02-12T17:49:42.718Z"
   },
   {
    "duration": 14,
    "start_time": "2022-02-12T17:49:42.732Z"
   },
   {
    "duration": 28,
    "start_time": "2022-02-12T17:49:42.748Z"
   },
   {
    "duration": 44,
    "start_time": "2022-02-12T17:49:42.778Z"
   },
   {
    "duration": 48,
    "start_time": "2022-02-12T17:49:42.824Z"
   },
   {
    "duration": 13,
    "start_time": "2022-02-12T17:49:42.874Z"
   },
   {
    "duration": 29,
    "start_time": "2022-02-12T17:49:42.889Z"
   },
   {
    "duration": 12,
    "start_time": "2022-02-12T17:49:42.920Z"
   },
   {
    "duration": 26,
    "start_time": "2022-02-12T17:49:42.933Z"
   },
   {
    "duration": 881,
    "start_time": "2022-02-12T17:49:42.961Z"
   },
   {
    "duration": 11,
    "start_time": "2022-02-12T17:49:43.843Z"
   },
   {
    "duration": 4,
    "start_time": "2022-02-12T17:49:43.855Z"
   },
   {
    "duration": 9,
    "start_time": "2022-02-12T17:49:43.860Z"
   },
   {
    "duration": 145,
    "start_time": "2022-02-12T17:49:43.870Z"
   },
   {
    "duration": 152,
    "start_time": "2022-02-12T17:49:44.017Z"
   },
   {
    "duration": 10,
    "start_time": "2022-02-12T17:49:44.171Z"
   },
   {
    "duration": 31,
    "start_time": "2022-02-12T17:49:44.182Z"
   },
   {
    "duration": 10,
    "start_time": "2022-02-12T17:49:44.215Z"
   },
   {
    "duration": 11,
    "start_time": "2022-02-12T17:49:44.231Z"
   },
   {
    "duration": 12,
    "start_time": "2022-02-12T17:49:44.244Z"
   },
   {
    "duration": 80,
    "start_time": "2022-02-12T17:49:44.257Z"
   },
   {
    "duration": 540,
    "start_time": "2022-02-12T17:49:44.339Z"
   },
   {
    "duration": 61,
    "start_time": "2022-02-12T17:49:44.881Z"
   },
   {
    "duration": 11,
    "start_time": "2022-02-12T17:49:44.943Z"
   },
   {
    "duration": 15,
    "start_time": "2022-02-12T17:49:44.956Z"
   },
   {
    "duration": 13,
    "start_time": "2022-02-12T17:49:44.973Z"
   },
   {
    "duration": 74,
    "start_time": "2022-02-12T17:49:45.013Z"
   },
   {
    "duration": 31,
    "start_time": "2022-02-12T17:49:45.088Z"
   },
   {
    "duration": 29,
    "start_time": "2022-02-12T17:49:45.121Z"
   },
   {
    "duration": 843,
    "start_time": "2022-02-12T17:49:45.151Z"
   },
   {
    "duration": 28,
    "start_time": "2022-02-12T17:49:45.996Z"
   },
   {
    "duration": 16,
    "start_time": "2022-02-12T17:49:46.026Z"
   },
   {
    "duration": 68,
    "start_time": "2022-02-12T17:49:46.044Z"
   },
   {
    "duration": 49,
    "start_time": "2022-02-12T18:07:18.378Z"
   },
   {
    "duration": 51,
    "start_time": "2022-02-12T18:07:31.640Z"
   },
   {
    "duration": 48,
    "start_time": "2022-02-12T18:07:57.942Z"
   },
   {
    "duration": 105231,
    "start_time": "2022-02-14T10:03:21.858Z"
   },
   {
    "duration": 1727,
    "start_time": "2022-02-14T10:05:07.091Z"
   },
   {
    "duration": 959,
    "start_time": "2022-02-14T10:06:21.126Z"
   },
   {
    "duration": 13,
    "start_time": "2022-02-14T10:06:27.742Z"
   },
   {
    "duration": 33,
    "start_time": "2022-02-14T10:06:27.757Z"
   },
   {
    "duration": 1194,
    "start_time": "2022-02-14T10:06:27.792Z"
   },
   {
    "duration": 79,
    "start_time": "2022-02-14T10:06:28.988Z"
   },
   {
    "duration": 10,
    "start_time": "2022-02-14T10:06:29.069Z"
   },
   {
    "duration": 10,
    "start_time": "2022-02-14T10:06:29.081Z"
   },
   {
    "duration": 12,
    "start_time": "2022-02-14T10:06:29.093Z"
   },
   {
    "duration": 84,
    "start_time": "2022-02-14T10:06:29.108Z"
   },
   {
    "duration": 8,
    "start_time": "2022-02-14T10:06:29.194Z"
   },
   {
    "duration": 11,
    "start_time": "2022-02-14T10:06:29.204Z"
   },
   {
    "duration": 14,
    "start_time": "2022-02-14T10:06:29.217Z"
   },
   {
    "duration": 17,
    "start_time": "2022-02-14T10:06:29.232Z"
   },
   {
    "duration": 16,
    "start_time": "2022-02-14T10:06:29.251Z"
   },
   {
    "duration": 16,
    "start_time": "2022-02-14T10:06:29.269Z"
   },
   {
    "duration": 186,
    "start_time": "2022-02-14T10:06:29.287Z"
   },
   {
    "duration": 121,
    "start_time": "2022-02-14T10:06:29.475Z"
   },
   {
    "duration": 3,
    "start_time": "2022-02-14T10:06:29.598Z"
   },
   {
    "duration": 832,
    "start_time": "2022-02-14T10:06:29.603Z"
   },
   {
    "duration": 220,
    "start_time": "2022-02-14T10:06:30.437Z"
   },
   {
    "duration": 4,
    "start_time": "2022-02-14T10:06:30.659Z"
   },
   {
    "duration": 102,
    "start_time": "2022-02-14T10:06:30.665Z"
   },
   {
    "duration": 124,
    "start_time": "2022-02-14T10:06:30.769Z"
   },
   {
    "duration": 5,
    "start_time": "2022-02-14T10:06:30.899Z"
   },
   {
    "duration": 67,
    "start_time": "2022-02-14T10:06:30.907Z"
   },
   {
    "duration": 36,
    "start_time": "2022-02-14T10:06:30.976Z"
   },
   {
    "duration": 4,
    "start_time": "2022-02-14T10:06:31.030Z"
   },
   {
    "duration": 71,
    "start_time": "2022-02-14T10:06:31.036Z"
   },
   {
    "duration": 46,
    "start_time": "2022-02-14T10:06:31.109Z"
   },
   {
    "duration": 23,
    "start_time": "2022-02-14T10:06:31.157Z"
   },
   {
    "duration": 401,
    "start_time": "2022-02-14T10:06:31.181Z"
   },
   {
    "duration": 10,
    "start_time": "2022-02-14T10:06:31.584Z"
   },
   {
    "duration": 100,
    "start_time": "2022-02-14T10:06:31.596Z"
   },
   {
    "duration": 153,
    "start_time": "2022-02-14T10:06:31.698Z"
   },
   {
    "duration": 297,
    "start_time": "2022-02-14T10:06:31.853Z"
   },
   {
    "duration": 131,
    "start_time": "2022-02-14T10:06:32.152Z"
   },
   {
    "duration": 17,
    "start_time": "2022-02-14T10:06:32.286Z"
   },
   {
    "duration": 1341,
    "start_time": "2022-02-14T10:06:32.305Z"
   },
   {
    "duration": 22,
    "start_time": "2022-02-14T10:06:33.649Z"
   },
   {
    "duration": 184,
    "start_time": "2022-02-14T10:06:33.673Z"
   },
   {
    "duration": 32,
    "start_time": "2022-02-14T10:06:33.859Z"
   },
   {
    "duration": 773,
    "start_time": "2022-02-14T10:06:33.893Z"
   },
   {
    "duration": 7,
    "start_time": "2022-02-14T10:06:34.668Z"
   },
   {
    "duration": 58,
    "start_time": "2022-02-14T10:06:34.677Z"
   },
   {
    "duration": 36,
    "start_time": "2022-02-14T10:06:34.737Z"
   },
   {
    "duration": 56,
    "start_time": "2022-02-14T10:06:34.775Z"
   },
   {
    "duration": 17,
    "start_time": "2022-02-14T10:06:34.833Z"
   },
   {
    "duration": 14,
    "start_time": "2022-02-14T10:06:34.853Z"
   },
   {
    "duration": 16,
    "start_time": "2022-02-14T10:06:34.869Z"
   },
   {
    "duration": 62,
    "start_time": "2022-02-14T10:06:34.887Z"
   },
   {
    "duration": 15,
    "start_time": "2022-02-14T10:06:34.951Z"
   },
   {
    "duration": 28,
    "start_time": "2022-02-14T10:06:34.967Z"
   },
   {
    "duration": 39,
    "start_time": "2022-02-14T10:06:34.996Z"
   },
   {
    "duration": 7,
    "start_time": "2022-02-14T10:06:35.037Z"
   },
   {
    "duration": 18,
    "start_time": "2022-02-14T10:06:35.047Z"
   },
   {
    "duration": 31,
    "start_time": "2022-02-14T10:06:35.067Z"
   },
   {
    "duration": 1078,
    "start_time": "2022-02-14T10:06:35.100Z"
   },
   {
    "duration": 13,
    "start_time": "2022-02-14T10:06:36.182Z"
   },
   {
    "duration": 4,
    "start_time": "2022-02-14T10:06:36.197Z"
   },
   {
    "duration": 33,
    "start_time": "2022-02-14T10:06:36.203Z"
   },
   {
    "duration": 181,
    "start_time": "2022-02-14T10:06:36.238Z"
   },
   {
    "duration": 255,
    "start_time": "2022-02-14T10:06:36.421Z"
   },
   {
    "duration": 13,
    "start_time": "2022-02-14T10:06:36.678Z"
   },
   {
    "duration": 38,
    "start_time": "2022-02-14T10:06:36.693Z"
   },
   {
    "duration": 15,
    "start_time": "2022-02-14T10:06:36.733Z"
   },
   {
    "duration": 15,
    "start_time": "2022-02-14T10:06:36.750Z"
   },
   {
    "duration": 17,
    "start_time": "2022-02-14T10:06:36.767Z"
   },
   {
    "duration": 101,
    "start_time": "2022-02-14T10:06:36.786Z"
   },
   {
    "duration": 878,
    "start_time": "2022-02-14T10:06:36.893Z"
   },
   {
    "duration": 92,
    "start_time": "2022-02-14T10:06:37.773Z"
   },
   {
    "duration": 14,
    "start_time": "2022-02-14T10:06:37.867Z"
   },
   {
    "duration": 23,
    "start_time": "2022-02-14T10:06:37.883Z"
   },
   {
    "duration": 39,
    "start_time": "2022-02-14T10:06:37.908Z"
   },
   {
    "duration": 122,
    "start_time": "2022-02-14T10:06:37.948Z"
   },
   {
    "duration": 20,
    "start_time": "2022-02-14T10:06:38.071Z"
   },
   {
    "duration": 47,
    "start_time": "2022-02-14T10:06:38.093Z"
   },
   {
    "duration": 834,
    "start_time": "2022-02-14T10:06:38.142Z"
   },
   {
    "duration": 27,
    "start_time": "2022-02-14T10:06:38.978Z"
   },
   {
    "duration": 36,
    "start_time": "2022-02-14T10:06:39.007Z"
   },
   {
    "duration": 101,
    "start_time": "2022-02-14T10:06:39.045Z"
   },
   {
    "duration": 7,
    "start_time": "2022-02-14T10:07:33.379Z"
   },
   {
    "duration": 442,
    "start_time": "2022-02-14T10:07:40.050Z"
   },
   {
    "duration": 174,
    "start_time": "2022-02-14T10:07:46.996Z"
   },
   {
    "duration": 8,
    "start_time": "2022-02-14T10:07:53.792Z"
   }
  ],
  "kernelspec": {
   "display_name": "Python 3 (ipykernel)",
   "language": "python",
   "name": "python3"
  },
  "language_info": {
   "codemirror_mode": {
    "name": "ipython",
    "version": 3
   },
   "file_extension": ".py",
   "mimetype": "text/x-python",
   "name": "python",
   "nbconvert_exporter": "python",
   "pygments_lexer": "ipython3",
   "version": "3.7.10"
  },
  "toc": {
   "base_numbering": 1,
   "nav_menu": {
    "height": "302px",
    "width": "500px"
   },
   "number_sections": true,
   "sideBar": true,
   "skip_h1_title": true,
   "title_cell": "Table of Contents",
   "title_sidebar": "Contents",
   "toc_cell": false,
   "toc_position": {},
   "toc_section_display": true,
   "toc_window_display": false
  }
 },
 "nbformat": 4,
 "nbformat_minor": 2
}
