{
 "cells": [
  {
   "cell_type": "code",
   "execution_count": null,
   "metadata": {},
   "outputs": [],
   "source": [
    "!pip install plotly -Uq\n",
    "!pip install sidetable -Uq"
   ]
  },
  {
   "cell_type": "code",
   "execution_count": 1,
   "metadata": {},
   "outputs": [
    {
     "name": "stdout",
     "output_type": "stream",
     "text": [
      "Requirement already satisfied: kaleido in c:\\users\\dell\\miniconda3\\lib\\site-packages (0.2.1)\n"
     ]
    }
   ],
   "source": [
    "!pip install -U kaleido"
   ]
  },
  {
   "cell_type": "code",
   "execution_count": 2,
   "metadata": {},
   "outputs": [],
   "source": [
    "import pandas as pd\n",
    "import matplotlib.pyplot as plt\n",
    "import seaborn as sns\n",
    "from scipy import stats as st\n",
    "import numpy as np\n",
    "import plotly.express as px\n",
    "import plotly.graph_objects as go\n",
    "import sidetable"
   ]
  },
  {
   "cell_type": "markdown",
   "metadata": {},
   "source": [
    "# Project description\n",
    "So our task is to help optimize marketing expenses.   \n",
    "\n",
    "**We have:**    \n",
    "* Server logs with data on Yandex.Afisha visits from June 2017 through May 2018   \n",
    "* Dump file with all orders for the period   \n",
    "* Marketing expenses statistics   \n",
    "\n",
    "**You are going to study:**    \n",
    "* How people use the product    \n",
    "* When they start to buy\n",
    "* How much money each customer brings    \n",
    "* When they pay off   \n",
    "\n",
    "\n",
    "Let's divide our work on next steps:\n",
    "\n",
    "*1. Step 1 - Let's study our data in general, what we should work with and optimize little bit*   \n",
    "*2. Step 2 - Let's make reports and calculate metrics in terms of sales, marketing and product*   \n",
    "*3. Step 3 - Let's formulate advice for marketing experts how much money to invest and where in conclusion.*   "
   ]
  },
  {
   "cell_type": "markdown",
   "metadata": {},
   "source": [
    "### Step 1. Take a look at general information\n",
    "Ok, we going to proceed to first step and at once from beginning I'll optimize columns in \"read_csv\" method: "
   ]
  },
  {
   "cell_type": "code",
   "execution_count": 3,
   "metadata": {},
   "outputs": [],
   "source": [
    "try:\n",
    "    visits = pd.read_csv(r\"C:\\Users\\Dell\\Documents\\tempPy\\myProjects\\ForGit\\Business_Analytics_YaAfisha\\visits_log_us.csv\", dtype={'Device': 'category'}, parse_dates=['Start Ts', 'End Ts'])\n",
    "except:\n",
    "    print('Try another database')"
   ]
  },
  {
   "cell_type": "code",
   "execution_count": null,
   "metadata": {},
   "outputs": [],
   "source": [
    "visits.info(memory_usage='deep')"
   ]
  },
  {
   "cell_type": "code",
   "execution_count": null,
   "metadata": {},
   "outputs": [],
   "source": [
    "visits.sample(10) "
   ]
  },
  {
   "cell_type": "code",
   "execution_count": null,
   "metadata": {},
   "outputs": [],
   "source": [
    "visits.stb.missing(style = True)"
   ]
  },
  {
   "cell_type": "code",
   "execution_count": 4,
   "metadata": {},
   "outputs": [],
   "source": [
    "try:\n",
    "    orders = pd.read_csv(r\"C:\\Users\\Dell\\Documents\\tempPy\\myProjects\\ForGit\\Business_Analytics_YaAfisha\\orders_log_us.csv\", parse_dates=['Buy Ts'])\n",
    "except:\n",
    "    print('Try another database')"
   ]
  },
  {
   "cell_type": "code",
   "execution_count": null,
   "metadata": {},
   "outputs": [],
   "source": [
    "orders.info(memory_usage='deep')"
   ]
  },
  {
   "cell_type": "code",
   "execution_count": null,
   "metadata": {},
   "outputs": [],
   "source": [
    "orders.sample(10)"
   ]
  },
  {
   "cell_type": "code",
   "execution_count": null,
   "metadata": {},
   "outputs": [],
   "source": [
    "orders.stb.missing(style = True)"
   ]
  },
  {
   "cell_type": "code",
   "execution_count": 5,
   "metadata": {},
   "outputs": [],
   "source": [
    "try:\n",
    "    costs = pd.read_csv(r\"C:\\Users\\Dell\\Documents\\tempPy\\myProjects\\ForGit\\Business_Analytics_YaAfisha\\costs_us.csv\", parse_dates=['dt'])\n",
    "except:\n",
    "    print('Try another database')"
   ]
  },
  {
   "cell_type": "code",
   "execution_count": null,
   "metadata": {},
   "outputs": [],
   "source": [
    "costs.info(memory_usage = 'deep')"
   ]
  },
  {
   "cell_type": "code",
   "execution_count": null,
   "metadata": {},
   "outputs": [],
   "source": [
    "costs.sample(10)"
   ]
  },
  {
   "cell_type": "code",
   "execution_count": null,
   "metadata": {},
   "outputs": [],
   "source": [
    "costs.stb.missing(style = True)"
   ]
  },
  {
   "cell_type": "markdown",
   "metadata": {},
   "source": [
    "As we see we don't have any missing values, just let's change names of columns (convert to lower case and replace spaces for convenience) and we can proceed to next step"
   ]
  },
  {
   "cell_type": "code",
   "execution_count": 6,
   "metadata": {},
   "outputs": [
    {
     "data": {
      "text/html": [
       "<div>\n",
       "<style scoped>\n",
       "    .dataframe tbody tr th:only-of-type {\n",
       "        vertical-align: middle;\n",
       "    }\n",
       "\n",
       "    .dataframe tbody tr th {\n",
       "        vertical-align: top;\n",
       "    }\n",
       "\n",
       "    .dataframe thead th {\n",
       "        text-align: right;\n",
       "    }\n",
       "</style>\n",
       "<table border=\"1\" class=\"dataframe\">\n",
       "  <thead>\n",
       "    <tr style=\"text-align: right;\">\n",
       "      <th></th>\n",
       "      <th>device</th>\n",
       "      <th>end_ts</th>\n",
       "      <th>source_id</th>\n",
       "      <th>start_ts</th>\n",
       "      <th>uid</th>\n",
       "    </tr>\n",
       "  </thead>\n",
       "  <tbody>\n",
       "    <tr>\n",
       "      <th>0</th>\n",
       "      <td>touch</td>\n",
       "      <td>2017-12-20 17:38:00</td>\n",
       "      <td>4</td>\n",
       "      <td>2017-12-20 17:20:00</td>\n",
       "      <td>16879256277535980062</td>\n",
       "    </tr>\n",
       "    <tr>\n",
       "      <th>1</th>\n",
       "      <td>desktop</td>\n",
       "      <td>2018-02-19 17:21:00</td>\n",
       "      <td>2</td>\n",
       "      <td>2018-02-19 16:53:00</td>\n",
       "      <td>104060357244891740</td>\n",
       "    </tr>\n",
       "    <tr>\n",
       "      <th>2</th>\n",
       "      <td>touch</td>\n",
       "      <td>2017-07-01 01:54:00</td>\n",
       "      <td>5</td>\n",
       "      <td>2017-07-01 01:54:00</td>\n",
       "      <td>7459035603376831527</td>\n",
       "    </tr>\n",
       "    <tr>\n",
       "      <th>3</th>\n",
       "      <td>desktop</td>\n",
       "      <td>2018-05-20 11:23:00</td>\n",
       "      <td>9</td>\n",
       "      <td>2018-05-20 10:59:00</td>\n",
       "      <td>16174680259334210214</td>\n",
       "    </tr>\n",
       "    <tr>\n",
       "      <th>4</th>\n",
       "      <td>desktop</td>\n",
       "      <td>2017-12-27 14:06:00</td>\n",
       "      <td>3</td>\n",
       "      <td>2017-12-27 14:06:00</td>\n",
       "      <td>9969694820036681168</td>\n",
       "    </tr>\n",
       "    <tr>\n",
       "      <th>...</th>\n",
       "      <td>...</td>\n",
       "      <td>...</td>\n",
       "      <td>...</td>\n",
       "      <td>...</td>\n",
       "      <td>...</td>\n",
       "    </tr>\n",
       "    <tr>\n",
       "      <th>359395</th>\n",
       "      <td>desktop</td>\n",
       "      <td>2017-07-29 19:07:19</td>\n",
       "      <td>2</td>\n",
       "      <td>2017-07-29 19:07:00</td>\n",
       "      <td>18363291481961487539</td>\n",
       "    </tr>\n",
       "    <tr>\n",
       "      <th>359396</th>\n",
       "      <td>touch</td>\n",
       "      <td>2018-01-25 17:38:19</td>\n",
       "      <td>1</td>\n",
       "      <td>2018-01-25 17:38:00</td>\n",
       "      <td>18370831553019119586</td>\n",
       "    </tr>\n",
       "    <tr>\n",
       "      <th>359397</th>\n",
       "      <td>desktop</td>\n",
       "      <td>2018-03-03 10:12:19</td>\n",
       "      <td>4</td>\n",
       "      <td>2018-03-03 10:12:00</td>\n",
       "      <td>18387297585500748294</td>\n",
       "    </tr>\n",
       "    <tr>\n",
       "      <th>359398</th>\n",
       "      <td>desktop</td>\n",
       "      <td>2017-11-02 10:12:19</td>\n",
       "      <td>5</td>\n",
       "      <td>2017-11-02 10:12:00</td>\n",
       "      <td>18388616944624776485</td>\n",
       "    </tr>\n",
       "    <tr>\n",
       "      <th>359399</th>\n",
       "      <td>touch</td>\n",
       "      <td>2017-09-10 13:13:19</td>\n",
       "      <td>2</td>\n",
       "      <td>2017-09-10 13:13:00</td>\n",
       "      <td>18396128934054549559</td>\n",
       "    </tr>\n",
       "  </tbody>\n",
       "</table>\n",
       "<p>359400 rows × 5 columns</p>\n",
       "</div>"
      ],
      "text/plain": [
       "         device              end_ts  source_id            start_ts  \\\n",
       "0         touch 2017-12-20 17:38:00          4 2017-12-20 17:20:00   \n",
       "1       desktop 2018-02-19 17:21:00          2 2018-02-19 16:53:00   \n",
       "2         touch 2017-07-01 01:54:00          5 2017-07-01 01:54:00   \n",
       "3       desktop 2018-05-20 11:23:00          9 2018-05-20 10:59:00   \n",
       "4       desktop 2017-12-27 14:06:00          3 2017-12-27 14:06:00   \n",
       "...         ...                 ...        ...                 ...   \n",
       "359395  desktop 2017-07-29 19:07:19          2 2017-07-29 19:07:00   \n",
       "359396    touch 2018-01-25 17:38:19          1 2018-01-25 17:38:00   \n",
       "359397  desktop 2018-03-03 10:12:19          4 2018-03-03 10:12:00   \n",
       "359398  desktop 2017-11-02 10:12:19          5 2017-11-02 10:12:00   \n",
       "359399    touch 2017-09-10 13:13:19          2 2017-09-10 13:13:00   \n",
       "\n",
       "                         uid  \n",
       "0       16879256277535980062  \n",
       "1         104060357244891740  \n",
       "2        7459035603376831527  \n",
       "3       16174680259334210214  \n",
       "4        9969694820036681168  \n",
       "...                      ...  \n",
       "359395  18363291481961487539  \n",
       "359396  18370831553019119586  \n",
       "359397  18387297585500748294  \n",
       "359398  18388616944624776485  \n",
       "359399  18396128934054549559  \n",
       "\n",
       "[359400 rows x 5 columns]"
      ]
     },
     "execution_count": 6,
     "metadata": {},
     "output_type": "execute_result"
    }
   ],
   "source": [
    "visits.columns = visits.columns.str.lower()\n",
    "visits.columns = visits.columns.str.replace(' ', '_')\n",
    "visits"
   ]
  },
  {
   "cell_type": "code",
   "execution_count": 7,
   "metadata": {},
   "outputs": [
    {
     "data": {
      "text/html": [
       "<div>\n",
       "<style scoped>\n",
       "    .dataframe tbody tr th:only-of-type {\n",
       "        vertical-align: middle;\n",
       "    }\n",
       "\n",
       "    .dataframe tbody tr th {\n",
       "        vertical-align: top;\n",
       "    }\n",
       "\n",
       "    .dataframe thead th {\n",
       "        text-align: right;\n",
       "    }\n",
       "</style>\n",
       "<table border=\"1\" class=\"dataframe\">\n",
       "  <thead>\n",
       "    <tr style=\"text-align: right;\">\n",
       "      <th></th>\n",
       "      <th>buy_ts</th>\n",
       "      <th>revenue</th>\n",
       "      <th>uid</th>\n",
       "    </tr>\n",
       "  </thead>\n",
       "  <tbody>\n",
       "    <tr>\n",
       "      <th>0</th>\n",
       "      <td>2017-06-01 00:10:00</td>\n",
       "      <td>17.00</td>\n",
       "      <td>10329302124590727494</td>\n",
       "    </tr>\n",
       "    <tr>\n",
       "      <th>1</th>\n",
       "      <td>2017-06-01 00:25:00</td>\n",
       "      <td>0.55</td>\n",
       "      <td>11627257723692907447</td>\n",
       "    </tr>\n",
       "    <tr>\n",
       "      <th>2</th>\n",
       "      <td>2017-06-01 00:27:00</td>\n",
       "      <td>0.37</td>\n",
       "      <td>17903680561304213844</td>\n",
       "    </tr>\n",
       "    <tr>\n",
       "      <th>3</th>\n",
       "      <td>2017-06-01 00:29:00</td>\n",
       "      <td>0.55</td>\n",
       "      <td>16109239769442553005</td>\n",
       "    </tr>\n",
       "    <tr>\n",
       "      <th>4</th>\n",
       "      <td>2017-06-01 07:58:00</td>\n",
       "      <td>0.37</td>\n",
       "      <td>14200605875248379450</td>\n",
       "    </tr>\n",
       "    <tr>\n",
       "      <th>...</th>\n",
       "      <td>...</td>\n",
       "      <td>...</td>\n",
       "      <td>...</td>\n",
       "    </tr>\n",
       "    <tr>\n",
       "      <th>50410</th>\n",
       "      <td>2018-05-31 23:50:00</td>\n",
       "      <td>4.64</td>\n",
       "      <td>12296626599487328624</td>\n",
       "    </tr>\n",
       "    <tr>\n",
       "      <th>50411</th>\n",
       "      <td>2018-05-31 23:50:00</td>\n",
       "      <td>5.80</td>\n",
       "      <td>11369640365507475976</td>\n",
       "    </tr>\n",
       "    <tr>\n",
       "      <th>50412</th>\n",
       "      <td>2018-05-31 23:54:00</td>\n",
       "      <td>0.30</td>\n",
       "      <td>1786462140797698849</td>\n",
       "    </tr>\n",
       "    <tr>\n",
       "      <th>50413</th>\n",
       "      <td>2018-05-31 23:56:00</td>\n",
       "      <td>3.67</td>\n",
       "      <td>3993697860786194247</td>\n",
       "    </tr>\n",
       "    <tr>\n",
       "      <th>50414</th>\n",
       "      <td>2018-06-01 00:02:00</td>\n",
       "      <td>3.42</td>\n",
       "      <td>83872787173869366</td>\n",
       "    </tr>\n",
       "  </tbody>\n",
       "</table>\n",
       "<p>50415 rows × 3 columns</p>\n",
       "</div>"
      ],
      "text/plain": [
       "                   buy_ts  revenue                   uid\n",
       "0     2017-06-01 00:10:00    17.00  10329302124590727494\n",
       "1     2017-06-01 00:25:00     0.55  11627257723692907447\n",
       "2     2017-06-01 00:27:00     0.37  17903680561304213844\n",
       "3     2017-06-01 00:29:00     0.55  16109239769442553005\n",
       "4     2017-06-01 07:58:00     0.37  14200605875248379450\n",
       "...                   ...      ...                   ...\n",
       "50410 2018-05-31 23:50:00     4.64  12296626599487328624\n",
       "50411 2018-05-31 23:50:00     5.80  11369640365507475976\n",
       "50412 2018-05-31 23:54:00     0.30   1786462140797698849\n",
       "50413 2018-05-31 23:56:00     3.67   3993697860786194247\n",
       "50414 2018-06-01 00:02:00     3.42     83872787173869366\n",
       "\n",
       "[50415 rows x 3 columns]"
      ]
     },
     "execution_count": 7,
     "metadata": {},
     "output_type": "execute_result"
    }
   ],
   "source": [
    "orders.columns = orders.columns.str.lower() \n",
    "orders.columns = orders.columns.str.replace(' ', '_')\n",
    "orders"
   ]
  },
  {
   "cell_type": "code",
   "execution_count": 8,
   "metadata": {},
   "outputs": [
    {
     "data": {
      "text/html": [
       "<div>\n",
       "<style scoped>\n",
       "    .dataframe tbody tr th:only-of-type {\n",
       "        vertical-align: middle;\n",
       "    }\n",
       "\n",
       "    .dataframe tbody tr th {\n",
       "        vertical-align: top;\n",
       "    }\n",
       "\n",
       "    .dataframe thead th {\n",
       "        text-align: right;\n",
       "    }\n",
       "</style>\n",
       "<table border=\"1\" class=\"dataframe\">\n",
       "  <thead>\n",
       "    <tr style=\"text-align: right;\">\n",
       "      <th></th>\n",
       "      <th>source_id</th>\n",
       "      <th>dt</th>\n",
       "      <th>costs</th>\n",
       "    </tr>\n",
       "  </thead>\n",
       "  <tbody>\n",
       "    <tr>\n",
       "      <th>0</th>\n",
       "      <td>1</td>\n",
       "      <td>2017-06-01</td>\n",
       "      <td>75.20</td>\n",
       "    </tr>\n",
       "    <tr>\n",
       "      <th>1</th>\n",
       "      <td>1</td>\n",
       "      <td>2017-06-02</td>\n",
       "      <td>62.25</td>\n",
       "    </tr>\n",
       "    <tr>\n",
       "      <th>2</th>\n",
       "      <td>1</td>\n",
       "      <td>2017-06-03</td>\n",
       "      <td>36.53</td>\n",
       "    </tr>\n",
       "    <tr>\n",
       "      <th>3</th>\n",
       "      <td>1</td>\n",
       "      <td>2017-06-04</td>\n",
       "      <td>55.00</td>\n",
       "    </tr>\n",
       "    <tr>\n",
       "      <th>4</th>\n",
       "      <td>1</td>\n",
       "      <td>2017-06-05</td>\n",
       "      <td>57.08</td>\n",
       "    </tr>\n",
       "    <tr>\n",
       "      <th>...</th>\n",
       "      <td>...</td>\n",
       "      <td>...</td>\n",
       "      <td>...</td>\n",
       "    </tr>\n",
       "    <tr>\n",
       "      <th>2537</th>\n",
       "      <td>10</td>\n",
       "      <td>2018-05-27</td>\n",
       "      <td>9.92</td>\n",
       "    </tr>\n",
       "    <tr>\n",
       "      <th>2538</th>\n",
       "      <td>10</td>\n",
       "      <td>2018-05-28</td>\n",
       "      <td>21.26</td>\n",
       "    </tr>\n",
       "    <tr>\n",
       "      <th>2539</th>\n",
       "      <td>10</td>\n",
       "      <td>2018-05-29</td>\n",
       "      <td>11.32</td>\n",
       "    </tr>\n",
       "    <tr>\n",
       "      <th>2540</th>\n",
       "      <td>10</td>\n",
       "      <td>2018-05-30</td>\n",
       "      <td>33.15</td>\n",
       "    </tr>\n",
       "    <tr>\n",
       "      <th>2541</th>\n",
       "      <td>10</td>\n",
       "      <td>2018-05-31</td>\n",
       "      <td>17.60</td>\n",
       "    </tr>\n",
       "  </tbody>\n",
       "</table>\n",
       "<p>2542 rows × 3 columns</p>\n",
       "</div>"
      ],
      "text/plain": [
       "      source_id         dt  costs\n",
       "0             1 2017-06-01  75.20\n",
       "1             1 2017-06-02  62.25\n",
       "2             1 2017-06-03  36.53\n",
       "3             1 2017-06-04  55.00\n",
       "4             1 2017-06-05  57.08\n",
       "...         ...        ...    ...\n",
       "2537         10 2018-05-27   9.92\n",
       "2538         10 2018-05-28  21.26\n",
       "2539         10 2018-05-29  11.32\n",
       "2540         10 2018-05-30  33.15\n",
       "2541         10 2018-05-31  17.60\n",
       "\n",
       "[2542 rows x 3 columns]"
      ]
     },
     "execution_count": 8,
     "metadata": {},
     "output_type": "execute_result"
    }
   ],
   "source": [
    "costs.columns = costs.columns.str.lower()\n",
    "costs.columns = costs.columns.str.replace(' ', '_')\n",
    "costs"
   ]
  },
  {
   "cell_type": "markdown",
   "metadata": {},
   "source": [
    "### Step 2. Reports and calculations   \n",
    "Ok, let's describe what kind of questions we have to discuss"
   ]
  },
  {
   "cell_type": "markdown",
   "metadata": {},
   "source": [
    "#### **Product**   \n",
    " - How many people use it every day, week, and month?   \n",
    " - How many sessions are there per day? (One user might have more than one session.)    \n",
    " - What is the length of each session?   \n",
    " - How often do users come back?   "
   ]
  },
  {
   "cell_type": "markdown",
   "metadata": {},
   "source": [
    "##### How many people use it every day, week, and month?   \n",
    "Ok, let's plot graphs for daily/weekly/monthly users activity"
   ]
  },
  {
   "cell_type": "code",
   "execution_count": 9,
   "metadata": {},
   "outputs": [],
   "source": [
    "visits['month'] = visits['start_ts'].astype('datetime64[M]')\n",
    "visits['week'] = visits['start_ts'].astype('datetime64[W]')\n",
    "visits['date'] = visits['start_ts'].dt.date"
   ]
  },
  {
   "cell_type": "code",
   "execution_count": 10,
   "metadata": {},
   "outputs": [
    {
     "data": {
      "text/html": [
       "<div>\n",
       "<style scoped>\n",
       "    .dataframe tbody tr th:only-of-type {\n",
       "        vertical-align: middle;\n",
       "    }\n",
       "\n",
       "    .dataframe tbody tr th {\n",
       "        vertical-align: top;\n",
       "    }\n",
       "\n",
       "    .dataframe thead th {\n",
       "        text-align: right;\n",
       "    }\n",
       "</style>\n",
       "<table border=\"1\" class=\"dataframe\">\n",
       "  <thead>\n",
       "    <tr style=\"text-align: right;\">\n",
       "      <th></th>\n",
       "      <th>date</th>\n",
       "      <th>uid</th>\n",
       "    </tr>\n",
       "  </thead>\n",
       "  <tbody>\n",
       "    <tr>\n",
       "      <th>0</th>\n",
       "      <td>2017-06-01</td>\n",
       "      <td>605</td>\n",
       "    </tr>\n",
       "    <tr>\n",
       "      <th>1</th>\n",
       "      <td>2017-06-02</td>\n",
       "      <td>608</td>\n",
       "    </tr>\n",
       "    <tr>\n",
       "      <th>2</th>\n",
       "      <td>2017-06-03</td>\n",
       "      <td>445</td>\n",
       "    </tr>\n",
       "    <tr>\n",
       "      <th>3</th>\n",
       "      <td>2017-06-04</td>\n",
       "      <td>476</td>\n",
       "    </tr>\n",
       "    <tr>\n",
       "      <th>4</th>\n",
       "      <td>2017-06-05</td>\n",
       "      <td>820</td>\n",
       "    </tr>\n",
       "  </tbody>\n",
       "</table>\n",
       "</div>"
      ],
      "text/plain": [
       "         date  uid\n",
       "0  2017-06-01  605\n",
       "1  2017-06-02  608\n",
       "2  2017-06-03  445\n",
       "3  2017-06-04  476\n",
       "4  2017-06-05  820"
      ]
     },
     "execution_count": 10,
     "metadata": {},
     "output_type": "execute_result"
    }
   ],
   "source": [
    "dau = visits.groupby('date').agg({'uid':'nunique'}).reset_index()\n",
    "dau.head()"
   ]
  },
  {
   "cell_type": "code",
   "execution_count": 11,
   "metadata": {},
   "outputs": [
    {
     "name": "stdout",
     "output_type": "stream",
     "text": [
      "Average DAU: 907.9917582417582\n"
     ]
    }
   ],
   "source": [
    "print('Average DAU:', dau['uid'].mean())"
   ]
  },
  {
   "cell_type": "code",
   "execution_count": 14,
   "metadata": {},
   "outputs": [
    {
     "data": {
      "image/svg+xml": [
       "<svg class=\"main-svg\" xmlns=\"http://www.w3.org/2000/svg\" xmlns:xlink=\"http://www.w3.org/1999/xlink\" width=\"700\" height=\"500\" style=\"\" viewBox=\"0 0 700 500\"><rect x=\"0\" y=\"0\" width=\"700\" height=\"500\" style=\"fill: rgb(255, 255, 255); fill-opacity: 1;\"/><defs id=\"defs-951678\"><g class=\"clips\"><clipPath id=\"clip951678xyplot\" class=\"plotclip\"><rect width=\"540\" height=\"320\"/></clipPath><clipPath class=\"axesclip\" id=\"clip951678x\"><rect x=\"80\" y=\"0\" width=\"540\" height=\"500\"/></clipPath><clipPath class=\"axesclip\" id=\"clip951678y\"><rect x=\"0\" y=\"100\" width=\"700\" height=\"320\"/></clipPath><clipPath class=\"axesclip\" id=\"clip951678xy\"><rect x=\"80\" y=\"100\" width=\"540\" height=\"320\"/></clipPath></g><g class=\"gradients\"/><g class=\"patterns\"/></defs><g class=\"bglayer\"><rect class=\"bg\" x=\"80\" y=\"100\" width=\"540\" height=\"320\" style=\"fill: rgb(229, 236, 246); fill-opacity: 1; stroke-width: 0;\"/></g><g class=\"layer-below\"><g class=\"imagelayer\"/><g class=\"shapelayer\"/></g><g class=\"cartesianlayer\"><g class=\"subplot xy\"><g class=\"layer-subplot\"><g class=\"shapelayer\"/><g class=\"imagelayer\"/></g><g class=\"minor-gridlayer\"><g class=\"x\"/><g class=\"y\"/></g><g class=\"gridlayer\"><g class=\"x\"><path class=\"xgrid crisp\" transform=\"translate(124.50999999999999,0)\" d=\"M0,100v320\" style=\"stroke: rgb(255, 255, 255); stroke-opacity: 1; stroke-width: 1px;\"/><path class=\"xgrid crisp\" transform=\"translate(216.48,0)\" d=\"M0,100v320\" style=\"stroke: rgb(255, 255, 255); stroke-opacity: 1; stroke-width: 1px;\"/><path class=\"xgrid crisp\" transform=\"translate(306.98,0)\" d=\"M0,100v320\" style=\"stroke: rgb(255, 255, 255); stroke-opacity: 1; stroke-width: 1px;\"/><path class=\"xgrid crisp\" transform=\"translate(397.47,0)\" d=\"M0,100v320\" style=\"stroke: rgb(255, 255, 255); stroke-opacity: 1; stroke-width: 1px;\"/><path class=\"xgrid crisp\" transform=\"translate(485,0)\" d=\"M0,100v320\" style=\"stroke: rgb(255, 255, 255); stroke-opacity: 1; stroke-width: 1px;\"/><path class=\"xgrid crisp\" transform=\"translate(575.49,0)\" d=\"M0,100v320\" style=\"stroke: rgb(255, 255, 255); stroke-opacity: 1; stroke-width: 1px;\"/></g><g class=\"y\"><path class=\"ygrid crisp\" transform=\"translate(0,360.69)\" d=\"M80,0h540\" style=\"stroke: rgb(255, 255, 255); stroke-opacity: 1; stroke-width: 1px;\"/><path class=\"ygrid crisp\" transform=\"translate(0,317.28999999999996)\" d=\"M80,0h540\" style=\"stroke: rgb(255, 255, 255); stroke-opacity: 1; stroke-width: 1px;\"/><path class=\"ygrid crisp\" transform=\"translate(0,273.89)\" d=\"M80,0h540\" style=\"stroke: rgb(255, 255, 255); stroke-opacity: 1; stroke-width: 1px;\"/><path class=\"ygrid crisp\" transform=\"translate(0,230.49)\" d=\"M80,0h540\" style=\"stroke: rgb(255, 255, 255); stroke-opacity: 1; stroke-width: 1px;\"/><path class=\"ygrid crisp\" transform=\"translate(0,187.09)\" d=\"M80,0h540\" style=\"stroke: rgb(255, 255, 255); stroke-opacity: 1; stroke-width: 1px;\"/><path class=\"ygrid crisp\" transform=\"translate(0,143.69)\" d=\"M80,0h540\" style=\"stroke: rgb(255, 255, 255); stroke-opacity: 1; stroke-width: 1px;\"/></g></g><g class=\"zerolinelayer\"><path class=\"yzl zl crisp\" transform=\"translate(0,404.09)\" d=\"M80,0h540\" style=\"stroke: rgb(255, 255, 255); stroke-opacity: 1; stroke-width: 2px;\"/></g><path class=\"xlines-below\"/><path class=\"ylines-below\"/><g class=\"overlines-below\"/><g class=\"xaxislayer-below\"/><g class=\"yaxislayer-below\"/><g class=\"overaxes-below\"/><g class=\"plot\" transform=\"translate(80,100)\" clip-path=\"url(#clip951678xyplot)\"><g class=\"scatterlayer mlayer\"><g class=\"trace scatter trace41ac98\" style=\"stroke-miterlimit: 2; opacity: 1;\"><g class=\"fills\"/><g class=\"errorbars\"/><g class=\"lines\"><path class=\"js-line\" d=\"M0,251.57L1.48,251.31L2.97,265.46L4.45,262.77L5.93,232.91L7.42,234.91L8.9,243.41L10.38,228.75L11.87,243.76L13.35,273.71L14.84,278.74L16.32,275.01L17.8,260.51L19.29,260.77L20.77,254.18L22.25,262.34L23.74,275.62L25.22,279.35L26.7,262.25L29.67,266.24L31.15,257.48L34.12,275.62L35.6,270.84L37.09,255.13L38.57,261.64L40.05,256.17L41.54,256.69L44.51,272.75L45.99,275.44L47.47,252.53L48.96,259.73L50.44,259.04L51.92,253.92L53.41,257.04L54.89,270.32L56.37,265.55L57.86,244.63L59.34,255.13L60.82,246.02L63.79,231.26L65.27,243.85L66.76,259.47L68.24,205.31L69.73,242.81L71.21,256.61L72.69,252.53L74.18,259.21L75.66,273.1L77.14,276.14L78.63,256L80.11,265.98L81.59,267.2L83.08,263.73L86.04,277.44L87.53,277.09L89.01,262.77L90.49,268.5L91.98,272.84L93.46,269.63L96.43,279.78L97.91,279.61L99.4,268.15L100.88,270.41L102.36,269.89L103.85,265.37L105.33,268.15L106.81,280.56L108.3,279.7L109.78,261.38L111.26,262.34L112.75,265.11L114.23,263.29L115.71,266.16L117.2,278.74L118.68,276.05L120.16,258.86L121.65,260.51L123.13,258.17L124.62,261.99L126.1,260.51L127.58,268.59L129.07,267.46L130.55,251.83L132.03,253.83L133.52,252.01L135,247.49L136.48,254.44L137.97,263.12L139.45,260.77L140.93,247.32L142.42,240.9L143.9,236.64L145.38,236.21L146.87,231.87L148.35,259.73L149.84,260.17L151.32,237.86L152.8,248.71L154.29,248.62L155.77,235.08L157.25,242.2L158.74,255.39L160.22,255.91L161.7,234.99L163.19,234.73L164.67,237.34L166.15,234.56L167.64,234.82L169.12,248.97L170.6,246.63L172.09,218.68L173.57,219.02L175.05,221.54L176.54,210.43L178.02,210.86L179.51,230.57L180.99,230.48L182.47,204.61L183.96,200.8L185.44,197.15L186.92,197.67L188.41,181.01L189.89,207.13L191.37,225.88L192.86,194.98L194.34,204.88L195.82,206.96L197.31,202.27L198.79,200.19L200.27,226.23L201.76,224.84L203.24,202.71L204.73,210.86L207.69,205.74L209.18,194.11L210.66,217.29L212.14,217.2L213.63,194.98L215.11,199.58L216.59,207.39L218.08,206.09L219.56,201.06L221.04,215.55L222.53,206.26L224.01,190.55L225.49,194.81L226.98,196.72L228.46,202.71L229.95,204.79L231.43,222.24L232.91,216.51L234.4,213.21L235.88,196.46L238.85,204.35L240.33,200.19L241.81,220.85L243.3,220.5L244.78,181.44L246.26,193.85L247.75,204.44L249.23,164.86L250.71,181.61L252.2,216.59L253.68,213.73L255.16,181.27L256.65,185.78L258.13,195.15L259.62,179.7L261.1,16L262.58,146.37L264.07,187.25L265.55,167.73L267.03,174.5L268.52,191.59L270,181.79L271.48,193.59L272.97,213.82L274.45,201.23L275.93,179.79L277.42,177.53L278.9,184.56L280.38,171.8L281.87,181.61L283.35,210.6L284.84,206L286.32,173.45L287.8,178.14L289.29,173.11L290.77,183.78L292.25,191.25L293.74,213.82L295.22,213.38L296.7,191.42L298.19,203.05L299.67,202.27L301.15,198.63L302.64,204.44L304.12,228.22L305.6,219.72L307.09,185L308.57,185.17L310.05,188.3L311.54,184.56L313.02,200.62L314.51,208.09L315.99,240.55L317.47,217.98L318.96,194.29L320.44,198.28L321.92,194.72L323.41,216.77L326.37,231.96L327.86,225.71L329.34,206.18L330.82,204.96L332.31,196.63L333.79,203.83L335.27,231.7L336.76,227.1L338.24,198.02L339.73,208L341.21,213.38L342.69,201.84L344.18,202.27L345.66,219.02L347.14,223.97L348.63,194.2L350.11,204.01L351.59,207.05L353.08,197.84L354.56,206.87L356.04,220.85L357.53,224.41L359.01,189.6L360.49,192.81L361.98,196.46L363.46,161.74L366.43,213.38L367.91,216.68L369.4,195.07L370.88,199.93L372.36,195.59L373.85,181.09L378.3,214.68L379.78,185L381.26,190.03L382.75,188.38L384.23,183.44L385.71,204.01L387.2,226.05L388.68,216.68L390.16,185.35L391.65,191.25L393.13,192.55L394.62,199.93L396.1,218.94L397.58,211.91L399.07,214.6L400.55,181.61L403.52,210.95L405,202.88L406.48,195.33L407.97,220.59L409.45,214.77L410.93,199.15L412.42,198.8L413.9,190.29L415.38,215.12L416.87,218.68L419.84,232.82L421.32,202.62L422.8,206.52L424.29,216.42L425.77,215.81L427.25,217.98L428.74,234.91L430.22,242.55L431.7,201.66L433.19,202.44L434.67,206.87L436.15,185.26L437.64,204.61L439.12,209.22L440.6,169.98L442.09,164.43L443.57,169.46L445.05,218.94L446.54,214.08L448.02,292.72L449.51,304L452.47,248.45L453.96,222.32L455.44,222.67L456.92,224.93L458.41,225.01L459.89,240.72L461.37,240.81L462.86,220.93L464.34,225.88L465.82,227.44L467.31,224.32L468.79,221.97L470.27,247.84L471.76,243.15L473.24,228.48L474.73,231.18L476.21,223.1L477.69,213.56L479.18,217.55L480.66,236.3L482.14,236.56L483.63,216.77L485.11,225.53L486.59,227.1L488.08,222.15L489.56,232.04L491.04,234.73L494.01,259.39L495.49,261.64L496.98,261.03L498.46,234.39L499.95,239.42L501.43,255.05L502.91,253.74L504.4,242.37L505.88,251.23L507.36,265.81L508.85,234.13L510.33,234.21L511.81,255.91L513.3,259.73L514.78,235.95L516.26,238.55L519.23,225.79L520.71,226.58L522.2,245.41L523.68,245.24L525.16,227.62L526.65,227.18L528.13,233.69L529.62,231.78L531.1,232.82L532.58,251.83L534.07,250.27L535.55,213.9L537.03,221.8L538.52,192.2L540,130.75\" style=\"vector-effect: none; fill: none; stroke: rgb(99, 110, 250); stroke-opacity: 1; stroke-width: 2px; opacity: 1;\"/></g><g class=\"points\"/><g class=\"text\"/></g></g></g><g class=\"overplot\"/><path class=\"xlines-above crisp\" d=\"M0,0\" style=\"fill: none;\"/><path class=\"ylines-above crisp\" d=\"M0,0\" style=\"fill: none;\"/><g class=\"overlines-above\"/><g class=\"xaxislayer-above\"><g class=\"xtick\"><text text-anchor=\"middle\" x=\"0\" y=\"433\" transform=\"translate(124.50999999999999,0)\" style=\"font-family: 'Open Sans', verdana, arial, sans-serif; font-size: 12px; fill: rgb(42, 63, 95); fill-opacity: 1; white-space: pre; opacity: 1;\">Jul 2017</text></g><g class=\"xtick\"><text text-anchor=\"middle\" x=\"0\" y=\"433\" style=\"font-family: 'Open Sans', verdana, arial, sans-serif; font-size: 12px; fill: rgb(42, 63, 95); fill-opacity: 1; white-space: pre; opacity: 1;\" transform=\"translate(216.48,0)\">Sep 2017</text></g><g class=\"xtick\"><text text-anchor=\"middle\" x=\"0\" y=\"433\" style=\"font-family: 'Open Sans', verdana, arial, sans-serif; font-size: 12px; fill: rgb(42, 63, 95); fill-opacity: 1; white-space: pre; opacity: 1;\" transform=\"translate(306.98,0)\">Nov 2017</text></g><g class=\"xtick\"><text text-anchor=\"middle\" x=\"0\" y=\"433\" style=\"font-family: 'Open Sans', verdana, arial, sans-serif; font-size: 12px; fill: rgb(42, 63, 95); fill-opacity: 1; white-space: pre; opacity: 1;\" transform=\"translate(397.47,0)\">Jan 2018</text></g><g class=\"xtick\"><text text-anchor=\"middle\" x=\"0\" y=\"433\" style=\"font-family: 'Open Sans', verdana, arial, sans-serif; font-size: 12px; fill: rgb(42, 63, 95); fill-opacity: 1; white-space: pre; opacity: 1;\" transform=\"translate(485,0)\">Mar 2018</text></g><g class=\"xtick\"><text text-anchor=\"middle\" x=\"0\" y=\"433\" style=\"font-family: 'Open Sans', verdana, arial, sans-serif; font-size: 12px; fill: rgb(42, 63, 95); fill-opacity: 1; white-space: pre; opacity: 1;\" transform=\"translate(575.49,0)\">May 2018</text></g></g><g class=\"yaxislayer-above\"><g class=\"ytick\"><text text-anchor=\"end\" x=\"79\" y=\"4.199999999999999\" transform=\"translate(0,404.09)\" style=\"font-family: 'Open Sans', verdana, arial, sans-serif; font-size: 12px; fill: rgb(42, 63, 95); fill-opacity: 1; white-space: pre; opacity: 1;\">0</text></g><g class=\"ytick\"><text text-anchor=\"end\" x=\"79\" y=\"4.199999999999999\" style=\"font-family: 'Open Sans', verdana, arial, sans-serif; font-size: 12px; fill: rgb(42, 63, 95); fill-opacity: 1; white-space: pre; opacity: 1;\" transform=\"translate(0,360.69)\">500</text></g><g class=\"ytick\"><text text-anchor=\"end\" x=\"79\" y=\"4.199999999999999\" style=\"font-family: 'Open Sans', verdana, arial, sans-serif; font-size: 12px; fill: rgb(42, 63, 95); fill-opacity: 1; white-space: pre; opacity: 1;\" transform=\"translate(0,317.28999999999996)\">1000</text></g><g class=\"ytick\"><text text-anchor=\"end\" x=\"79\" y=\"4.199999999999999\" style=\"font-family: 'Open Sans', verdana, arial, sans-serif; font-size: 12px; fill: rgb(42, 63, 95); fill-opacity: 1; white-space: pre; opacity: 1;\" transform=\"translate(0,273.89)\">1500</text></g><g class=\"ytick\"><text text-anchor=\"end\" x=\"79\" y=\"4.199999999999999\" style=\"font-family: 'Open Sans', verdana, arial, sans-serif; font-size: 12px; fill: rgb(42, 63, 95); fill-opacity: 1; white-space: pre; opacity: 1;\" transform=\"translate(0,230.49)\">2000</text></g><g class=\"ytick\"><text text-anchor=\"end\" x=\"79\" y=\"4.199999999999999\" style=\"font-family: 'Open Sans', verdana, arial, sans-serif; font-size: 12px; fill: rgb(42, 63, 95); fill-opacity: 1; white-space: pre; opacity: 1;\" transform=\"translate(0,187.09)\">2500</text></g><g class=\"ytick\"><text text-anchor=\"end\" x=\"79\" y=\"4.199999999999999\" style=\"font-family: 'Open Sans', verdana, arial, sans-serif; font-size: 12px; fill: rgb(42, 63, 95); fill-opacity: 1; white-space: pre; opacity: 1;\" transform=\"translate(0,143.69)\">3000</text></g><g class=\"ytick\"><text text-anchor=\"end\" x=\"79\" y=\"4.199999999999999\" style=\"font-family: 'Open Sans', verdana, arial, sans-serif; font-size: 12px; fill: rgb(42, 63, 95); fill-opacity: 1; white-space: pre; opacity: 1;\" transform=\"translate(0,100.29)\">3500</text></g></g><g class=\"overaxes-above\"/></g></g><g class=\"polarlayer\"/><g class=\"smithlayer\"/><g class=\"ternarylayer\"/><g class=\"geolayer\"/><g class=\"funnelarealayer\"/><g class=\"pielayer\"/><g class=\"iciclelayer\"/><g class=\"treemaplayer\"/><g class=\"sunburstlayer\"/><g class=\"glimages\"/><defs id=\"topdefs-951678\"><g class=\"clips\"/></defs><g class=\"layer-above\"><g class=\"imagelayer\"/><g class=\"shapelayer\"><g class=\"shape-group\" data-index=\"0\" clip-path=\"url(#clip951678y)\"><path data-index=\"0\" fill-rule=\"evenodd\" d=\"M80,325.27L620,325.27\" style=\"opacity: 1; stroke: rgb(255, 0, 0); stroke-opacity: 1; fill: rgb(0, 0, 0); fill-opacity: 0; stroke-dasharray: 9px, 9px; stroke-width: 2px;\"/></g></g></g><g class=\"infolayer\"><g class=\"g-gtitle\"><text class=\"gtitle\" x=\"35\" y=\"50\" text-anchor=\"start\" dy=\"0em\" style=\"font-family: 'Open Sans', verdana, arial, sans-serif; font-size: 17px; fill: rgb(42, 63, 95); opacity: 1; font-weight: normal; white-space: pre;\">DAU</text></g><g class=\"g-xtitle\"><text class=\"xtitle\" x=\"350\" y=\"460.3\" text-anchor=\"middle\" style=\"font-family: 'Open Sans', verdana, arial, sans-serif; font-size: 14px; fill: rgb(42, 63, 95); opacity: 1; font-weight: normal; white-space: pre;\">Date</text></g><g class=\"g-ytitle\"><text class=\"ytitle\" transform=\"rotate(-90,24.184375000000003,260)\" x=\"24.184375000000003\" y=\"260\" text-anchor=\"middle\" style=\"font-family: 'Open Sans', verdana, arial, sans-serif; font-size: 14px; fill: rgb(42, 63, 95); opacity: 1; font-weight: normal; white-space: pre;\">Number of uid</text></g><g class=\"annotation\" data-index=\"0\" style=\"opacity: 1;\"><g class=\"annotation-text-g\" transform=\"rotate(0,121.5,315.77)\"><g class=\"cursor-pointer\" transform=\"translate(80,306)\"><rect class=\"bg\" x=\"0.5\" y=\"0.5\" width=\"82\" height=\"18\" style=\"stroke-width: 1px; stroke: rgb(0, 0, 0); stroke-opacity: 0; fill: rgb(0, 0, 0); fill-opacity: 0;\"/><text class=\"annotation-text\" text-anchor=\"middle\" x=\"41.203125\" y=\"14\" style=\"font-family: 'Open Sans', verdana, arial, sans-serif; font-size: 12px; fill: rgb(42, 63, 95); fill-opacity: 1; white-space: pre;\">average DAU</text></g></g></g></g></svg>"
      ]
     },
     "metadata": {},
     "output_type": "display_data"
    }
   ],
   "source": [
    "fig = px.line(dau, x = 'date', y = 'uid', title = 'DAU', labels ={'date': 'Date', 'uid': 'Number of uid'})\n",
    "fig.add_hline(y = dau['uid'].mean(), line_dash = 'dash', line_color = 'red', annotation_text = 'average DAU', \n",
    "              annotation_position = 'top left')\n",
    "fig.show('svg')\n",
    "fig.write_image(\"C:/Users/Dell/Documents/tempPy/myProjects/ForGit/Business_Analytics_YaAfisha/DAU1.png\")"
   ]
  },
  {
   "cell_type": "code",
   "execution_count": null,
   "metadata": {},
   "outputs": [],
   "source": [
    "wau = visits.groupby('week').agg({'uid':'nunique'}).reset_index()\n",
    "wau.head()"
   ]
  },
  {
   "cell_type": "code",
   "execution_count": null,
   "metadata": {},
   "outputs": [],
   "source": [
    "print('Average WAU:', wau['uid'].mean())"
   ]
  },
  {
   "cell_type": "code",
   "execution_count": null,
   "metadata": {},
   "outputs": [],
   "source": [
    "fig = px.line(wau, x = 'week', y = 'uid', title = 'WAU', labels ={'week': 'Week', 'uid': 'Number of uid'})\n",
    "fig.add_hline(y = wau['uid'].mean(), line_dash = 'dash', line_color = 'red', annotation_text = 'average WAU', \n",
    "              annotation_position = 'top left')\n",
    "fig.show()"
   ]
  },
  {
   "cell_type": "code",
   "execution_count": null,
   "metadata": {},
   "outputs": [],
   "source": [
    "mau = visits.groupby('month').agg({'uid':'nunique'}).reset_index()\n",
    "mau.head()"
   ]
  },
  {
   "cell_type": "code",
   "execution_count": null,
   "metadata": {},
   "outputs": [],
   "source": [
    "print('Average MAU:', mau['uid'].mean())"
   ]
  },
  {
   "cell_type": "code",
   "execution_count": null,
   "metadata": {},
   "outputs": [],
   "source": [
    "fig = px.line(mau, x = 'month', y = 'uid', title = 'MAU', labels ={'month': 'Month', 'uid': 'Number of uid'})\n",
    "fig.add_hline(y = mau['uid'].mean(), line_dash = 'dash', line_color = 'red', annotation_text = 'average MAU', \n",
    "              annotation_position = 'top left')\n",
    "fig.show()"
   ]
  },
  {
   "cell_type": "markdown",
   "metadata": {},
   "source": [
    "**Conclusion**    \n",
    "\n",
    "So, the DAU (daily) graph looks like the cardiogram of healthy person, that tended to increase from August 2017 to January 2018 with an obvious peak on 24th November where 3319 unique users were attracted.  After January 2018 it tended to decrease to the first decade of May with a huge fall on 31st of March, where just 1 new user was attracted and following increasing during May.   \n",
    "\n",
    "Almost the same picture we can observe on WAU (weekly) and MAU (monthly) graph, where we see increasing from August to November, and following decreasing from end of November to end of May.   "
   ]
  },
  {
   "cell_type": "markdown",
   "metadata": {},
   "source": [
    "##### How many sessions are there per day? (One user might have more than one session.)"
   ]
  },
  {
   "cell_type": "markdown",
   "metadata": {},
   "source": [
    "Let's plot two graphs: the first one for number of users per day only and the second one for both tables - sessions per day and daily active users "
   ]
  },
  {
   "cell_type": "code",
   "execution_count": null,
   "metadata": {},
   "outputs": [],
   "source": [
    "session_per_day = visits.groupby('date').agg({'uid': 'count'}).reset_index()\n",
    "session_per_day.head() "
   ]
  },
  {
   "cell_type": "code",
   "execution_count": null,
   "metadata": {},
   "outputs": [],
   "source": [
    "print('Average sessions per day:', session_per_day['uid'].mean())"
   ]
  },
  {
   "cell_type": "code",
   "execution_count": null,
   "metadata": {},
   "outputs": [],
   "source": [
    "fig = px.line(session_per_day, x = 'date', y = 'uid', \n",
    "              title = 'Sessions per day', labels ={'date': 'Date', 'uid': 'Number of uid'})\n",
    "fig.add_hline(y = session_per_day['uid'].mean(), line_dash = 'dash', \n",
    "              line_color = 'red', annotation_text = 'Average sessions per day', annotation_position = 'top left')\n",
    "fig.show()"
   ]
  },
  {
   "cell_type": "code",
   "execution_count": null,
   "metadata": {},
   "outputs": [],
   "source": [
    "fig = go.Figure()\n",
    "fig.add_trace(go.Scatter(x=dau['date'], y=dau['uid'], mode='lines', name='DAU', line = dict(color='yellow', width=2)))\n",
    "\n",
    "fig.add_trace(go.Scatter(x=session_per_day['date'], y=session_per_day['uid'], mode='lines', \n",
    "                         name='sessions',line = dict(color='black', width=2 )))\n",
    "\n",
    "fig.update_layout(title='Sessions per day compared DAU', xaxis_title='Date', \n",
    "                  yaxis_title='Number of uid', showlegend=True, plot_bgcolor=\"grey\")\n",
    "fig.show()"
   ]
  },
  {
   "cell_type": "markdown",
   "metadata": {},
   "source": [
    "**Conclusion**   \n",
    "\n",
    "As we see on both graphs (DAU and sessions per day) it's a pretty same picture: the graphs has the same trend, the number of sessions per day little bit bigger (almost the same) that the number of daily active users, that looks logical, because people are going to buy tickets on the same day then they start session, they don't need to have several sessions to accomplish purchase.   "
   ]
  },
  {
   "cell_type": "markdown",
   "metadata": {},
   "source": [
    "##### What is the length of each session?   "
   ]
  },
  {
   "cell_type": "markdown",
   "metadata": {},
   "source": [
    "Here we'll count average session lentgh (ASL)"
   ]
  },
  {
   "cell_type": "code",
   "execution_count": null,
   "metadata": {},
   "outputs": [],
   "source": [
    "visits['session_duration'] = (visits['end_ts'] - visits['start_ts']).dt.seconds\n",
    "visits.head()"
   ]
  },
  {
   "cell_type": "code",
   "execution_count": null,
   "metadata": {},
   "outputs": [],
   "source": [
    "print(visits['session_duration'].mean())\n",
    "visits['session_duration'].hist(bins = 50);"
   ]
  },
  {
   "cell_type": "markdown",
   "metadata": {},
   "source": [
    "We see how distribution is skewed, so let's use mode() function"
   ]
  },
  {
   "cell_type": "code",
   "execution_count": null,
   "metadata": {},
   "outputs": [],
   "source": [
    "asl = visits['session_duration'].mode()\n",
    "asl"
   ]
  },
  {
   "cell_type": "markdown",
   "metadata": {},
   "source": [
    "**Conclusion**   \n",
    "\n",
    "The average session take near 60 second to make purchase"
   ]
  },
  {
   "cell_type": "markdown",
   "metadata": {},
   "source": [
    "##### How often do users come back?"
   ]
  },
  {
   "cell_type": "markdown",
   "metadata": {},
   "source": [
    "So, first, let's define users first day of visit"
   ]
  },
  {
   "cell_type": "code",
   "execution_count": null,
   "metadata": {},
   "outputs": [],
   "source": [
    "first_visit = visits.groupby(['uid'])['start_ts'].min().reset_index()\n",
    "first_visit.columns = ['uid','first_visit']\n",
    "first_visit.head()"
   ]
  },
  {
   "cell_type": "markdown",
   "metadata": {},
   "source": [
    "And after that let's merge back to visits table"
   ]
  },
  {
   "cell_type": "code",
   "execution_count": null,
   "metadata": {},
   "outputs": [],
   "source": [
    "visits = visits.merge(first_visit, how = 'inner', on = ['uid'])\n",
    "visits.head()"
   ]
  },
  {
   "cell_type": "markdown",
   "metadata": {},
   "source": [
    "Now we'll define cohorts and interval between current visit and first visit:  "
   ]
  },
  {
   "cell_type": "code",
   "execution_count": null,
   "metadata": {},
   "outputs": [],
   "source": [
    "visits['cohort'] = visits['first_visit'].astype('datetime64[M]')\n",
    "visits['age'] = ((pd.to_datetime(visits['date']) - pd.to_datetime(visits['first_visit'])) / \n",
    "                 np.timedelta64(1, 'M')).round().astype('int')\n",
    "visits.head()"
   ]
  },
  {
   "cell_type": "markdown",
   "metadata": {},
   "source": [
    "Now let's define number of unique visitors for each cohort during whole period:"
   ]
  },
  {
   "cell_type": "code",
   "execution_count": null,
   "metadata": {},
   "outputs": [],
   "source": [
    "visit_cohorts = visits.pivot_table(index = 'cohort', columns = 'age', values = 'uid', aggfunc = 'nunique').fillna(0)\n",
    "visit_cohorts "
   ]
  },
  {
   "cell_type": "markdown",
   "metadata": {},
   "source": [
    "After that we'll define retention rate and plot heatmap"
   ]
  },
  {
   "cell_type": "code",
   "execution_count": null,
   "metadata": {},
   "outputs": [],
   "source": [
    "retention=visit_cohorts.iloc[:,0:].div(visit_cohorts[0], axis=0)\n",
    "retention"
   ]
  },
  {
   "cell_type": "code",
   "execution_count": null,
   "metadata": {},
   "outputs": [],
   "source": [
    "retention.index=retention.index.astype(str)\n",
    "plt.figure(figsize=(15, 9))\n",
    "sns.heatmap(retention, annot=True, fmt='.1%', linewidths=1, linecolor='gray', vmax = 0.1)\n",
    "plt.title('Cohorts: User Retention')\n",
    "plt.show()"
   ]
  },
  {
   "cell_type": "markdown",
   "metadata": {},
   "source": [
    "**Conclusion**    \n",
    " \n",
    "So, in general, our graphs show us that our customers spend a pretty small amount of time using our product, they have quite a low percentage of returning from the first session and we can mention the peak of user activity from October to March. Everything sounds logical: you don't need a lot of time to view events, you just check info in general. Also, in general, tickets don't have high check, it's situation of \"low decision margin\" and users don't looking where is lowest price, so they do not need return to our product several times. And the highest level of activity fall in most cold period, where are a lot of events take place. "
   ]
  },
  {
   "cell_type": "markdown",
   "metadata": {},
   "source": [
    "#### **Sales**   \n",
    " - When do people start buying? (In KPI analysis, we're usually interested in knowing the time that elapses between registration and conversion — when the user becomes a customer. For example, if registration and the first purchase occur on the same day, the user might fall into category Conversion 0d. If the first purchase happens the next day, it will be Conversion 1d. You can use any approach that lets you compare the conversions of different cohorts, so that you can determine which cohort, or marketing channel, is most effective.)   \n",
    " - How many orders do they make during a given period of time?   \n",
    " - What is the average purchase size?   \n",
    " - How much money do they bring? (LTV)   "
   ]
  },
  {
   "cell_type": "markdown",
   "metadata": {},
   "source": [
    "#####  When do people start buying?"
   ]
  },
  {
   "cell_type": "markdown",
   "metadata": {},
   "source": [
    "At first, let's define date of first purchase:"
   ]
  },
  {
   "cell_type": "code",
   "execution_count": null,
   "metadata": {},
   "outputs": [],
   "source": [
    "first_order = orders.groupby(['uid'])['buy_ts'].min().reset_index()\n",
    "first_order.columns = ['uid', 'first_order']\n",
    "first_order.head() "
   ]
  },
  {
   "cell_type": "markdown",
   "metadata": {},
   "source": [
    "Let's join to this table those visitors with the same ID, after we'll calculate the number of days between first purchase and first visit and plot histogram:  "
   ]
  },
  {
   "cell_type": "code",
   "execution_count": null,
   "metadata": {},
   "outputs": [],
   "source": [
    "start_purchase = first_order.merge(visits, how = 'left', on = ['uid'])\n",
    "start_purchase.head()"
   ]
  },
  {
   "cell_type": "markdown",
   "metadata": {},
   "source": [
    "**Conclusion**   \n",
    "\n",
    "Sorry, could you explain what is particularly wrong on that point? If we're talking about calculations, we have to define the number of days between the date of first session and date of first purchase, right? Other words we have to subtract values in the *'first visit'* column from the *'first order'* column... In that case, the *'first visit'* column I've already joined in previous task, when defined the cohorts. I mean that there are no points to duplicates, it's the same values either in **'first_visit'** table or **'visit'** table"
   ]
  },
  {
   "cell_type": "code",
   "execution_count": null,
   "metadata": {},
   "outputs": [],
   "source": [
    "start_purchase['conversion'] = ((pd.to_datetime(start_purchase['first_order'])-pd.to_datetime(start_purchase['first_visit']))\n",
    "                                / np.timedelta64(1,'D')).astype('int')"
   ]
  },
  {
   "cell_type": "code",
   "execution_count": null,
   "metadata": {},
   "outputs": [],
   "source": [
    "fig = px.histogram(start_purchase, x=\"conversion\", \n",
    "                   nbins=100, labels ={'conversion': 'Conversion (days)'}, \n",
    "                   title = 'Distribution of conversion from the first purchase to the first visit (in days)')\n",
    "fig.show()"
   ]
  },
  {
   "cell_type": "markdown",
   "metadata": {},
   "source": [
    "***After reviewer's comment:***   \n",
    "Done"
   ]
  },
  {
   "cell_type": "markdown",
   "metadata": {},
   "source": [
    "As we see, the histogram skewed, so let's define median value:"
   ]
  },
  {
   "cell_type": "code",
   "execution_count": null,
   "metadata": {},
   "outputs": [],
   "source": [
    "start_purchase['conversion'].median()"
   ]
  },
  {
   "cell_type": "markdown",
   "metadata": {},
   "source": [
    "And the overall conversion by dividing number of unique orders on number of unique visitors: "
   ]
  },
  {
   "cell_type": "code",
   "execution_count": null,
   "metadata": {},
   "outputs": [],
   "source": [
    "print('The overall conversion is {:.1%}'.format(orders['uid'].nunique()/visits['uid'].nunique()))"
   ]
  },
  {
   "cell_type": "markdown",
   "metadata": {},
   "source": [
    "**Conclusion**   \n",
    "\n",
    "So, as we see it doesn't take a lot of time to make a purchase from the moment of first attraction: it takes place or in the same day or on the next one"
   ]
  },
  {
   "cell_type": "markdown",
   "metadata": {},
   "source": [
    "##### How many orders do they make during a given period of time?"
   ]
  },
  {
   "cell_type": "markdown",
   "metadata": {},
   "source": [
    "We have to build cohorts for counting number of orders, so let's repeat the similar calculations with visits table: "
   ]
  },
  {
   "cell_type": "code",
   "execution_count": null,
   "metadata": {},
   "outputs": [],
   "source": [
    "orders['month'] = orders['buy_ts'].astype('datetime64[M]')\n",
    "orders['week'] = orders['buy_ts'].astype('datetime64[W]')\n",
    "orders['date'] = orders['buy_ts'].dt.date"
   ]
  },
  {
   "cell_type": "code",
   "execution_count": null,
   "metadata": {},
   "outputs": [],
   "source": [
    "orders = orders.merge(first_order, how = 'inner', on = ['uid'])\n",
    "orders.head()"
   ]
  },
  {
   "cell_type": "markdown",
   "metadata": {},
   "source": [
    "Let's define cohorts and number of users that fall in cohorts: "
   ]
  },
  {
   "cell_type": "code",
   "execution_count": null,
   "metadata": {},
   "outputs": [],
   "source": [
    "orders['cohort'] = orders['first_order'].astype('datetime64[M]')\n",
    "cohort_size = orders.groupby('cohort').agg({'uid': 'nunique'}).reset_index()\n",
    "cohort_size.columns = ['cohort', 'cohort_size']\n",
    "cohort_size.head()"
   ]
  },
  {
   "cell_type": "markdown",
   "metadata": {},
   "source": [
    "Now, we'll define the number of purchases: "
   ]
  },
  {
   "cell_type": "code",
   "execution_count": null,
   "metadata": {},
   "outputs": [],
   "source": [
    "order_cohorts = orders.groupby(['cohort', 'month'])['revenue'].count().reset_index()\n",
    "order_cohorts.columns = ['cohort', 'month', 'num_orders']\n",
    "order_cohorts.head()"
   ]
  },
  {
   "cell_type": "markdown",
   "metadata": {},
   "source": [
    "Let's merge two tables, and define the number of purcahses per byuers: "
   ]
  },
  {
   "cell_type": "code",
   "execution_count": null,
   "metadata": {},
   "outputs": [],
   "source": [
    "order_cohorts = order_cohorts.merge(cohort_size, on = ['cohort'])\n",
    "order_cohorts['age'] = ((order_cohorts['month'] - order_cohorts['cohort']) / np.timedelta64(1, 'M')).round().astype('int')\n",
    "order_cohorts['orders_per_buyer'] = order_cohorts['num_orders'] / order_cohorts['cohort_size']\n",
    "order_cohorts.head() "
   ]
  },
  {
   "cell_type": "code",
   "execution_count": null,
   "metadata": {},
   "outputs": [],
   "source": [
    "num_orders=order_cohorts.pivot_table(index='cohort', columns='age', values='orders_per_buyer', aggfunc='sum').cumsum(axis=1)\n",
    "num_orders.round(2).fillna('')"
   ]
  },
  {
   "cell_type": "markdown",
   "metadata": {},
   "source": [
    "**Conclusion**\n",
    "\n",
    "\n",
    "So, as we can see, in terms of number purchases per user, the June 2017 cohort users \"behave\" themself much better than others: from an initial 1.16 purchase per user, they have the highest level of purchases per user in the next months. For instance, the November 2017 cohort users, that have initial 1.18 purchases per user have lower level of purchases from the second month. "
   ]
  },
  {
   "cell_type": "markdown",
   "metadata": {},
   "source": [
    "##### What is the average purchase size?"
   ]
  },
  {
   "cell_type": "markdown",
   "metadata": {},
   "source": [
    "Instead of defining the number of purchases that we've made in the previous task now we'll define the average revenue for each cohort:"
   ]
  },
  {
   "cell_type": "code",
   "execution_count": null,
   "metadata": {},
   "outputs": [],
   "source": [
    "avg_order_cohorts = orders.groupby(['cohort', 'month'])['revenue'].mean().reset_index()\n",
    "avg_order_cohorts['age'] = ((avg_order_cohorts['month'] - avg_order_cohorts['cohort']) /\n",
    "                            np.timedelta64(1, 'M')).round().astype('int')\n",
    "avg_order_cohorts.head()"
   ]
  },
  {
   "cell_type": "code",
   "execution_count": null,
   "metadata": {},
   "outputs": [],
   "source": [
    "avg_order = avg_order_cohorts.pivot_table(index = 'cohort', columns = 'age', values = 'revenue', aggfunc = 'mean')\n",
    "avg_order.round(2).fillna('')"
   ]
  },
  {
   "cell_type": "markdown",
   "metadata": {},
   "source": [
    "**Conclusion**\n",
    "\n",
    "Here we can mention a kind of \"explosion\" for September cohort, that has \"leap\" on third month (December) and high level in 4th, 5th and 6th month as well. We can also mention a huge increase for December cohort in 2nd and 3rd months, and high level in 4th and 5th.\n",
    "\n",
    "But in general, all cohorts have almost the same level of average check that doesn't varied so strongly through their \"lifetime\""
   ]
  },
  {
   "cell_type": "markdown",
   "metadata": {},
   "source": [
    "##### How much money do they bring? (LTV)"
   ]
  },
  {
   "cell_type": "markdown",
   "metadata": {},
   "source": [
    "Again, like in case we've defined the average number of orders we have to make same steps to define lifetime value (LTV). In first step we'll define the total revenue:  "
   ]
  },
  {
   "cell_type": "code",
   "execution_count": null,
   "metadata": {},
   "outputs": [],
   "source": [
    "ltv_cohorts = orders.groupby(['cohort', 'month'])['revenue'].sum().reset_index()\n",
    "ltv_cohorts.columns = ['cohort', 'month', 'total_revenue']\n",
    "ltv_cohorts.head()"
   ]
  },
  {
   "cell_type": "markdown",
   "metadata": {},
   "source": [
    "Let's merge two tables: total revenue per cohort and number of customers per cohort:"
   ]
  },
  {
   "cell_type": "code",
   "execution_count": null,
   "metadata": {},
   "outputs": [],
   "source": [
    "ltv_cohorts = ltv_cohorts.merge(cohort_size, on = ['cohort'])\n",
    "ltv_cohorts['age'] = ((ltv_cohorts['month'] - ltv_cohorts['cohort']) / np.timedelta64(1, 'M')).round().astype('int')"
   ]
  },
  {
   "cell_type": "code",
   "execution_count": null,
   "metadata": {},
   "outputs": [],
   "source": [
    "ltv_cohorts['ltv'] = ltv_cohorts['total_revenue'] / ltv_cohorts['cohort_size']\n",
    "ltv_cohorts.head()"
   ]
  },
  {
   "cell_type": "code",
   "execution_count": null,
   "metadata": {},
   "outputs": [],
   "source": [
    "ltv = ltv_cohorts.pivot_table(index = 'cohort', columns = 'age', values = 'ltv', aggfunc = 'sum').cumsum(axis=1)\n",
    "ltv.round(2).fillna('')"
   ]
  },
  {
   "cell_type": "markdown",
   "metadata": {},
   "source": [
    "And we'll plot heatmap: "
   ]
  },
  {
   "cell_type": "code",
   "execution_count": null,
   "metadata": {},
   "outputs": [],
   "source": [
    "ltv.index = ltv.index.astype(str)\n",
    "plt.figure(figsize=(15, 12))\n",
    "sns.heatmap(ltv, annot=True, fmt='.2f', linewidths=1, \n",
    "            linecolor='grey', cbar_kws= {'orientation': 'horizontal'}).set(title ='LTV')\n",
    "plt.show()"
   ]
  },
  {
   "cell_type": "markdown",
   "metadata": {},
   "source": [
    "**Conclusion**   \n",
    "\n",
    "Again, in terms of LTV we have September 2017 cohort as a leader, because cumulative sum bigger than even June 2017 cohort that has longer \"lifetime\": \\\\$13.44 per user after 8 months for September compared with \\\\$11.88 per user for June respectively. Also, we can consider July, August and December cohorts successful as well."
   ]
  },
  {
   "cell_type": "markdown",
   "metadata": {},
   "source": [
    "***Conclusion for Sales Block:***   \n",
    "\n",
    "Ok, let's summarize:\n",
    "It takes just one day to make purchase, and it's kind of fast sale, and it's sound logical - you don't have to spent a lot of time to make purchase ticket for certain event. Also, in most cases it's a spontaneous purchase (often, after social media adv) on the nearest event. Also, we don't see on graphs a huge level of repeat sales, currently we can't say about high level of recurrent payments. In average users have similar check, the ticket's prices don't varied a lot, except couple of months where apparently was purchases for a group visitor (group of collogues, for instance)"
   ]
  },
  {
   "cell_type": "markdown",
   "metadata": {},
   "source": [
    "#### **Marketing**   \n",
    " - How much money was spent? Overall/per source/over time   \n",
    " - How much did customer acquisition from each of the sources cost?   \n",
    " - How worthwhile where the investments? (ROI)   "
   ]
  },
  {
   "cell_type": "markdown",
   "metadata": {},
   "source": [
    "##### How much money was spent? Overall/per source/over time"
   ]
  },
  {
   "cell_type": "markdown",
   "metadata": {},
   "source": [
    "**Overall**"
   ]
  },
  {
   "cell_type": "code",
   "execution_count": null,
   "metadata": {},
   "outputs": [],
   "source": [
    "costs = costs.sort_values(by = ['dt', 'source_id'])\n",
    "costs.head()"
   ]
  },
  {
   "cell_type": "code",
   "execution_count": null,
   "metadata": {},
   "outputs": [],
   "source": [
    "print('Total marketing cost is {}'.format(costs['costs'].sum()))"
   ]
  },
  {
   "cell_type": "markdown",
   "metadata": {},
   "source": [
    "**Per source** "
   ]
  },
  {
   "cell_type": "markdown",
   "metadata": {},
   "source": [
    "Ok, let's define sum of cost per source and plot the some graphs: "
   ]
  },
  {
   "cell_type": "code",
   "execution_count": null,
   "metadata": {},
   "outputs": [],
   "source": [
    "costs_per_source = costs.groupby(['source_id'])['costs'].sum().reset_index()\n",
    "costs_per_source.head()"
   ]
  },
  {
   "cell_type": "code",
   "execution_count": null,
   "metadata": {},
   "outputs": [],
   "source": [
    "fig = px.bar(costs_per_source, x = 'source_id', y = 'costs', \n",
    "             labels ={'source_id': 'Type of source', 'costs': 'Sum of costs'}, title = 'Distribution of costs per source')\n",
    "fig.update_xaxes(type='category')\n",
    "fig.show()"
   ]
  },
  {
   "cell_type": "code",
   "execution_count": null,
   "metadata": {},
   "outputs": [],
   "source": [
    "fig = px.line(costs, x=\"dt\", y=\"costs\", color='source_id', \n",
    "             labels ={'dt': 'Date', 'costs': 'Sum of costs'}, title = 'Distribution of costs per source and days')\n",
    "fig.show()"
   ]
  },
  {
   "cell_type": "markdown",
   "metadata": {},
   "source": [
    "**Conclusion**   \n",
    "\n",
    "The source №3 our leader in terms of overall acquisition cost, more then 140K\\\\$. After that there are three channels: №№4,5 and 2. Next one №1 with 20K\\\\$ and №№9 and 10 have the lowest indicators. \n",
    "\n",
    "In terms of daily costs, we can mention the next one:   \n",
    "- sources 9 and 10 are equal   \n",
    "- source 1 has the same trend with sources 2 and 5, but less significant   \n",
    "- sources 2 and 5 are almost equal, different in several points   \n",
    "- source 4 actually seems so similar to source 3, there are a lot of days where costs are equal at the peaks, but so huge different on bottom positions. "
   ]
  },
  {
   "cell_type": "markdown",
   "metadata": {},
   "source": [
    "##### How much did customer acquisition from each of the sources cost?"
   ]
  },
  {
   "cell_type": "markdown",
   "metadata": {},
   "source": [
    "For defining customer acquisition cost (CAC), we have to compute marketing costs for attracting customers that made purchases. First, let's add a new column that equals cohorts in other tables:"
   ]
  },
  {
   "cell_type": "code",
   "execution_count": null,
   "metadata": {},
   "outputs": [],
   "source": [
    "costs['cost_month'] = costs['dt'].astype('datetime64[M]')\n",
    "costs.head()"
   ]
  },
  {
   "cell_type": "markdown",
   "metadata": {},
   "source": [
    "Second, let's define the sum spent on attracting per month:"
   ]
  },
  {
   "cell_type": "code",
   "execution_count": null,
   "metadata": {},
   "outputs": [],
   "source": [
    "costs_by_month = costs.groupby(['cost_month'])['costs'].sum().reset_index()\n",
    "costs_by_month.columns = ['cost_month', 'costs_in_month']\n",
    "costs_by_month.head()"
   ]
  },
  {
   "cell_type": "code",
   "execution_count": null,
   "metadata": {},
   "outputs": [],
   "source": [
    "orders.head()"
   ]
  },
  {
   "cell_type": "markdown",
   "metadata": {},
   "source": [
    "We've already done it, but let's make it again - define the number of customers per month: "
   ]
  },
  {
   "cell_type": "code",
   "execution_count": null,
   "metadata": {},
   "outputs": [],
   "source": [
    "num_buyers_per_month = orders.groupby(['cohort'])['uid'].nunique().reset_index()\n",
    "num_buyers_per_month.columns = ['cost_month', 'num_buyers']\n",
    "num_buyers_per_month.head()"
   ]
  },
  {
   "cell_type": "markdown",
   "metadata": {},
   "source": [
    "After that we merge two tables and add a new column CAC by dividing the sum of money that has been spent on attracting customers:"
   ]
  },
  {
   "cell_type": "code",
   "execution_count": null,
   "metadata": {
    "scrolled": true
   },
   "outputs": [],
   "source": [
    "CAC_per_month = costs_by_month.merge(num_buyers_per_month, how = 'left', on = ['cost_month'])\n",
    "CAC_per_month['CAC'] = CAC_per_month['costs_in_month'] / CAC_per_month['num_buyers']\n",
    "CAC_per_month.head()"
   ]
  },
  {
   "cell_type": "code",
   "execution_count": null,
   "metadata": {
    "scrolled": false
   },
   "outputs": [],
   "source": [
    "fig = px.line(CAC_per_month, x=\"cost_month\", y=\"CAC\", title='CAC', labels ={'cost_month': 'Month'})\n",
    "fig.show()"
   ]
  },
  {
   "cell_type": "markdown",
   "metadata": {},
   "source": [
    "**Conclusion**   \n",
    "\n",
    "If we're talking about customer acquisition costs in general, the average cost per customer falls between 7,5\\\\$ and 11\\\\$. The most expensive customers were in August and the most cheapest - in May"
   ]
  },
  {
   "cell_type": "markdown",
   "metadata": {},
   "source": [
    "**CAC per source**"
   ]
  },
  {
   "cell_type": "markdown",
   "metadata": {},
   "source": [
    "First, we should define the source, from that user came from first time and it will be kind of original source. "
   ]
  },
  {
   "cell_type": "code",
   "execution_count": null,
   "metadata": {},
   "outputs": [],
   "source": [
    "first_source_visit = visits.sort_values('date').groupby('uid')['source_id'].first().reset_index()\n",
    "first_source_visit.columns = ['uid', 'first_source']\n",
    "first_source_visit.head()"
   ]
  },
  {
   "cell_type": "markdown",
   "metadata": {},
   "source": [
    "After that we'll merge first source to purchase table:"
   ]
  },
  {
   "cell_type": "code",
   "execution_count": null,
   "metadata": {},
   "outputs": [],
   "source": [
    "first_source_order = orders.merge(first_source_visit, how = 'left', on = 'uid')\n",
    "first_source_order.head()"
   ]
  },
  {
   "cell_type": "markdown",
   "metadata": {},
   "source": [
    "Now, we'll calculate the sum of customer cost per source and per month"
   ]
  },
  {
   "cell_type": "code",
   "execution_count": null,
   "metadata": {},
   "outputs": [],
   "source": [
    "costs_by_month_source = costs.groupby(['cost_month', 'source_id'])['costs'].sum().reset_index()\n",
    "costs_by_month_source.head()"
   ]
  },
  {
   "cell_type": "markdown",
   "metadata": {},
   "source": [
    "After that let's define number of customers per month and per source as well"
   ]
  },
  {
   "cell_type": "code",
   "execution_count": null,
   "metadata": {},
   "outputs": [],
   "source": [
    "byuers_per_month_source = first_source_order.groupby(['cohort', 'first_source'])['uid'].nunique().reset_index()\n",
    "byuers_per_month_source.columns = ['cost_month', 'source_id', 'num_byuers']\n",
    "byuers_per_month_source.head()"
   ]
  },
  {
   "cell_type": "markdown",
   "metadata": {},
   "source": [
    "Now we'll merge two tables and define customer acquisition costs by dividing costs by number of customers and we'll plot graph"
   ]
  },
  {
   "cell_type": "code",
   "execution_count": null,
   "metadata": {},
   "outputs": [],
   "source": [
    "CAC_per_month_source = costs_by_month_source.merge(byuers_per_month_source, how = 'left', on = ['cost_month', 'source_id'])\n",
    "CAC_per_month_source['CAC'] = CAC_per_month_source['costs'] / CAC_per_month_source['num_byuers']\n",
    "CAC_per_month_source.head()"
   ]
  },
  {
   "cell_type": "code",
   "execution_count": null,
   "metadata": {},
   "outputs": [],
   "source": [
    "fig = px.line(CAC_per_month_source, x=\"cost_month\", y=\"CAC\", \n",
    "              color='source_id', title='CAC per month and per source', labels ={'cost_month': 'Month'})\n",
    "fig.show()"
   ]
  },
  {
   "cell_type": "markdown",
   "metadata": {},
   "source": [
    "**Conclusion**    \n",
    "\n",
    "It turns out that all sources are different and have different trends over different periods. Sources 2 and 3 are most expensive and have similar trend between September and March, source 4 after October become straight, and the rest sources are varied from month to month"
   ]
  },
  {
   "cell_type": "markdown",
   "metadata": {},
   "source": [
    "##### How worthwhile where the investments? (ROI)"
   ]
  },
  {
   "cell_type": "markdown",
   "metadata": {},
   "source": [
    "At first, we'll define ROI for cohort. We've already made calculations of CAC and LTV, so let's rewrite names of columns and let's merge two tables, calculate ROI and plot the graphs"
   ]
  },
  {
   "cell_type": "code",
   "execution_count": null,
   "metadata": {},
   "outputs": [],
   "source": [
    "CAC_per_month_ROI = CAC_per_month[['cost_month', 'CAC']]\n",
    "CAC_per_month_ROI.columns = ['cohort', 'CAC']\n",
    "ROI = ltv_cohorts.merge(CAC_per_month_ROI, how = 'left', on = ['cohort'])\n",
    "ROI.head()"
   ]
  },
  {
   "cell_type": "code",
   "execution_count": null,
   "metadata": {},
   "outputs": [],
   "source": [
    "ROI['ROI']=ROI['ltv']/ROI['CAC']\n",
    "roi_piv = ROI.pivot_table(index='cohort', columns='age', values='ROI', aggfunc='mean').cumsum(axis=1)\n",
    "roi_piv.round(2).fillna('') "
   ]
  },
  {
   "cell_type": "code",
   "execution_count": null,
   "metadata": {},
   "outputs": [],
   "source": [
    "roi_piv.index=roi_piv.index.astype(str)\n",
    "plt.figure(figsize=(15, 12))\n",
    "sns.heatmap(roi_piv, annot=True, fmt='.2%', linewidths=1, \n",
    "            linecolor='grey', cbar_kws= {'orientation': 'horizontal'}).set(title ='ROI per cohort')\n",
    "plt.show()"
   ]
  },
  {
   "cell_type": "markdown",
   "metadata": {},
   "source": [
    "**Conclusion**   \n",
    "\n",
    "We can see the similar picture with LTV per cohort: we can call September, June, July and December most succsessfull cohorts in terms of returns of investments.  "
   ]
  },
  {
   "cell_type": "markdown",
   "metadata": {},
   "source": [
    "Now, let's define ROI for each source according the same logic:"
   ]
  },
  {
   "cell_type": "code",
   "execution_count": null,
   "metadata": {},
   "outputs": [],
   "source": [
    "ltv_per_source = first_source_order.groupby(['first_source'])['uid', 'revenue'].agg({'uid': 'nunique', 'revenue': 'sum'}).reset_index()\n",
    "ltv_per_source.columns = ['source_id', 'num_byuers', 'total_revenue']\n",
    "ltv_per_source['ltv'] = ltv_per_source['total_revenue'] / ltv_per_source['num_byuers']\n",
    "ltv_per_source.head()"
   ]
  },
  {
   "cell_type": "code",
   "execution_count": null,
   "metadata": {},
   "outputs": [],
   "source": [
    "roi_per_source = costs_per_source.merge(ltv_per_source, on = ['source_id'])\n",
    "roi_per_source['cac'] = roi_per_source['costs'] / roi_per_source['num_byuers']\n",
    "roi_per_source['romi'] = roi_per_source['ltv'] / roi_per_source['cac']\n",
    "roi_per_source.head()"
   ]
  },
  {
   "cell_type": "code",
   "execution_count": null,
   "metadata": {},
   "outputs": [],
   "source": [
    "fig = px.bar(roi_per_source, x='source_id', y='romi', \n",
    "             title = 'ROMI per source', labels ={'source_id': 'Source', 'romi': 'ROMI'}, text_auto = '.2')\n",
    "fig.update_xaxes(type='category')\n",
    "fig.show()"
   ]
  },
  {
   "cell_type": "markdown",
   "metadata": {},
   "source": [
    "**Conclusion**   \n",
    "\n",
    "So, we see that the most worth channel is source 1 - he's a obvious leader with almost x2 gap. The next one sources 2, 5 and 9 are similar and we can say they are succsessfull as well (despite more higher level of CAC for source 2)   \n",
    "Also I want to mention source 10 - pretty good indicator.   "
   ]
  },
  {
   "cell_type": "markdown",
   "metadata": {},
   "source": [
    "### Step 3. Overall conclusion"
   ]
  },
  {
   "cell_type": "markdown",
   "metadata": {},
   "source": [
    "**Conclusion**    \n",
    "\n",
    "So, after a first look at two graphs I would like recommend to marketing department stop wasting money on source 3. It is obvious spender, as we see in graphs CAC per source - during entire period source 3 is leader in terms of amount money spending on attract protentional buyers. The ROMI graphs says that source 3 - \"champion\" in terms of inefficiency, the ratio LVT to CAC 0.36 that means for 1\\\\$ LTV accounts almost 3\\\\$ of CAC.    \n",
    "Also, just 3 types of resource show kind of \"success\": №№ 1, 2 and 5, where the ratio LVT: CAC more than 1. It looks that the current strategy for source 1 is working and a pretty good \"quality\" of incoming customers is talking about the right direction, and, probably, increasing budgets for this channel may pay off with more benefits. As we see ROMI on a high level, CAC and the budget are one of the lowest.   "
   ]
  }
 ],
 "metadata": {
  "ExecuteTimeLog": [
   {
    "duration": 1393,
    "start_time": "2022-01-29T20:09:29.805Z"
   },
   {
    "duration": 53966,
    "start_time": "2022-01-29T20:11:07.473Z"
   },
   {
    "duration": 5,
    "start_time": "2022-01-29T20:12:18.593Z"
   },
   {
    "duration": 53943,
    "start_time": "2022-01-29T20:12:33.204Z"
   },
   {
    "duration": 1167,
    "start_time": "2022-01-29T20:13:33.660Z"
   },
   {
    "duration": 648,
    "start_time": "2022-01-29T20:16:24.996Z"
   },
   {
    "duration": 11,
    "start_time": "2022-01-29T20:16:33.016Z"
   },
   {
    "duration": 63,
    "start_time": "2022-01-29T20:24:51.286Z"
   },
   {
    "duration": 147,
    "start_time": "2022-01-29T20:25:49.901Z"
   },
   {
    "duration": 711,
    "start_time": "2022-01-29T20:27:08.642Z"
   },
   {
    "duration": 9,
    "start_time": "2022-01-29T20:27:11.308Z"
   },
   {
    "duration": 12,
    "start_time": "2022-01-29T20:27:15.221Z"
   },
   {
    "duration": 4,
    "start_time": "2022-02-01T12:16:36.890Z"
   },
   {
    "duration": 58865,
    "start_time": "2022-02-01T12:16:51.186Z"
   },
   {
    "duration": 1206,
    "start_time": "2022-02-01T12:17:52.810Z"
   },
   {
    "duration": 679,
    "start_time": "2022-02-01T12:17:55.270Z"
   },
   {
    "duration": 13,
    "start_time": "2022-02-01T12:17:57.217Z"
   },
   {
    "duration": 13,
    "start_time": "2022-02-01T12:18:00.553Z"
   },
   {
    "duration": 50,
    "start_time": "2022-02-01T12:18:02.917Z"
   },
   {
    "duration": 15,
    "start_time": "2022-02-01T12:18:17.447Z"
   },
   {
    "duration": 6,
    "start_time": "2022-02-01T12:19:25.019Z"
   },
   {
    "duration": 60,
    "start_time": "2022-02-01T13:15:22.575Z"
   },
   {
    "duration": 8,
    "start_time": "2022-02-01T13:15:25.582Z"
   },
   {
    "duration": 5,
    "start_time": "2022-02-01T13:15:27.930Z"
   },
   {
    "duration": 4,
    "start_time": "2022-02-01T13:18:22.549Z"
   },
   {
    "duration": 669,
    "start_time": "2022-02-01T13:18:24.579Z"
   },
   {
    "duration": 9,
    "start_time": "2022-02-01T13:18:26.723Z"
   },
   {
    "duration": 15,
    "start_time": "2022-02-01T13:18:28.090Z"
   },
   {
    "duration": 687,
    "start_time": "2022-02-01T13:18:35.541Z"
   },
   {
    "duration": 9,
    "start_time": "2022-02-01T13:18:38.002Z"
   },
   {
    "duration": 12,
    "start_time": "2022-02-01T13:18:41.468Z"
   },
   {
    "duration": 56,
    "start_time": "2022-02-01T13:18:55.848Z"
   },
   {
    "duration": 9,
    "start_time": "2022-02-01T13:18:57.309Z"
   },
   {
    "duration": 7,
    "start_time": "2022-02-01T13:19:18.593Z"
   },
   {
    "duration": 38,
    "start_time": "2022-02-01T13:19:53.198Z"
   },
   {
    "duration": 688,
    "start_time": "2022-02-01T13:19:58.124Z"
   },
   {
    "duration": 609,
    "start_time": "2022-02-01T13:20:39.622Z"
   },
   {
    "duration": 242,
    "start_time": "2022-02-01T13:20:47.997Z"
   },
   {
    "duration": 48,
    "start_time": "2022-02-01T13:20:53.282Z"
   },
   {
    "duration": 9,
    "start_time": "2022-02-01T13:20:55.187Z"
   },
   {
    "duration": 230,
    "start_time": "2022-02-01T13:21:11.617Z"
   },
   {
    "duration": 8,
    "start_time": "2022-02-01T13:21:19.067Z"
   },
   {
    "duration": 39,
    "start_time": "2022-02-01T13:21:50.796Z"
   },
   {
    "duration": 8,
    "start_time": "2022-02-01T13:21:52.208Z"
   },
   {
    "duration": 8,
    "start_time": "2022-02-01T13:21:55.264Z"
   },
   {
    "duration": 20,
    "start_time": "2022-02-01T13:29:58.255Z"
   },
   {
    "duration": 10,
    "start_time": "2022-02-01T13:30:09.493Z"
   },
   {
    "duration": 9,
    "start_time": "2022-02-01T13:30:15.486Z"
   },
   {
    "duration": 220,
    "start_time": "2022-02-01T20:00:48.457Z"
   },
   {
    "duration": 3,
    "start_time": "2022-02-01T20:00:58.651Z"
   },
   {
    "duration": 177,
    "start_time": "2022-02-01T20:03:28.975Z"
   },
   {
    "duration": 414,
    "start_time": "2022-02-01T20:03:34.341Z"
   },
   {
    "duration": 15,
    "start_time": "2022-02-01T20:04:13.927Z"
   },
   {
    "duration": 12,
    "start_time": "2022-02-01T20:04:43.774Z"
   },
   {
    "duration": 35,
    "start_time": "2022-02-01T20:40:24.445Z"
   },
   {
    "duration": 264,
    "start_time": "2022-02-01T20:45:51.070Z"
   },
   {
    "duration": 364,
    "start_time": "2022-02-01T20:48:54.072Z"
   },
   {
    "duration": 302,
    "start_time": "2022-02-01T20:49:08.536Z"
   },
   {
    "duration": 241,
    "start_time": "2022-02-01T20:50:02.120Z"
   },
   {
    "duration": 268,
    "start_time": "2022-02-01T20:50:37.878Z"
   },
   {
    "duration": 276,
    "start_time": "2022-02-01T20:55:13.652Z"
   },
   {
    "duration": 105,
    "start_time": "2022-02-01T20:55:35.391Z"
   },
   {
    "duration": 101,
    "start_time": "2022-02-01T20:55:47.565Z"
   },
   {
    "duration": 101,
    "start_time": "2022-02-01T20:56:03.277Z"
   },
   {
    "duration": 445,
    "start_time": "2022-02-01T21:03:50.731Z"
   },
   {
    "duration": 6,
    "start_time": "2022-02-01T21:04:59.606Z"
   },
   {
    "duration": 986,
    "start_time": "2022-02-01T21:07:30.590Z"
   },
   {
    "duration": 671,
    "start_time": "2022-02-01T21:07:50.041Z"
   },
   {
    "duration": 417,
    "start_time": "2022-02-01T21:08:32.158Z"
   },
   {
    "duration": 346,
    "start_time": "2022-02-01T21:11:26.777Z"
   },
   {
    "duration": 542,
    "start_time": "2022-02-01T21:12:33.144Z"
   },
   {
    "duration": 94207,
    "start_time": "2022-02-01T21:18:21.141Z"
   },
   {
    "duration": 7102,
    "start_time": "2022-02-01T21:19:56.935Z"
   },
   {
    "duration": 4,
    "start_time": "2022-02-01T21:20:06.041Z"
   },
   {
    "duration": 848,
    "start_time": "2022-02-01T21:20:12.326Z"
   },
   {
    "duration": 94256,
    "start_time": "2022-02-01T21:20:40.475Z"
   },
   {
    "duration": 3,
    "start_time": "2022-02-01T21:23:23.283Z"
   },
   {
    "duration": 494,
    "start_time": "2022-02-01T21:23:28.332Z"
   },
   {
    "duration": 21371,
    "start_time": "2022-02-01T21:24:23.225Z"
   },
   {
    "duration": 1275,
    "start_time": "2022-02-01T21:28:51.199Z"
   },
   {
    "duration": 832,
    "start_time": "2022-02-01T21:29:05.002Z"
   },
   {
    "duration": 13,
    "start_time": "2022-02-01T21:29:06.991Z"
   },
   {
    "duration": 24,
    "start_time": "2022-02-01T21:29:11.680Z"
   },
   {
    "duration": 290,
    "start_time": "2022-02-01T21:29:12.944Z"
   },
   {
    "duration": 61,
    "start_time": "2022-02-01T21:29:14.612Z"
   },
   {
    "duration": 12,
    "start_time": "2022-02-01T21:29:15.900Z"
   },
   {
    "duration": 13,
    "start_time": "2022-02-01T21:29:17.985Z"
   },
   {
    "duration": 13,
    "start_time": "2022-02-01T21:29:19.490Z"
   },
   {
    "duration": 40,
    "start_time": "2022-02-01T21:29:20.652Z"
   },
   {
    "duration": 12,
    "start_time": "2022-02-01T21:29:21.870Z"
   },
   {
    "duration": 13,
    "start_time": "2022-02-01T21:29:29.589Z"
   },
   {
    "duration": 16,
    "start_time": "2022-02-01T21:29:30.766Z"
   },
   {
    "duration": 298,
    "start_time": "2022-02-01T21:29:33.232Z"
   },
   {
    "duration": 141,
    "start_time": "2022-02-01T21:29:35.282Z"
   },
   {
    "duration": 704,
    "start_time": "2022-02-01T21:29:37.462Z"
   },
   {
    "duration": 198,
    "start_time": "2022-02-01T21:29:49.355Z"
   },
   {
    "duration": 98,
    "start_time": "2022-02-01T21:41:20.152Z"
   },
   {
    "duration": 105,
    "start_time": "2022-02-01T21:42:20.168Z"
   },
   {
    "duration": 196,
    "start_time": "2022-02-01T21:43:03.730Z"
   },
   {
    "duration": 54,
    "start_time": "2022-02-01T21:43:38.013Z"
   },
   {
    "duration": 89,
    "start_time": "2022-02-01T21:43:57.169Z"
   },
   {
    "duration": 61,
    "start_time": "2022-02-01T21:43:58.902Z"
   },
   {
    "duration": 84,
    "start_time": "2022-02-02T08:57:51.694Z"
   },
   {
    "duration": 91,
    "start_time": "2022-02-02T08:58:01.440Z"
   },
   {
    "duration": 53,
    "start_time": "2022-02-02T08:58:39.083Z"
   },
   {
    "duration": 113,
    "start_time": "2022-02-02T09:06:48.806Z"
   },
   {
    "duration": 115,
    "start_time": "2022-02-02T09:26:56.085Z"
   },
   {
    "duration": 127,
    "start_time": "2022-02-02T09:27:02.453Z"
   },
   {
    "duration": 38,
    "start_time": "2022-02-02T09:32:16.125Z"
   },
   {
    "duration": 34,
    "start_time": "2022-02-02T09:32:59.960Z"
   },
   {
    "duration": 155,
    "start_time": "2022-02-02T09:42:37.883Z"
   },
   {
    "duration": 119,
    "start_time": "2022-02-02T09:42:41.985Z"
   },
   {
    "duration": 124,
    "start_time": "2022-02-02T09:42:44.160Z"
   },
   {
    "duration": 191,
    "start_time": "2022-02-02T09:42:46.709Z"
   },
   {
    "duration": 91,
    "start_time": "2022-02-02T09:42:50.042Z"
   },
   {
    "duration": 54,
    "start_time": "2022-02-02T09:42:53.700Z"
   },
   {
    "duration": 84,
    "start_time": "2022-02-02T09:42:58.249Z"
   },
   {
    "duration": 55,
    "start_time": "2022-02-02T09:43:02.433Z"
   },
   {
    "duration": 37,
    "start_time": "2022-02-02T09:43:09.867Z"
   },
   {
    "duration": 60,
    "start_time": "2022-02-02T09:49:47.766Z"
   },
   {
    "duration": 70,
    "start_time": "2022-02-02T09:49:51.328Z"
   },
   {
    "duration": 60,
    "start_time": "2022-02-02T09:50:49.192Z"
   },
   {
    "duration": 61,
    "start_time": "2022-02-02T09:54:37.033Z"
   },
   {
    "duration": 33,
    "start_time": "2022-02-02T09:55:25.788Z"
   },
   {
    "duration": 17,
    "start_time": "2022-02-02T11:39:12.889Z"
   },
   {
    "duration": 180,
    "start_time": "2022-02-02T11:39:37.381Z"
   },
   {
    "duration": 26,
    "start_time": "2022-02-02T11:39:59.168Z"
   },
   {
    "duration": 18,
    "start_time": "2022-02-02T11:40:19.426Z"
   },
   {
    "duration": 24,
    "start_time": "2022-02-02T11:40:32.323Z"
   },
   {
    "duration": 239,
    "start_time": "2022-02-02T11:41:46.110Z"
   },
   {
    "duration": 290,
    "start_time": "2022-02-02T11:41:56.998Z"
   },
   {
    "duration": 272,
    "start_time": "2022-02-02T11:43:14.045Z"
   },
   {
    "duration": 254,
    "start_time": "2022-02-02T11:43:39.246Z"
   },
   {
    "duration": 250,
    "start_time": "2022-02-02T11:43:42.843Z"
   },
   {
    "duration": 5,
    "start_time": "2022-02-02T11:44:45.957Z"
   },
   {
    "duration": 7,
    "start_time": "2022-02-02T11:44:49.760Z"
   },
   {
    "duration": 249,
    "start_time": "2022-02-02T11:45:22.725Z"
   },
   {
    "duration": 252,
    "start_time": "2022-02-02T11:45:43.089Z"
   },
   {
    "duration": 96,
    "start_time": "2022-02-02T12:23:18.746Z"
   },
   {
    "duration": 68,
    "start_time": "2022-02-02T12:30:00.039Z"
   },
   {
    "duration": 84,
    "start_time": "2022-02-02T12:30:04.644Z"
   },
   {
    "duration": 80,
    "start_time": "2022-02-02T12:30:35.781Z"
   },
   {
    "duration": 82,
    "start_time": "2022-02-02T12:31:18.396Z"
   },
   {
    "duration": 48916,
    "start_time": "2022-02-02T12:31:35.303Z"
   },
   {
    "duration": 1294,
    "start_time": "2022-02-02T12:32:33.024Z"
   },
   {
    "duration": 728,
    "start_time": "2022-02-02T12:32:38.686Z"
   },
   {
    "duration": 17,
    "start_time": "2022-02-02T12:32:41.959Z"
   },
   {
    "duration": 24,
    "start_time": "2022-02-02T12:32:43.759Z"
   },
   {
    "duration": 295,
    "start_time": "2022-02-02T12:32:45.266Z"
   },
   {
    "duration": 61,
    "start_time": "2022-02-02T12:32:46.551Z"
   },
   {
    "duration": 10,
    "start_time": "2022-02-02T12:32:47.462Z"
   },
   {
    "duration": 11,
    "start_time": "2022-02-02T12:32:48.299Z"
   },
   {
    "duration": 13,
    "start_time": "2022-02-02T12:32:49.164Z"
   },
   {
    "duration": 39,
    "start_time": "2022-02-02T12:32:50.265Z"
   },
   {
    "duration": 9,
    "start_time": "2022-02-02T12:32:51.039Z"
   },
   {
    "duration": 11,
    "start_time": "2022-02-02T12:32:51.847Z"
   },
   {
    "duration": 12,
    "start_time": "2022-02-02T12:32:52.733Z"
   },
   {
    "duration": 164,
    "start_time": "2022-02-02T12:32:57.100Z"
   },
   {
    "duration": 127,
    "start_time": "2022-02-02T12:32:58.613Z"
   },
   {
    "duration": 136,
    "start_time": "2022-02-02T12:33:00.308Z"
   },
   {
    "duration": 445,
    "start_time": "2022-02-02T12:33:01.462Z"
   },
   {
    "duration": 95,
    "start_time": "2022-02-02T12:33:05.825Z"
   },
   {
    "duration": 57,
    "start_time": "2022-02-02T12:33:06.867Z"
   },
   {
    "duration": 87,
    "start_time": "2022-02-02T12:33:08.994Z"
   },
   {
    "duration": 56,
    "start_time": "2022-02-02T12:33:10.114Z"
   },
   {
    "duration": 38,
    "start_time": "2022-02-02T12:33:12.963Z"
   },
   {
    "duration": 63,
    "start_time": "2022-02-02T12:33:15.232Z"
   },
   {
    "duration": 33,
    "start_time": "2022-02-02T12:33:17.709Z"
   },
   {
    "duration": 25,
    "start_time": "2022-02-02T12:33:21.021Z"
   },
   {
    "duration": 277,
    "start_time": "2022-02-02T12:33:23.737Z"
   },
   {
    "duration": 9,
    "start_time": "2022-02-02T12:33:25.754Z"
   },
   {
    "duration": 102,
    "start_time": "2022-02-02T12:33:30.028Z"
   },
   {
    "duration": 93,
    "start_time": "2022-02-02T12:34:38.506Z"
   },
   {
    "duration": 205,
    "start_time": "2022-02-02T12:36:01.610Z"
   },
   {
    "duration": 525,
    "start_time": "2022-02-02T13:10:45.837Z"
   },
   {
    "duration": 3,
    "start_time": "2022-02-02T13:13:54.419Z"
   },
   {
    "duration": 192,
    "start_time": "2022-02-02T13:14:30.246Z"
   },
   {
    "duration": 40,
    "start_time": "2022-02-02T13:15:22.133Z"
   },
   {
    "duration": 196,
    "start_time": "2022-02-02T13:32:01.973Z"
   },
   {
    "duration": 194,
    "start_time": "2022-02-02T13:32:11.248Z"
   },
   {
    "duration": 116,
    "start_time": "2022-02-02T13:32:35.581Z"
   },
   {
    "duration": 19,
    "start_time": "2022-02-02T14:02:20.002Z"
   },
   {
    "duration": 1058,
    "start_time": "2022-02-02T14:07:06.977Z"
   },
   {
    "duration": 1093,
    "start_time": "2022-02-02T14:07:19.422Z"
   },
   {
    "duration": 1029,
    "start_time": "2022-02-02T14:07:27.499Z"
   },
   {
    "duration": 1189,
    "start_time": "2022-02-02T14:09:04.242Z"
   },
   {
    "duration": 954,
    "start_time": "2022-02-02T14:09:32.349Z"
   },
   {
    "duration": 930,
    "start_time": "2022-02-02T14:10:27.184Z"
   },
   {
    "duration": 943,
    "start_time": "2022-02-02T14:11:06.666Z"
   },
   {
    "duration": 965,
    "start_time": "2022-02-02T14:11:26.440Z"
   },
   {
    "duration": 1232,
    "start_time": "2022-02-02T14:12:11.363Z"
   },
   {
    "duration": 1038,
    "start_time": "2022-02-02T14:12:19.214Z"
   },
   {
    "duration": 31,
    "start_time": "2022-02-02T14:21:47.246Z"
   },
   {
    "duration": 43,
    "start_time": "2022-02-02T15:18:34.873Z"
   },
   {
    "duration": 9,
    "start_time": "2022-02-02T15:18:39.377Z"
   },
   {
    "duration": 9,
    "start_time": "2022-02-02T15:18:43.051Z"
   },
   {
    "duration": 11,
    "start_time": "2022-02-02T15:18:48.025Z"
   },
   {
    "duration": 14,
    "start_time": "2022-02-02T15:20:20.074Z"
   },
   {
    "duration": 18,
    "start_time": "2022-02-02T15:20:28.562Z"
   },
   {
    "duration": 18,
    "start_time": "2022-02-02T15:21:05.034Z"
   },
   {
    "duration": 65,
    "start_time": "2022-02-02T15:55:19.217Z"
   },
   {
    "duration": 148,
    "start_time": "2022-02-02T16:02:51.533Z"
   },
   {
    "duration": 143,
    "start_time": "2022-02-02T16:57:56.355Z"
   },
   {
    "duration": 2886,
    "start_time": "2022-02-02T17:48:04.030Z"
   },
   {
    "duration": 150,
    "start_time": "2022-02-02T17:48:35.936Z"
   },
   {
    "duration": 140,
    "start_time": "2022-02-02T17:49:43.245Z"
   },
   {
    "duration": 2126,
    "start_time": "2022-02-02T17:49:59.014Z"
   },
   {
    "duration": 31,
    "start_time": "2022-02-02T17:50:28.217Z"
   },
   {
    "duration": 555,
    "start_time": "2022-02-02T17:50:55.653Z"
   },
   {
    "duration": 6,
    "start_time": "2022-02-02T17:51:14.416Z"
   },
   {
    "duration": 17,
    "start_time": "2022-02-03T09:38:07.687Z"
   },
   {
    "duration": 180,
    "start_time": "2022-02-03T13:27:58.135Z"
   },
   {
    "duration": 22,
    "start_time": "2022-02-03T13:28:05.727Z"
   },
   {
    "duration": 17,
    "start_time": "2022-02-03T13:40:37.877Z"
   },
   {
    "duration": 15,
    "start_time": "2022-02-03T13:40:41.410Z"
   },
   {
    "duration": 15,
    "start_time": "2022-02-03T13:44:08.647Z"
   },
   {
    "duration": 11,
    "start_time": "2022-02-03T13:58:16.658Z"
   },
   {
    "duration": 60,
    "start_time": "2022-02-03T14:13:41.796Z"
   },
   {
    "duration": 182,
    "start_time": "2022-02-03T14:13:49.657Z"
   },
   {
    "duration": 163,
    "start_time": "2022-02-03T14:13:54.693Z"
   },
   {
    "duration": 30,
    "start_time": "2022-02-03T14:13:57.260Z"
   },
   {
    "duration": 181,
    "start_time": "2022-02-03T14:14:22.396Z"
   },
   {
    "duration": 535,
    "start_time": "2022-02-03T14:14:31.203Z"
   },
   {
    "duration": 6,
    "start_time": "2022-02-03T14:14:37.224Z"
   },
   {
    "duration": 20,
    "start_time": "2022-02-03T14:16:29.195Z"
   },
   {
    "duration": 23,
    "start_time": "2022-02-03T14:20:03.011Z"
   },
   {
    "duration": 17,
    "start_time": "2022-02-03T15:15:07.075Z"
   },
   {
    "duration": 22,
    "start_time": "2022-02-03T15:34:38.387Z"
   },
   {
    "duration": 19,
    "start_time": "2022-02-03T15:39:23.846Z"
   },
   {
    "duration": 34,
    "start_time": "2022-02-03T15:55:46.537Z"
   },
   {
    "duration": 276,
    "start_time": "2022-02-03T16:33:09.991Z"
   },
   {
    "duration": 89,
    "start_time": "2022-02-03T16:33:14.172Z"
   },
   {
    "duration": 17,
    "start_time": "2022-02-03T16:33:16.229Z"
   },
   {
    "duration": 20,
    "start_time": "2022-02-03T16:37:12.662Z"
   },
   {
    "duration": 27,
    "start_time": "2022-02-03T16:38:25.639Z"
   },
   {
    "duration": 22,
    "start_time": "2022-02-03T16:42:25.338Z"
   },
   {
    "duration": 15,
    "start_time": "2022-02-03T16:42:29.197Z"
   },
   {
    "duration": 28,
    "start_time": "2022-02-03T16:51:39.618Z"
   },
   {
    "duration": 19,
    "start_time": "2022-02-03T17:28:56.345Z"
   },
   {
    "duration": 13,
    "start_time": "2022-02-03T17:29:29.875Z"
   },
   {
    "duration": 16,
    "start_time": "2022-02-03T17:29:31.299Z"
   },
   {
    "duration": 14,
    "start_time": "2022-02-03T17:36:03.932Z"
   },
   {
    "duration": 180,
    "start_time": "2022-02-03T17:36:59.256Z"
   },
   {
    "duration": 2228,
    "start_time": "2022-02-03T17:37:03.911Z"
   },
   {
    "duration": 16,
    "start_time": "2022-02-03T17:38:21.622Z"
   },
   {
    "duration": 15,
    "start_time": "2022-02-03T17:38:40.931Z"
   },
   {
    "duration": 7,
    "start_time": "2022-02-03T17:39:19.841Z"
   },
   {
    "duration": 1256,
    "start_time": "2022-02-03T17:39:36.545Z"
   },
   {
    "duration": 857,
    "start_time": "2022-02-03T17:39:52.393Z"
   },
   {
    "duration": 14,
    "start_time": "2022-02-03T17:39:59.392Z"
   },
   {
    "duration": 25,
    "start_time": "2022-02-03T17:40:02.639Z"
   },
   {
    "duration": 288,
    "start_time": "2022-02-03T17:40:03.805Z"
   },
   {
    "duration": 68,
    "start_time": "2022-02-03T17:40:05.575Z"
   },
   {
    "duration": 10,
    "start_time": "2022-02-03T17:40:07.532Z"
   },
   {
    "duration": 11,
    "start_time": "2022-02-03T17:40:09.319Z"
   },
   {
    "duration": 16,
    "start_time": "2022-02-03T17:40:10.345Z"
   },
   {
    "duration": 37,
    "start_time": "2022-02-03T17:40:11.849Z"
   },
   {
    "duration": 9,
    "start_time": "2022-02-03T17:40:13.954Z"
   },
   {
    "duration": 9,
    "start_time": "2022-02-03T17:40:15.118Z"
   },
   {
    "duration": 12,
    "start_time": "2022-02-03T17:40:16.453Z"
   },
   {
    "duration": 160,
    "start_time": "2022-02-03T17:40:19.781Z"
   },
   {
    "duration": 120,
    "start_time": "2022-02-03T17:40:22.214Z"
   },
   {
    "duration": 419,
    "start_time": "2022-02-03T17:40:24.300Z"
   },
   {
    "duration": 86,
    "start_time": "2022-02-03T17:40:28.758Z"
   },
   {
    "duration": 52,
    "start_time": "2022-02-03T17:40:30.197Z"
   },
   {
    "duration": 82,
    "start_time": "2022-02-03T17:40:31.682Z"
   },
   {
    "duration": 50,
    "start_time": "2022-02-03T17:40:33.240Z"
   },
   {
    "duration": 36,
    "start_time": "2022-02-03T17:40:36.601Z"
   },
   {
    "duration": 59,
    "start_time": "2022-02-03T17:40:37.531Z"
   },
   {
    "duration": 32,
    "start_time": "2022-02-03T17:40:38.854Z"
   },
   {
    "duration": 22,
    "start_time": "2022-02-03T17:40:42.864Z"
   },
   {
    "duration": 241,
    "start_time": "2022-02-03T17:40:47.577Z"
   },
   {
    "duration": 9,
    "start_time": "2022-02-03T17:40:50.141Z"
   },
   {
    "duration": 89,
    "start_time": "2022-02-03T17:40:53.071Z"
   },
   {
    "duration": 194,
    "start_time": "2022-02-03T17:40:56.189Z"
   },
   {
    "duration": 287,
    "start_time": "2022-02-03T17:41:01.190Z"
   },
   {
    "duration": 126,
    "start_time": "2022-02-03T17:41:06.621Z"
   },
   {
    "duration": 316,
    "start_time": "2022-02-03T17:41:35.471Z"
   },
   {
    "duration": 18,
    "start_time": "2022-02-03T17:41:47.038Z"
   },
   {
    "duration": 995,
    "start_time": "2022-02-03T17:41:55.840Z"
   },
   {
    "duration": 18,
    "start_time": "2022-02-03T17:42:02.556Z"
   },
   {
    "duration": 130,
    "start_time": "2022-02-03T17:42:07.917Z"
   },
   {
    "duration": 31,
    "start_time": "2022-02-03T17:42:14.940Z"
   },
   {
    "duration": 479,
    "start_time": "2022-02-03T17:42:25.409Z"
   },
   {
    "duration": 6,
    "start_time": "2022-02-03T17:42:28.335Z"
   },
   {
    "duration": 18,
    "start_time": "2022-02-03T17:42:29.544Z"
   },
   {
    "duration": 21,
    "start_time": "2022-02-03T17:42:33.991Z"
   },
   {
    "duration": 23,
    "start_time": "2022-02-03T17:42:36.865Z"
   },
   {
    "duration": 15,
    "start_time": "2022-02-03T17:42:39.659Z"
   },
   {
    "duration": 14,
    "start_time": "2022-02-03T17:42:48.223Z"
   },
   {
    "duration": 17,
    "start_time": "2022-02-03T17:42:49.902Z"
   },
   {
    "duration": 195,
    "start_time": "2022-02-03T17:42:51.321Z"
   },
   {
    "duration": 29,
    "start_time": "2022-02-03T17:43:20.534Z"
   },
   {
    "duration": 16,
    "start_time": "2022-02-03T17:43:24.528Z"
   },
   {
    "duration": 28,
    "start_time": "2022-02-03T17:43:29.055Z"
   },
   {
    "duration": 27,
    "start_time": "2022-02-03T17:44:06.678Z"
   },
   {
    "duration": 14,
    "start_time": "2022-02-03T17:44:12.093Z"
   },
   {
    "duration": 12,
    "start_time": "2022-02-03T17:44:29.988Z"
   },
   {
    "duration": 3915,
    "start_time": "2022-02-03T17:47:04.683Z"
   },
   {
    "duration": 16,
    "start_time": "2022-02-03T17:48:03.499Z"
   },
   {
    "duration": 15,
    "start_time": "2022-02-03T17:53:08.837Z"
   },
   {
    "duration": 100082,
    "start_time": "2022-02-03T17:53:38.992Z"
   },
   {
    "duration": 1231,
    "start_time": "2022-02-03T17:55:19.076Z"
   },
   {
    "duration": 711,
    "start_time": "2022-02-03T17:55:20.309Z"
   },
   {
    "duration": 11,
    "start_time": "2022-02-03T17:55:21.022Z"
   },
   {
    "duration": 35,
    "start_time": "2022-02-03T17:55:21.035Z"
   },
   {
    "duration": 285,
    "start_time": "2022-02-03T17:55:21.072Z"
   },
   {
    "duration": 57,
    "start_time": "2022-02-03T17:55:21.358Z"
   },
   {
    "duration": 8,
    "start_time": "2022-02-03T17:55:21.418Z"
   },
   {
    "duration": 9,
    "start_time": "2022-02-03T17:55:21.428Z"
   },
   {
    "duration": 21,
    "start_time": "2022-02-03T17:55:21.438Z"
   },
   {
    "duration": 84,
    "start_time": "2022-02-03T17:55:21.460Z"
   },
   {
    "duration": 7,
    "start_time": "2022-02-03T17:55:21.546Z"
   },
   {
    "duration": 12,
    "start_time": "2022-02-03T17:55:21.554Z"
   },
   {
    "duration": 11,
    "start_time": "2022-02-03T17:55:21.567Z"
   },
   {
    "duration": 166,
    "start_time": "2022-02-03T17:55:21.579Z"
   },
   {
    "duration": 126,
    "start_time": "2022-02-03T17:55:21.746Z"
   },
   {
    "duration": 427,
    "start_time": "2022-02-03T17:55:21.874Z"
   },
   {
    "duration": 189,
    "start_time": "2022-02-03T17:55:22.303Z"
   },
   {
    "duration": 102,
    "start_time": "2022-02-03T17:55:22.494Z"
   },
   {
    "duration": 106,
    "start_time": "2022-02-03T17:55:22.597Z"
   },
   {
    "duration": 62,
    "start_time": "2022-02-03T17:55:22.705Z"
   },
   {
    "duration": 39,
    "start_time": "2022-02-03T17:55:22.769Z"
   },
   {
    "duration": 80,
    "start_time": "2022-02-03T17:55:22.811Z"
   },
   {
    "duration": 31,
    "start_time": "2022-02-03T17:55:22.893Z"
   },
   {
    "duration": 43,
    "start_time": "2022-02-03T17:55:22.925Z"
   },
   {
    "duration": 254,
    "start_time": "2022-02-03T17:55:22.969Z"
   },
   {
    "duration": 8,
    "start_time": "2022-02-03T17:55:23.224Z"
   },
   {
    "duration": 98,
    "start_time": "2022-02-03T17:55:23.233Z"
   },
   {
    "duration": 178,
    "start_time": "2022-02-03T17:55:23.332Z"
   },
   {
    "duration": 273,
    "start_time": "2022-02-03T17:55:23.511Z"
   },
   {
    "duration": 139,
    "start_time": "2022-02-03T17:55:23.786Z"
   },
   {
    "duration": 16,
    "start_time": "2022-02-03T17:55:23.926Z"
   },
   {
    "duration": 945,
    "start_time": "2022-02-03T17:55:23.943Z"
   },
   {
    "duration": 18,
    "start_time": "2022-02-03T17:55:24.889Z"
   },
   {
    "duration": 156,
    "start_time": "2022-02-03T17:55:24.908Z"
   },
   {
    "duration": 33,
    "start_time": "2022-02-03T17:55:25.065Z"
   },
   {
    "duration": 520,
    "start_time": "2022-02-03T17:55:25.099Z"
   },
   {
    "duration": 5,
    "start_time": "2022-02-03T17:55:25.621Z"
   },
   {
    "duration": 36,
    "start_time": "2022-02-03T17:55:25.628Z"
   },
   {
    "duration": 22,
    "start_time": "2022-02-03T17:55:25.665Z"
   },
   {
    "duration": 24,
    "start_time": "2022-02-03T17:55:25.688Z"
   },
   {
    "duration": 53,
    "start_time": "2022-02-03T17:55:25.714Z"
   },
   {
    "duration": 12,
    "start_time": "2022-02-03T17:55:25.768Z"
   },
   {
    "duration": 14,
    "start_time": "2022-02-03T17:55:25.782Z"
   },
   {
    "duration": 30,
    "start_time": "2022-02-03T17:55:25.798Z"
   },
   {
    "duration": 39,
    "start_time": "2022-02-03T17:55:25.830Z"
   },
   {
    "duration": 25,
    "start_time": "2022-02-03T17:55:25.871Z"
   },
   {
    "duration": 12,
    "start_time": "2022-02-03T17:55:25.898Z"
   },
   {
    "duration": 11,
    "start_time": "2022-02-03T17:55:25.912Z"
   },
   {
    "duration": 16,
    "start_time": "2022-02-03T17:57:54.944Z"
   },
   {
    "duration": 15,
    "start_time": "2022-02-03T17:58:17.817Z"
   },
   {
    "duration": 15,
    "start_time": "2022-02-03T17:58:30.834Z"
   },
   {
    "duration": 7,
    "start_time": "2022-02-03T17:58:44.960Z"
   },
   {
    "duration": 11,
    "start_time": "2022-02-03T17:59:04.672Z"
   },
   {
    "duration": 7,
    "start_time": "2022-02-03T17:59:22.177Z"
   },
   {
    "duration": 14,
    "start_time": "2022-02-03T17:59:37.660Z"
   },
   {
    "duration": 100836,
    "start_time": "2022-02-03T17:59:50.324Z"
   },
   {
    "duration": 1239,
    "start_time": "2022-02-03T18:01:31.162Z"
   },
   {
    "duration": 699,
    "start_time": "2022-02-03T18:01:32.403Z"
   },
   {
    "duration": 12,
    "start_time": "2022-02-03T18:01:33.104Z"
   },
   {
    "duration": 19,
    "start_time": "2022-02-03T18:01:33.118Z"
   },
   {
    "duration": 304,
    "start_time": "2022-02-03T18:01:33.139Z"
   },
   {
    "duration": 57,
    "start_time": "2022-02-03T18:01:33.445Z"
   },
   {
    "duration": 8,
    "start_time": "2022-02-03T18:01:33.505Z"
   },
   {
    "duration": 9,
    "start_time": "2022-02-03T18:01:33.515Z"
   },
   {
    "duration": 11,
    "start_time": "2022-02-03T18:01:33.526Z"
   },
   {
    "duration": 94,
    "start_time": "2022-02-03T18:01:33.539Z"
   },
   {
    "duration": 9,
    "start_time": "2022-02-03T18:01:33.635Z"
   },
   {
    "duration": 11,
    "start_time": "2022-02-03T18:01:33.646Z"
   },
   {
    "duration": 12,
    "start_time": "2022-02-03T18:01:33.659Z"
   },
   {
    "duration": 171,
    "start_time": "2022-02-03T18:01:33.673Z"
   },
   {
    "duration": 133,
    "start_time": "2022-02-03T18:01:33.845Z"
   },
   {
    "duration": 419,
    "start_time": "2022-02-03T18:01:33.980Z"
   },
   {
    "duration": 180,
    "start_time": "2022-02-03T18:01:34.400Z"
   },
   {
    "duration": 86,
    "start_time": "2022-02-03T18:01:34.582Z"
   },
   {
    "duration": 103,
    "start_time": "2022-02-03T18:01:34.669Z"
   },
   {
    "duration": 51,
    "start_time": "2022-02-03T18:01:34.774Z"
   },
   {
    "duration": 57,
    "start_time": "2022-02-03T18:01:34.826Z"
   },
   {
    "duration": 58,
    "start_time": "2022-02-03T18:01:34.886Z"
   },
   {
    "duration": 40,
    "start_time": "2022-02-03T18:01:34.946Z"
   },
   {
    "duration": 24,
    "start_time": "2022-02-03T18:01:34.987Z"
   },
   {
    "duration": 292,
    "start_time": "2022-02-03T18:01:35.013Z"
   },
   {
    "duration": 9,
    "start_time": "2022-02-03T18:01:35.307Z"
   },
   {
    "duration": 109,
    "start_time": "2022-02-03T18:01:35.317Z"
   },
   {
    "duration": 186,
    "start_time": "2022-02-03T18:01:35.428Z"
   },
   {
    "duration": 273,
    "start_time": "2022-02-03T18:01:35.616Z"
   },
   {
    "duration": 137,
    "start_time": "2022-02-03T18:01:35.891Z"
   },
   {
    "duration": 17,
    "start_time": "2022-02-03T18:01:36.029Z"
   },
   {
    "duration": 960,
    "start_time": "2022-02-03T18:01:36.047Z"
   },
   {
    "duration": 19,
    "start_time": "2022-02-03T18:01:37.008Z"
   },
   {
    "duration": 159,
    "start_time": "2022-02-03T18:01:37.028Z"
   },
   {
    "duration": 29,
    "start_time": "2022-02-03T18:01:37.189Z"
   },
   {
    "duration": 515,
    "start_time": "2022-02-03T18:01:37.219Z"
   },
   {
    "duration": 6,
    "start_time": "2022-02-03T18:01:37.736Z"
   },
   {
    "duration": 33,
    "start_time": "2022-02-03T18:01:37.743Z"
   },
   {
    "duration": 20,
    "start_time": "2022-02-03T18:01:37.778Z"
   },
   {
    "duration": 66,
    "start_time": "2022-02-03T18:01:37.800Z"
   },
   {
    "duration": 16,
    "start_time": "2022-02-03T18:01:37.868Z"
   },
   {
    "duration": 11,
    "start_time": "2022-02-03T18:01:37.885Z"
   },
   {
    "duration": 13,
    "start_time": "2022-02-03T18:01:37.898Z"
   },
   {
    "duration": 48,
    "start_time": "2022-02-03T18:01:37.912Z"
   },
   {
    "duration": 14,
    "start_time": "2022-02-03T18:01:37.962Z"
   },
   {
    "duration": 25,
    "start_time": "2022-02-03T18:01:37.978Z"
   },
   {
    "duration": 12,
    "start_time": "2022-02-03T18:01:38.004Z"
   },
   {
    "duration": 6,
    "start_time": "2022-02-03T18:01:38.018Z"
   },
   {
    "duration": 34,
    "start_time": "2022-02-03T18:01:38.026Z"
   },
   {
    "duration": 23,
    "start_time": "2022-02-03T18:01:38.062Z"
   },
   {
    "duration": 15,
    "start_time": "2022-02-03T18:07:51.020Z"
   },
   {
    "duration": 429,
    "start_time": "2022-02-03T18:23:05.370Z"
   },
   {
    "duration": 13,
    "start_time": "2022-02-03T18:23:07.235Z"
   },
   {
    "duration": 736,
    "start_time": "2022-02-03T18:23:08.391Z"
   },
   {
    "duration": 721,
    "start_time": "2022-02-03T18:24:32.355Z"
   },
   {
    "duration": 531,
    "start_time": "2022-02-03T18:25:16.621Z"
   },
   {
    "duration": 575,
    "start_time": "2022-02-03T18:25:34.796Z"
   },
   {
    "duration": 646,
    "start_time": "2022-02-03T18:25:59.847Z"
   },
   {
    "duration": 744,
    "start_time": "2022-02-03T18:26:26.338Z"
   },
   {
    "duration": 722,
    "start_time": "2022-02-03T18:26:33.514Z"
   },
   {
    "duration": 762,
    "start_time": "2022-02-03T18:27:16.312Z"
   },
   {
    "duration": 12,
    "start_time": "2022-02-03T19:01:16.416Z"
   },
   {
    "duration": 5,
    "start_time": "2022-02-03T19:03:17.679Z"
   },
   {
    "duration": 11,
    "start_time": "2022-02-03T19:03:25.844Z"
   },
   {
    "duration": 11,
    "start_time": "2022-02-03T19:04:00.579Z"
   },
   {
    "duration": 6,
    "start_time": "2022-02-03T19:05:12.214Z"
   },
   {
    "duration": 10,
    "start_time": "2022-02-03T19:05:21.414Z"
   },
   {
    "duration": 15,
    "start_time": "2022-02-03T19:09:06.555Z"
   },
   {
    "duration": 4,
    "start_time": "2022-02-03T19:09:14.840Z"
   },
   {
    "duration": 9,
    "start_time": "2022-02-03T19:13:31.654Z"
   },
   {
    "duration": 49,
    "start_time": "2022-02-03T19:37:24.768Z"
   },
   {
    "duration": 10,
    "start_time": "2022-02-03T19:38:41.226Z"
   },
   {
    "duration": 5,
    "start_time": "2022-02-03T19:43:20.454Z"
   },
   {
    "duration": 46,
    "start_time": "2022-02-03T19:45:59.724Z"
   },
   {
    "duration": 183,
    "start_time": "2022-02-03T19:46:08.084Z"
   },
   {
    "duration": 48,
    "start_time": "2022-02-03T19:46:21.287Z"
   },
   {
    "duration": 47,
    "start_time": "2022-02-03T19:46:26.544Z"
   },
   {
    "duration": 48,
    "start_time": "2022-02-03T19:46:52.403Z"
   },
   {
    "duration": 47,
    "start_time": "2022-02-03T19:47:08.910Z"
   },
   {
    "duration": 201,
    "start_time": "2022-02-03T19:48:24.881Z"
   },
   {
    "duration": 48,
    "start_time": "2022-02-03T19:48:30.999Z"
   },
   {
    "duration": 263,
    "start_time": "2022-02-03T19:50:14.294Z"
   },
   {
    "duration": 140,
    "start_time": "2022-02-03T19:51:55.367Z"
   },
   {
    "duration": 187,
    "start_time": "2022-02-04T08:50:41.435Z"
   },
   {
    "duration": 215,
    "start_time": "2022-02-04T08:51:03.106Z"
   },
   {
    "duration": 10,
    "start_time": "2022-02-04T08:51:07.230Z"
   },
   {
    "duration": 20,
    "start_time": "2022-02-04T08:52:52.970Z"
   },
   {
    "duration": 11,
    "start_time": "2022-02-04T08:53:22.093Z"
   },
   {
    "duration": 13,
    "start_time": "2022-02-04T08:54:39.070Z"
   },
   {
    "duration": 11,
    "start_time": "2022-02-04T09:02:09.903Z"
   },
   {
    "duration": 198,
    "start_time": "2022-02-04T09:05:18.011Z"
   },
   {
    "duration": 13,
    "start_time": "2022-02-04T09:05:29.961Z"
   },
   {
    "duration": 4,
    "start_time": "2022-02-04T09:14:45.608Z"
   },
   {
    "duration": 12,
    "start_time": "2022-02-04T09:14:56.911Z"
   },
   {
    "duration": 13,
    "start_time": "2022-02-04T09:15:02.416Z"
   },
   {
    "duration": 13,
    "start_time": "2022-02-04T09:15:04.222Z"
   },
   {
    "duration": 47,
    "start_time": "2022-02-04T09:15:47.808Z"
   },
   {
    "duration": 13,
    "start_time": "2022-02-04T09:31:49.218Z"
   },
   {
    "duration": 652,
    "start_time": "2022-02-04T09:33:33.675Z"
   },
   {
    "duration": 645,
    "start_time": "2022-02-04T09:36:35.660Z"
   },
   {
    "duration": 12,
    "start_time": "2022-02-04T09:43:53.272Z"
   },
   {
    "duration": 596,
    "start_time": "2022-02-04T09:48:15.321Z"
   },
   {
    "duration": 58,
    "start_time": "2022-02-04T09:49:41.745Z"
   },
   {
    "duration": 10,
    "start_time": "2022-02-04T09:51:29.346Z"
   },
   {
    "duration": 197,
    "start_time": "2022-02-04T09:52:36.643Z"
   },
   {
    "duration": 13,
    "start_time": "2022-02-04T09:53:36.655Z"
   },
   {
    "duration": 212,
    "start_time": "2022-02-04T09:55:42.118Z"
   },
   {
    "duration": 17,
    "start_time": "2022-02-04T09:56:14.897Z"
   },
   {
    "duration": 1286,
    "start_time": "2022-02-04T10:03:25.738Z"
   },
   {
    "duration": 772,
    "start_time": "2022-02-04T10:03:30.432Z"
   },
   {
    "duration": 12,
    "start_time": "2022-02-04T10:03:32.864Z"
   },
   {
    "duration": 23,
    "start_time": "2022-02-04T10:03:34.307Z"
   },
   {
    "duration": 296,
    "start_time": "2022-02-04T10:03:35.572Z"
   },
   {
    "duration": 66,
    "start_time": "2022-02-04T10:03:45.113Z"
   },
   {
    "duration": 8,
    "start_time": "2022-02-04T10:03:46.308Z"
   },
   {
    "duration": 11,
    "start_time": "2022-02-04T10:03:47.345Z"
   },
   {
    "duration": 12,
    "start_time": "2022-02-04T10:03:48.421Z"
   },
   {
    "duration": 74,
    "start_time": "2022-02-04T10:03:49.709Z"
   },
   {
    "duration": 9,
    "start_time": "2022-02-04T10:03:51.502Z"
   },
   {
    "duration": 10,
    "start_time": "2022-02-04T10:03:52.482Z"
   },
   {
    "duration": 12,
    "start_time": "2022-02-04T10:03:57.112Z"
   },
   {
    "duration": 285,
    "start_time": "2022-02-04T10:04:54.704Z"
   },
   {
    "duration": 4,
    "start_time": "2022-02-04T10:04:59.656Z"
   },
   {
    "duration": 17,
    "start_time": "2022-02-04T10:05:05.440Z"
   },
   {
    "duration": 4,
    "start_time": "2022-02-04T10:06:09.951Z"
   },
   {
    "duration": 15,
    "start_time": "2022-02-04T10:06:16.699Z"
   },
   {
    "duration": 14,
    "start_time": "2022-02-04T10:07:18.727Z"
   },
   {
    "duration": 16,
    "start_time": "2022-02-04T10:08:32.809Z"
   },
   {
    "duration": 163,
    "start_time": "2022-02-04T10:11:08.152Z"
   },
   {
    "duration": 191,
    "start_time": "2022-02-04T10:11:15.466Z"
   },
   {
    "duration": 126,
    "start_time": "2022-02-04T10:11:21.924Z"
   },
   {
    "duration": 389,
    "start_time": "2022-02-04T10:11:37.386Z"
   },
   {
    "duration": 93,
    "start_time": "2022-02-04T10:11:58.590Z"
   },
   {
    "duration": 59,
    "start_time": "2022-02-04T10:12:04.839Z"
   },
   {
    "duration": 288,
    "start_time": "2022-02-04T10:12:16.570Z"
   },
   {
    "duration": 85,
    "start_time": "2022-02-04T10:12:22.208Z"
   },
   {
    "duration": 52,
    "start_time": "2022-02-04T10:12:23.872Z"
   },
   {
    "duration": 184,
    "start_time": "2022-02-04T10:12:39.439Z"
   },
   {
    "duration": 38,
    "start_time": "2022-02-04T10:12:42.675Z"
   },
   {
    "duration": 64,
    "start_time": "2022-02-04T10:12:44.853Z"
   },
   {
    "duration": 34,
    "start_time": "2022-02-04T10:13:02.540Z"
   },
   {
    "duration": 24,
    "start_time": "2022-02-04T10:19:51.108Z"
   },
   {
    "duration": 267,
    "start_time": "2022-02-04T10:20:06.159Z"
   },
   {
    "duration": 12,
    "start_time": "2022-02-04T10:20:10.477Z"
   },
   {
    "duration": 90,
    "start_time": "2022-02-04T10:24:21.786Z"
   },
   {
    "duration": 182,
    "start_time": "2022-02-04T10:24:59.169Z"
   },
   {
    "duration": 157,
    "start_time": "2022-02-04T10:26:49.123Z"
   },
   {
    "duration": 124,
    "start_time": "2022-02-04T10:27:08.128Z"
   },
   {
    "duration": 17,
    "start_time": "2022-02-04T10:27:12.928Z"
   },
   {
    "duration": 969,
    "start_time": "2022-02-04T10:27:18.633Z"
   },
   {
    "duration": 13,
    "start_time": "2022-02-04T10:39:24.661Z"
   },
   {
    "duration": 8,
    "start_time": "2022-02-04T10:39:32.323Z"
   },
   {
    "duration": 19,
    "start_time": "2022-02-04T10:39:55.233Z"
   },
   {
    "duration": 134,
    "start_time": "2022-02-04T10:55:37.661Z"
   },
   {
    "duration": 33,
    "start_time": "2022-02-04T10:55:44.058Z"
   },
   {
    "duration": 854,
    "start_time": "2022-02-04T10:56:49.327Z"
   },
   {
    "duration": 8,
    "start_time": "2022-02-04T10:59:01.358Z"
   },
   {
    "duration": 2504,
    "start_time": "2022-02-04T10:59:05.362Z"
   },
   {
    "duration": 20,
    "start_time": "2022-02-04T10:59:12.468Z"
   },
   {
    "duration": 9,
    "start_time": "2022-02-04T11:07:54.101Z"
   },
   {
    "duration": 22,
    "start_time": "2022-02-04T11:08:18.961Z"
   },
   {
    "duration": 270,
    "start_time": "2022-02-04T11:08:24.183Z"
   },
   {
    "duration": 26,
    "start_time": "2022-02-04T11:08:28.814Z"
   },
   {
    "duration": 20,
    "start_time": "2022-02-04T11:09:08.577Z"
   },
   {
    "duration": 14,
    "start_time": "2022-02-04T11:09:20.748Z"
   },
   {
    "duration": 15,
    "start_time": "2022-02-04T11:12:42.211Z"
   },
   {
    "duration": 29,
    "start_time": "2022-02-04T11:12:58.132Z"
   },
   {
    "duration": 16,
    "start_time": "2022-02-04T11:31:48.430Z"
   },
   {
    "duration": 214,
    "start_time": "2022-02-04T11:31:59.514Z"
   },
   {
    "duration": 36,
    "start_time": "2022-02-04T11:32:06.365Z"
   },
   {
    "duration": 12,
    "start_time": "2022-02-04T11:37:44.323Z"
   },
   {
    "duration": 12,
    "start_time": "2022-02-04T11:38:51.802Z"
   },
   {
    "duration": 14,
    "start_time": "2022-02-04T11:39:11.449Z"
   },
   {
    "duration": 8,
    "start_time": "2022-02-04T11:39:25.797Z"
   },
   {
    "duration": 12,
    "start_time": "2022-02-04T11:39:35.836Z"
   },
   {
    "duration": 13,
    "start_time": "2022-02-04T11:39:43.842Z"
   },
   {
    "duration": 35,
    "start_time": "2022-02-04T11:39:56.751Z"
   },
   {
    "duration": 28,
    "start_time": "2022-02-04T11:40:26.829Z"
   },
   {
    "duration": 758,
    "start_time": "2022-02-04T11:40:37.411Z"
   },
   {
    "duration": 804,
    "start_time": "2022-02-04T12:18:29.566Z"
   },
   {
    "duration": 8,
    "start_time": "2022-02-04T12:19:16.917Z"
   },
   {
    "duration": 10,
    "start_time": "2022-02-04T12:20:26.330Z"
   },
   {
    "duration": 4,
    "start_time": "2022-02-04T12:20:28.897Z"
   },
   {
    "duration": 10,
    "start_time": "2022-02-04T12:28:12.788Z"
   },
   {
    "duration": 50,
    "start_time": "2022-02-04T12:29:51.618Z"
   },
   {
    "duration": 140,
    "start_time": "2022-02-04T12:29:55.864Z"
   },
   {
    "duration": 12,
    "start_time": "2022-02-04T12:49:05.004Z"
   },
   {
    "duration": 13,
    "start_time": "2022-02-04T12:49:14.778Z"
   },
   {
    "duration": 9,
    "start_time": "2022-02-04T12:53:59.590Z"
   },
   {
    "duration": 10,
    "start_time": "2022-02-04T12:54:17.213Z"
   },
   {
    "duration": 12,
    "start_time": "2022-02-04T12:55:32.354Z"
   },
   {
    "duration": 11,
    "start_time": "2022-02-04T12:57:55.325Z"
   },
   {
    "duration": 13,
    "start_time": "2022-02-04T12:59:20.604Z"
   },
   {
    "duration": 2281,
    "start_time": "2022-02-04T13:02:03.740Z"
   },
   {
    "duration": 12,
    "start_time": "2022-02-04T13:02:32.167Z"
   },
   {
    "duration": 49,
    "start_time": "2022-02-04T13:02:46.571Z"
   },
   {
    "duration": 13,
    "start_time": "2022-02-04T13:25:21.579Z"
   },
   {
    "duration": 48,
    "start_time": "2022-02-04T13:25:23.799Z"
   },
   {
    "duration": 13,
    "start_time": "2022-02-04T14:11:29.356Z"
   },
   {
    "duration": 587,
    "start_time": "2022-02-04T14:29:51.787Z"
   },
   {
    "duration": 13,
    "start_time": "2022-02-04T14:29:55.524Z"
   },
   {
    "duration": 62,
    "start_time": "2022-02-04T14:30:42.582Z"
   },
   {
    "duration": 12,
    "start_time": "2022-02-04T14:31:25.746Z"
   },
   {
    "duration": 17,
    "start_time": "2022-02-04T14:31:56.858Z"
   },
   {
    "duration": 17,
    "start_time": "2022-02-04T14:34:30.609Z"
   },
   {
    "duration": 14,
    "start_time": "2022-02-04T14:37:49.761Z"
   },
   {
    "duration": 69,
    "start_time": "2022-02-04T14:38:15.921Z"
   },
   {
    "duration": 16,
    "start_time": "2022-02-04T15:25:03.132Z"
   },
   {
    "duration": 19,
    "start_time": "2022-02-04T15:25:57.850Z"
   },
   {
    "duration": 32,
    "start_time": "2022-02-04T15:26:11.089Z"
   },
   {
    "duration": 29,
    "start_time": "2022-02-04T15:26:57.664Z"
   },
   {
    "duration": 650,
    "start_time": "2022-02-04T15:28:26.420Z"
   },
   {
    "duration": 773,
    "start_time": "2022-02-04T15:28:49.850Z"
   },
   {
    "duration": 12,
    "start_time": "2022-02-04T15:30:24.069Z"
   },
   {
    "duration": 12,
    "start_time": "2022-02-04T15:31:14.574Z"
   },
   {
    "duration": 20,
    "start_time": "2022-02-04T15:38:56.204Z"
   },
   {
    "duration": 20,
    "start_time": "2022-02-04T17:32:36.724Z"
   },
   {
    "duration": 7,
    "start_time": "2022-02-04T17:39:08.364Z"
   },
   {
    "duration": 16,
    "start_time": "2022-02-04T17:40:53.336Z"
   },
   {
    "duration": 49,
    "start_time": "2022-02-04T17:41:16.513Z"
   },
   {
    "duration": 46,
    "start_time": "2022-02-04T17:41:44.460Z"
   },
   {
    "duration": 20,
    "start_time": "2022-02-04T23:00:46.750Z"
   },
   {
    "duration": 18,
    "start_time": "2022-02-04T23:00:58.781Z"
   },
   {
    "duration": 22,
    "start_time": "2022-02-04T23:01:05.471Z"
   },
   {
    "duration": 33,
    "start_time": "2022-02-05T13:49:30.727Z"
   },
   {
    "duration": 32,
    "start_time": "2022-02-05T13:49:37.225Z"
   },
   {
    "duration": 30,
    "start_time": "2022-02-05T13:49:48.284Z"
   },
   {
    "duration": 21,
    "start_time": "2022-02-05T14:58:18.800Z"
   },
   {
    "duration": 1206,
    "start_time": "2022-02-05T14:58:55.492Z"
   },
   {
    "duration": 681,
    "start_time": "2022-02-05T14:58:59.578Z"
   },
   {
    "duration": 12,
    "start_time": "2022-02-05T14:59:01.070Z"
   },
   {
    "duration": 23,
    "start_time": "2022-02-05T14:59:02.191Z"
   },
   {
    "duration": 279,
    "start_time": "2022-02-05T14:59:03.074Z"
   },
   {
    "duration": 55,
    "start_time": "2022-02-05T14:59:04.719Z"
   },
   {
    "duration": 9,
    "start_time": "2022-02-05T14:59:06.025Z"
   },
   {
    "duration": 10,
    "start_time": "2022-02-05T14:59:06.873Z"
   },
   {
    "duration": 12,
    "start_time": "2022-02-05T14:59:07.889Z"
   },
   {
    "duration": 55,
    "start_time": "2022-02-05T14:59:08.715Z"
   },
   {
    "duration": 9,
    "start_time": "2022-02-05T14:59:09.780Z"
   },
   {
    "duration": 9,
    "start_time": "2022-02-05T14:59:10.697Z"
   },
   {
    "duration": 13,
    "start_time": "2022-02-05T14:59:11.639Z"
   },
   {
    "duration": 16,
    "start_time": "2022-02-05T14:59:15.011Z"
   },
   {
    "duration": 11,
    "start_time": "2022-02-05T14:59:15.899Z"
   },
   {
    "duration": 12,
    "start_time": "2022-02-05T14:59:19.402Z"
   },
   {
    "duration": 163,
    "start_time": "2022-02-05T14:59:28.957Z"
   },
   {
    "duration": 126,
    "start_time": "2022-02-05T14:59:30.448Z"
   },
   {
    "duration": 420,
    "start_time": "2022-02-05T14:59:31.538Z"
   },
   {
    "duration": 86,
    "start_time": "2022-02-05T14:59:36.349Z"
   },
   {
    "duration": 56,
    "start_time": "2022-02-05T14:59:39.859Z"
   },
   {
    "duration": 92,
    "start_time": "2022-02-05T14:59:41.777Z"
   },
   {
    "duration": 65,
    "start_time": "2022-02-05T14:59:42.947Z"
   },
   {
    "duration": 35,
    "start_time": "2022-02-05T14:59:45.795Z"
   },
   {
    "duration": 59,
    "start_time": "2022-02-05T14:59:47.081Z"
   },
   {
    "duration": 64,
    "start_time": "2022-02-05T14:59:48.527Z"
   },
   {
    "duration": 23,
    "start_time": "2022-02-05T14:59:52.802Z"
   },
   {
    "duration": 266,
    "start_time": "2022-02-05T14:59:53.779Z"
   },
   {
    "duration": 9,
    "start_time": "2022-02-05T14:59:57.587Z"
   },
   {
    "duration": 86,
    "start_time": "2022-02-05T15:00:03.504Z"
   },
   {
    "duration": 173,
    "start_time": "2022-02-05T15:00:06.016Z"
   },
   {
    "duration": 266,
    "start_time": "2022-02-05T15:00:08.616Z"
   },
   {
    "duration": 123,
    "start_time": "2022-02-05T15:00:10.073Z"
   },
   {
    "duration": 18,
    "start_time": "2022-02-05T15:00:11.490Z"
   },
   {
    "duration": 959,
    "start_time": "2022-02-05T15:00:13.245Z"
   },
   {
    "duration": 17,
    "start_time": "2022-02-05T15:47:23.663Z"
   },
   {
    "duration": 127,
    "start_time": "2022-02-05T15:47:25.215Z"
   },
   {
    "duration": 31,
    "start_time": "2022-02-05T15:47:26.419Z"
   },
   {
    "duration": 498,
    "start_time": "2022-02-05T15:47:28.332Z"
   },
   {
    "duration": 6,
    "start_time": "2022-02-05T15:47:31.614Z"
   },
   {
    "duration": 19,
    "start_time": "2022-02-05T15:47:32.950Z"
   },
   {
    "duration": 22,
    "start_time": "2022-02-05T15:50:45.746Z"
   },
   {
    "duration": 26,
    "start_time": "2022-02-05T15:50:46.884Z"
   },
   {
    "duration": 17,
    "start_time": "2022-02-05T15:50:48.296Z"
   },
   {
    "duration": 13,
    "start_time": "2022-02-05T15:50:49.668Z"
   },
   {
    "duration": 16,
    "start_time": "2022-02-05T15:50:51.066Z"
   },
   {
    "duration": 27,
    "start_time": "2022-02-05T15:50:52.134Z"
   },
   {
    "duration": 16,
    "start_time": "2022-02-05T16:20:42.815Z"
   },
   {
    "duration": 27,
    "start_time": "2022-02-05T16:20:44.245Z"
   },
   {
    "duration": 14,
    "start_time": "2022-02-05T16:53:25.705Z"
   },
   {
    "duration": 8,
    "start_time": "2022-02-05T16:53:27.149Z"
   },
   {
    "duration": 11,
    "start_time": "2022-02-05T16:53:28.762Z"
   },
   {
    "duration": 29,
    "start_time": "2022-02-05T16:53:30.610Z"
   },
   {
    "duration": 701,
    "start_time": "2022-02-05T16:53:33.196Z"
   },
   {
    "duration": 11,
    "start_time": "2022-02-05T21:28:36.687Z"
   },
   {
    "duration": 4,
    "start_time": "2022-02-05T21:28:38.519Z"
   },
   {
    "duration": 9,
    "start_time": "2022-02-05T21:28:46.557Z"
   },
   {
    "duration": 144,
    "start_time": "2022-02-05T21:28:48.136Z"
   },
   {
    "duration": 135,
    "start_time": "2022-02-05T21:28:50.865Z"
   },
   {
    "duration": 10,
    "start_time": "2022-02-05T21:55:15.453Z"
   },
   {
    "duration": 11,
    "start_time": "2022-02-05T21:55:18.526Z"
   },
   {
    "duration": 12,
    "start_time": "2022-02-05T21:55:21.004Z"
   },
   {
    "duration": 12,
    "start_time": "2022-02-05T21:55:23.220Z"
   },
   {
    "duration": 46,
    "start_time": "2022-02-05T21:55:24.633Z"
   },
   {
    "duration": 504,
    "start_time": "2022-02-05T22:16:40.937Z"
   },
   {
    "duration": 59,
    "start_time": "2022-02-05T22:16:43.901Z"
   },
   {
    "duration": 12,
    "start_time": "2022-02-05T22:16:45.723Z"
   },
   {
    "duration": 17,
    "start_time": "2022-02-05T22:16:47.224Z"
   },
   {
    "duration": 14,
    "start_time": "2022-02-05T22:16:49.693Z"
   },
   {
    "duration": 71,
    "start_time": "2022-02-05T22:16:50.995Z"
   },
   {
    "duration": 15,
    "start_time": "2022-02-05T23:01:18.852Z"
   },
   {
    "duration": 31,
    "start_time": "2022-02-05T23:01:21.301Z"
   },
   {
    "duration": 750,
    "start_time": "2022-02-05T23:01:26.272Z"
   },
   {
    "duration": 21,
    "start_time": "2022-02-05T23:01:41.291Z"
   },
   {
    "duration": 16,
    "start_time": "2022-02-05T23:01:43.827Z"
   },
   {
    "duration": 49,
    "start_time": "2022-02-05T23:01:45.205Z"
   },
   {
    "duration": 120963,
    "start_time": "2022-02-07T08:54:49.951Z"
   },
   {
    "duration": 1792,
    "start_time": "2022-02-07T08:56:50.916Z"
   },
   {
    "duration": -84,
    "start_time": "2022-02-07T08:56:52.798Z"
   },
   {
    "duration": -95,
    "start_time": "2022-02-07T08:56:52.811Z"
   },
   {
    "duration": -100,
    "start_time": "2022-02-07T08:56:52.817Z"
   },
   {
    "duration": -107,
    "start_time": "2022-02-07T08:56:52.826Z"
   },
   {
    "duration": -111,
    "start_time": "2022-02-07T08:56:52.831Z"
   },
   {
    "duration": -115,
    "start_time": "2022-02-07T08:56:52.837Z"
   },
   {
    "duration": -121,
    "start_time": "2022-02-07T08:56:52.845Z"
   },
   {
    "duration": -127,
    "start_time": "2022-02-07T08:56:52.852Z"
   },
   {
    "duration": -134,
    "start_time": "2022-02-07T08:56:52.861Z"
   },
   {
    "duration": -137,
    "start_time": "2022-02-07T08:56:52.866Z"
   },
   {
    "duration": -139,
    "start_time": "2022-02-07T08:56:52.869Z"
   },
   {
    "duration": -145,
    "start_time": "2022-02-07T08:56:52.877Z"
   },
   {
    "duration": -148,
    "start_time": "2022-02-07T08:56:52.881Z"
   },
   {
    "duration": -151,
    "start_time": "2022-02-07T08:56:52.886Z"
   },
   {
    "duration": -157,
    "start_time": "2022-02-07T08:56:52.893Z"
   },
   {
    "duration": -161,
    "start_time": "2022-02-07T08:56:52.898Z"
   },
   {
    "duration": -162,
    "start_time": "2022-02-07T08:56:52.901Z"
   },
   {
    "duration": -168,
    "start_time": "2022-02-07T08:56:52.908Z"
   },
   {
    "duration": -171,
    "start_time": "2022-02-07T08:56:52.912Z"
   },
   {
    "duration": -173,
    "start_time": "2022-02-07T08:56:52.916Z"
   },
   {
    "duration": -176,
    "start_time": "2022-02-07T08:56:52.920Z"
   },
   {
    "duration": -182,
    "start_time": "2022-02-07T08:56:52.927Z"
   },
   {
    "duration": -184,
    "start_time": "2022-02-07T08:56:52.931Z"
   },
   {
    "duration": -188,
    "start_time": "2022-02-07T08:56:52.936Z"
   },
   {
    "duration": -197,
    "start_time": "2022-02-07T08:56:52.946Z"
   },
   {
    "duration": -199,
    "start_time": "2022-02-07T08:56:52.950Z"
   },
   {
    "duration": -199,
    "start_time": "2022-02-07T08:56:52.958Z"
   },
   {
    "duration": -201,
    "start_time": "2022-02-07T08:56:52.962Z"
   },
   {
    "duration": -204,
    "start_time": "2022-02-07T08:56:52.966Z"
   },
   {
    "duration": -207,
    "start_time": "2022-02-07T08:56:52.970Z"
   },
   {
    "duration": -213,
    "start_time": "2022-02-07T08:56:52.978Z"
   },
   {
    "duration": -216,
    "start_time": "2022-02-07T08:56:52.982Z"
   },
   {
    "duration": -223,
    "start_time": "2022-02-07T08:56:52.991Z"
   },
   {
    "duration": -227,
    "start_time": "2022-02-07T08:56:52.996Z"
   },
   {
    "duration": -249,
    "start_time": "2022-02-07T08:56:53.019Z"
   },
   {
    "duration": -255,
    "start_time": "2022-02-07T08:56:53.027Z"
   },
   {
    "duration": -258,
    "start_time": "2022-02-07T08:56:53.031Z"
   },
   {
    "duration": -260,
    "start_time": "2022-02-07T08:56:53.035Z"
   },
   {
    "duration": -268,
    "start_time": "2022-02-07T08:56:53.044Z"
   },
   {
    "duration": -271,
    "start_time": "2022-02-07T08:56:53.048Z"
   },
   {
    "duration": -274,
    "start_time": "2022-02-07T08:56:53.053Z"
   },
   {
    "duration": -279,
    "start_time": "2022-02-07T08:56:53.060Z"
   },
   {
    "duration": -283,
    "start_time": "2022-02-07T08:56:53.065Z"
   },
   {
    "duration": -286,
    "start_time": "2022-02-07T08:56:53.069Z"
   },
   {
    "duration": -294,
    "start_time": "2022-02-07T08:56:53.078Z"
   },
   {
    "duration": -297,
    "start_time": "2022-02-07T08:56:53.083Z"
   },
   {
    "duration": -304,
    "start_time": "2022-02-07T08:56:53.091Z"
   },
   {
    "duration": -308,
    "start_time": "2022-02-07T08:56:53.096Z"
   },
   {
    "duration": -310,
    "start_time": "2022-02-07T08:56:53.099Z"
   },
   {
    "duration": -313,
    "start_time": "2022-02-07T08:56:53.103Z"
   },
   {
    "duration": -318,
    "start_time": "2022-02-07T08:56:53.110Z"
   },
   {
    "duration": -322,
    "start_time": "2022-02-07T08:56:53.115Z"
   },
   {
    "duration": -324,
    "start_time": "2022-02-07T08:56:53.119Z"
   },
   {
    "duration": -266,
    "start_time": "2022-02-07T08:56:53.125Z"
   },
   {
    "duration": -270,
    "start_time": "2022-02-07T08:56:53.130Z"
   },
   {
    "duration": -271,
    "start_time": "2022-02-07T08:56:53.133Z"
   },
   {
    "duration": -293,
    "start_time": "2022-02-07T08:56:53.157Z"
   },
   {
    "duration": -296,
    "start_time": "2022-02-07T08:56:53.161Z"
   },
   {
    "duration": -299,
    "start_time": "2022-02-07T08:56:53.165Z"
   },
   {
    "duration": -301,
    "start_time": "2022-02-07T08:56:53.169Z"
   },
   {
    "duration": -308,
    "start_time": "2022-02-07T08:56:53.177Z"
   },
   {
    "duration": -320,
    "start_time": "2022-02-07T08:56:53.191Z"
   },
   {
    "duration": -324,
    "start_time": "2022-02-07T08:56:53.196Z"
   },
   {
    "duration": -326,
    "start_time": "2022-02-07T08:56:53.199Z"
   },
   {
    "duration": -327,
    "start_time": "2022-02-07T08:56:53.202Z"
   },
   {
    "duration": -335,
    "start_time": "2022-02-07T08:56:53.211Z"
   },
   {
    "duration": -337,
    "start_time": "2022-02-07T08:56:53.215Z"
   },
   {
    "duration": -340,
    "start_time": "2022-02-07T08:56:53.219Z"
   },
   {
    "duration": -345,
    "start_time": "2022-02-07T08:56:53.226Z"
   },
   {
    "duration": -349,
    "start_time": "2022-02-07T08:56:53.231Z"
   },
   {
    "duration": -351,
    "start_time": "2022-02-07T08:56:53.234Z"
   },
   {
    "duration": -357,
    "start_time": "2022-02-07T08:56:53.242Z"
   },
   {
    "duration": -363,
    "start_time": "2022-02-07T08:56:53.249Z"
   },
   {
    "duration": -367,
    "start_time": "2022-02-07T08:56:53.254Z"
   },
   {
    "duration": -372,
    "start_time": "2022-02-07T08:56:53.261Z"
   },
   {
    "duration": 4594,
    "start_time": "2022-02-07T09:33:08.619Z"
   },
   {
    "duration": 14,
    "start_time": "2022-02-07T09:33:13.216Z"
   },
   {
    "duration": 55,
    "start_time": "2022-02-07T09:33:13.233Z"
   },
   {
    "duration": 339,
    "start_time": "2022-02-07T09:33:13.291Z"
   },
   {
    "duration": -42,
    "start_time": "2022-02-07T09:33:13.676Z"
   },
   {
    "duration": -43,
    "start_time": "2022-02-07T09:33:13.680Z"
   },
   {
    "duration": -45,
    "start_time": "2022-02-07T09:33:13.684Z"
   },
   {
    "duration": -51,
    "start_time": "2022-02-07T09:33:13.692Z"
   },
   {
    "duration": -53,
    "start_time": "2022-02-07T09:33:13.696Z"
   },
   {
    "duration": -55,
    "start_time": "2022-02-07T09:33:13.700Z"
   },
   {
    "duration": -60,
    "start_time": "2022-02-07T09:33:13.708Z"
   },
   {
    "duration": 303,
    "start_time": "2022-02-07T09:33:15.039Z"
   },
   {
    "duration": 31,
    "start_time": "2022-02-07T09:33:15.475Z"
   },
   {
    "duration": 309,
    "start_time": "2022-02-07T09:33:17.773Z"
   },
   {
    "duration": 11,
    "start_time": "2022-02-07T09:33:18.625Z"
   },
   {
    "duration": 14,
    "start_time": "2022-02-07T09:33:18.927Z"
   },
   {
    "duration": 441,
    "start_time": "2022-02-07T09:33:19.364Z"
   },
   {
    "duration": -39,
    "start_time": "2022-02-07T09:33:19.847Z"
   },
   {
    "duration": 473,
    "start_time": "2022-02-07T09:33:20.497Z"
   },
   {
    "duration": 46,
    "start_time": "2022-02-07T09:33:23.253Z"
   },
   {
    "duration": 10,
    "start_time": "2022-02-07T09:33:23.399Z"
   },
   {
    "duration": 14,
    "start_time": "2022-02-07T09:33:25.135Z"
   },
   {
    "duration": 465,
    "start_time": "2022-02-07T09:33:25.739Z"
   },
   {
    "duration": 22,
    "start_time": "2022-02-07T09:33:28.429Z"
   },
   {
    "duration": 16,
    "start_time": "2022-02-07T09:33:29.981Z"
   },
   {
    "duration": 16,
    "start_time": "2022-02-07T09:33:30.201Z"
   },
   {
    "duration": 265,
    "start_time": "2022-02-07T09:33:32.972Z"
   },
   {
    "duration": 172,
    "start_time": "2022-02-07T09:33:33.240Z"
   },
   {
    "duration": 365,
    "start_time": "2022-02-07T09:33:33.716Z"
   },
   {
    "duration": 120,
    "start_time": "2022-02-07T09:33:34.165Z"
   },
   {
    "duration": 105736,
    "start_time": "2022-02-07T09:33:53.430Z"
   },
   {
    "duration": 1431,
    "start_time": "2022-02-07T09:36:07.229Z"
   },
   {
    "duration": 129,
    "start_time": "2022-02-07T09:36:13.155Z"
   },
   {
    "duration": 1376,
    "start_time": "2022-02-07T09:36:13.496Z"
   },
   {
    "duration": -70,
    "start_time": "2022-02-07T09:36:14.945Z"
   },
   {
    "duration": -79,
    "start_time": "2022-02-07T09:36:14.955Z"
   },
   {
    "duration": 104,
    "start_time": "2022-02-07T09:36:19.181Z"
   },
   {
    "duration": 1318,
    "start_time": "2022-02-07T09:36:19.349Z"
   },
   {
    "duration": 49,
    "start_time": "2022-02-07T09:36:28.871Z"
   },
   {
    "duration": 363,
    "start_time": "2022-02-07T09:36:29.608Z"
   },
   {
    "duration": 453,
    "start_time": "2022-02-07T09:36:30.030Z"
   },
   {
    "duration": 480,
    "start_time": "2022-02-07T09:36:46.397Z"
   },
   {
    "duration": 29114,
    "start_time": "2022-02-07T09:36:54.475Z"
   },
   {
    "duration": 124,
    "start_time": "2022-02-07T09:37:29.701Z"
   },
   {
    "duration": 91,
    "start_time": "2022-02-07T09:37:29.860Z"
   },
   {
    "duration": 107,
    "start_time": "2022-02-07T09:37:30.029Z"
   },
   {
    "duration": 87,
    "start_time": "2022-02-07T09:37:38.529Z"
   },
   {
    "duration": 48,
    "start_time": "2022-02-07T09:37:41.683Z"
   },
   {
    "duration": 106,
    "start_time": "2022-02-07T09:37:41.863Z"
   },
   {
    "duration": 53,
    "start_time": "2022-02-07T09:37:42.161Z"
   },
   {
    "duration": 34,
    "start_time": "2022-02-07T09:37:43.963Z"
   },
   {
    "duration": 403,
    "start_time": "2022-02-07T09:37:44.159Z"
   },
   {
    "duration": 11,
    "start_time": "2022-02-07T09:37:44.641Z"
   },
   {
    "duration": 112,
    "start_time": "2022-02-07T09:37:46.651Z"
   },
   {
    "duration": 225,
    "start_time": "2022-02-07T09:37:47.456Z"
   },
   {
    "duration": 184,
    "start_time": "2022-02-07T09:37:47.873Z"
   },
   {
    "duration": 240,
    "start_time": "2022-02-07T09:37:48.253Z"
   },
   {
    "duration": 25,
    "start_time": "2022-02-07T09:37:48.951Z"
   },
   {
    "duration": 1532,
    "start_time": "2022-02-07T09:37:49.119Z"
   },
   {
    "duration": 29,
    "start_time": "2022-02-07T09:37:50.654Z"
   },
   {
    "duration": 171,
    "start_time": "2022-02-07T09:37:51.027Z"
   },
   {
    "duration": 23,
    "start_time": "2022-02-07T09:37:51.252Z"
   },
   {
    "duration": 808,
    "start_time": "2022-02-07T09:37:51.625Z"
   },
   {
    "duration": 8,
    "start_time": "2022-02-07T09:37:52.479Z"
   },
   {
    "duration": 20,
    "start_time": "2022-02-07T09:37:52.861Z"
   },
   {
    "duration": 35,
    "start_time": "2022-02-07T09:37:54.111Z"
   },
   {
    "duration": 38,
    "start_time": "2022-02-07T09:37:54.353Z"
   },
   {
    "duration": 32,
    "start_time": "2022-02-07T09:37:54.813Z"
   },
   {
    "duration": 23,
    "start_time": "2022-02-07T09:37:55.197Z"
   },
   {
    "duration": 25,
    "start_time": "2022-02-07T09:37:55.598Z"
   },
   {
    "duration": 54,
    "start_time": "2022-02-07T09:37:55.829Z"
   },
   {
    "duration": 29,
    "start_time": "2022-02-07T09:37:57.039Z"
   },
   {
    "duration": 55,
    "start_time": "2022-02-07T09:37:57.454Z"
   },
   {
    "duration": 24,
    "start_time": "2022-02-07T09:37:58.279Z"
   },
   {
    "duration": 12,
    "start_time": "2022-02-07T09:37:58.735Z"
   },
   {
    "duration": 17,
    "start_time": "2022-02-07T09:37:59.141Z"
   },
   {
    "duration": 55,
    "start_time": "2022-02-07T09:37:59.523Z"
   },
   {
    "duration": 1214,
    "start_time": "2022-02-07T09:38:00.351Z"
   },
   {
    "duration": 16,
    "start_time": "2022-02-07T09:38:03.213Z"
   },
   {
    "duration": 6,
    "start_time": "2022-02-07T09:38:03.445Z"
   },
   {
    "duration": 13,
    "start_time": "2022-02-07T09:38:04.258Z"
   },
   {
    "duration": 85,
    "start_time": "2022-02-07T09:38:04.473Z"
   },
   {
    "duration": 239,
    "start_time": "2022-02-07T09:38:04.665Z"
   },
   {
    "duration": 15,
    "start_time": "2022-02-07T09:38:05.549Z"
   },
   {
    "duration": 18,
    "start_time": "2022-02-07T09:38:05.957Z"
   },
   {
    "duration": 24,
    "start_time": "2022-02-07T09:38:06.571Z"
   },
   {
    "duration": 18,
    "start_time": "2022-02-07T09:38:06.985Z"
   },
   {
    "duration": 79,
    "start_time": "2022-02-07T09:38:07.213Z"
   },
   {
    "duration": 626,
    "start_time": "2022-02-07T09:38:08.303Z"
   },
   {
    "duration": 113,
    "start_time": "2022-02-07T09:38:08.931Z"
   },
   {
    "duration": 24,
    "start_time": "2022-02-07T09:38:09.050Z"
   },
   {
    "duration": 30,
    "start_time": "2022-02-07T09:38:09.472Z"
   },
   {
    "duration": 23,
    "start_time": "2022-02-07T09:38:10.077Z"
   },
   {
    "duration": 118,
    "start_time": "2022-02-07T09:38:10.301Z"
   },
   {
    "duration": 23,
    "start_time": "2022-02-07T09:38:11.085Z"
   },
   {
    "duration": 55,
    "start_time": "2022-02-07T09:38:11.545Z"
   },
   {
    "duration": 1174,
    "start_time": "2022-02-07T09:38:11.719Z"
   },
   {
    "duration": 41,
    "start_time": "2022-02-07T09:38:12.896Z"
   },
   {
    "duration": 41,
    "start_time": "2022-02-07T09:38:12.940Z"
   },
   {
    "duration": 77,
    "start_time": "2022-02-07T09:38:13.195Z"
   },
   {
    "duration": 4,
    "start_time": "2022-02-07T09:51:22.683Z"
   },
   {
    "duration": 6,
    "start_time": "2022-02-07T09:51:29.037Z"
   },
   {
    "duration": 362,
    "start_time": "2022-02-07T10:32:32.370Z"
   },
   {
    "duration": 17650,
    "start_time": "2022-02-07T10:36:29.458Z"
   },
   {
    "duration": 1484,
    "start_time": "2022-02-07T10:36:47.109Z"
   },
   {
    "duration": 3767,
    "start_time": "2022-02-07T10:37:07.114Z"
   },
   {
    "duration": 11553,
    "start_time": "2022-02-07T10:37:13.880Z"
   },
   {
    "duration": 8,
    "start_time": "2022-02-07T10:37:27.581Z"
   },
   {
    "duration": 4155,
    "start_time": "2022-02-07T10:41:29.644Z"
   },
   {
    "duration": 9,
    "start_time": "2022-02-07T10:41:39.768Z"
   },
   {
    "duration": 537,
    "start_time": "2022-02-07T10:41:45.993Z"
   },
   {
    "duration": 237,
    "start_time": "2022-02-07T10:41:47.852Z"
   },
   {
    "duration": 6,
    "start_time": "2022-02-07T10:41:49.329Z"
   },
   {
    "duration": 11,
    "start_time": "2022-02-07T10:41:50.361Z"
   },
   {
    "duration": 12,
    "start_time": "2022-02-07T10:41:51.349Z"
   },
   {
    "duration": 48,
    "start_time": "2022-02-07T10:41:52.259Z"
   },
   {
    "duration": 6,
    "start_time": "2022-02-07T10:41:53.493Z"
   },
   {
    "duration": 10,
    "start_time": "2022-02-07T10:42:00.397Z"
   },
   {
    "duration": 8,
    "start_time": "2022-02-07T10:42:02.321Z"
   },
   {
    "duration": 10,
    "start_time": "2022-02-07T10:42:03.972Z"
   },
   {
    "duration": 13,
    "start_time": "2022-02-07T10:42:06.098Z"
   },
   {
    "duration": 10,
    "start_time": "2022-02-07T10:42:08.208Z"
   },
   {
    "duration": 10,
    "start_time": "2022-02-07T10:42:09.274Z"
   },
   {
    "duration": 176,
    "start_time": "2022-02-07T10:45:57.228Z"
   },
   {
    "duration": 160,
    "start_time": "2022-02-07T10:45:59.103Z"
   },
   {
    "duration": 116,
    "start_time": "2022-02-07T10:46:01.239Z"
   },
   {
    "duration": 320,
    "start_time": "2022-02-07T10:46:14.089Z"
   },
   {
    "duration": 451,
    "start_time": "2022-02-07T10:46:25.819Z"
   },
   {
    "duration": 84,
    "start_time": "2022-02-07T10:46:47.740Z"
   },
   {
    "duration": 52,
    "start_time": "2022-02-07T10:47:26.310Z"
   },
   {
    "duration": 50,
    "start_time": "2022-02-07T10:47:42.290Z"
   },
   {
    "duration": 52,
    "start_time": "2022-02-07T10:47:49.917Z"
   },
   {
    "duration": 77,
    "start_time": "2022-02-07T10:47:57.358Z"
   },
   {
    "duration": 55,
    "start_time": "2022-02-07T10:48:18.115Z"
   },
   {
    "duration": 505,
    "start_time": "2022-02-07T10:51:57.449Z"
   },
   {
    "duration": 1004,
    "start_time": "2022-02-07T10:52:12.881Z"
   },
   {
    "duration": 47,
    "start_time": "2022-02-07T10:52:35.782Z"
   },
   {
    "duration": 28,
    "start_time": "2022-02-07T10:54:38.316Z"
   },
   {
    "duration": 59,
    "start_time": "2022-02-07T10:54:45.524Z"
   },
   {
    "duration": 58,
    "start_time": "2022-02-07T10:56:01.237Z"
   },
   {
    "duration": 348,
    "start_time": "2022-02-07T10:56:58.152Z"
   },
   {
    "duration": 332,
    "start_time": "2022-02-07T10:57:12.103Z"
   },
   {
    "duration": 29,
    "start_time": "2022-02-07T11:02:14.749Z"
   },
   {
    "duration": 30,
    "start_time": "2022-02-07T11:03:09.271Z"
   },
   {
    "duration": 28,
    "start_time": "2022-02-07T11:06:10.609Z"
   },
   {
    "duration": 30,
    "start_time": "2022-02-07T11:06:40.424Z"
   },
   {
    "duration": 32,
    "start_time": "2022-02-07T11:06:54.109Z"
   },
   {
    "duration": 29,
    "start_time": "2022-02-07T11:07:02.843Z"
   },
   {
    "duration": 29,
    "start_time": "2022-02-07T11:07:10.615Z"
   },
   {
    "duration": 31,
    "start_time": "2022-02-07T11:07:16.244Z"
   },
   {
    "duration": 29,
    "start_time": "2022-02-07T11:07:25.244Z"
   },
   {
    "duration": 35,
    "start_time": "2022-02-07T11:07:29.588Z"
   },
   {
    "duration": 30,
    "start_time": "2022-02-07T11:07:35.939Z"
   },
   {
    "duration": 31,
    "start_time": "2022-02-07T11:07:42.665Z"
   },
   {
    "duration": 919,
    "start_time": "2022-02-07T11:07:51.756Z"
   },
   {
    "duration": 30,
    "start_time": "2022-02-07T11:08:09.702Z"
   },
   {
    "duration": 30,
    "start_time": "2022-02-07T11:08:22.415Z"
   },
   {
    "duration": 29,
    "start_time": "2022-02-07T11:08:35.150Z"
   },
   {
    "duration": 5,
    "start_time": "2022-02-07T11:15:25.053Z"
   },
   {
    "duration": 58,
    "start_time": "2022-02-07T11:15:31.897Z"
   },
   {
    "duration": 4,
    "start_time": "2022-02-07T11:16:06.653Z"
   },
   {
    "duration": 4,
    "start_time": "2022-02-07T11:16:37.651Z"
   },
   {
    "duration": 3,
    "start_time": "2022-02-07T11:17:03.308Z"
   },
   {
    "duration": 3,
    "start_time": "2022-02-07T11:19:43.945Z"
   },
   {
    "duration": 342,
    "start_time": "2022-02-07T11:22:47.383Z"
   },
   {
    "duration": 23,
    "start_time": "2022-02-07T11:23:11.363Z"
   },
   {
    "duration": 211,
    "start_time": "2022-02-07T11:23:17.381Z"
   },
   {
    "duration": 10,
    "start_time": "2022-02-07T11:23:19.819Z"
   },
   {
    "duration": 74,
    "start_time": "2022-02-07T11:23:23.542Z"
   },
   {
    "duration": 130,
    "start_time": "2022-02-07T11:23:25.585Z"
   },
   {
    "duration": 125,
    "start_time": "2022-02-07T11:23:28.106Z"
   },
   {
    "duration": 169,
    "start_time": "2022-02-07T11:23:31.296Z"
   },
   {
    "duration": 335,
    "start_time": "2022-02-07T11:23:33.766Z"
   },
   {
    "duration": 146,
    "start_time": "2022-02-07T11:23:48.182Z"
   },
   {
    "duration": 14,
    "start_time": "2022-02-07T11:24:23.265Z"
   },
   {
    "duration": 949,
    "start_time": "2022-02-07T11:24:27.130Z"
   },
   {
    "duration": 349,
    "start_time": "2022-02-07T11:27:02.308Z"
   },
   {
    "duration": 31,
    "start_time": "2022-02-07T11:33:06.149Z"
   },
   {
    "duration": 19,
    "start_time": "2022-02-07T13:51:15.735Z"
   },
   {
    "duration": 119,
    "start_time": "2022-02-07T13:51:17.839Z"
   },
   {
    "duration": 18,
    "start_time": "2022-02-07T13:51:19.782Z"
   },
   {
    "duration": 395,
    "start_time": "2022-02-07T13:51:22.879Z"
   },
   {
    "duration": 16,
    "start_time": "2022-02-07T13:51:33.191Z"
   },
   {
    "duration": 106,
    "start_time": "2022-02-07T13:51:35.546Z"
   },
   {
    "duration": 14,
    "start_time": "2022-02-07T13:51:39.300Z"
   },
   {
    "duration": 364,
    "start_time": "2022-02-07T13:51:41.196Z"
   },
   {
    "duration": 428,
    "start_time": "2022-02-07T13:51:47.395Z"
   },
   {
    "duration": 488,
    "start_time": "2022-02-07T13:51:57.982Z"
   },
   {
    "duration": 496,
    "start_time": "2022-02-07T13:52:10.185Z"
   },
   {
    "duration": 412,
    "start_time": "2022-02-07T13:52:17.551Z"
   },
   {
    "duration": 416,
    "start_time": "2022-02-07T13:52:22.817Z"
   },
   {
    "duration": 477,
    "start_time": "2022-02-07T13:55:36.754Z"
   },
   {
    "duration": 416,
    "start_time": "2022-02-07T16:04:53.448Z"
   },
   {
    "duration": 506,
    "start_time": "2022-02-07T16:05:04.502Z"
   },
   {
    "duration": 10,
    "start_time": "2022-02-08T16:43:59.626Z"
   },
   {
    "duration": 3,
    "start_time": "2022-02-08T16:44:01.621Z"
   },
   {
    "duration": 9,
    "start_time": "2022-02-08T16:44:03.643Z"
   },
   {
    "duration": 46,
    "start_time": "2022-02-08T16:44:05.577Z"
   },
   {
    "duration": 329,
    "start_time": "2022-02-08T16:46:37.110Z"
   },
   {
    "duration": 44,
    "start_time": "2022-02-08T16:46:44.460Z"
   },
   {
    "duration": 45,
    "start_time": "2022-02-08T16:47:01.035Z"
   },
   {
    "duration": 44,
    "start_time": "2022-02-08T16:48:41.921Z"
   },
   {
    "duration": 132,
    "start_time": "2022-02-08T16:48:43.721Z"
   },
   {
    "duration": 10,
    "start_time": "2022-02-08T16:49:00.636Z"
   },
   {
    "duration": 13,
    "start_time": "2022-02-08T16:49:04.139Z"
   },
   {
    "duration": 317,
    "start_time": "2022-02-08T16:49:06.800Z"
   },
   {
    "duration": 8,
    "start_time": "2022-02-08T16:50:53.248Z"
   },
   {
    "duration": 23,
    "start_time": "2022-02-08T16:51:24.316Z"
   },
   {
    "duration": 25,
    "start_time": "2022-02-08T16:51:25.689Z"
   },
   {
    "duration": 22,
    "start_time": "2022-02-08T16:51:38.935Z"
   },
   {
    "duration": 16,
    "start_time": "2022-02-08T16:51:50.734Z"
   },
   {
    "duration": 19,
    "start_time": "2022-02-08T16:51:54.154Z"
   },
   {
    "duration": 17,
    "start_time": "2022-02-08T16:52:09.958Z"
   },
   {
    "duration": 11,
    "start_time": "2022-02-08T16:52:21.380Z"
   },
   {
    "duration": 17,
    "start_time": "2022-02-08T16:52:24.480Z"
   },
   {
    "duration": 13,
    "start_time": "2022-02-08T16:52:29.519Z"
   },
   {
    "duration": 43,
    "start_time": "2022-02-08T16:52:33.182Z"
   },
   {
    "duration": 33499,
    "start_time": "2022-02-10T03:47:44.566Z"
   },
   {
    "duration": 1660,
    "start_time": "2022-02-10T03:48:21.290Z"
   },
   {
    "duration": 2689,
    "start_time": "2022-02-10T03:48:33.160Z"
   },
   {
    "duration": 17,
    "start_time": "2022-02-10T03:48:38.161Z"
   },
   {
    "duration": 29,
    "start_time": "2022-02-10T03:48:40.970Z"
   },
   {
    "duration": 980,
    "start_time": "2022-02-10T03:48:43.536Z"
   },
   {
    "duration": 288,
    "start_time": "2022-02-10T03:48:46.657Z"
   },
   {
    "duration": 12,
    "start_time": "2022-02-10T03:48:49.368Z"
   },
   {
    "duration": 14,
    "start_time": "2022-02-10T03:48:51.967Z"
   },
   {
    "duration": 16,
    "start_time": "2022-02-10T03:48:54.942Z"
   },
   {
    "duration": 73,
    "start_time": "2022-02-10T03:48:58.175Z"
   },
   {
    "duration": 14,
    "start_time": "2022-02-10T03:49:00.889Z"
   },
   {
    "duration": 12,
    "start_time": "2022-02-10T03:49:03.205Z"
   },
   {
    "duration": 15,
    "start_time": "2022-02-10T03:49:06.272Z"
   },
   {
    "duration": 21,
    "start_time": "2022-02-10T03:49:09.156Z"
   },
   {
    "duration": 16,
    "start_time": "2022-02-10T03:49:11.429Z"
   },
   {
    "duration": 16,
    "start_time": "2022-02-10T03:49:14.759Z"
   },
   {
    "duration": 225,
    "start_time": "2022-02-10T03:49:18.108Z"
   },
   {
    "duration": 160,
    "start_time": "2022-02-10T03:49:20.692Z"
   },
   {
    "duration": 5,
    "start_time": "2022-02-10T03:49:25.167Z"
   },
   {
    "duration": 688,
    "start_time": "2022-02-10T03:49:27.562Z"
   },
   {
    "duration": 114,
    "start_time": "2022-02-10T03:49:39.624Z"
   },
   {
    "duration": 5,
    "start_time": "2022-02-10T03:49:41.407Z"
   },
   {
    "duration": 84,
    "start_time": "2022-02-10T03:49:43.680Z"
   },
   {
    "duration": 108,
    "start_time": "2022-02-10T03:49:49.700Z"
   },
   {
    "duration": 5,
    "start_time": "2022-02-10T03:49:52.122Z"
   },
   {
    "duration": 83,
    "start_time": "2022-02-10T03:49:54.497Z"
   },
   {
    "duration": 52,
    "start_time": "2022-02-10T03:50:31.305Z"
   },
   {
    "duration": 5,
    "start_time": "2022-02-10T03:50:33.439Z"
   },
   {
    "duration": 103,
    "start_time": "2022-02-10T03:50:34.861Z"
   },
   {
    "duration": 50,
    "start_time": "2022-02-10T03:50:40.599Z"
   },
   {
    "duration": 30,
    "start_time": "2022-02-10T03:50:51.276Z"
   },
   {
    "duration": 382,
    "start_time": "2022-02-10T03:50:53.579Z"
   },
   {
    "duration": 12,
    "start_time": "2022-02-10T03:50:56.630Z"
   },
   {
    "duration": 115,
    "start_time": "2022-02-10T03:50:59.930Z"
   },
   {
    "duration": 218,
    "start_time": "2022-02-10T03:51:03.264Z"
   },
   {
    "duration": 312,
    "start_time": "2022-02-10T03:51:05.921Z"
   },
   {
    "duration": 160,
    "start_time": "2022-02-10T03:51:08.955Z"
   },
   {
    "duration": 26,
    "start_time": "2022-02-10T03:51:11.974Z"
   },
   {
    "duration": 1554,
    "start_time": "2022-02-10T03:51:14.605Z"
   },
   {
    "duration": 25,
    "start_time": "2022-02-10T03:52:17.185Z"
   },
   {
    "duration": 169,
    "start_time": "2022-02-10T03:52:20.380Z"
   },
   {
    "duration": 47,
    "start_time": "2022-02-10T03:52:27.914Z"
   },
   {
    "duration": 721,
    "start_time": "2022-02-10T03:52:29.257Z"
   },
   {
    "duration": 9,
    "start_time": "2022-02-10T03:52:47.625Z"
   },
   {
    "duration": 25,
    "start_time": "2022-02-10T03:52:49.601Z"
   },
   {
    "duration": 36,
    "start_time": "2022-02-10T03:52:52.546Z"
   },
   {
    "duration": 38,
    "start_time": "2022-02-10T03:52:53.899Z"
   },
   {
    "duration": 25,
    "start_time": "2022-02-10T03:52:56.420Z"
   },
   {
    "duration": 19,
    "start_time": "2022-02-10T03:52:58.474Z"
   },
   {
    "duration": 23,
    "start_time": "2022-02-10T03:53:00.522Z"
   },
   {
    "duration": 47,
    "start_time": "2022-02-10T03:53:02.568Z"
   },
   {
    "duration": 21,
    "start_time": "2022-02-10T03:53:06.562Z"
   },
   {
    "duration": 44,
    "start_time": "2022-02-10T03:53:09.427Z"
   },
   {
    "duration": 20,
    "start_time": "2022-02-10T03:53:14.001Z"
   },
   {
    "duration": 10,
    "start_time": "2022-02-10T03:53:16.822Z"
   },
   {
    "duration": 14,
    "start_time": "2022-02-10T03:53:17.988Z"
   },
   {
    "duration": 44,
    "start_time": "2022-02-10T03:53:20.307Z"
   },
   {
    "duration": 1176,
    "start_time": "2022-02-10T03:53:23.013Z"
   },
   {
    "duration": 15,
    "start_time": "2022-02-10T03:53:48.538Z"
   },
   {
    "duration": 5,
    "start_time": "2022-02-10T03:53:49.868Z"
   },
   {
    "duration": 13,
    "start_time": "2022-02-10T03:53:52.411Z"
   },
   {
    "duration": 164,
    "start_time": "2022-02-10T03:53:54.882Z"
   },
   {
    "duration": 233,
    "start_time": "2022-02-10T03:53:59.447Z"
   },
   {
    "duration": 14,
    "start_time": "2022-02-10T03:54:08.408Z"
   },
   {
    "duration": 14,
    "start_time": "2022-02-10T03:54:11.792Z"
   },
   {
    "duration": 16,
    "start_time": "2022-02-10T03:54:14.341Z"
   },
   {
    "duration": 18,
    "start_time": "2022-02-10T03:54:17.073Z"
   },
   {
    "duration": 18,
    "start_time": "2022-02-10T03:54:19.492Z"
   },
   {
    "duration": 75,
    "start_time": "2022-02-10T03:54:23.382Z"
   },
   {
    "duration": 639,
    "start_time": "2022-02-10T03:54:27.132Z"
   },
   {
    "duration": 101,
    "start_time": "2022-02-10T03:54:31.560Z"
   },
   {
    "duration": 15,
    "start_time": "2022-02-10T03:54:34.326Z"
   },
   {
    "duration": 23,
    "start_time": "2022-02-10T03:54:37.083Z"
   },
   {
    "duration": 20,
    "start_time": "2022-02-10T03:54:39.968Z"
   },
   {
    "duration": 110,
    "start_time": "2022-02-10T03:54:42.390Z"
   },
   {
    "duration": 6338,
    "start_time": "2022-02-11T17:42:32.881Z"
   },
   {
    "duration": 8099,
    "start_time": "2022-02-11T17:44:24.136Z"
   },
   {
    "duration": 116,
    "start_time": "2022-02-11T17:44:46.575Z"
   },
   {
    "duration": 4,
    "start_time": "2022-02-11T17:45:01.627Z"
   },
   {
    "duration": 959,
    "start_time": "2022-02-11T17:45:08.053Z"
   },
   {
    "duration": 18,
    "start_time": "2022-02-11T17:45:10.898Z"
   },
   {
    "duration": 24,
    "start_time": "2022-02-11T17:45:12.592Z"
   },
   {
    "duration": 26,
    "start_time": "2022-02-11T17:45:13.648Z"
   },
   {
    "duration": 605,
    "start_time": "2022-02-11T17:45:14.773Z"
   },
   {
    "duration": 12,
    "start_time": "2022-02-11T17:45:16.447Z"
   },
   {
    "duration": 18,
    "start_time": "2022-02-11T17:45:17.469Z"
   },
   {
    "duration": 19,
    "start_time": "2022-02-11T17:45:19.048Z"
   },
   {
    "duration": 79,
    "start_time": "2022-02-11T17:45:20.232Z"
   },
   {
    "duration": 12,
    "start_time": "2022-02-11T17:45:22.297Z"
   },
   {
    "duration": 14,
    "start_time": "2022-02-11T17:45:23.632Z"
   },
   {
    "duration": 17,
    "start_time": "2022-02-11T17:45:24.858Z"
   },
   {
    "duration": 29,
    "start_time": "2022-02-11T17:45:31.706Z"
   },
   {
    "duration": 17,
    "start_time": "2022-02-11T17:45:33.458Z"
   },
   {
    "duration": 16,
    "start_time": "2022-02-11T17:45:34.835Z"
   },
   {
    "duration": 223,
    "start_time": "2022-02-11T17:45:38.208Z"
   },
   {
    "duration": 166,
    "start_time": "2022-02-11T17:45:43.576Z"
   },
   {
    "duration": 5,
    "start_time": "2022-02-11T17:45:45.013Z"
   },
   {
    "duration": 103,
    "start_time": "2022-02-11T17:45:46.350Z"
   },
   {
    "duration": 165,
    "start_time": "2022-02-11T17:45:53.847Z"
   },
   {
    "duration": 6,
    "start_time": "2022-02-11T17:45:55.319Z"
   },
   {
    "duration": 90,
    "start_time": "2022-02-11T17:45:56.677Z"
   },
   {
    "duration": 123,
    "start_time": "2022-02-11T17:46:03.388Z"
   },
   {
    "duration": 5,
    "start_time": "2022-02-11T17:46:05.716Z"
   },
   {
    "duration": 122,
    "start_time": "2022-02-11T17:46:10.977Z"
   },
   {
    "duration": 81,
    "start_time": "2022-02-11T17:46:16.175Z"
   },
   {
    "duration": 6,
    "start_time": "2022-02-11T17:46:17.532Z"
   },
   {
    "duration": 101,
    "start_time": "2022-02-11T17:46:18.529Z"
   },
   {
    "duration": 28,
    "start_time": "2022-02-11T17:46:24.098Z"
   },
   {
    "duration": 640,
    "start_time": "2022-02-11T17:46:26.868Z"
   },
   {
    "duration": 11,
    "start_time": "2022-02-11T17:46:30.602Z"
   },
   {
    "duration": 114,
    "start_time": "2022-02-11T17:46:33.905Z"
   },
   {
    "duration": 243,
    "start_time": "2022-02-11T17:46:36.218Z"
   },
   {
    "duration": 251,
    "start_time": "2022-02-11T17:46:38.552Z"
   },
   {
    "duration": 154,
    "start_time": "2022-02-11T17:46:41.764Z"
   },
   {
    "duration": 28,
    "start_time": "2022-02-11T17:46:44.820Z"
   },
   {
    "duration": 1923,
    "start_time": "2022-02-11T17:46:47.365Z"
   },
   {
    "duration": 27,
    "start_time": "2022-02-11T17:46:56.322Z"
   },
   {
    "duration": 189,
    "start_time": "2022-02-11T17:46:58.222Z"
   },
   {
    "duration": 51,
    "start_time": "2022-02-11T17:47:00.909Z"
   },
   {
    "duration": 764,
    "start_time": "2022-02-11T17:47:03.176Z"
   },
   {
    "duration": 8598,
    "start_time": "2022-02-11T17:47:19.817Z"
   },
   {
    "duration": 171,
    "start_time": "2022-02-11T17:47:37.059Z"
   },
   {
    "duration": 7549,
    "start_time": "2022-02-11T17:48:09.529Z"
   },
   {
    "duration": 1847,
    "start_time": "2022-02-11T17:48:17.082Z"
   },
   {
    "duration": 869,
    "start_time": "2022-02-11T17:48:18.932Z"
   },
   {
    "duration": 16,
    "start_time": "2022-02-11T17:48:19.804Z"
   },
   {
    "duration": 50,
    "start_time": "2022-02-11T17:48:19.823Z"
   },
   {
    "duration": 742,
    "start_time": "2022-02-11T17:48:19.876Z"
   },
   {
    "duration": 93,
    "start_time": "2022-02-11T17:48:20.621Z"
   },
   {
    "duration": 13,
    "start_time": "2022-02-11T17:48:20.718Z"
   },
   {
    "duration": 28,
    "start_time": "2022-02-11T17:48:20.734Z"
   },
   {
    "duration": 23,
    "start_time": "2022-02-11T17:48:20.765Z"
   },
   {
    "duration": 87,
    "start_time": "2022-02-11T17:48:20.790Z"
   },
   {
    "duration": 13,
    "start_time": "2022-02-11T17:48:20.880Z"
   },
   {
    "duration": 17,
    "start_time": "2022-02-11T17:48:20.896Z"
   },
   {
    "duration": 20,
    "start_time": "2022-02-11T17:48:20.916Z"
   },
   {
    "duration": 44,
    "start_time": "2022-02-11T17:48:20.939Z"
   },
   {
    "duration": 17,
    "start_time": "2022-02-11T17:48:20.987Z"
   },
   {
    "duration": 53,
    "start_time": "2022-02-11T17:48:21.006Z"
   },
   {
    "duration": 255,
    "start_time": "2022-02-11T17:48:21.066Z"
   },
   {
    "duration": 188,
    "start_time": "2022-02-11T17:48:21.324Z"
   },
   {
    "duration": 5,
    "start_time": "2022-02-11T17:48:21.514Z"
   },
   {
    "duration": 790,
    "start_time": "2022-02-11T17:48:21.522Z"
   },
   {
    "duration": 263,
    "start_time": "2022-02-11T17:48:22.315Z"
   },
   {
    "duration": 5,
    "start_time": "2022-02-11T17:48:22.584Z"
   },
   {
    "duration": 170,
    "start_time": "2022-02-11T17:48:22.594Z"
   },
   {
    "duration": 126,
    "start_time": "2022-02-11T17:48:22.766Z"
   },
   {
    "duration": 5,
    "start_time": "2022-02-11T17:48:22.895Z"
   },
   {
    "duration": 109,
    "start_time": "2022-02-11T17:48:22.902Z"
   },
   {
    "duration": 59,
    "start_time": "2022-02-11T17:48:23.013Z"
   },
   {
    "duration": 5,
    "start_time": "2022-02-11T17:48:23.074Z"
   },
   {
    "duration": 129,
    "start_time": "2022-02-11T17:48:23.082Z"
   },
   {
    "duration": 71,
    "start_time": "2022-02-11T17:48:23.214Z"
   },
   {
    "duration": 32,
    "start_time": "2022-02-11T17:48:23.288Z"
   },
   {
    "duration": 440,
    "start_time": "2022-02-11T17:48:23.323Z"
   },
   {
    "duration": 13,
    "start_time": "2022-02-11T17:48:23.766Z"
   },
   {
    "duration": 144,
    "start_time": "2022-02-11T17:48:23.782Z"
   },
   {
    "duration": 236,
    "start_time": "2022-02-11T17:48:23.928Z"
   },
   {
    "duration": 313,
    "start_time": "2022-02-11T17:48:24.166Z"
   },
   {
    "duration": 181,
    "start_time": "2022-02-11T17:48:24.482Z"
   },
   {
    "duration": 27,
    "start_time": "2022-02-11T17:48:24.666Z"
   },
   {
    "duration": 1576,
    "start_time": "2022-02-11T17:48:24.696Z"
   },
   {
    "duration": 25,
    "start_time": "2022-02-11T17:48:26.274Z"
   },
   {
    "duration": 198,
    "start_time": "2022-02-11T17:48:26.301Z"
   },
   {
    "duration": 59,
    "start_time": "2022-02-11T17:48:26.501Z"
   },
   {
    "duration": 796,
    "start_time": "2022-02-11T17:48:26.563Z"
   },
   {
    "duration": 11,
    "start_time": "2022-02-11T17:48:27.362Z"
   },
   {
    "duration": 83,
    "start_time": "2022-02-11T17:48:27.376Z"
   },
   {
    "duration": 40,
    "start_time": "2022-02-11T17:48:27.463Z"
   },
   {
    "duration": 82,
    "start_time": "2022-02-11T17:48:27.506Z"
   },
   {
    "duration": 25,
    "start_time": "2022-02-11T17:48:27.591Z"
   },
   {
    "duration": 47,
    "start_time": "2022-02-11T17:48:27.618Z"
   },
   {
    "duration": 31,
    "start_time": "2022-02-11T17:48:27.670Z"
   },
   {
    "duration": 69,
    "start_time": "2022-02-11T17:48:27.703Z"
   },
   {
    "duration": 26,
    "start_time": "2022-02-11T17:48:27.776Z"
   },
   {
    "duration": 78,
    "start_time": "2022-02-11T17:48:27.805Z"
   },
   {
    "duration": 26,
    "start_time": "2022-02-11T17:48:27.886Z"
   },
   {
    "duration": 13,
    "start_time": "2022-02-11T17:48:27.915Z"
   },
   {
    "duration": 48,
    "start_time": "2022-02-11T17:48:27.930Z"
   },
   {
    "duration": 53,
    "start_time": "2022-02-11T17:48:27.981Z"
   },
   {
    "duration": 1173,
    "start_time": "2022-02-11T17:48:28.060Z"
   },
   {
    "duration": 27,
    "start_time": "2022-02-11T17:48:29.235Z"
   },
   {
    "duration": 5,
    "start_time": "2022-02-11T17:48:29.264Z"
   },
   {
    "duration": 13,
    "start_time": "2022-02-11T17:48:29.271Z"
   },
   {
    "duration": 222,
    "start_time": "2022-02-11T17:48:29.287Z"
   },
   {
    "duration": 303,
    "start_time": "2022-02-11T17:48:29.512Z"
   },
   {
    "duration": 43,
    "start_time": "2022-02-11T17:48:29.818Z"
   },
   {
    "duration": 14,
    "start_time": "2022-02-11T17:48:29.864Z"
   },
   {
    "duration": 22,
    "start_time": "2022-02-11T17:48:29.881Z"
   },
   {
    "duration": 55,
    "start_time": "2022-02-11T17:48:29.914Z"
   },
   {
    "duration": 17,
    "start_time": "2022-02-11T17:48:29.972Z"
   },
   {
    "duration": 109,
    "start_time": "2022-02-11T17:48:29.992Z"
   },
   {
    "duration": 801,
    "start_time": "2022-02-11T17:48:30.104Z"
   },
   {
    "duration": 145,
    "start_time": "2022-02-11T17:48:30.907Z"
   },
   {
    "duration": 21,
    "start_time": "2022-02-11T17:48:31.054Z"
   },
   {
    "duration": 27,
    "start_time": "2022-02-11T17:48:31.077Z"
   },
   {
    "duration": 58,
    "start_time": "2022-02-11T17:48:31.106Z"
   },
   {
    "duration": 162,
    "start_time": "2022-02-11T17:48:31.168Z"
   },
   {
    "duration": 39,
    "start_time": "2022-02-11T17:48:31.334Z"
   },
   {
    "duration": 52,
    "start_time": "2022-02-11T17:48:31.375Z"
   },
   {
    "duration": 1298,
    "start_time": "2022-02-11T17:48:31.430Z"
   },
   {
    "duration": 49,
    "start_time": "2022-02-11T17:48:32.730Z"
   },
   {
    "duration": 39,
    "start_time": "2022-02-11T17:48:32.783Z"
   },
   {
    "duration": 111,
    "start_time": "2022-02-11T17:48:32.825Z"
   },
   {
    "duration": 110,
    "start_time": "2022-02-11T17:50:57.581Z"
   },
   {
    "duration": 119,
    "start_time": "2022-02-11T17:52:55.689Z"
   },
   {
    "duration": 75,
    "start_time": "2022-02-11T17:57:33.897Z"
   },
   {
    "duration": 5,
    "start_time": "2022-02-12T17:42:44.370Z"
   },
   {
    "duration": 179247,
    "start_time": "2022-02-12T17:46:36.872Z"
   },
   {
    "duration": 1223,
    "start_time": "2022-02-12T17:49:36.121Z"
   },
   {
    "duration": 648,
    "start_time": "2022-02-12T17:49:37.347Z"
   },
   {
    "duration": 12,
    "start_time": "2022-02-12T17:49:37.997Z"
   },
   {
    "duration": 22,
    "start_time": "2022-02-12T17:49:38.012Z"
   },
   {
    "duration": 308,
    "start_time": "2022-02-12T17:49:38.035Z"
   },
   {
    "duration": 50,
    "start_time": "2022-02-12T17:49:38.344Z"
   },
   {
    "duration": 10,
    "start_time": "2022-02-12T17:49:38.396Z"
   },
   {
    "duration": 13,
    "start_time": "2022-02-12T17:49:38.407Z"
   },
   {
    "duration": 10,
    "start_time": "2022-02-12T17:49:38.422Z"
   },
   {
    "duration": 34,
    "start_time": "2022-02-12T17:49:38.434Z"
   },
   {
    "duration": 8,
    "start_time": "2022-02-12T17:49:38.469Z"
   },
   {
    "duration": 11,
    "start_time": "2022-02-12T17:49:38.478Z"
   },
   {
    "duration": 15,
    "start_time": "2022-02-12T17:49:38.491Z"
   },
   {
    "duration": 18,
    "start_time": "2022-02-12T17:49:38.507Z"
   },
   {
    "duration": 12,
    "start_time": "2022-02-12T17:49:38.526Z"
   },
   {
    "duration": 10,
    "start_time": "2022-02-12T17:49:38.539Z"
   },
   {
    "duration": 179,
    "start_time": "2022-02-12T17:49:38.551Z"
   },
   {
    "duration": 120,
    "start_time": "2022-02-12T17:49:38.731Z"
   },
   {
    "duration": 4,
    "start_time": "2022-02-12T17:49:38.852Z"
   },
   {
    "duration": 420,
    "start_time": "2022-02-12T17:49:38.857Z"
   },
   {
    "duration": 154,
    "start_time": "2022-02-12T17:49:39.278Z"
   },
   {
    "duration": 3,
    "start_time": "2022-02-12T17:49:39.436Z"
   },
   {
    "duration": 87,
    "start_time": "2022-02-12T17:49:39.442Z"
   },
   {
    "duration": 86,
    "start_time": "2022-02-12T17:49:39.531Z"
   },
   {
    "duration": 3,
    "start_time": "2022-02-12T17:49:39.619Z"
   },
   {
    "duration": 56,
    "start_time": "2022-02-12T17:49:39.624Z"
   },
   {
    "duration": 62,
    "start_time": "2022-02-12T17:49:39.682Z"
   },
   {
    "duration": 3,
    "start_time": "2022-02-12T17:49:39.746Z"
   },
   {
    "duration": 75,
    "start_time": "2022-02-12T17:49:39.751Z"
   },
   {
    "duration": 32,
    "start_time": "2022-02-12T17:49:39.828Z"
   },
   {
    "duration": 20,
    "start_time": "2022-02-12T17:49:39.862Z"
   },
   {
    "duration": 281,
    "start_time": "2022-02-12T17:49:39.884Z"
   },
   {
    "duration": 7,
    "start_time": "2022-02-12T17:49:40.167Z"
   },
   {
    "duration": 94,
    "start_time": "2022-02-12T17:49:40.175Z"
   },
   {
    "duration": 147,
    "start_time": "2022-02-12T17:49:40.270Z"
   },
   {
    "duration": 223,
    "start_time": "2022-02-12T17:49:40.419Z"
   },
   {
    "duration": 133,
    "start_time": "2022-02-12T17:49:40.644Z"
   },
   {
    "duration": 17,
    "start_time": "2022-02-12T17:49:40.779Z"
   },
   {
    "duration": 1060,
    "start_time": "2022-02-12T17:49:40.798Z"
   },
   {
    "duration": 19,
    "start_time": "2022-02-12T17:49:41.860Z"
   },
   {
    "duration": 137,
    "start_time": "2022-02-12T17:49:41.881Z"
   },
   {
    "duration": 31,
    "start_time": "2022-02-12T17:49:42.020Z"
   },
   {
    "duration": 504,
    "start_time": "2022-02-12T17:49:42.053Z"
   },
   {
    "duration": 6,
    "start_time": "2022-02-12T17:49:42.559Z"
   },
   {
    "duration": 18,
    "start_time": "2022-02-12T17:49:42.566Z"
   },
   {
    "duration": 30,
    "start_time": "2022-02-12T17:49:42.612Z"
   },
   {
    "duration": 24,
    "start_time": "2022-02-12T17:49:42.644Z"
   },
   {
    "duration": 48,
    "start_time": "2022-02-12T17:49:42.669Z"
   },
   {
    "duration": 12,
    "start_time": "2022-02-12T17:49:42.718Z"
   },
   {
    "duration": 14,
    "start_time": "2022-02-12T17:49:42.732Z"
   },
   {
    "duration": 28,
    "start_time": "2022-02-12T17:49:42.748Z"
   },
   {
    "duration": 44,
    "start_time": "2022-02-12T17:49:42.778Z"
   },
   {
    "duration": 48,
    "start_time": "2022-02-12T17:49:42.824Z"
   },
   {
    "duration": 13,
    "start_time": "2022-02-12T17:49:42.874Z"
   },
   {
    "duration": 29,
    "start_time": "2022-02-12T17:49:42.889Z"
   },
   {
    "duration": 12,
    "start_time": "2022-02-12T17:49:42.920Z"
   },
   {
    "duration": 26,
    "start_time": "2022-02-12T17:49:42.933Z"
   },
   {
    "duration": 881,
    "start_time": "2022-02-12T17:49:42.961Z"
   },
   {
    "duration": 11,
    "start_time": "2022-02-12T17:49:43.843Z"
   },
   {
    "duration": 4,
    "start_time": "2022-02-12T17:49:43.855Z"
   },
   {
    "duration": 9,
    "start_time": "2022-02-12T17:49:43.860Z"
   },
   {
    "duration": 145,
    "start_time": "2022-02-12T17:49:43.870Z"
   },
   {
    "duration": 152,
    "start_time": "2022-02-12T17:49:44.017Z"
   },
   {
    "duration": 10,
    "start_time": "2022-02-12T17:49:44.171Z"
   },
   {
    "duration": 31,
    "start_time": "2022-02-12T17:49:44.182Z"
   },
   {
    "duration": 10,
    "start_time": "2022-02-12T17:49:44.215Z"
   },
   {
    "duration": 11,
    "start_time": "2022-02-12T17:49:44.231Z"
   },
   {
    "duration": 12,
    "start_time": "2022-02-12T17:49:44.244Z"
   },
   {
    "duration": 80,
    "start_time": "2022-02-12T17:49:44.257Z"
   },
   {
    "duration": 540,
    "start_time": "2022-02-12T17:49:44.339Z"
   },
   {
    "duration": 61,
    "start_time": "2022-02-12T17:49:44.881Z"
   },
   {
    "duration": 11,
    "start_time": "2022-02-12T17:49:44.943Z"
   },
   {
    "duration": 15,
    "start_time": "2022-02-12T17:49:44.956Z"
   },
   {
    "duration": 13,
    "start_time": "2022-02-12T17:49:44.973Z"
   },
   {
    "duration": 74,
    "start_time": "2022-02-12T17:49:45.013Z"
   },
   {
    "duration": 31,
    "start_time": "2022-02-12T17:49:45.088Z"
   },
   {
    "duration": 29,
    "start_time": "2022-02-12T17:49:45.121Z"
   },
   {
    "duration": 843,
    "start_time": "2022-02-12T17:49:45.151Z"
   },
   {
    "duration": 28,
    "start_time": "2022-02-12T17:49:45.996Z"
   },
   {
    "duration": 16,
    "start_time": "2022-02-12T17:49:46.026Z"
   },
   {
    "duration": 68,
    "start_time": "2022-02-12T17:49:46.044Z"
   },
   {
    "duration": 49,
    "start_time": "2022-02-12T18:07:18.378Z"
   },
   {
    "duration": 51,
    "start_time": "2022-02-12T18:07:31.640Z"
   },
   {
    "duration": 48,
    "start_time": "2022-02-12T18:07:57.942Z"
   },
   {
    "duration": 105231,
    "start_time": "2022-02-14T10:03:21.858Z"
   },
   {
    "duration": 1727,
    "start_time": "2022-02-14T10:05:07.091Z"
   },
   {
    "duration": 959,
    "start_time": "2022-02-14T10:06:21.126Z"
   },
   {
    "duration": 13,
    "start_time": "2022-02-14T10:06:27.742Z"
   },
   {
    "duration": 33,
    "start_time": "2022-02-14T10:06:27.757Z"
   },
   {
    "duration": 1194,
    "start_time": "2022-02-14T10:06:27.792Z"
   },
   {
    "duration": 79,
    "start_time": "2022-02-14T10:06:28.988Z"
   },
   {
    "duration": 10,
    "start_time": "2022-02-14T10:06:29.069Z"
   },
   {
    "duration": 10,
    "start_time": "2022-02-14T10:06:29.081Z"
   },
   {
    "duration": 12,
    "start_time": "2022-02-14T10:06:29.093Z"
   },
   {
    "duration": 84,
    "start_time": "2022-02-14T10:06:29.108Z"
   },
   {
    "duration": 8,
    "start_time": "2022-02-14T10:06:29.194Z"
   },
   {
    "duration": 11,
    "start_time": "2022-02-14T10:06:29.204Z"
   },
   {
    "duration": 14,
    "start_time": "2022-02-14T10:06:29.217Z"
   },
   {
    "duration": 17,
    "start_time": "2022-02-14T10:06:29.232Z"
   },
   {
    "duration": 16,
    "start_time": "2022-02-14T10:06:29.251Z"
   },
   {
    "duration": 16,
    "start_time": "2022-02-14T10:06:29.269Z"
   },
   {
    "duration": 186,
    "start_time": "2022-02-14T10:06:29.287Z"
   },
   {
    "duration": 121,
    "start_time": "2022-02-14T10:06:29.475Z"
   },
   {
    "duration": 3,
    "start_time": "2022-02-14T10:06:29.598Z"
   },
   {
    "duration": 832,
    "start_time": "2022-02-14T10:06:29.603Z"
   },
   {
    "duration": 220,
    "start_time": "2022-02-14T10:06:30.437Z"
   },
   {
    "duration": 4,
    "start_time": "2022-02-14T10:06:30.659Z"
   },
   {
    "duration": 102,
    "start_time": "2022-02-14T10:06:30.665Z"
   },
   {
    "duration": 124,
    "start_time": "2022-02-14T10:06:30.769Z"
   },
   {
    "duration": 5,
    "start_time": "2022-02-14T10:06:30.899Z"
   },
   {
    "duration": 67,
    "start_time": "2022-02-14T10:06:30.907Z"
   },
   {
    "duration": 36,
    "start_time": "2022-02-14T10:06:30.976Z"
   },
   {
    "duration": 4,
    "start_time": "2022-02-14T10:06:31.030Z"
   },
   {
    "duration": 71,
    "start_time": "2022-02-14T10:06:31.036Z"
   },
   {
    "duration": 46,
    "start_time": "2022-02-14T10:06:31.109Z"
   },
   {
    "duration": 23,
    "start_time": "2022-02-14T10:06:31.157Z"
   },
   {
    "duration": 401,
    "start_time": "2022-02-14T10:06:31.181Z"
   },
   {
    "duration": 10,
    "start_time": "2022-02-14T10:06:31.584Z"
   },
   {
    "duration": 100,
    "start_time": "2022-02-14T10:06:31.596Z"
   },
   {
    "duration": 153,
    "start_time": "2022-02-14T10:06:31.698Z"
   },
   {
    "duration": 297,
    "start_time": "2022-02-14T10:06:31.853Z"
   },
   {
    "duration": 131,
    "start_time": "2022-02-14T10:06:32.152Z"
   },
   {
    "duration": 17,
    "start_time": "2022-02-14T10:06:32.286Z"
   },
   {
    "duration": 1341,
    "start_time": "2022-02-14T10:06:32.305Z"
   },
   {
    "duration": 22,
    "start_time": "2022-02-14T10:06:33.649Z"
   },
   {
    "duration": 184,
    "start_time": "2022-02-14T10:06:33.673Z"
   },
   {
    "duration": 32,
    "start_time": "2022-02-14T10:06:33.859Z"
   },
   {
    "duration": 773,
    "start_time": "2022-02-14T10:06:33.893Z"
   },
   {
    "duration": 7,
    "start_time": "2022-02-14T10:06:34.668Z"
   },
   {
    "duration": 58,
    "start_time": "2022-02-14T10:06:34.677Z"
   },
   {
    "duration": 36,
    "start_time": "2022-02-14T10:06:34.737Z"
   },
   {
    "duration": 56,
    "start_time": "2022-02-14T10:06:34.775Z"
   },
   {
    "duration": 17,
    "start_time": "2022-02-14T10:06:34.833Z"
   },
   {
    "duration": 14,
    "start_time": "2022-02-14T10:06:34.853Z"
   },
   {
    "duration": 16,
    "start_time": "2022-02-14T10:06:34.869Z"
   },
   {
    "duration": 62,
    "start_time": "2022-02-14T10:06:34.887Z"
   },
   {
    "duration": 15,
    "start_time": "2022-02-14T10:06:34.951Z"
   },
   {
    "duration": 28,
    "start_time": "2022-02-14T10:06:34.967Z"
   },
   {
    "duration": 39,
    "start_time": "2022-02-14T10:06:34.996Z"
   },
   {
    "duration": 7,
    "start_time": "2022-02-14T10:06:35.037Z"
   },
   {
    "duration": 18,
    "start_time": "2022-02-14T10:06:35.047Z"
   },
   {
    "duration": 31,
    "start_time": "2022-02-14T10:06:35.067Z"
   },
   {
    "duration": 1078,
    "start_time": "2022-02-14T10:06:35.100Z"
   },
   {
    "duration": 13,
    "start_time": "2022-02-14T10:06:36.182Z"
   },
   {
    "duration": 4,
    "start_time": "2022-02-14T10:06:36.197Z"
   },
   {
    "duration": 33,
    "start_time": "2022-02-14T10:06:36.203Z"
   },
   {
    "duration": 181,
    "start_time": "2022-02-14T10:06:36.238Z"
   },
   {
    "duration": 255,
    "start_time": "2022-02-14T10:06:36.421Z"
   },
   {
    "duration": 13,
    "start_time": "2022-02-14T10:06:36.678Z"
   },
   {
    "duration": 38,
    "start_time": "2022-02-14T10:06:36.693Z"
   },
   {
    "duration": 15,
    "start_time": "2022-02-14T10:06:36.733Z"
   },
   {
    "duration": 15,
    "start_time": "2022-02-14T10:06:36.750Z"
   },
   {
    "duration": 17,
    "start_time": "2022-02-14T10:06:36.767Z"
   },
   {
    "duration": 101,
    "start_time": "2022-02-14T10:06:36.786Z"
   },
   {
    "duration": 878,
    "start_time": "2022-02-14T10:06:36.893Z"
   },
   {
    "duration": 92,
    "start_time": "2022-02-14T10:06:37.773Z"
   },
   {
    "duration": 14,
    "start_time": "2022-02-14T10:06:37.867Z"
   },
   {
    "duration": 23,
    "start_time": "2022-02-14T10:06:37.883Z"
   },
   {
    "duration": 39,
    "start_time": "2022-02-14T10:06:37.908Z"
   },
   {
    "duration": 122,
    "start_time": "2022-02-14T10:06:37.948Z"
   },
   {
    "duration": 20,
    "start_time": "2022-02-14T10:06:38.071Z"
   },
   {
    "duration": 47,
    "start_time": "2022-02-14T10:06:38.093Z"
   },
   {
    "duration": 834,
    "start_time": "2022-02-14T10:06:38.142Z"
   },
   {
    "duration": 27,
    "start_time": "2022-02-14T10:06:38.978Z"
   },
   {
    "duration": 36,
    "start_time": "2022-02-14T10:06:39.007Z"
   },
   {
    "duration": 101,
    "start_time": "2022-02-14T10:06:39.045Z"
   },
   {
    "duration": 7,
    "start_time": "2022-02-14T10:07:33.379Z"
   },
   {
    "duration": 442,
    "start_time": "2022-02-14T10:07:40.050Z"
   },
   {
    "duration": 174,
    "start_time": "2022-02-14T10:07:46.996Z"
   },
   {
    "duration": 8,
    "start_time": "2022-02-14T10:07:53.792Z"
   }
  ],
  "kernelspec": {
   "display_name": "Python 3 (ipykernel)",
   "language": "python",
   "name": "python3"
  },
  "language_info": {
   "codemirror_mode": {
    "name": "ipython",
    "version": 3
   },
   "file_extension": ".py",
   "mimetype": "text/x-python",
   "name": "python",
   "nbconvert_exporter": "python",
   "pygments_lexer": "ipython3",
   "version": "3.7.10"
  },
  "toc": {
   "base_numbering": 1,
   "nav_menu": {
    "height": "302px",
    "width": "500px"
   },
   "number_sections": true,
   "sideBar": true,
   "skip_h1_title": true,
   "title_cell": "Table of Contents",
   "title_sidebar": "Contents",
   "toc_cell": false,
   "toc_position": {},
   "toc_section_display": true,
   "toc_window_display": false
  }
 },
 "nbformat": 4,
 "nbformat_minor": 2
}
